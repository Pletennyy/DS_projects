{
 "cells": [
  {
   "cell_type": "markdown",
   "id": "386f2ae7",
   "metadata": {
    "deletable": false,
    "editable": false,
    "id": "386f2ae7"
   },
   "source": [
    "# Исследование надежности заемщиков\n"
   ]
  },
  {
   "cell_type": "markdown",
   "id": "26613308",
   "metadata": {
    "deletable": false,
    "editable": false,
    "id": "26613308"
   },
   "source": [
    "## Открываем таблицу и изучаем общую информацию о данных"
   ]
  },
  {
   "cell_type": "markdown",
   "id": "3c9f838e",
   "metadata": {
    "deletable": false,
    "editable": false,
    "id": "3c9f838e"
   },
   "source": [
    "**Импортируем библиотеку pandas. Считаем данные из csv-файла в датафрейм и сохраните в переменную `data`. Путь к файлу:**\n",
    "\n",
    "`/datasets/data.csv`"
   ]
  },
  {
   "cell_type": "code",
   "execution_count": 1,
   "id": "77a68a90",
   "metadata": {
    "deletable": false,
    "id": "77a68a90"
   },
   "outputs": [],
   "source": [
    "import pandas as pd\n",
    "\n",
    "try:\n",
    "    data = pd.read_csv('/datasets/data.csv')\n",
    "except:\n",
    "    data = pd.read_csv('https://code.s3.yandex.net/datasets/data.csv')"
   ]
  },
  {
   "cell_type": "markdown",
   "id": "45365635",
   "metadata": {
    "deletable": false,
    "editable": false,
    "id": "45365635"
   },
   "source": [
    "**Выведем первые 20 строчек датафрейма `data` на экран.**"
   ]
  },
  {
   "cell_type": "code",
   "execution_count": 2,
   "id": "b0451a9a",
   "metadata": {
    "deletable": false,
    "id": "b0451a9a",
    "outputId": "1a8f3ef2-d323-4ec2-ddf7-89670b5944c4"
   },
   "outputs": [
    {
     "data": {
      "text/html": [
       "<div>\n",
       "<style scoped>\n",
       "    .dataframe tbody tr th:only-of-type {\n",
       "        vertical-align: middle;\n",
       "    }\n",
       "\n",
       "    .dataframe tbody tr th {\n",
       "        vertical-align: top;\n",
       "    }\n",
       "\n",
       "    .dataframe thead th {\n",
       "        text-align: right;\n",
       "    }\n",
       "</style>\n",
       "<table border=\"1\" class=\"dataframe\">\n",
       "  <thead>\n",
       "    <tr style=\"text-align: right;\">\n",
       "      <th></th>\n",
       "      <th>children</th>\n",
       "      <th>days_employed</th>\n",
       "      <th>dob_years</th>\n",
       "      <th>education</th>\n",
       "      <th>education_id</th>\n",
       "      <th>family_status</th>\n",
       "      <th>family_status_id</th>\n",
       "      <th>gender</th>\n",
       "      <th>income_type</th>\n",
       "      <th>debt</th>\n",
       "      <th>total_income</th>\n",
       "      <th>purpose</th>\n",
       "    </tr>\n",
       "  </thead>\n",
       "  <tbody>\n",
       "    <tr>\n",
       "      <th>0</th>\n",
       "      <td>1</td>\n",
       "      <td>-8437.673028</td>\n",
       "      <td>42</td>\n",
       "      <td>высшее</td>\n",
       "      <td>0</td>\n",
       "      <td>женат / замужем</td>\n",
       "      <td>0</td>\n",
       "      <td>F</td>\n",
       "      <td>сотрудник</td>\n",
       "      <td>0</td>\n",
       "      <td>253875.639453</td>\n",
       "      <td>покупка жилья</td>\n",
       "    </tr>\n",
       "    <tr>\n",
       "      <th>1</th>\n",
       "      <td>1</td>\n",
       "      <td>-4024.803754</td>\n",
       "      <td>36</td>\n",
       "      <td>среднее</td>\n",
       "      <td>1</td>\n",
       "      <td>женат / замужем</td>\n",
       "      <td>0</td>\n",
       "      <td>F</td>\n",
       "      <td>сотрудник</td>\n",
       "      <td>0</td>\n",
       "      <td>112080.014102</td>\n",
       "      <td>приобретение автомобиля</td>\n",
       "    </tr>\n",
       "    <tr>\n",
       "      <th>2</th>\n",
       "      <td>0</td>\n",
       "      <td>-5623.422610</td>\n",
       "      <td>33</td>\n",
       "      <td>Среднее</td>\n",
       "      <td>1</td>\n",
       "      <td>женат / замужем</td>\n",
       "      <td>0</td>\n",
       "      <td>M</td>\n",
       "      <td>сотрудник</td>\n",
       "      <td>0</td>\n",
       "      <td>145885.952297</td>\n",
       "      <td>покупка жилья</td>\n",
       "    </tr>\n",
       "    <tr>\n",
       "      <th>3</th>\n",
       "      <td>3</td>\n",
       "      <td>-4124.747207</td>\n",
       "      <td>32</td>\n",
       "      <td>среднее</td>\n",
       "      <td>1</td>\n",
       "      <td>женат / замужем</td>\n",
       "      <td>0</td>\n",
       "      <td>M</td>\n",
       "      <td>сотрудник</td>\n",
       "      <td>0</td>\n",
       "      <td>267628.550329</td>\n",
       "      <td>дополнительное образование</td>\n",
       "    </tr>\n",
       "    <tr>\n",
       "      <th>4</th>\n",
       "      <td>0</td>\n",
       "      <td>340266.072047</td>\n",
       "      <td>53</td>\n",
       "      <td>среднее</td>\n",
       "      <td>1</td>\n",
       "      <td>гражданский брак</td>\n",
       "      <td>1</td>\n",
       "      <td>F</td>\n",
       "      <td>пенсионер</td>\n",
       "      <td>0</td>\n",
       "      <td>158616.077870</td>\n",
       "      <td>сыграть свадьбу</td>\n",
       "    </tr>\n",
       "    <tr>\n",
       "      <th>5</th>\n",
       "      <td>0</td>\n",
       "      <td>-926.185831</td>\n",
       "      <td>27</td>\n",
       "      <td>высшее</td>\n",
       "      <td>0</td>\n",
       "      <td>гражданский брак</td>\n",
       "      <td>1</td>\n",
       "      <td>M</td>\n",
       "      <td>компаньон</td>\n",
       "      <td>0</td>\n",
       "      <td>255763.565419</td>\n",
       "      <td>покупка жилья</td>\n",
       "    </tr>\n",
       "    <tr>\n",
       "      <th>6</th>\n",
       "      <td>0</td>\n",
       "      <td>-2879.202052</td>\n",
       "      <td>43</td>\n",
       "      <td>высшее</td>\n",
       "      <td>0</td>\n",
       "      <td>женат / замужем</td>\n",
       "      <td>0</td>\n",
       "      <td>F</td>\n",
       "      <td>компаньон</td>\n",
       "      <td>0</td>\n",
       "      <td>240525.971920</td>\n",
       "      <td>операции с жильем</td>\n",
       "    </tr>\n",
       "    <tr>\n",
       "      <th>7</th>\n",
       "      <td>0</td>\n",
       "      <td>-152.779569</td>\n",
       "      <td>50</td>\n",
       "      <td>СРЕДНЕЕ</td>\n",
       "      <td>1</td>\n",
       "      <td>женат / замужем</td>\n",
       "      <td>0</td>\n",
       "      <td>M</td>\n",
       "      <td>сотрудник</td>\n",
       "      <td>0</td>\n",
       "      <td>135823.934197</td>\n",
       "      <td>образование</td>\n",
       "    </tr>\n",
       "    <tr>\n",
       "      <th>8</th>\n",
       "      <td>2</td>\n",
       "      <td>-6929.865299</td>\n",
       "      <td>35</td>\n",
       "      <td>ВЫСШЕЕ</td>\n",
       "      <td>0</td>\n",
       "      <td>гражданский брак</td>\n",
       "      <td>1</td>\n",
       "      <td>F</td>\n",
       "      <td>сотрудник</td>\n",
       "      <td>0</td>\n",
       "      <td>95856.832424</td>\n",
       "      <td>на проведение свадьбы</td>\n",
       "    </tr>\n",
       "    <tr>\n",
       "      <th>9</th>\n",
       "      <td>0</td>\n",
       "      <td>-2188.756445</td>\n",
       "      <td>41</td>\n",
       "      <td>среднее</td>\n",
       "      <td>1</td>\n",
       "      <td>женат / замужем</td>\n",
       "      <td>0</td>\n",
       "      <td>M</td>\n",
       "      <td>сотрудник</td>\n",
       "      <td>0</td>\n",
       "      <td>144425.938277</td>\n",
       "      <td>покупка жилья для семьи</td>\n",
       "    </tr>\n",
       "    <tr>\n",
       "      <th>10</th>\n",
       "      <td>2</td>\n",
       "      <td>-4171.483647</td>\n",
       "      <td>36</td>\n",
       "      <td>высшее</td>\n",
       "      <td>0</td>\n",
       "      <td>женат / замужем</td>\n",
       "      <td>0</td>\n",
       "      <td>M</td>\n",
       "      <td>компаньон</td>\n",
       "      <td>0</td>\n",
       "      <td>113943.491460</td>\n",
       "      <td>покупка недвижимости</td>\n",
       "    </tr>\n",
       "    <tr>\n",
       "      <th>11</th>\n",
       "      <td>0</td>\n",
       "      <td>-792.701887</td>\n",
       "      <td>40</td>\n",
       "      <td>среднее</td>\n",
       "      <td>1</td>\n",
       "      <td>женат / замужем</td>\n",
       "      <td>0</td>\n",
       "      <td>F</td>\n",
       "      <td>сотрудник</td>\n",
       "      <td>0</td>\n",
       "      <td>77069.234271</td>\n",
       "      <td>покупка коммерческой недвижимости</td>\n",
       "    </tr>\n",
       "    <tr>\n",
       "      <th>12</th>\n",
       "      <td>0</td>\n",
       "      <td>NaN</td>\n",
       "      <td>65</td>\n",
       "      <td>среднее</td>\n",
       "      <td>1</td>\n",
       "      <td>гражданский брак</td>\n",
       "      <td>1</td>\n",
       "      <td>M</td>\n",
       "      <td>пенсионер</td>\n",
       "      <td>0</td>\n",
       "      <td>NaN</td>\n",
       "      <td>сыграть свадьбу</td>\n",
       "    </tr>\n",
       "    <tr>\n",
       "      <th>13</th>\n",
       "      <td>0</td>\n",
       "      <td>-1846.641941</td>\n",
       "      <td>54</td>\n",
       "      <td>неоконченное высшее</td>\n",
       "      <td>2</td>\n",
       "      <td>женат / замужем</td>\n",
       "      <td>0</td>\n",
       "      <td>F</td>\n",
       "      <td>сотрудник</td>\n",
       "      <td>0</td>\n",
       "      <td>130458.228857</td>\n",
       "      <td>приобретение автомобиля</td>\n",
       "    </tr>\n",
       "    <tr>\n",
       "      <th>14</th>\n",
       "      <td>0</td>\n",
       "      <td>-1844.956182</td>\n",
       "      <td>56</td>\n",
       "      <td>высшее</td>\n",
       "      <td>0</td>\n",
       "      <td>гражданский брак</td>\n",
       "      <td>1</td>\n",
       "      <td>F</td>\n",
       "      <td>компаньон</td>\n",
       "      <td>1</td>\n",
       "      <td>165127.911772</td>\n",
       "      <td>покупка жилой недвижимости</td>\n",
       "    </tr>\n",
       "    <tr>\n",
       "      <th>15</th>\n",
       "      <td>1</td>\n",
       "      <td>-972.364419</td>\n",
       "      <td>26</td>\n",
       "      <td>среднее</td>\n",
       "      <td>1</td>\n",
       "      <td>женат / замужем</td>\n",
       "      <td>0</td>\n",
       "      <td>F</td>\n",
       "      <td>сотрудник</td>\n",
       "      <td>0</td>\n",
       "      <td>116820.904450</td>\n",
       "      <td>строительство собственной недвижимости</td>\n",
       "    </tr>\n",
       "    <tr>\n",
       "      <th>16</th>\n",
       "      <td>0</td>\n",
       "      <td>-1719.934226</td>\n",
       "      <td>35</td>\n",
       "      <td>среднее</td>\n",
       "      <td>1</td>\n",
       "      <td>женат / замужем</td>\n",
       "      <td>0</td>\n",
       "      <td>F</td>\n",
       "      <td>сотрудник</td>\n",
       "      <td>0</td>\n",
       "      <td>289202.704229</td>\n",
       "      <td>недвижимость</td>\n",
       "    </tr>\n",
       "    <tr>\n",
       "      <th>17</th>\n",
       "      <td>0</td>\n",
       "      <td>-2369.999720</td>\n",
       "      <td>33</td>\n",
       "      <td>высшее</td>\n",
       "      <td>0</td>\n",
       "      <td>гражданский брак</td>\n",
       "      <td>1</td>\n",
       "      <td>M</td>\n",
       "      <td>сотрудник</td>\n",
       "      <td>0</td>\n",
       "      <td>90410.586745</td>\n",
       "      <td>строительство недвижимости</td>\n",
       "    </tr>\n",
       "    <tr>\n",
       "      <th>18</th>\n",
       "      <td>0</td>\n",
       "      <td>400281.136913</td>\n",
       "      <td>53</td>\n",
       "      <td>среднее</td>\n",
       "      <td>1</td>\n",
       "      <td>вдовец / вдова</td>\n",
       "      <td>2</td>\n",
       "      <td>F</td>\n",
       "      <td>пенсионер</td>\n",
       "      <td>0</td>\n",
       "      <td>56823.777243</td>\n",
       "      <td>на покупку подержанного автомобиля</td>\n",
       "    </tr>\n",
       "    <tr>\n",
       "      <th>19</th>\n",
       "      <td>0</td>\n",
       "      <td>-10038.818549</td>\n",
       "      <td>48</td>\n",
       "      <td>СРЕДНЕЕ</td>\n",
       "      <td>1</td>\n",
       "      <td>в разводе</td>\n",
       "      <td>3</td>\n",
       "      <td>F</td>\n",
       "      <td>сотрудник</td>\n",
       "      <td>0</td>\n",
       "      <td>242831.107982</td>\n",
       "      <td>на покупку своего автомобиля</td>\n",
       "    </tr>\n",
       "  </tbody>\n",
       "</table>\n",
       "</div>"
      ],
      "text/plain": [
       "    children  days_employed  dob_years            education  education_id  \\\n",
       "0          1   -8437.673028         42               высшее             0   \n",
       "1          1   -4024.803754         36              среднее             1   \n",
       "2          0   -5623.422610         33              Среднее             1   \n",
       "3          3   -4124.747207         32              среднее             1   \n",
       "4          0  340266.072047         53              среднее             1   \n",
       "5          0    -926.185831         27               высшее             0   \n",
       "6          0   -2879.202052         43               высшее             0   \n",
       "7          0    -152.779569         50              СРЕДНЕЕ             1   \n",
       "8          2   -6929.865299         35               ВЫСШЕЕ             0   \n",
       "9          0   -2188.756445         41              среднее             1   \n",
       "10         2   -4171.483647         36               высшее             0   \n",
       "11         0    -792.701887         40              среднее             1   \n",
       "12         0            NaN         65              среднее             1   \n",
       "13         0   -1846.641941         54  неоконченное высшее             2   \n",
       "14         0   -1844.956182         56               высшее             0   \n",
       "15         1    -972.364419         26              среднее             1   \n",
       "16         0   -1719.934226         35              среднее             1   \n",
       "17         0   -2369.999720         33               высшее             0   \n",
       "18         0  400281.136913         53              среднее             1   \n",
       "19         0  -10038.818549         48              СРЕДНЕЕ             1   \n",
       "\n",
       "       family_status  family_status_id gender income_type  debt  \\\n",
       "0    женат / замужем                 0      F   сотрудник     0   \n",
       "1    женат / замужем                 0      F   сотрудник     0   \n",
       "2    женат / замужем                 0      M   сотрудник     0   \n",
       "3    женат / замужем                 0      M   сотрудник     0   \n",
       "4   гражданский брак                 1      F   пенсионер     0   \n",
       "5   гражданский брак                 1      M   компаньон     0   \n",
       "6    женат / замужем                 0      F   компаньон     0   \n",
       "7    женат / замужем                 0      M   сотрудник     0   \n",
       "8   гражданский брак                 1      F   сотрудник     0   \n",
       "9    женат / замужем                 0      M   сотрудник     0   \n",
       "10   женат / замужем                 0      M   компаньон     0   \n",
       "11   женат / замужем                 0      F   сотрудник     0   \n",
       "12  гражданский брак                 1      M   пенсионер     0   \n",
       "13   женат / замужем                 0      F   сотрудник     0   \n",
       "14  гражданский брак                 1      F   компаньон     1   \n",
       "15   женат / замужем                 0      F   сотрудник     0   \n",
       "16   женат / замужем                 0      F   сотрудник     0   \n",
       "17  гражданский брак                 1      M   сотрудник     0   \n",
       "18    вдовец / вдова                 2      F   пенсионер     0   \n",
       "19         в разводе                 3      F   сотрудник     0   \n",
       "\n",
       "     total_income                                 purpose  \n",
       "0   253875.639453                           покупка жилья  \n",
       "1   112080.014102                 приобретение автомобиля  \n",
       "2   145885.952297                           покупка жилья  \n",
       "3   267628.550329              дополнительное образование  \n",
       "4   158616.077870                         сыграть свадьбу  \n",
       "5   255763.565419                           покупка жилья  \n",
       "6   240525.971920                       операции с жильем  \n",
       "7   135823.934197                             образование  \n",
       "8    95856.832424                   на проведение свадьбы  \n",
       "9   144425.938277                 покупка жилья для семьи  \n",
       "10  113943.491460                    покупка недвижимости  \n",
       "11   77069.234271       покупка коммерческой недвижимости  \n",
       "12            NaN                         сыграть свадьбу  \n",
       "13  130458.228857                 приобретение автомобиля  \n",
       "14  165127.911772              покупка жилой недвижимости  \n",
       "15  116820.904450  строительство собственной недвижимости  \n",
       "16  289202.704229                            недвижимость  \n",
       "17   90410.586745              строительство недвижимости  \n",
       "18   56823.777243      на покупку подержанного автомобиля  \n",
       "19  242831.107982            на покупку своего автомобиля  "
      ]
     },
     "execution_count": 2,
     "metadata": {},
     "output_type": "execute_result"
    }
   ],
   "source": [
    "data.head(20)"
   ]
  },
  {
   "cell_type": "markdown",
   "id": "0ed8f27f",
   "metadata": {
    "deletable": false,
    "editable": false,
    "id": "0ed8f27f"
   },
   "source": [
    "**Выведем основную информацию о датафрейме с помощью метода `info()`.**"
   ]
  },
  {
   "cell_type": "code",
   "execution_count": 3,
   "id": "ab3f863b",
   "metadata": {
    "deletable": false,
    "id": "ab3f863b",
    "outputId": "15376089-8dad-46c9-b520-c05248d43158"
   },
   "outputs": [
    {
     "name": "stdout",
     "output_type": "stream",
     "text": [
      "<class 'pandas.core.frame.DataFrame'>\n",
      "RangeIndex: 21525 entries, 0 to 21524\n",
      "Data columns (total 12 columns):\n",
      " #   Column            Non-Null Count  Dtype  \n",
      "---  ------            --------------  -----  \n",
      " 0   children          21525 non-null  int64  \n",
      " 1   days_employed     19351 non-null  float64\n",
      " 2   dob_years         21525 non-null  int64  \n",
      " 3   education         21525 non-null  object \n",
      " 4   education_id      21525 non-null  int64  \n",
      " 5   family_status     21525 non-null  object \n",
      " 6   family_status_id  21525 non-null  int64  \n",
      " 7   gender            21525 non-null  object \n",
      " 8   income_type       21525 non-null  object \n",
      " 9   debt              21525 non-null  int64  \n",
      " 10  total_income      19351 non-null  float64\n",
      " 11  purpose           21525 non-null  object \n",
      "dtypes: float64(2), int64(5), object(5)\n",
      "memory usage: 2.0+ MB\n"
     ]
    }
   ],
   "source": [
    "data.info()"
   ]
  },
  {
   "cell_type": "markdown",
   "id": "60e3e22d",
   "metadata": {
    "deletable": false,
    "editable": false,
    "id": "60e3e22d"
   },
   "source": [
    "## Предобработка данных"
   ]
  },
  {
   "cell_type": "markdown",
   "id": "03dc170c",
   "metadata": {
    "deletable": false,
    "editable": false,
    "id": "03dc170c"
   },
   "source": [
    "### Удаление пропусков"
   ]
  },
  {
   "cell_type": "markdown",
   "id": "a4f54eef",
   "metadata": {
    "deletable": false,
    "editable": false,
    "id": "a4f54eef"
   },
   "source": [
    "**Выведем количество пропущенных значений для каждого столбца**"
   ]
  },
  {
   "cell_type": "code",
   "execution_count": 4,
   "id": "2dc372b2",
   "metadata": {
    "deletable": false,
    "id": "2dc372b2",
    "outputId": "81f4d817-781c-465c-ed15-91ce4446810d"
   },
   "outputs": [
    {
     "data": {
      "text/plain": [
       "children               0\n",
       "days_employed       2174\n",
       "dob_years              0\n",
       "education              0\n",
       "education_id           0\n",
       "family_status          0\n",
       "family_status_id       0\n",
       "gender                 0\n",
       "income_type            0\n",
       "debt                   0\n",
       "total_income        2174\n",
       "purpose                0\n",
       "dtype: int64"
      ]
     },
     "execution_count": 4,
     "metadata": {},
     "output_type": "execute_result"
    }
   ],
   "source": [
    "data.isna().sum()"
   ]
  },
  {
   "cell_type": "markdown",
   "id": "14f011b1",
   "metadata": {
    "deletable": false,
    "editable": false,
    "id": "14f011b1"
   },
   "source": [
    "**Задание 5. В двух столбцах есть пропущенные значения. Один из них — `days_employed`. Пропуски в этом столбце вы обработаете на следующем этапе. Другой столбец с пропущенными значениями — `total_income` — хранит данные о доходах. На сумму дохода сильнее всего влияет тип занятости, поэтому заполнить пропуски в этом столбце нужно медианным значением по каждому типу из столбца `income_type`. Например, у человека с типом занятости `сотрудник` пропуск в столбце `total_income` должен быть заполнен медианным доходом среди всех записей с тем же типом.**"
   ]
  },
  {
   "cell_type": "code",
   "execution_count": 5,
   "id": "bdabfb6e",
   "metadata": {
    "deletable": false,
    "id": "bdabfb6e"
   },
   "outputs": [],
   "source": [
    "for t in data['income_type'].unique():\n",
    "    data.loc[(data['income_type'] == t) & (data['total_income'].isna()), 'total_income'] = \\\n",
    "    data.loc[(data['income_type'] == t), 'total_income'].median()"
   ]
  },
  {
   "cell_type": "markdown",
   "id": "5be34059",
   "metadata": {
    "deletable": false,
    "editable": false,
    "id": "5be34059"
   },
   "source": [
    "### Обработка аномальных значений"
   ]
  },
  {
   "cell_type": "markdown",
   "id": "a87606cb",
   "metadata": {
    "deletable": false,
    "editable": false,
    "id": "a87606cb"
   },
   "source": [
    "**В данных могут встречаться артефакты (аномалии) — значения, которые не отражают действительность и появились по какой-то ошибке. таким артефактом будет отрицательное количество дней трудового стажа в столбце `days_employed`. Для реальных данных это нормально. Обработываем значения в этом столбце: замените все отрицательные значения положительными с помощью метода `abs()`.**"
   ]
  },
  {
   "cell_type": "code",
   "execution_count": 6,
   "id": "020c46cc",
   "metadata": {
    "deletable": false,
    "id": "020c46cc"
   },
   "outputs": [],
   "source": [
    "data['days_employed'] = data['days_employed'].abs()"
   ]
  },
  {
   "cell_type": "markdown",
   "id": "45538a3a",
   "metadata": {
    "deletable": false,
    "editable": false,
    "id": "45538a3a"
   },
   "source": [
    "**Для каждого типа занятости выведем медианное значение трудового стажа `days_employed` в днях.**"
   ]
  },
  {
   "cell_type": "code",
   "execution_count": 7,
   "id": "cd3e6328",
   "metadata": {
    "deletable": false,
    "id": "cd3e6328",
    "outputId": "801ef80e-522b-4668-f34e-565af7432bcf"
   },
   "outputs": [
    {
     "data": {
      "text/plain": [
       "income_type\n",
       "безработный        366413.652744\n",
       "в декрете            3296.759962\n",
       "госслужащий          2689.368353\n",
       "компаньон            1547.382223\n",
       "пенсионер          365213.306266\n",
       "предприниматель       520.848083\n",
       "сотрудник            1574.202821\n",
       "студент               578.751554\n",
       "Name: days_employed, dtype: float64"
      ]
     },
     "execution_count": 7,
     "metadata": {},
     "output_type": "execute_result"
    }
   ],
   "source": [
    "data.groupby('income_type')['days_employed'].agg('median')"
   ]
  },
  {
   "cell_type": "markdown",
   "id": "90c5f058",
   "metadata": {
    "deletable": false,
    "editable": false,
    "id": "90c5f058"
   },
   "source": [
    "У двух типов (безработные и пенсионеры) получатся аномально большие значения. Исправить такие значения сложно, поэтому оставьте их как есть."
   ]
  },
  {
   "cell_type": "markdown",
   "id": "9652e50d",
   "metadata": {
    "deletable": false,
    "editable": false,
    "id": "9652e50d"
   },
   "source": [
    "**Выведем перечень уникальных значений столбца `children`.**"
   ]
  },
  {
   "cell_type": "code",
   "execution_count": 8,
   "id": "dbb37b8e",
   "metadata": {
    "deletable": false,
    "id": "dbb37b8e",
    "outputId": "6975b15c-7f95-4697-d16d-a0c79b657b03"
   },
   "outputs": [
    {
     "data": {
      "text/plain": [
       "array([ 1,  0,  3,  2, -1,  4, 20,  5])"
      ]
     },
     "execution_count": 8,
     "metadata": {},
     "output_type": "execute_result"
    }
   ],
   "source": [
    "data['children'].unique()"
   ]
  },
  {
   "cell_type": "markdown",
   "id": "2b8b0715",
   "metadata": {
    "deletable": false,
    "editable": false,
    "id": "2b8b0715"
   },
   "source": [
    "**В столбце `children` есть два аномальных значения. Удалим строки, в которых встречаются такие аномальные значения из датафрейма `data`.**"
   ]
  },
  {
   "cell_type": "code",
   "execution_count": 9,
   "id": "20009df8",
   "metadata": {
    "deletable": false,
    "id": "20009df8"
   },
   "outputs": [],
   "source": [
    "data = data[(data['children'] != -1) & (data['children'] != 20)]"
   ]
  },
  {
   "cell_type": "markdown",
   "id": "8c6ac9f1",
   "metadata": {
    "deletable": false,
    "editable": false,
    "id": "8c6ac9f1"
   },
   "source": [
    "**Ещё раз выведем перечень уникальных значений столбца `children`, чтобы убедиться, что артефакты удалены.**"
   ]
  },
  {
   "cell_type": "code",
   "execution_count": 10,
   "id": "07337b81",
   "metadata": {
    "deletable": false,
    "id": "07337b81",
    "outputId": "b2097101-d49d-44d9-901b-32a65c9463d1"
   },
   "outputs": [
    {
     "data": {
      "text/plain": [
       "array([1, 0, 3, 2, 4, 5])"
      ]
     },
     "execution_count": 10,
     "metadata": {},
     "output_type": "execute_result"
    }
   ],
   "source": [
    "data['children'].unique()"
   ]
  },
  {
   "cell_type": "markdown",
   "id": "a700b0e4",
   "metadata": {
    "deletable": false,
    "editable": false,
    "id": "a700b0e4"
   },
   "source": [
    "**Заполним пропуски в столбце `days_employed` медианными значениями по каждого типа занятости `income_type`.**"
   ]
  },
  {
   "cell_type": "code",
   "execution_count": 11,
   "id": "61946b83",
   "metadata": {
    "deletable": false,
    "id": "61946b83"
   },
   "outputs": [],
   "source": [
    "for t in data['income_type'].unique():\n",
    "    data.loc[(data['income_type'] == t) & (data['days_employed'].isna()), 'days_employed'] = \\\n",
    "    data.loc[(data['income_type'] == t), 'days_employed'].median()"
   ]
  },
  {
   "cell_type": "markdown",
   "id": "550dcd9b",
   "metadata": {
    "deletable": false,
    "editable": false,
    "id": "550dcd9b"
   },
   "source": [
    "**Убедимся, что все пропуски заполнены. Проверим себя и ещё раз выведите количество пропущенных значений для каждого столбца с помощью двух методов.**"
   ]
  },
  {
   "cell_type": "code",
   "execution_count": 12,
   "id": "937c7014",
   "metadata": {
    "deletable": false,
    "id": "937c7014",
    "outputId": "8da1e4e1-358e-4e87-98c9-f261bce0a7b2"
   },
   "outputs": [
    {
     "data": {
      "text/plain": [
       "children            0\n",
       "days_employed       0\n",
       "dob_years           0\n",
       "education           0\n",
       "education_id        0\n",
       "family_status       0\n",
       "family_status_id    0\n",
       "gender              0\n",
       "income_type         0\n",
       "debt                0\n",
       "total_income        0\n",
       "purpose             0\n",
       "dtype: int64"
      ]
     },
     "execution_count": 12,
     "metadata": {},
     "output_type": "execute_result"
    }
   ],
   "source": [
    "data.isna().sum()"
   ]
  },
  {
   "cell_type": "markdown",
   "id": "d522e295",
   "metadata": {
    "deletable": false,
    "editable": false,
    "id": "d522e295"
   },
   "source": [
    "### Изменение типов данных"
   ]
  },
  {
   "cell_type": "markdown",
   "id": "c229c581",
   "metadata": {
    "deletable": false,
    "editable": false,
    "id": "c229c581"
   },
   "source": [
    "**Заменим вещественный тип данных в столбце `total_income` на целочисленный с помощью метода `astype()`.**"
   ]
  },
  {
   "cell_type": "code",
   "execution_count": 13,
   "id": "31036462",
   "metadata": {
    "deletable": false,
    "id": "31036462"
   },
   "outputs": [],
   "source": [
    "data['total_income'] = data['total_income'].astype(int)"
   ]
  },
  {
   "cell_type": "markdown",
   "id": "b8e3d1d9",
   "metadata": {
    "deletable": false,
    "editable": false,
    "id": "b8e3d1d9"
   },
   "source": [
    "### Обработка дубликатов"
   ]
  },
  {
   "cell_type": "markdown",
   "id": "9be53c49",
   "metadata": {
    "deletable": false,
    "editable": false,
    "id": "9be53c49"
   },
   "source": [
    "**Обработаем неявные дубликаты в столбце `education`. В этом столбце есть одни и те же значения, но записанные по-разному: с использованием заглавных и строчных букв. Приведем их к нижнему регистру.**"
   ]
  },
  {
   "cell_type": "code",
   "execution_count": 14,
   "id": "d89e73e1",
   "metadata": {
    "deletable": false,
    "id": "d89e73e1"
   },
   "outputs": [],
   "source": [
    "data['education'] = data['education'].str.lower()"
   ]
  },
  {
   "cell_type": "markdown",
   "id": "01d4500e",
   "metadata": {
    "deletable": false,
    "editable": false,
    "id": "01d4500e"
   },
   "source": [
    "**Выведем на экран количество строк-дубликатов в данных. Если такие строки присутствуют, удалим их.**"
   ]
  },
  {
   "cell_type": "code",
   "execution_count": 15,
   "id": "e10efb23",
   "metadata": {
    "deletable": false,
    "id": "e10efb23",
    "outputId": "9684deba-1934-42d1-99e1-cda61740f822"
   },
   "outputs": [
    {
     "data": {
      "text/plain": [
       "71"
      ]
     },
     "execution_count": 15,
     "metadata": {},
     "output_type": "execute_result"
    }
   ],
   "source": [
    "data.duplicated().sum()"
   ]
  },
  {
   "cell_type": "code",
   "execution_count": 16,
   "id": "df853f20",
   "metadata": {
    "deletable": false,
    "id": "df853f20"
   },
   "outputs": [],
   "source": [
    "data = data.drop_duplicates()"
   ]
  },
  {
   "cell_type": "markdown",
   "id": "627be38f",
   "metadata": {
    "deletable": false,
    "editable": false,
    "id": "627be38f"
   },
   "source": [
    "### Категоризация данных"
   ]
  },
  {
   "cell_type": "markdown",
   "id": "4684c3e0",
   "metadata": {
    "deletable": false,
    "editable": false,
    "id": "4684c3e0"
   },
   "source": [
    "**На основании диапазонов, указанных ниже, создадим в датафрейме `data` столбец `total_income_category` с категориями:**\n",
    "\n",
    "- 0–30000 — `'E'`;\n",
    "- 30001–50000 — `'D'`;\n",
    "- 50001–200000 — `'C'`;\n",
    "- 200001–1000000 — `'B'`;\n",
    "- 1000001 и выше — `'A'`."
   ]
  },
  {
   "cell_type": "code",
   "execution_count": 17,
   "id": "78965238",
   "metadata": {
    "deletable": false,
    "id": "78965238"
   },
   "outputs": [],
   "source": [
    "def categorize_income(income):\n",
    "    try:\n",
    "        if 0 <= income <= 30000:\n",
    "            return 'E'\n",
    "        elif 30001 <= income <= 50000:\n",
    "            return 'D'\n",
    "        elif 50001 <= income <= 200000:\n",
    "            return 'C'\n",
    "        elif 200001 <= income <= 1000000:\n",
    "            return 'B'\n",
    "        elif income >= 1000001:\n",
    "            return 'A'\n",
    "    except:\n",
    "        pass"
   ]
  },
  {
   "cell_type": "code",
   "execution_count": 18,
   "id": "0980ada1",
   "metadata": {
    "deletable": false,
    "id": "0980ada1"
   },
   "outputs": [],
   "source": [
    "data['total_income_category'] = data['total_income'].apply(categorize_income)"
   ]
  },
  {
   "cell_type": "markdown",
   "id": "9917bba0",
   "metadata": {
    "deletable": false,
    "editable": false,
    "id": "9917bba0"
   },
   "source": [
    "**Выведем на экран перечень уникальных целей взятия кредита из столбца `purpose`.**"
   ]
  },
  {
   "cell_type": "code",
   "execution_count": 19,
   "id": "ee07b65e",
   "metadata": {
    "deletable": false,
    "id": "ee07b65e",
    "outputId": "673c12d9-7d7e-4ae0-9812-c622c89dd244"
   },
   "outputs": [
    {
     "data": {
      "text/plain": [
       "array(['покупка жилья', 'приобретение автомобиля',\n",
       "       'дополнительное образование', 'сыграть свадьбу',\n",
       "       'операции с жильем', 'образование', 'на проведение свадьбы',\n",
       "       'покупка жилья для семьи', 'покупка недвижимости',\n",
       "       'покупка коммерческой недвижимости', 'покупка жилой недвижимости',\n",
       "       'строительство собственной недвижимости', 'недвижимость',\n",
       "       'строительство недвижимости', 'на покупку подержанного автомобиля',\n",
       "       'на покупку своего автомобиля',\n",
       "       'операции с коммерческой недвижимостью',\n",
       "       'строительство жилой недвижимости', 'жилье',\n",
       "       'операции со своей недвижимостью', 'автомобили',\n",
       "       'заняться образованием', 'сделка с подержанным автомобилем',\n",
       "       'получение образования', 'автомобиль', 'свадьба',\n",
       "       'получение дополнительного образования', 'покупка своего жилья',\n",
       "       'операции с недвижимостью', 'получение высшего образования',\n",
       "       'свой автомобиль', 'сделка с автомобилем',\n",
       "       'профильное образование', 'высшее образование',\n",
       "       'покупка жилья для сдачи', 'на покупку автомобиля', 'ремонт жилью',\n",
       "       'заняться высшим образованием'], dtype=object)"
      ]
     },
     "execution_count": 19,
     "metadata": {},
     "output_type": "execute_result"
    }
   ],
   "source": [
    "data['purpose'].unique()"
   ]
  },
  {
   "cell_type": "markdown",
   "id": "52b79d56",
   "metadata": {
    "deletable": false,
    "editable": false,
    "id": "52b79d56"
   },
   "source": [
    "**Создадим функцию, которая на основании данных из столбца `purpose` сформирует новый столбец `purpose_category`, в который войдут следующие категории:**\n",
    "\n",
    "- `'операции с автомобилем'`,\n",
    "- `'операции с недвижимостью'`,\n",
    "- `'проведение свадьбы'`,\n",
    "- `'получение образования'`."
   ]
  },
  {
   "cell_type": "code",
   "execution_count": 20,
   "id": "be41da5d",
   "metadata": {
    "deletable": false,
    "id": "be41da5d"
   },
   "outputs": [],
   "source": [
    "def categorize_purpose(row):\n",
    "    try:\n",
    "        if 'автом' in row:\n",
    "            return 'операции с автомобилем'\n",
    "        elif 'жил' in row or 'недвиж' in row:\n",
    "            return 'операции с недвижимостью'\n",
    "        elif 'свад' in row:\n",
    "            return 'проведение свадьбы'\n",
    "        elif 'образов' in row:\n",
    "            return 'получение образования'\n",
    "    except:\n",
    "        return 'нет категории'"
   ]
  },
  {
   "cell_type": "code",
   "execution_count": 21,
   "id": "94c4a19a",
   "metadata": {
    "deletable": false,
    "id": "94c4a19a"
   },
   "outputs": [],
   "source": [
    "data['purpose_category'] = data['purpose'].apply(categorize_purpose)"
   ]
  },
  {
   "cell_type": "markdown",
   "id": "3d596c34",
   "metadata": {
    "deletable": false,
    "editable": false,
    "id": "3d596c34"
   },
   "source": [
    "### Шаг 3. Исследуем данные и ответьте на вопросы"
   ]
  },
  {
   "cell_type": "markdown",
   "id": "648db036",
   "metadata": {
    "deletable": false,
    "editable": false,
    "id": "648db036"
   },
   "source": [
    "#### 3.1 Есть ли зависимость между количеством детей и возвратом кредита в срок?"
   ]
  },
  {
   "cell_type": "markdown",
   "id": "a7006050",
   "metadata": {},
   "source": [
    "Чтобы ответит на вопрос надо сгруппировать данные по полю children и посчитать количество строк по каждой группе. \n",
    "А дальше мы считаем сколько строк по каждой группе по полю debt со значением 1 и делим это значение на количество \n",
    "строк по каждой группе. \n",
    "Отсюда увидим долю сколько по каждой группе человек имели задолженность и сможем сделать вывод."
   ]
  },
  {
   "cell_type": "code",
   "execution_count": 22,
   "id": "7fcff25e",
   "metadata": {
    "deletable": false,
    "id": "7fcff25e"
   },
   "outputs": [
    {
     "name": "stdout",
     "output_type": "stream",
     "text": [
      "children\n",
      "0    14091\n",
      "1     4808\n",
      "2     2052\n",
      "3      330\n",
      "4       41\n",
      "5        9\n",
      "dtype: int64\n"
     ]
    }
   ],
   "source": [
    "# для начала сгруппируем наш датафрейм по полю children  \n",
    "children_grouped = data.groupby('children')\n",
    "# подсчитаем количесво\n",
    "group_count = children_grouped.size()\n",
    "# выведем на экран коли-во по каждой группе\n",
    "print(group_count)"
   ]
  },
  {
   "cell_type": "code",
   "execution_count": 23,
   "id": "4cf5559e",
   "metadata": {},
   "outputs": [
    {
     "name": "stdout",
     "output_type": "stream",
     "text": [
      "children  debt\n",
      "0         1       1063\n",
      "1         1        444\n",
      "2         1        194\n",
      "3         1         27\n",
      "4         1          4\n",
      "dtype: int64\n"
     ]
    }
   ],
   "source": [
    "# теперь посчитаем кол-во просрочивших кредит по группам\n",
    "debt_count = data.groupby(['children', 'debt']).size()\n",
    "debt_count_1 = debt_count[debt_count.index.get_level_values('debt') == 1]\n",
    "# выведем на экран\n",
    "print(debt_count_1)"
   ]
  },
  {
   "cell_type": "code",
   "execution_count": 24,
   "id": "b69b8a5e",
   "metadata": {},
   "outputs": [
    {
     "data": {
      "text/html": [
       "<style  type=\"text/css\" >\n",
       "#T_17b74_row0_col0,#T_17b74_row0_col1,#T_17b74_row4_col2{\n",
       "            background-color:  #08306b;\n",
       "            color:  #f1f1f1;\n",
       "        }#T_17b74_row0_col2{\n",
       "            background-color:  #1c6bb0;\n",
       "            color:  #f1f1f1;\n",
       "        }#T_17b74_row1_col0{\n",
       "            background-color:  #a9cfe5;\n",
       "            color:  #000000;\n",
       "        }#T_17b74_row1_col1{\n",
       "            background-color:  #8dc1dd;\n",
       "            color:  #000000;\n",
       "        }#T_17b74_row1_col2{\n",
       "            background-color:  #083d7f;\n",
       "            color:  #f1f1f1;\n",
       "        }#T_17b74_row2_col0{\n",
       "            background-color:  #dae8f6;\n",
       "            color:  #000000;\n",
       "        }#T_17b74_row2_col1{\n",
       "            background-color:  #d3e4f3;\n",
       "            color:  #000000;\n",
       "        }#T_17b74_row2_col2{\n",
       "            background-color:  #083776;\n",
       "            color:  #f1f1f1;\n",
       "        }#T_17b74_row3_col0{\n",
       "            background-color:  #f3f8fe;\n",
       "            color:  #000000;\n",
       "        }#T_17b74_row3_col1{\n",
       "            background-color:  #f2f8fd;\n",
       "            color:  #000000;\n",
       "        }#T_17b74_row3_col2{\n",
       "            background-color:  #0f5aa3;\n",
       "            color:  #f1f1f1;\n",
       "        }#T_17b74_row4_col0,#T_17b74_row4_col1,#T_17b74_row5_col0,#T_17b74_row5_col1,#T_17b74_row5_col2{\n",
       "            background-color:  #f7fbff;\n",
       "            color:  #000000;\n",
       "        }</style><table id=\"T_17b74_\" ><thead>    <tr>        <th class=\"blank level0\" ></th>        <th class=\"col_heading level0 col0\" >Всего кредитополучателей</th>        <th class=\"col_heading level0 col1\" >Всего должников</th>        <th class=\"col_heading level0 col2\" >Доля должников</th>    </tr>    <tr>        <th class=\"index_name level0\" >children</th>        <th class=\"blank\" ></th>        <th class=\"blank\" ></th>        <th class=\"blank\" ></th>    </tr></thead><tbody>\n",
       "                <tr>\n",
       "                        <th id=\"T_17b74_level0_row0\" class=\"row_heading level0 row0\" >0</th>\n",
       "                        <td id=\"T_17b74_row0_col0\" class=\"data row0 col0\" >14091.000</td>\n",
       "                        <td id=\"T_17b74_row0_col1\" class=\"data row0 col1\" >1063.000</td>\n",
       "                        <td id=\"T_17b74_row0_col2\" class=\"data row0 col2\" >0.075</td>\n",
       "            </tr>\n",
       "            <tr>\n",
       "                        <th id=\"T_17b74_level0_row1\" class=\"row_heading level0 row1\" >1</th>\n",
       "                        <td id=\"T_17b74_row1_col0\" class=\"data row1 col0\" >4808.000</td>\n",
       "                        <td id=\"T_17b74_row1_col1\" class=\"data row1 col1\" >444.000</td>\n",
       "                        <td id=\"T_17b74_row1_col2\" class=\"data row1 col2\" >0.092</td>\n",
       "            </tr>\n",
       "            <tr>\n",
       "                        <th id=\"T_17b74_level0_row2\" class=\"row_heading level0 row2\" >2</th>\n",
       "                        <td id=\"T_17b74_row2_col0\" class=\"data row2 col0\" >2052.000</td>\n",
       "                        <td id=\"T_17b74_row2_col1\" class=\"data row2 col1\" >194.000</td>\n",
       "                        <td id=\"T_17b74_row2_col2\" class=\"data row2 col2\" >0.095</td>\n",
       "            </tr>\n",
       "            <tr>\n",
       "                        <th id=\"T_17b74_level0_row3\" class=\"row_heading level0 row3\" >3</th>\n",
       "                        <td id=\"T_17b74_row3_col0\" class=\"data row3 col0\" >330.000</td>\n",
       "                        <td id=\"T_17b74_row3_col1\" class=\"data row3 col1\" >27.000</td>\n",
       "                        <td id=\"T_17b74_row3_col2\" class=\"data row3 col2\" >0.082</td>\n",
       "            </tr>\n",
       "            <tr>\n",
       "                        <th id=\"T_17b74_level0_row4\" class=\"row_heading level0 row4\" >4</th>\n",
       "                        <td id=\"T_17b74_row4_col0\" class=\"data row4 col0\" >41.000</td>\n",
       "                        <td id=\"T_17b74_row4_col1\" class=\"data row4 col1\" >4.000</td>\n",
       "                        <td id=\"T_17b74_row4_col2\" class=\"data row4 col2\" >0.098</td>\n",
       "            </tr>\n",
       "            <tr>\n",
       "                        <th id=\"T_17b74_level0_row5\" class=\"row_heading level0 row5\" >5</th>\n",
       "                        <td id=\"T_17b74_row5_col0\" class=\"data row5 col0\" >9.000</td>\n",
       "                        <td id=\"T_17b74_row5_col1\" class=\"data row5 col1\" >0.000</td>\n",
       "                        <td id=\"T_17b74_row5_col2\" class=\"data row5 col2\" >0.000</td>\n",
       "            </tr>\n",
       "    </tbody></table>"
      ],
      "text/plain": [
       "<pandas.io.formats.style.Styler at 0x7fef9d7a2d30>"
      ]
     },
     "metadata": {},
     "output_type": "display_data"
    }
   ],
   "source": [
    "# Создаем копию датасета, что бы не работать с исходным\n",
    "temp = data.copy()\n",
    "# Напишем функцию, так как все задачи аналогичны\n",
    "def que(category):\n",
    "    data_temp = temp.pivot_table(index=category, values='debt', aggfunc=['count', 'sum', 'mean'])\n",
    "    data_temp.columns = ['Всего кредитополучателей', 'Всего должников', 'Доля должников']\n",
    "    # Оформим таблицу цветным градиентом, но можно ее вывести и просто display(data_temp)\n",
    "    display(data_temp.style.format(\"{:.3f}\").background_gradient(cmap='Blues', axis=0))\n",
    "    \n",
    "que('children')"
   ]
  },
  {
   "cell_type": "markdown",
   "id": "6bc514fe",
   "metadata": {},
   "source": [
    "Дальше мы вычислим долю людей с задолжностью и без по каждой группе"
   ]
  },
  {
   "cell_type": "code",
   "execution_count": 25,
   "id": "c21feae8",
   "metadata": {},
   "outputs": [
    {
     "data": {
      "image/png": "[encoded data removed]",
      "text/plain": [
       "<Figure size 144x144 with 1 Axes>"
      ]
     },
     "metadata": {},
     "output_type": "display_data"
    },
    {
     "data": {
      "image/png": "[encoded data removed]",
      "text/plain": [
       "<Figure size 144x144 with 1 Axes>"
      ]
     },
     "metadata": {},
     "output_type": "display_data"
    },
    {
     "data": {
      "image/png": "[encoded data removed]",
      "text/plain": [
       "<Figure size 144x144 with 1 Axes>"
      ]
     },
     "metadata": {},
     "output_type": "display_data"
    },
    {
     "data": {
      "image/png": "[encoded data removed]",
      "text/plain": [
       "<Figure size 144x144 with 1 Axes>"
      ]
     },
     "metadata": {},
     "output_type": "display_data"
    },
    {
     "data": {
      "image/png": "[encoded data removed]",
      "text/plain": [
       "<Figure size 144x144 with 1 Axes>"
      ]
     },
     "metadata": {},
     "output_type": "display_data"
    }
   ],
   "source": [
    "# Доля людей с задолжностью\n",
    "part_of_dept_1 = debt_count_1/group_count\n",
    "# Доля людей без задолженности part_of_dept_0\n",
    "no_debt_part_count = group_count - debt_count_1\n",
    "part_of_dept_0 = no_debt_part_count/group_count\n",
    "\n",
    "# Для наглядности построим круговые диаграммы по кадой группе\n",
    "import matplotlib.pyplot as plt\n",
    "\n",
    "for i, children_group in enumerate(part_of_dept_1.index):\n",
    "    plt.figure(figsize=(2, 2)) \n",
    "    plt.pie(\n",
    "        [part_of_dept_0[children_group], part_of_dept_1[children_group]],\n",
    "        labels=[\"Не имели задолженности\", \"Имели задолженность\"],\n",
    "        autopct='%1.1f%%',\n",
    "        startangle=90,\n",
    "        labeldistance=1,\n",
    "        textprops={'fontsize': 8}\n",
    "    )\n",
    "    plt.title(f\"Доля задолженностей при количестве детей {i}\", fontsize=10)\n",
    "    plt.axis('equal')  \n",
    "    plt.show()\n"
   ]
  },
  {
   "cell_type": "markdown",
   "id": "3486615a",
   "metadata": {},
   "source": [
    "Давайте теперь объединим все значения в одну столбчатую диаграмму по которой нам будет легче сделать вывод."
   ]
  },
  {
   "cell_type": "code",
   "execution_count": 26,
   "id": "2d39d7a2",
   "metadata": {},
   "outputs": [
    {
     "data": {
      "image/png": "[encoded data removed]",
      "text/plain": [
       "<Figure size 576x288 with 1 Axes>"
      ]
     },
     "metadata": {
      "needs_background": "light"
     },
     "output_type": "display_data"
    }
   ],
   "source": [
    "# Объединяем данные для столбчатой диаграммы\n",
    "data_for_bar = pd.DataFrame({\n",
    "    'Количество детей': ['_'.join(map(str, x)) for x in part_of_dept_1.index],  # Преобразуем MultiIndex в список строк\n",
    "    'Доля должников': part_of_dept_1.values * 100,  # Преобразуем в проценты\n",
    "})\n",
    "\n",
    "# Преобразуем кортежи в строки\n",
    "data_for_bar['Количество детей'] = [''.join(map(str, x)) for x in data_for_bar['Количество детей']]\n",
    "\n",
    "# Строим столбчатую диаграмму\n",
    "plt.figure(figsize=(8, 4))  # Уменьшаем размер диаграммы\n",
    "bars = plt.bar(data_for_bar['Количество детей'], data_for_bar['Доля должников'], width=0.5)\n",
    "plt.xlabel('Количество детей', fontsize=12)\n",
    "plt.ylabel('Доля должников (%)', fontsize=12)\n",
    "plt.xticks(rotation=45, ha='right')  # Поворачиваем подписи на 45 градусов\n",
    "plt.title('Доля должников по количеству детей', fontsize=14)\n",
    "\n",
    "# Добавляем подписи значений\n",
    "for bar in bars:\n",
    "    height = bar.get_height()\n",
    "    plt.text(bar.get_x() + bar.get_width() / 2, height, f'{height:.1f}%', ha='center', va='bottom')\n",
    "\n",
    "plt.show()"
   ]
  },
  {
   "cell_type": "markdown",
   "id": "2eb9088e",
   "metadata": {
    "deletable": false,
    "id": "2eb9088e"
   },
   "source": [
    "**Вывод:** "
   ]
  },
  {
   "cell_type": "markdown",
   "id": "b2f994e1",
   "metadata": {},
   "source": [
    "Количество детей влияет на просроченную задолженность. Но зависимость не пропорциональная, а зависит от группы. Люди с 4 детьми имели задолженность чаще - 9,8%.бездетей меньше всех - 7,5%. Дальше в группе людей с тремя детьми должников - 8,2%, с одним - 9,2%, а с двумя детьми - 9,5%. Можно вывод что наличие детей влияет на увеличение % должников по кредитам."
   ]
  },
  {
   "cell_type": "markdown",
   "id": "74c9b3a7",
   "metadata": {
    "deletable": false,
    "editable": false,
    "id": "74c9b3a7"
   },
   "source": [
    "#### 3.2 Есть ли зависимость между семейным положением и возвратом кредита в срок?"
   ]
  },
  {
   "cell_type": "markdown",
   "id": "921016fc",
   "metadata": {},
   "source": [
    "Точна такая же логика как и для расчета зависимости от количесва детей, который мы сделали выше.\n",
    "для начала сгруппируем наш датафрейм по полю family_status"
   ]
  },
  {
   "cell_type": "code",
   "execution_count": 27,
   "id": "8098ab3b",
   "metadata": {
    "deletable": false,
    "id": "8098ab3b"
   },
   "outputs": [
    {
     "data": {
      "image/png": "[encoded data removed]",
      "text/plain": [
       "<Figure size 144x144 with 1 Axes>"
      ]
     },
     "metadata": {},
     "output_type": "display_data"
    },
    {
     "data": {
      "image/png": "[encoded data removed]",
      "text/plain": [
       "<Figure size 144x144 with 1 Axes>"
      ]
     },
     "metadata": {},
     "output_type": "display_data"
    },
    {
     "data": {
      "image/png": "[encoded data removed]",
      "text/plain": [
       "<Figure size 144x144 with 1 Axes>"
      ]
     },
     "metadata": {},
     "output_type": "display_data"
    },
    {
     "data": {
      "image/png": "[encoded data removed]",
      "text/plain": [
       "<Figure size 144x144 with 1 Axes>"
      ]
     },
     "metadata": {},
     "output_type": "display_data"
    },
    {
     "data": {
      "image/png": "[encoded data removed]",
      "text/plain": [
       "<Figure size 144x144 with 1 Axes>"
      ]
     },
     "metadata": {},
     "output_type": "display_data"
    }
   ],
   "source": [
    " family_status_grouped = data.groupby('family_status')\n",
    "# подсчитаем количесво\n",
    "group_count = family_status_grouped.size()\n",
    "\n",
    "# теперь посчитаем кол-во просрочивших кредит по группам\n",
    "debt_count = data.groupby(['family_status', 'debt']).size()\n",
    "debt_count_1 = debt_count[debt_count.index.get_level_values('debt') == 1]\n",
    "\n",
    "# Вычисляем доли для диаграммы\n",
    "part_of_dept_1 = debt_count_1/group_count\n",
    "no_debt_part_count = group_count - debt_count_1\n",
    "part_of_dept_0 = no_debt_part_count/group_count\n",
    "\n",
    "# Для наглядности построим круговые диаграммы по кадой группе\n",
    "for family_status_group in part_of_dept_1.index:\n",
    "    plt.figure(figsize=(2, 2)) \n",
    "    plt.pie(\n",
    "        [part_of_dept_0[family_status_group], part_of_dept_1[family_status_group]],\n",
    "        labels=[\"Не имели задолженности\", \"Имели задолженность\"],\n",
    "        autopct='%1.1f%%',\n",
    "        startangle=90,\n",
    "        labeldistance=1,\n",
    "        textprops={'fontsize': 8}\n",
    "    )\n",
    "    plt.title(f\"Доля задолженностей при семейном положении {family_status_group}\", fontsize=10)\n",
    "    plt.axis('equal')  \n",
    "    plt.show()"
   ]
  },
  {
   "cell_type": "markdown",
   "id": "35c8225e",
   "metadata": {},
   "source": [
    "Давайте теперь объединим все значения в одну столбчатую диаграмму по которой нам будет легче сделать вывод."
   ]
  },
  {
   "cell_type": "code",
   "execution_count": 28,
   "id": "73c04686",
   "metadata": {},
   "outputs": [
    {
     "data": {
      "image/png": "[encoded data removed]",
      "text/plain": [
       "<Figure size 576x288 with 1 Axes>"
      ]
     },
     "metadata": {
      "needs_background": "light"
     },
     "output_type": "display_data"
    }
   ],
   "source": [
    "# Объединяем данные для столбчатой диаграммы\n",
    "data_for_bar = pd.DataFrame({\n",
    "    'Семейное положение': ['_'.join(map(str, x)) for x in part_of_dept_1.index],  # Преобразуем MultiIndex в список строк\n",
    "    'Доля должников': part_of_dept_1.values * 100,  # Преобразуем в проценты\n",
    "})\n",
    "\n",
    "# Преобразуем кортежи в строки\n",
    "data_for_bar['Семейное положение'] = [''.join(map(str, x)) for x in data_for_bar['Семейное положение']]\n",
    "\n",
    "# Строим столбчатую диаграмму\n",
    "plt.figure(figsize=(8, 4))  # Уменьшаем размер диаграммы\n",
    "bars = plt.bar(data_for_bar['Семейное положение'], data_for_bar['Доля должников'], width=0.5)\n",
    "plt.xlabel('Семейное положение', fontsize=12)\n",
    "plt.ylabel('Доля должников (%)', fontsize=12)\n",
    "plt.xticks(rotation=45, ha='right')  # Поворачиваем подписи на 45 градусов\n",
    "plt.title('Доля должников по семейное положению', fontsize=14)\n",
    "\n",
    "# Добавляем подписи значений\n",
    "for bar in bars:\n",
    "    height = bar.get_height()\n",
    "    plt.text(bar.get_x() + bar.get_width() / 2, height, f'{height:.1f}%', ha='center', va='bottom')\n",
    "\n",
    "plt.show()"
   ]
  },
  {
   "cell_type": "markdown",
   "id": "c389ca63",
   "metadata": {
    "deletable": false,
    "id": "c389ca63"
   },
   "source": [
    "**Вывод:** "
   ]
  },
  {
   "cell_type": "markdown",
   "id": "33e4a20d",
   "metadata": {},
   "source": [
    "В данном случае видим большую зависимость задолженности по кредитам от семейного положения. Больший % по задолженности имеют люди не женатые/не замужем - 9,8% и в гражданмком браке - 9,3%. Меньше всего люди со статусом вдова/вдовец - 6,6%, люди в разводе - 7,1% и женат/замужем - 7,6%. Можно сделать вывод, что люди пребывающие или которые были в официальных взаимоотношениях менее склонны к задолженности по кредитам."
   ]
  },
  {
   "cell_type": "markdown",
   "id": "9529de68",
   "metadata": {
    "deletable": false,
    "editable": false,
    "id": "9529de68"
   },
   "source": [
    "#### 3.3 Есть ли зависимость между уровнем дохода и возвратом кредита в срок?"
   ]
  },
  {
   "cell_type": "markdown",
   "id": "071e7a56",
   "metadata": {},
   "source": [
    "Чтобы расчитать данную зависимость тем же способом что и предыдущие воспользуемся полем созданным в первой части нашего проекта total_income_category,\n",
    "которая разбивает людей по дастатку на категории:\n",
    "- 0–30000 — 'E'\n",
    "- 30001–50000 — 'D'\n",
    "- 50001–200000 — 'C'\n",
    "- 200001–1000000 — 'B'\n",
    "- 1000001 и выше — 'A'"
   ]
  },
  {
   "cell_type": "code",
   "execution_count": 29,
   "id": "8787f44a",
   "metadata": {
    "deletable": false,
    "id": "8787f44a"
   },
   "outputs": [
    {
     "data": {
      "image/png": "[encoded data removed]",
      "text/plain": [
       "<Figure size 144x144 with 1 Axes>"
      ]
     },
     "metadata": {},
     "output_type": "display_data"
    },
    {
     "data": {
      "image/png": "[encoded data removed]",
      "text/plain": [
       "<Figure size 144x144 with 1 Axes>"
      ]
     },
     "metadata": {},
     "output_type": "display_data"
    },
    {
     "data": {
      "image/png": "[encoded data removed]",
      "text/plain": [
       "<Figure size 144x144 with 1 Axes>"
      ]
     },
     "metadata": {},
     "output_type": "display_data"
    },
    {
     "data": {
      "image/png": "[encoded data removed]",
      "text/plain": [
       "<Figure size 144x144 with 1 Axes>"
      ]
     },
     "metadata": {},
     "output_type": "display_data"
    },
    {
     "data": {
      "image/png": "[encoded data removed]",
      "text/plain": [
       "<Figure size 144x144 with 1 Axes>"
      ]
     },
     "metadata": {},
     "output_type": "display_data"
    }
   ],
   "source": [
    "# сгруппируем наш датафрейм по полю total_income_category \n",
    "total_income_category_grouped = data.groupby('total_income_category')\n",
    "# подсчитаем количесво\n",
    "group_count = total_income_category_grouped.size()\n",
    "\n",
    "# теперь посчитаем кол-во просрочивших кредит по группам\n",
    "debt_count = data.groupby(['total_income_category', 'debt']).size()\n",
    "debt_count_1 = debt_count[debt_count.index.get_level_values('debt') == 1]\n",
    "\n",
    "# Вычисляем доли для диаграммы\n",
    "part_of_dept_1 = debt_count_1/group_count\n",
    "no_debt_part_count = group_count - debt_count_1\n",
    "part_of_dept_0 = no_debt_part_count/group_count\n",
    "\n",
    "# Для наглядности построим круговые диаграммы по кадой группе\n",
    "for total_income_category_group in part_of_dept_1.index:\n",
    "    plt.figure(figsize=(2, 2)) \n",
    "    plt.pie(\n",
    "        [part_of_dept_0[total_income_category_group], part_of_dept_1[total_income_category_group]],\n",
    "        labels=[\"Не имели задолженности\", \"Имели задолженность\"],\n",
    "        autopct='%1.1f%%',\n",
    "        startangle=90,\n",
    "        labeldistance=1,\n",
    "        textprops={'fontsize': 8}\n",
    "    )\n",
    "    plt.title(f\"Доля задолженностей при категории достатка {total_income_category_group}\", fontsize=10)\n",
    "    plt.axis('equal')  \n",
    "    plt.show()\n",
    "\n"
   ]
  },
  {
   "cell_type": "markdown",
   "id": "8555dc31",
   "metadata": {},
   "source": [
    "Давайте теперь объединим все значения в одну столбчатую диаграмму по которой нам будет легче сделать вывод."
   ]
  },
  {
   "cell_type": "code",
   "execution_count": 30,
   "id": "ff6839e6",
   "metadata": {},
   "outputs": [
    {
     "data": {
      "image/png": "[encoded data removed]",
      "text/plain": [
       "<Figure size 576x288 with 1 Axes>"
      ]
     },
     "metadata": {
      "needs_background": "light"
     },
     "output_type": "display_data"
    }
   ],
   "source": [
    "# Объединяем данные для столбчатой диаграммы\n",
    "data_for_bar = pd.DataFrame({\n",
    "    'Категория по достатку': ['_'.join(map(str, x)) for x in part_of_dept_1.index],  # Преобразуем MultiIndex в список строк\n",
    "    'Доля должников': part_of_dept_1.values * 100,  # Преобразуем в проценты\n",
    "})\n",
    "\n",
    "# Преобразуем кортежи в строки\n",
    "data_for_bar['Категория по достатку'] = [''.join(map(str, x)) for x in data_for_bar['Категория по достатку']]\n",
    "\n",
    "# Строим столбчатую диаграмму\n",
    "plt.figure(figsize=(8, 4))  # Уменьшаем размер диаграммы\n",
    "bars = plt.bar(data_for_bar['Категория по достатку'], data_for_bar['Доля должников'], width=0.5)\n",
    "plt.xlabel('Категория по достатку', fontsize=12)\n",
    "plt.ylabel('Доля должников (%)', fontsize=12)\n",
    "plt.xticks(rotation=45, ha='right')  # Поворачиваем подписи на 45 градусов\n",
    "plt.title('Доля должников по категории достатка', fontsize=14)\n",
    "\n",
    "# Добавляем подписи значений\n",
    "for bar in bars:\n",
    "    height = bar.get_height()\n",
    "    plt.text(bar.get_x() + bar.get_width() / 2, height, f'{height:.1f}%', ha='center', va='bottom')\n",
    "\n",
    "plt.show()"
   ]
  },
  {
   "cell_type": "markdown",
   "id": "8239a9af",
   "metadata": {},
   "source": [
    "Данные объединены, но вывод мы сможем сделать только по двум категориям. Посмотрим размер выборок по каждой группе:"
   ]
  },
  {
   "cell_type": "code",
   "execution_count": 31,
   "id": "6c26ec7b",
   "metadata": {},
   "outputs": [
    {
     "data": {
      "text/html": [
       "<style  type=\"text/css\" >\n",
       "#T_ae457_row0_col0,#T_ae457_row0_col1,#T_ae457_row3_col2,#T_ae457_row4_col0,#T_ae457_row4_col1{\n",
       "            background-color:  #f7fbff;\n",
       "            color:  #000000;\n",
       "        }#T_ae457_row0_col2{\n",
       "            background-color:  #3c8cc3;\n",
       "            color:  #000000;\n",
       "        }#T_ae457_row1_col0{\n",
       "            background-color:  #b2d2e8;\n",
       "            color:  #000000;\n",
       "        }#T_ae457_row1_col1{\n",
       "            background-color:  #c3daee;\n",
       "            color:  #000000;\n",
       "        }#T_ae457_row1_col2{\n",
       "            background-color:  #aacfe5;\n",
       "            color:  #000000;\n",
       "        }#T_ae457_row2_col0,#T_ae457_row2_col1,#T_ae457_row4_col2{\n",
       "            background-color:  #08306b;\n",
       "            color:  #f1f1f1;\n",
       "        }#T_ae457_row2_col2{\n",
       "            background-color:  #1562a9;\n",
       "            color:  #f1f1f1;\n",
       "        }#T_ae457_row3_col0{\n",
       "            background-color:  #f3f8fe;\n",
       "            color:  #000000;\n",
       "        }#T_ae457_row3_col1{\n",
       "            background-color:  #f5f9fe;\n",
       "            color:  #000000;\n",
       "        }</style><table id=\"T_ae457_\" ><thead>    <tr>        <th class=\"blank level0\" ></th>        <th class=\"col_heading level0 col0\" >Всего кредитополучателей</th>        <th class=\"col_heading level0 col1\" >Всего должников</th>        <th class=\"col_heading level0 col2\" >Доля должников</th>    </tr>    <tr>        <th class=\"index_name level0\" >total_income_category</th>        <th class=\"blank\" ></th>        <th class=\"blank\" ></th>        <th class=\"blank\" ></th>    </tr></thead><tbody>\n",
       "                <tr>\n",
       "                        <th id=\"T_ae457_level0_row0\" class=\"row_heading level0 row0\" >A</th>\n",
       "                        <td id=\"T_ae457_row0_col0\" class=\"data row0 col0\" >25.000</td>\n",
       "                        <td id=\"T_ae457_row0_col1\" class=\"data row0 col1\" >2.000</td>\n",
       "                        <td id=\"T_ae457_row0_col2\" class=\"data row0 col2\" >0.080</td>\n",
       "            </tr>\n",
       "            <tr>\n",
       "                        <th id=\"T_ae457_level0_row1\" class=\"row_heading level0 row1\" >B</th>\n",
       "                        <td id=\"T_ae457_row1_col0\" class=\"data row1 col0\" >5014.000</td>\n",
       "                        <td id=\"T_ae457_row1_col1\" class=\"data row1 col1\" >354.000</td>\n",
       "                        <td id=\"T_ae457_row1_col2\" class=\"data row1 col2\" >0.071</td>\n",
       "            </tr>\n",
       "            <tr>\n",
       "                        <th id=\"T_ae457_level0_row2\" class=\"row_heading level0 row2\" >C</th>\n",
       "                        <td id=\"T_ae457_row2_col0\" class=\"data row2 col0\" >15921.000</td>\n",
       "                        <td id=\"T_ae457_row2_col1\" class=\"data row2 col1\" >1353.000</td>\n",
       "                        <td id=\"T_ae457_row2_col2\" class=\"data row2 col2\" >0.085</td>\n",
       "            </tr>\n",
       "            <tr>\n",
       "                        <th id=\"T_ae457_level0_row3\" class=\"row_heading level0 row3\" >D</th>\n",
       "                        <td id=\"T_ae457_row3_col0\" class=\"data row3 col0\" >349.000</td>\n",
       "                        <td id=\"T_ae457_row3_col1\" class=\"data row3 col1\" >21.000</td>\n",
       "                        <td id=\"T_ae457_row3_col2\" class=\"data row3 col2\" >0.060</td>\n",
       "            </tr>\n",
       "            <tr>\n",
       "                        <th id=\"T_ae457_level0_row4\" class=\"row_heading level0 row4\" >E</th>\n",
       "                        <td id=\"T_ae457_row4_col0\" class=\"data row4 col0\" >22.000</td>\n",
       "                        <td id=\"T_ae457_row4_col1\" class=\"data row4 col1\" >2.000</td>\n",
       "                        <td id=\"T_ae457_row4_col2\" class=\"data row4 col2\" >0.091</td>\n",
       "            </tr>\n",
       "    </tbody></table>"
      ],
      "text/plain": [
       "<pandas.io.formats.style.Styler at 0x7fef28bb0a30>"
      ]
     },
     "metadata": {},
     "output_type": "display_data"
    }
   ],
   "source": [
    "# Создаем копию датасета, что бы не работать с исходным\n",
    "temp = data.copy()\n",
    "# Напишем функцию, так как все задачи аналогичны\n",
    "def que(category):\n",
    "    data_temp = temp.pivot_table(index=category, values='debt', aggfunc=['count', 'sum', 'mean'])\n",
    "    data_temp.columns = ['Всего кредитополучателей', 'Всего должников', 'Доля должников']\n",
    "    # Оформим таблицу цветным градиентом, но можно ее вывести и просто display(data_temp)\n",
    "    display(data_temp.style.format(\"{:.3f}\").background_gradient(cmap='Blues', axis=0))\n",
    "    \n",
    "que('total_income_category')"
   ]
  },
  {
   "cell_type": "markdown",
   "id": "6dd14b57",
   "metadata": {
    "deletable": false,
    "id": "6dd14b57"
   },
   "source": [
    "**Вывод:** "
   ]
  },
  {
   "cell_type": "markdown",
   "id": "779d20a9",
   "metadata": {},
   "source": [
    "Только две группы имею достаточный размер выборки.\n",
    "Категория В, достаток 200001–1000000, должников - 7,1%,\n",
    "Категория С, достаток 50001–200000, должников - 8,5%.\n",
    "По полученным данным видно, что люди с большим уровнем дохода уемют меньший % задолженности по кредитам."
   ]
  },
  {
   "cell_type": "code",
   "execution_count": 34,
   "id": "96186df6",
   "metadata": {},
   "outputs": [
    {
     "data": {
      "text/html": [
       "<style  type=\"text/css\" >\n",
       "#T_c111a_row0_col0{\n",
       "            background-color:  #69add5;\n",
       "            color:  #000000;\n",
       "        }#T_c111a_row0_col1{\n",
       "            background-color:  #5da5d1;\n",
       "            color:  #000000;\n",
       "        }#T_c111a_row0_col2{\n",
       "            background-color:  #58a1cf;\n",
       "            color:  #000000;\n",
       "        }#T_c111a_row1_col0,#T_c111a_row1_col1,#T_c111a_row1_col2{\n",
       "            background-color:  #08306b;\n",
       "            color:  #f1f1f1;\n",
       "        }#T_c111a_row2_col0,#T_c111a_row2_col1,#T_c111a_row2_col2{\n",
       "            background-color:  #f7fbff;\n",
       "            color:  #000000;\n",
       "        }</style><table id=\"T_c111a_\" ><thead>    <tr>        <th class=\"blank level0\" ></th>        <th class=\"col_heading level0 col0\" >Всего кредитополучателей</th>        <th class=\"col_heading level0 col1\" >Всего должников</th>        <th class=\"col_heading level0 col2\" >Доля должников</th>    </tr>    <tr>        <th class=\"index_name level0\" >new_category</th>        <th class=\"blank\" ></th>        <th class=\"blank\" ></th>        <th class=\"blank\" ></th>    </tr></thead><tbody>\n",
       "                <tr>\n",
       "                        <th id=\"T_c111a_level0_row0\" class=\"row_heading level0 row0\" >(20666.0, 119218.0]</th>\n",
       "                        <td id=\"T_c111a_row0_col0\" class=\"data row0 col0\" >7111.000</td>\n",
       "                        <td id=\"T_c111a_row0_col1\" class=\"data row0 col1\" >580.000</td>\n",
       "                        <td id=\"T_c111a_row0_col2\" class=\"data row0 col2\" >0.082</td>\n",
       "            </tr>\n",
       "            <tr>\n",
       "                        <th id=\"T_c111a_level0_row1\" class=\"row_heading level0 row1\" >(119218.0, 172357.0]</th>\n",
       "                        <td id=\"T_c111a_row1_col0\" class=\"data row1 col0\" >7238.000</td>\n",
       "                        <td id=\"T_c111a_row1_col1\" class=\"data row1 col1\" >627.000</td>\n",
       "                        <td id=\"T_c111a_row1_col2\" class=\"data row1 col2\" >0.087</td>\n",
       "            </tr>\n",
       "            <tr>\n",
       "                        <th id=\"T_c111a_level0_row2\" class=\"row_heading level0 row2\" >(172357.0, 2265604.0]</th>\n",
       "                        <td id=\"T_c111a_row2_col0\" class=\"data row2 col0\" >6982.000</td>\n",
       "                        <td id=\"T_c111a_row2_col1\" class=\"data row2 col1\" >525.000</td>\n",
       "                        <td id=\"T_c111a_row2_col2\" class=\"data row2 col2\" >0.075</td>\n",
       "            </tr>\n",
       "    </tbody></table>"
      ],
      "text/plain": [
       "<pandas.io.formats.style.Styler at 0x7fef9caaa0d0>"
      ]
     },
     "metadata": {},
     "output_type": "display_data"
    },
    {
     "data": {
      "text/html": [
       "<style  type=\"text/css\" >\n",
       "#T_86fd7_row0_col0{\n",
       "            background-color:  #6aaed6;\n",
       "            color:  #000000;\n",
       "        }#T_86fd7_row0_col1{\n",
       "            background-color:  #7ab6d9;\n",
       "            color:  #000000;\n",
       "        }#T_86fd7_row0_col2{\n",
       "            background-color:  #65aad4;\n",
       "            color:  #000000;\n",
       "        }#T_86fd7_row1_col0,#T_86fd7_row1_col1,#T_86fd7_row1_col2{\n",
       "            background-color:  #08306b;\n",
       "            color:  #f1f1f1;\n",
       "        }#T_86fd7_row2_col0,#T_86fd7_row3_col1,#T_86fd7_row3_col2{\n",
       "            background-color:  #f7fbff;\n",
       "            color:  #000000;\n",
       "        }#T_86fd7_row2_col1{\n",
       "            background-color:  #3f8fc5;\n",
       "            color:  #000000;\n",
       "        }#T_86fd7_row2_col2{\n",
       "            background-color:  #125ea6;\n",
       "            color:  #f1f1f1;\n",
       "        }#T_86fd7_row3_col0{\n",
       "            background-color:  #6dafd7;\n",
       "            color:  #000000;\n",
       "        }</style><table id=\"T_86fd7_\" ><thead>    <tr>        <th class=\"blank level0\" ></th>        <th class=\"col_heading level0 col0\" >Всего кредитополучателей</th>        <th class=\"col_heading level0 col1\" >Всего должников</th>        <th class=\"col_heading level0 col2\" >Доля должников</th>    </tr>    <tr>        <th class=\"index_name level0\" >new_category</th>        <th class=\"blank\" ></th>        <th class=\"blank\" ></th>        <th class=\"blank\" ></th>    </tr></thead><tbody>\n",
       "                <tr>\n",
       "                        <th id=\"T_86fd7_level0_row0\" class=\"row_heading level0 row0\" >(20666.0, 107507.0]</th>\n",
       "                        <td id=\"T_86fd7_row0_col0\" class=\"data row0 col0\" >5333.000</td>\n",
       "                        <td id=\"T_86fd7_row0_col1\" class=\"data row0 col1\" >427.000</td>\n",
       "                        <td id=\"T_86fd7_row0_col2\" class=\"data row0 col2\" >0.080</td>\n",
       "            </tr>\n",
       "            <tr>\n",
       "                        <th id=\"T_86fd7_level0_row1\" class=\"row_heading level0 row1\" >(107507.0, 142594.0]</th>\n",
       "                        <td id=\"T_86fd7_row1_col0\" class=\"data row1 col0\" >5450.000</td>\n",
       "                        <td id=\"T_86fd7_row1_col1\" class=\"data row1 col1\" >480.000</td>\n",
       "                        <td id=\"T_86fd7_row1_col2\" class=\"data row1 col2\" >0.088</td>\n",
       "            </tr>\n",
       "            <tr>\n",
       "                        <th id=\"T_86fd7_level0_row2\" class=\"row_heading level0 row2\" >(142594.0, 195842.0]</th>\n",
       "                        <td id=\"T_86fd7_row2_col0\" class=\"data row2 col0\" >5216.000</td>\n",
       "                        <td id=\"T_86fd7_row2_col1\" class=\"data row2 col1\" >444.000</td>\n",
       "                        <td id=\"T_86fd7_row2_col2\" class=\"data row2 col2\" >0.085</td>\n",
       "            </tr>\n",
       "            <tr>\n",
       "                        <th id=\"T_86fd7_level0_row3\" class=\"row_heading level0 row3\" >(195842.0, 2265604.0]</th>\n",
       "                        <td id=\"T_86fd7_row3_col0\" class=\"data row3 col0\" >5332.000</td>\n",
       "                        <td id=\"T_86fd7_row3_col1\" class=\"data row3 col1\" >381.000</td>\n",
       "                        <td id=\"T_86fd7_row3_col2\" class=\"data row3 col2\" >0.071</td>\n",
       "            </tr>\n",
       "    </tbody></table>"
      ],
      "text/plain": [
       "<pandas.io.formats.style.Styler at 0x7fef28beb5e0>"
      ]
     },
     "metadata": {},
     "output_type": "display_data"
    },
    {
     "data": {
      "text/html": [
       "<style  type=\"text/css\" >\n",
       "#T_047c2_row0_col0,#T_047c2_row2_col1,#T_047c2_row2_col2{\n",
       "            background-color:  #08306b;\n",
       "            color:  #f1f1f1;\n",
       "        }#T_047c2_row0_col1,#T_047c2_row0_col2{\n",
       "            background-color:  #4896c8;\n",
       "            color:  #000000;\n",
       "        }#T_047c2_row1_col0,#T_047c2_row2_col0,#T_047c2_row3_col0,#T_047c2_row4_col0,#T_047c2_row4_col1,#T_047c2_row4_col2{\n",
       "            background-color:  #f7fbff;\n",
       "            color:  #000000;\n",
       "        }#T_047c2_row1_col1,#T_047c2_row1_col2,#T_047c2_row3_col1,#T_047c2_row3_col2{\n",
       "            background-color:  #1764ab;\n",
       "            color:  #f1f1f1;\n",
       "        }</style><table id=\"T_047c2_\" ><thead>    <tr>        <th class=\"blank level0\" ></th>        <th class=\"col_heading level0 col0\" >Всего кредитополучателей</th>        <th class=\"col_heading level0 col1\" >Всего должников</th>        <th class=\"col_heading level0 col2\" >Доля должников</th>    </tr>    <tr>        <th class=\"index_name level0\" >new_category</th>        <th class=\"blank\" ></th>        <th class=\"blank\" ></th>        <th class=\"blank\" ></th>    </tr></thead><tbody>\n",
       "                <tr>\n",
       "                        <th id=\"T_047c2_level0_row0\" class=\"row_heading level0 row0\" >(20666.0, 98514.0]</th>\n",
       "                        <td id=\"T_047c2_row0_col0\" class=\"data row0 col0\" >4267.000</td>\n",
       "                        <td id=\"T_047c2_row0_col1\" class=\"data row0 col1\" >344.000</td>\n",
       "                        <td id=\"T_047c2_row0_col2\" class=\"data row0 col2\" >0.081</td>\n",
       "            </tr>\n",
       "            <tr>\n",
       "                        <th id=\"T_047c2_level0_row1\" class=\"row_heading level0 row1\" >(98514.0, 132113.0]</th>\n",
       "                        <td id=\"T_047c2_row1_col0\" class=\"data row1 col0\" >4266.000</td>\n",
       "                        <td id=\"T_047c2_row1_col1\" class=\"data row1 col1\" >358.000</td>\n",
       "                        <td id=\"T_047c2_row1_col2\" class=\"data row1 col2\" >0.084</td>\n",
       "            </tr>\n",
       "            <tr>\n",
       "                        <th id=\"T_047c2_level0_row2\" class=\"row_heading level0 row2\" >(132113.0, 161380.0]</th>\n",
       "                        <td id=\"T_047c2_row2_col0\" class=\"data row2 col0\" >4266.000</td>\n",
       "                        <td id=\"T_047c2_row2_col1\" class=\"data row2 col1\" >373.000</td>\n",
       "                        <td id=\"T_047c2_row2_col2\" class=\"data row2 col2\" >0.087</td>\n",
       "            </tr>\n",
       "            <tr>\n",
       "                        <th id=\"T_047c2_level0_row3\" class=\"row_heading level0 row3\" >(161380.0, 214604.0]</th>\n",
       "                        <td id=\"T_047c2_row3_col0\" class=\"data row3 col0\" >4266.000</td>\n",
       "                        <td id=\"T_047c2_row3_col1\" class=\"data row3 col1\" >358.000</td>\n",
       "                        <td id=\"T_047c2_row3_col2\" class=\"data row3 col2\" >0.084</td>\n",
       "            </tr>\n",
       "            <tr>\n",
       "                        <th id=\"T_047c2_level0_row4\" class=\"row_heading level0 row4\" >(214604.0, 2265604.0]</th>\n",
       "                        <td id=\"T_047c2_row4_col0\" class=\"data row4 col0\" >4266.000</td>\n",
       "                        <td id=\"T_047c2_row4_col1\" class=\"data row4 col1\" >299.000</td>\n",
       "                        <td id=\"T_047c2_row4_col2\" class=\"data row4 col2\" >0.070</td>\n",
       "            </tr>\n",
       "    </tbody></table>"
      ],
      "text/plain": [
       "<pandas.io.formats.style.Styler at 0x7fef32c83190>"
      ]
     },
     "metadata": {},
     "output_type": "display_data"
    },
    {
     "data": {
      "text/html": [
       "<style  type=\"text/css\" >\n",
       "#T_9096d_row0_col0{\n",
       "            background-color:  #63a8d3;\n",
       "            color:  #000000;\n",
       "        }#T_9096d_row0_col1{\n",
       "            background-color:  #7ab6d9;\n",
       "            color:  #000000;\n",
       "        }#T_9096d_row0_col2{\n",
       "            background-color:  #60a7d2;\n",
       "            color:  #000000;\n",
       "        }#T_9096d_row1_col0,#T_9096d_row5_col0{\n",
       "            background-color:  #64a9d3;\n",
       "            color:  #000000;\n",
       "        }#T_9096d_row1_col1{\n",
       "            background-color:  #4e9acb;\n",
       "            color:  #000000;\n",
       "        }#T_9096d_row1_col2{\n",
       "            background-color:  #3383be;\n",
       "            color:  #000000;\n",
       "        }#T_9096d_row2_col0,#T_9096d_row2_col1,#T_9096d_row2_col2{\n",
       "            background-color:  #08306b;\n",
       "            color:  #f1f1f1;\n",
       "        }#T_9096d_row3_col0{\n",
       "            background-color:  #549fcd;\n",
       "            color:  #000000;\n",
       "        }#T_9096d_row3_col1{\n",
       "            background-color:  #3a8ac2;\n",
       "            color:  #000000;\n",
       "        }#T_9096d_row3_col2{\n",
       "            background-color:  #2373b6;\n",
       "            color:  #f1f1f1;\n",
       "        }#T_9096d_row4_col0,#T_9096d_row5_col1,#T_9096d_row5_col2{\n",
       "            background-color:  #f7fbff;\n",
       "            color:  #000000;\n",
       "        }#T_9096d_row4_col1{\n",
       "            background-color:  #a8cee4;\n",
       "            color:  #000000;\n",
       "        }#T_9096d_row4_col2{\n",
       "            background-color:  #5aa2cf;\n",
       "            color:  #000000;\n",
       "        }</style><table id=\"T_9096d_\" ><thead>    <tr>        <th class=\"blank level0\" ></th>        <th class=\"col_heading level0 col0\" >Всего кредитополучателей</th>        <th class=\"col_heading level0 col1\" >Всего должников</th>        <th class=\"col_heading level0 col2\" >Доля должников</th>    </tr>    <tr>        <th class=\"index_name level0\" >new_category</th>        <th class=\"blank\" ></th>        <th class=\"blank\" ></th>        <th class=\"blank\" ></th>    </tr></thead><tbody>\n",
       "                <tr>\n",
       "                        <th id=\"T_9096d_level0_row0\" class=\"row_heading level0 row0\" >(20666.0, 92092.0]</th>\n",
       "                        <td id=\"T_9096d_row0_col0\" class=\"data row0 col0\" >3556.000</td>\n",
       "                        <td id=\"T_9096d_row0_col1\" class=\"data row0 col1\" >285.000</td>\n",
       "                        <td id=\"T_9096d_row0_col2\" class=\"data row0 col2\" >0.080</td>\n",
       "            </tr>\n",
       "            <tr>\n",
       "                        <th id=\"T_9096d_level0_row1\" class=\"row_heading level0 row1\" >(92092.0, 119218.0]</th>\n",
       "                        <td id=\"T_9096d_row1_col0\" class=\"data row1 col0\" >3555.000</td>\n",
       "                        <td id=\"T_9096d_row1_col1\" class=\"data row1 col1\" >295.000</td>\n",
       "                        <td id=\"T_9096d_row1_col2\" class=\"data row1 col2\" >0.083</td>\n",
       "            </tr>\n",
       "            <tr>\n",
       "                        <th id=\"T_9096d_level0_row2\" class=\"row_heading level0 row2\" >(119218.0, 142594.0]</th>\n",
       "                        <td id=\"T_9096d_row2_col0\" class=\"data row2 col0\" >3672.000</td>\n",
       "                        <td id=\"T_9096d_row2_col1\" class=\"data row2 col1\" >327.000</td>\n",
       "                        <td id=\"T_9096d_row2_col2\" class=\"data row2 col2\" >0.089</td>\n",
       "            </tr>\n",
       "            <tr>\n",
       "                        <th id=\"T_9096d_level0_row3\" class=\"row_heading level0 row3\" >(142594.0, 172357.0]</th>\n",
       "                        <td id=\"T_9096d_row3_col0\" class=\"data row3 col0\" >3566.000</td>\n",
       "                        <td id=\"T_9096d_row3_col1\" class=\"data row3 col1\" >300.000</td>\n",
       "                        <td id=\"T_9096d_row3_col2\" class=\"data row3 col2\" >0.084</td>\n",
       "            </tr>\n",
       "            <tr>\n",
       "                        <th id=\"T_9096d_level0_row4\" class=\"row_heading level0 row4\" >(172357.0, 228893.0]</th>\n",
       "                        <td id=\"T_9096d_row4_col0\" class=\"data row4 col0\" >3427.000</td>\n",
       "                        <td id=\"T_9096d_row4_col1\" class=\"data row4 col1\" >276.000</td>\n",
       "                        <td id=\"T_9096d_row4_col2\" class=\"data row4 col2\" >0.081</td>\n",
       "            </tr>\n",
       "            <tr>\n",
       "                        <th id=\"T_9096d_level0_row5\" class=\"row_heading level0 row5\" >(228893.0, 2265604.0]</th>\n",
       "                        <td id=\"T_9096d_row5_col0\" class=\"data row5 col0\" >3555.000</td>\n",
       "                        <td id=\"T_9096d_row5_col1\" class=\"data row5 col1\" >249.000</td>\n",
       "                        <td id=\"T_9096d_row5_col2\" class=\"data row5 col2\" >0.070</td>\n",
       "            </tr>\n",
       "    </tbody></table>"
      ],
      "text/plain": [
       "<pandas.io.formats.style.Styler at 0x7fef28ce3d30>"
      ]
     },
     "metadata": {},
     "output_type": "display_data"
    },
    {
     "data": {
      "text/html": [
       "<style  type=\"text/css\" >\n",
       "#T_02d6f_row0_col0,#T_02d6f_row3_col1,#T_02d6f_row3_col2,#T_02d6f_row6_col0{\n",
       "            background-color:  #08306b;\n",
       "            color:  #f1f1f1;\n",
       "        }#T_02d6f_row0_col1,#T_02d6f_row0_col2{\n",
       "            background-color:  #8dc1dd;\n",
       "            color:  #000000;\n",
       "        }#T_02d6f_row1_col0,#T_02d6f_row2_col0,#T_02d6f_row3_col0,#T_02d6f_row4_col0,#T_02d6f_row5_col0,#T_02d6f_row6_col1,#T_02d6f_row6_col2{\n",
       "            background-color:  #f7fbff;\n",
       "            color:  #000000;\n",
       "        }#T_02d6f_row1_col1,#T_02d6f_row1_col2{\n",
       "            background-color:  #083979;\n",
       "            color:  #f1f1f1;\n",
       "        }#T_02d6f_row2_col1,#T_02d6f_row2_col2{\n",
       "            background-color:  #083471;\n",
       "            color:  #f1f1f1;\n",
       "        }#T_02d6f_row4_col1,#T_02d6f_row4_col2{\n",
       "            background-color:  #09529d;\n",
       "            color:  #f1f1f1;\n",
       "        }#T_02d6f_row5_col1,#T_02d6f_row5_col2{\n",
       "            background-color:  #4f9bcb;\n",
       "            color:  #000000;\n",
       "        }</style><table id=\"T_02d6f_\" ><thead>    <tr>        <th class=\"blank level0\" ></th>        <th class=\"col_heading level0 col0\" >Всего кредитополучателей</th>        <th class=\"col_heading level0 col1\" >Всего должников</th>        <th class=\"col_heading level0 col2\" >Доля должников</th>    </tr>    <tr>        <th class=\"index_name level0\" >new_category</th>        <th class=\"blank\" ></th>        <th class=\"blank\" ></th>        <th class=\"blank\" ></th>    </tr></thead><tbody>\n",
       "                <tr>\n",
       "                        <th id=\"T_02d6f_level0_row0\" class=\"row_heading level0 row0\" >(20666.0, 87287.0]</th>\n",
       "                        <td id=\"T_02d6f_row0_col0\" class=\"data row0 col0\" >3048.000</td>\n",
       "                        <td id=\"T_02d6f_row0_col1\" class=\"data row0 col1\" >233.000</td>\n",
       "                        <td id=\"T_02d6f_row0_col2\" class=\"data row0 col2\" >0.076</td>\n",
       "            </tr>\n",
       "            <tr>\n",
       "                        <th id=\"T_02d6f_level0_row1\" class=\"row_heading level0 row1\" >(87287.0, 113563.0]</th>\n",
       "                        <td id=\"T_02d6f_row1_col0\" class=\"data row1 col0\" >3047.000</td>\n",
       "                        <td id=\"T_02d6f_row1_col1\" class=\"data row1 col1\" >262.000</td>\n",
       "                        <td id=\"T_02d6f_row1_col2\" class=\"data row1 col2\" >0.086</td>\n",
       "            </tr>\n",
       "            <tr>\n",
       "                        <th id=\"T_02d6f_level0_row2\" class=\"row_heading level0 row2\" >(113563.0, 137465.0]</th>\n",
       "                        <td id=\"T_02d6f_row2_col0\" class=\"data row2 col0\" >3047.000</td>\n",
       "                        <td id=\"T_02d6f_row2_col1\" class=\"data row2 col1\" >263.000</td>\n",
       "                        <td id=\"T_02d6f_row2_col2\" class=\"data row2 col2\" >0.086</td>\n",
       "            </tr>\n",
       "            <tr>\n",
       "                        <th id=\"T_02d6f_level0_row3\" class=\"row_heading level0 row3\" >(137465.0, 155314.0]</th>\n",
       "                        <td id=\"T_02d6f_row3_col0\" class=\"data row3 col0\" >3047.000</td>\n",
       "                        <td id=\"T_02d6f_row3_col1\" class=\"data row3 col1\" >264.000</td>\n",
       "                        <td id=\"T_02d6f_row3_col2\" class=\"data row3 col2\" >0.087</td>\n",
       "            </tr>\n",
       "            <tr>\n",
       "                        <th id=\"T_02d6f_level0_row4\" class=\"row_heading level0 row4\" >(155314.0, 184554.0]</th>\n",
       "                        <td id=\"T_02d6f_row4_col0\" class=\"data row4 col0\" >3047.000</td>\n",
       "                        <td id=\"T_02d6f_row4_col1\" class=\"data row4 col1\" >257.000</td>\n",
       "                        <td id=\"T_02d6f_row4_col2\" class=\"data row4 col2\" >0.084</td>\n",
       "            </tr>\n",
       "            <tr>\n",
       "                        <th id=\"T_02d6f_level0_row5\" class=\"row_heading level0 row5\" >(184554.0, 242009.0]</th>\n",
       "                        <td id=\"T_02d6f_row5_col0\" class=\"data row5 col0\" >3047.000</td>\n",
       "                        <td id=\"T_02d6f_row5_col1\" class=\"data row5 col1\" >242.000</td>\n",
       "                        <td id=\"T_02d6f_row5_col2\" class=\"data row5 col2\" >0.079</td>\n",
       "            </tr>\n",
       "            <tr>\n",
       "                        <th id=\"T_02d6f_level0_row6\" class=\"row_heading level0 row6\" >(242009.0, 2265604.0]</th>\n",
       "                        <td id=\"T_02d6f_row6_col0\" class=\"data row6 col0\" >3048.000</td>\n",
       "                        <td id=\"T_02d6f_row6_col1\" class=\"data row6 col1\" >211.000</td>\n",
       "                        <td id=\"T_02d6f_row6_col2\" class=\"data row6 col2\" >0.069</td>\n",
       "            </tr>\n",
       "    </tbody></table>"
      ],
      "text/plain": [
       "<pandas.io.formats.style.Styler at 0x7fef28bfd040>"
      ]
     },
     "metadata": {},
     "output_type": "display_data"
    },
    {
     "data": {
      "text/html": [
       "<style  type=\"text/css\" >\n",
       "#T_212e7_row0_col0,#T_212e7_row5_col0,#T_212e7_row7_col0{\n",
       "            background-color:  #6aaed6;\n",
       "            color:  #000000;\n",
       "        }#T_212e7_row0_col1{\n",
       "            background-color:  #aacfe5;\n",
       "            color:  #000000;\n",
       "        }#T_212e7_row0_col2{\n",
       "            background-color:  #91c3de;\n",
       "            color:  #000000;\n",
       "        }#T_212e7_row1_col0,#T_212e7_row2_col0{\n",
       "            background-color:  #6caed6;\n",
       "            color:  #000000;\n",
       "        }#T_212e7_row1_col1,#T_212e7_row5_col1{\n",
       "            background-color:  #519ccc;\n",
       "            color:  #000000;\n",
       "        }#T_212e7_row1_col2,#T_212e7_row5_col2{\n",
       "            background-color:  #2f7fbc;\n",
       "            color:  #000000;\n",
       "        }#T_212e7_row2_col1{\n",
       "            background-color:  #1c6ab0;\n",
       "            color:  #f1f1f1;\n",
       "        }#T_212e7_row2_col2{\n",
       "            background-color:  #084285;\n",
       "            color:  #f1f1f1;\n",
       "        }#T_212e7_row3_col0,#T_212e7_row3_col1,#T_212e7_row3_col2{\n",
       "            background-color:  #08306b;\n",
       "            color:  #f1f1f1;\n",
       "        }#T_212e7_row4_col0,#T_212e7_row7_col1,#T_212e7_row7_col2{\n",
       "            background-color:  #f7fbff;\n",
       "            color:  #000000;\n",
       "        }#T_212e7_row4_col1{\n",
       "            background-color:  #4695c8;\n",
       "            color:  #000000;\n",
       "        }#T_212e7_row4_col2{\n",
       "            background-color:  #084184;\n",
       "            color:  #f1f1f1;\n",
       "        }#T_212e7_row6_col0{\n",
       "            background-color:  #6dafd7;\n",
       "            color:  #000000;\n",
       "        }#T_212e7_row6_col1{\n",
       "            background-color:  #d4e4f4;\n",
       "            color:  #000000;\n",
       "        }#T_212e7_row6_col2{\n",
       "            background-color:  #cddff1;\n",
       "            color:  #000000;\n",
       "        }</style><table id=\"T_212e7_\" ><thead>    <tr>        <th class=\"blank level0\" ></th>        <th class=\"col_heading level0 col0\" >Всего кредитополучателей</th>        <th class=\"col_heading level0 col1\" >Всего должников</th>        <th class=\"col_heading level0 col2\" >Доля должников</th>    </tr>    <tr>        <th class=\"index_name level0\" >new_category</th>        <th class=\"blank\" ></th>        <th class=\"blank\" ></th>        <th class=\"blank\" ></th>    </tr></thead><tbody>\n",
       "                <tr>\n",
       "                        <th id=\"T_212e7_level0_row0\" class=\"row_heading level0 row0\" >(20666.0, 83837.0]</th>\n",
       "                        <td id=\"T_212e7_row0_col0\" class=\"data row0 col0\" >2667.000</td>\n",
       "                        <td id=\"T_212e7_row0_col1\" class=\"data row0 col1\" >206.000</td>\n",
       "                        <td id=\"T_212e7_row0_col2\" class=\"data row0 col2\" >0.077</td>\n",
       "            </tr>\n",
       "            <tr>\n",
       "                        <th id=\"T_212e7_level0_row1\" class=\"row_heading level0 row1\" >(83837.0, 107507.0]</th>\n",
       "                        <td id=\"T_212e7_row1_col0\" class=\"data row1 col0\" >2666.000</td>\n",
       "                        <td id=\"T_212e7_row1_col1\" class=\"data row1 col1\" >221.000</td>\n",
       "                        <td id=\"T_212e7_row1_col2\" class=\"data row1 col2\" >0.083</td>\n",
       "            </tr>\n",
       "            <tr>\n",
       "                        <th id=\"T_212e7_level0_row2\" class=\"row_heading level0 row2\" >(107507.0, 127546.0]</th>\n",
       "                        <td id=\"T_212e7_row2_col0\" class=\"data row2 col0\" >2666.000</td>\n",
       "                        <td id=\"T_212e7_row2_col1\" class=\"data row2 col1\" >233.000</td>\n",
       "                        <td id=\"T_212e7_row2_col2\" class=\"data row2 col2\" >0.087</td>\n",
       "            </tr>\n",
       "            <tr>\n",
       "                        <th id=\"T_212e7_level0_row3\" class=\"row_heading level0 row3\" >(127546.0, 142594.0]</th>\n",
       "                        <td id=\"T_212e7_row3_col0\" class=\"data row3 col0\" >2784.000</td>\n",
       "                        <td id=\"T_212e7_row3_col1\" class=\"data row3 col1\" >247.000</td>\n",
       "                        <td id=\"T_212e7_row3_col2\" class=\"data row3 col2\" >0.089</td>\n",
       "            </tr>\n",
       "            <tr>\n",
       "                        <th id=\"T_212e7_level0_row4\" class=\"row_heading level0 row4\" >(142594.0, 166525.0]</th>\n",
       "                        <td id=\"T_212e7_row4_col0\" class=\"data row4 col0\" >2549.000</td>\n",
       "                        <td id=\"T_212e7_row4_col1\" class=\"data row4 col1\" >223.000</td>\n",
       "                        <td id=\"T_212e7_row4_col2\" class=\"data row4 col2\" >0.087</td>\n",
       "            </tr>\n",
       "            <tr>\n",
       "                        <th id=\"T_212e7_level0_row5\" class=\"row_heading level0 row5\" >(166525.0, 195842.0]</th>\n",
       "                        <td id=\"T_212e7_row5_col0\" class=\"data row5 col0\" >2667.000</td>\n",
       "                        <td id=\"T_212e7_row5_col1\" class=\"data row5 col1\" >221.000</td>\n",
       "                        <td id=\"T_212e7_row5_col2\" class=\"data row5 col2\" >0.083</td>\n",
       "            </tr>\n",
       "            <tr>\n",
       "                        <th id=\"T_212e7_level0_row6\" class=\"row_heading level0 row6\" >(195842.0, 254250.0]</th>\n",
       "                        <td id=\"T_212e7_row6_col0\" class=\"data row6 col0\" >2665.000</td>\n",
       "                        <td id=\"T_212e7_row6_col1\" class=\"data row6 col1\" >196.000</td>\n",
       "                        <td id=\"T_212e7_row6_col2\" class=\"data row6 col2\" >0.074</td>\n",
       "            </tr>\n",
       "            <tr>\n",
       "                        <th id=\"T_212e7_level0_row7\" class=\"row_heading level0 row7\" >(254250.0, 2265604.0]</th>\n",
       "                        <td id=\"T_212e7_row7_col0\" class=\"data row7 col0\" >2667.000</td>\n",
       "                        <td id=\"T_212e7_row7_col1\" class=\"data row7 col1\" >185.000</td>\n",
       "                        <td id=\"T_212e7_row7_col2\" class=\"data row7 col2\" >0.069</td>\n",
       "            </tr>\n",
       "    </tbody></table>"
      ],
      "text/plain": [
       "<pandas.io.formats.style.Styler at 0x7fef28c83e50>"
      ]
     },
     "metadata": {},
     "output_type": "display_data"
    }
   ],
   "source": [
    "temp = data.copy()\n",
    "start, stop = 3, 8 # начальное и конечное количество категорий\n",
    "while start <= stop:\n",
    "    temp['new_category'] = pd.qcut(temp['total_income'], q=start, precision=0)\n",
    "    que('new_category')\n",
    "    start += 1"
   ]
  },
  {
   "cell_type": "markdown",
   "id": "1dcc9b12",
   "metadata": {
    "deletable": false,
    "editable": false,
    "id": "1dcc9b12"
   },
   "source": [
    "#### 3.4 Как разные цели кредита влияют на его возврат в срок?"
   ]
  },
  {
   "cell_type": "code",
   "execution_count": 32,
   "id": "c602bc8b",
   "metadata": {
    "deletable": false,
    "id": "c602bc8b"
   },
   "outputs": [
    {
     "data": {
      "image/png": "[encoded data removed]",
      "text/plain": [
       "<Figure size 144x144 with 1 Axes>"
      ]
     },
     "metadata": {},
     "output_type": "display_data"
    },
    {
     "data": {
      "image/png": "[encoded data removed]",
      "text/plain": [
       "<Figure size 144x144 with 1 Axes>"
      ]
     },
     "metadata": {},
     "output_type": "display_data"
    },
    {
     "data": {
      "image/png": "[encoded data removed]",
      "text/plain": [
       "<Figure size 144x144 with 1 Axes>"
      ]
     },
     "metadata": {},
     "output_type": "display_data"
    },
    {
     "data": {
      "image/png": "[encoded data removed]",
      "text/plain": [
       "<Figure size 144x144 with 1 Axes>"
      ]
     },
     "metadata": {},
     "output_type": "display_data"
    }
   ],
   "source": [
    "# сгруппируем наш датафрейм по полю purpose_category\n",
    "purpose_category_grouped = data.groupby('purpose_category')\n",
    "# подсчитаем количесво\n",
    "group_count = purpose_category_grouped.size()\n",
    "\n",
    "# теперь посчитаем кол-во просрочивших кредит по группам\n",
    "debt_count = data.groupby(['purpose_category', 'debt']).size()\n",
    "debt_count_1 = debt_count[debt_count.index.get_level_values('debt') == 1]\n",
    "\n",
    "# Вычисляем доли для диаграммы\n",
    "part_of_dept_1 = debt_count_1/group_count\n",
    "no_debt_part_count = group_count - debt_count_1\n",
    "part_of_dept_0 = no_debt_part_count/group_count\n",
    "\n",
    "# Создаем круговую диаграмму для каждой группы\n",
    "for purpose_category_group in part_of_dept_1.index:\n",
    "    plt.figure(figsize=(2, 2)) \n",
    "    plt.pie(\n",
    "        [part_of_dept_0[purpose_category_group], part_of_dept_1[purpose_category_group]],\n",
    "        labels=[\"Не имели задолженности\", \"Имели задолженность\"],\n",
    "        autopct='%1.1f%%',\n",
    "        startangle=90,\n",
    "        labeldistance=1,\n",
    "        textprops={'fontsize': 8}\n",
    "    )\n",
    "    plt.title(f\"Доля задолженностей при цели {purpose_category_group}\", fontsize=10)\n",
    "    plt.axis('equal')  \n",
    "    plt.show()"
   ]
  },
  {
   "cell_type": "markdown",
   "id": "053b5514",
   "metadata": {},
   "source": [
    "Давайте теперь объединим все значения в одну столбчатую диаграмму, по которой нам будет легче сделать вывод."
   ]
  },
  {
   "cell_type": "code",
   "execution_count": 33,
   "id": "1c204c93",
   "metadata": {},
   "outputs": [
    {
     "data": {
      "image/png": "[encoded data removed]",
      "text/plain": [
       "<Figure size 576x288 with 1 Axes>"
      ]
     },
     "metadata": {
      "needs_background": "light"
     },
     "output_type": "display_data"
    }
   ],
   "source": [
    "# Объединяем данные для столбчатой диаграммы\n",
    "data_for_bar = pd.DataFrame({\n",
    "    'Цель кредита': ['_'.join(map(str, x)) for x in part_of_dept_1.index],  # Преобразуем MultiIndex в список строк\n",
    "    'Доля должников': part_of_dept_1.values * 100,  # Преобразуем в проценты\n",
    "})\n",
    "\n",
    "# Преобразуем кортежи в строки\n",
    "data_for_bar['Цель кредита'] = [''.join(map(str, x)) for x in data_for_bar['Цель кредита']]\n",
    "\n",
    "# Строим столбчатую диаграмму\n",
    "plt.figure(figsize=(8, 4))  # Уменьшаем размер диаграммы\n",
    "bars = plt.bar(data_for_bar['Цель кредита'], data_for_bar['Доля должников'], width=0.5)\n",
    "plt.xlabel('Цель кредита', fontsize=12)\n",
    "plt.ylabel('Доля должников (%)', fontsize=12)\n",
    "plt.xticks(rotation=45, ha='right')  # Поворачиваем подписи на 45 градусов\n",
    "plt.title('Доля должников по целям кредита', fontsize=14)\n",
    "\n",
    "# Добавляем подписи значений\n",
    "for bar in bars:\n",
    "    height = bar.get_height()\n",
    "    plt.text(bar.get_x() + bar.get_width() / 2, height, f'{height:.1f}%', ha='center', va='bottom')\n",
    "\n",
    "plt.show()"
   ]
  },
  {
   "cell_type": "markdown",
   "id": "cf05ed63",
   "metadata": {
    "deletable": false,
    "id": "cf05ed63"
   },
   "source": [
    "**Вывод:** "
   ]
  },
  {
   "cell_type": "markdown",
   "id": "fe62b99c",
   "metadata": {},
   "source": [
    "Максимальная доля задолженностей у двух категорий целей кредита. Получение образования и Ооперации с автомобилем - 9,3% должников. Меньше должников у цели Проведение свадбьы - 7,9%. И мньше всего при операции с недвижимостью - 7,3%."
   ]
  },
  {
   "cell_type": "markdown",
   "id": "46c1f10b",
   "metadata": {
    "deletable": false,
    "editable": false,
    "id": "46c1f10b"
   },
   "source": [
    "#### 3.5 Приведите возможные причины появления пропусков в исходных данных."
   ]
  },
  {
   "cell_type": "markdown",
   "id": "3697d2a9",
   "metadata": {
    "deletable": false,
    "id": "3697d2a9"
   },
   "source": [
    "*Ответ:* <br>\n",
    "На мой взгляд причины по которым могут появиться пропуски:\n",
    "- ошибка при вводе данных\n",
    "- разные источники информации\n",
    "- изначально неполнота данных\n",
    "- программные ошибки (сбой программы, ошибка при чтении, поврежденные файлы с данными и т.д.)"
   ]
  },
  {
   "cell_type": "markdown",
   "id": "3137d257",
   "metadata": {
    "deletable": false,
    "editable": false,
    "id": "3137d257"
   },
   "source": [
    "#### 3.6 Объясните, почему заполнить пропуски медианным значением — лучшее решение для количественных переменных."
   ]
  },
  {
   "cell_type": "markdown",
   "id": "cf40012a",
   "metadata": {
    "deletable": false,
    "id": "cf40012a"
   },
   "source": [
    "*Ответ:*<br>\n",
    "Потому что на медианное значение меньше влияет экстрtмальные значения, чем на среднее значение.\n",
    "К примеру имеем статистику по зарплате сотрудников с одинаковой профессией с зарплатами в т.р. - 200, 200, 200, 800.\n",
    "Нам нужно нанять сотрудника этой профессии. И применяя медиану мы получим, что нормальная по рынку 200т.р. При среднем значении 350т.р., что выше чем по рынку почти в 2 раза. При массовом найме под проект нужны более доставерные данные по з/п для нанимаемых сотрудников, что как раз обеспечивает нам медианное значение."
   ]
  },
  {
   "cell_type": "markdown",
   "id": "57bc304e",
   "metadata": {
    "deletable": false,
    "editable": false,
    "id": "57bc304e"
   },
   "source": [
    "### Шаг 4: общий вывод."
   ]
  },
  {
   "cell_type": "markdown",
   "id": "1ab75d1c",
   "metadata": {
    "deletable": false,
    "id": "1ab75d1c"
   },
   "source": [
    "**Проект:** Исследование надёжности заёмщиков.\n",
    "\n",
    "**Заказчик:** Кредитный отдел банка.\n",
    "\n",
    "**Цель проекта:** Нужно разобраться, влияет ли семейное положение и количество детей клиента на факт погашения кредита в срок.\n",
    "\n",
    "\n",
    "\n",
    "Для проекта нам были предоствалены входные данные от банка — статистика о платёжеспособности клиентов.\n",
    "\n",
    "Перед тем как приступить к полноценному анализу была проведена предобработка полученных данных, а именно:\n",
    "- удалены дубликаты,\n",
    "- пустые данные заполнены медианными значениями,\n",
    "- выявлены аномольные значения и удалены,\n",
    "- обработаны неявные дибликаты приведением всех названий к нижнему регистру,\n",
    "- выделенны категории по достатку клиентов и цели получения кредита.\n",
    "\n",
    "Для достижения цели проекта был проведен анализ зависимости возврата кредита в срок от наличия детей, семейного роложения, уровня дохода и цели получения кредита и сделаны следующие выводы:\n",
    "\n",
    "1. Зависимость количества детей влияет на просроченную задолженность. Семьи без детей не несут дополнительных расходов и своевременно   обслуживают свой кредит. У клиентов с детьми более высокая расходная часть семейного бюджета, поэтому и возникают сложности со своевременной выплатой по кредитным обязательствам. Люди с 4 детьми имели задолженность чаще - 9,8%, без детей меньше всех - 7,5%. Дальше в группе людей с тремя детьми должников - 8,2%, с одним - 9,2%, а с двумя детьми - 9,5%.<br>\n",
    "<br>\n",
    "2. Зависимость задолженности по кредитам от семейного положения. Больший % по задолженности имеют люди не женатые/не замужем - 9,8% и в гражданмком браке - 9,3%. Меньше всего люди со статусом вдова/вдовец - 6,6%, люди в разводе - 7,1% и женат/замужем - 7,6%. Можно сделать вывод, что люди пребывающие или которые были в официальных взаимоотношениях менее склонны к задолженности по кредитам. Прошлый опыт семейных отношений или оформленные отношения накладывают определенную ответственность и приучают к финансовой дисциплине.<br>\n",
    "<br>\n",
    "3. Зависимость между уровнем дохода и возвратом кредита в срок. По данной зависимости только две группы имею достаточный размер выборки.<br> Категория В, достаток 200001–1000000, должников - 7,1%, <br>Категория С, достаток 50001–200000, должников - 8,5%. можем только сделать явный вывод по этим двум группам, что люди с большим уровнем дохода категории B имеют меньший % задолженности по кредитам. В целом же из-за недостатка данных по остальным категориям нельзя сделать общего вывода что уровень достатка влияет на кредитную задолженность.<br>\n",
    "<br>\n",
    "4. Зависимость цели кредита на возврат его в срок. Максимальная доля задолженностей у двух категорий целей кредита. Получение образования и Ооперации с автомобилем - 9,3% должников. Меньше должников у цели Проведение свадбьы - 7,9%. И мньше всего при операции с недвижимостью - 7,3%. Видимо, кредиты на автомобиль и обучение несут дополнительные риски связанные или с возможной аварией, или с проблемами трудоустройства после обучения."
   ]
  }
 ],
 "metadata": {
  "ExecuteTimeLog": [
   {
    "duration": 671,
    "start_time": "2023-08-14T11:37:54.062Z"
   },
   {
    "duration": 29,
    "start_time": "2023-08-14T11:37:57.388Z"
   },
   {
    "duration": 14,
    "start_time": "2023-08-14T11:37:59.288Z"
   },
   {
    "duration": 14,
    "start_time": "2023-08-14T11:38:01.354Z"
   },
   {
    "duration": 49,
    "start_time": "2023-08-14T11:38:02.179Z"
   },
   {
    "duration": 4,
    "start_time": "2023-08-14T11:38:03.414Z"
   },
   {
    "duration": 10,
    "start_time": "2023-08-14T11:38:04.211Z"
   },
   {
    "duration": 5,
    "start_time": "2023-08-14T11:38:05.455Z"
   },
   {
    "duration": 6,
    "start_time": "2023-08-14T11:38:06.252Z"
   },
   {
    "duration": 4,
    "start_time": "2023-08-14T11:38:07.093Z"
   },
   {
    "duration": 31,
    "start_time": "2023-08-14T11:38:08.304Z"
   },
   {
    "duration": 10,
    "start_time": "2023-08-14T11:38:09.024Z"
   },
   {
    "duration": 3,
    "start_time": "2023-08-14T11:38:10.262Z"
   },
   {
    "duration": 10,
    "start_time": "2023-08-14T11:38:11.417Z"
   },
   {
    "duration": 18,
    "start_time": "2023-08-14T11:38:12.160Z"
   },
   {
    "duration": 18,
    "start_time": "2023-08-14T11:38:12.552Z"
   },
   {
    "duration": 3,
    "start_time": "2023-08-14T11:38:14.330Z"
   },
   {
    "duration": 9,
    "start_time": "2023-08-14T11:38:14.828Z"
   },
   {
    "duration": 5,
    "start_time": "2023-08-14T11:38:15.785Z"
   },
   {
    "duration": 3,
    "start_time": "2023-08-14T11:38:16.783Z"
   },
   {
    "duration": 11,
    "start_time": "2023-08-14T11:38:17.253Z"
   },
   {
    "duration": 2,
    "start_time": "2023-08-14T11:38:19.294Z"
   },
   {
    "duration": 2,
    "start_time": "2023-08-14T11:38:22.964Z"
   },
   {
    "duration": 2,
    "start_time": "2023-08-14T11:38:24.454Z"
   },
   {
    "duration": 516,
    "start_time": "2024-07-19T07:19:52.467Z"
   },
   {
    "duration": 31,
    "start_time": "2024-07-19T07:19:55.155Z"
   },
   {
    "duration": 18,
    "start_time": "2024-07-19T07:19:59.237Z"
   },
   {
    "duration": 19,
    "start_time": "2024-07-19T07:20:04.174Z"
   },
   {
    "duration": 55,
    "start_time": "2024-07-19T07:20:08.785Z"
   },
   {
    "duration": 4,
    "start_time": "2024-07-19T07:20:12.182Z"
   },
   {
    "duration": 8,
    "start_time": "2024-07-19T07:20:15.666Z"
   },
   {
    "duration": 6,
    "start_time": "2024-07-19T07:20:18.530Z"
   },
   {
    "duration": 9,
    "start_time": "2024-07-19T07:20:22.590Z"
   },
   {
    "duration": 4,
    "start_time": "2024-07-19T07:20:26.803Z"
   },
   {
    "duration": 39,
    "start_time": "2024-07-19T07:20:31.512Z"
   },
   {
    "duration": 19,
    "start_time": "2024-07-19T07:20:34.455Z"
   },
   {
    "duration": 4,
    "start_time": "2024-07-19T07:20:38.233Z"
   },
   {
    "duration": 12,
    "start_time": "2024-07-19T07:20:40.854Z"
   },
   {
    "duration": 21,
    "start_time": "2024-07-19T07:20:43.381Z"
   },
   {
    "duration": 22,
    "start_time": "2024-07-19T07:20:46.312Z"
   },
   {
    "duration": 3,
    "start_time": "2024-07-19T07:20:49.285Z"
   },
   {
    "duration": 16,
    "start_time": "2024-07-19T07:20:51.598Z"
   },
   {
    "duration": 7,
    "start_time": "2024-07-19T07:20:55.031Z"
   },
   {
    "duration": 4,
    "start_time": "2024-07-19T07:21:00.262Z"
   },
   {
    "duration": 9,
    "start_time": "2024-07-19T07:21:02.988Z"
   },
   {
    "duration": 129,
    "start_time": "2024-07-19T08:19:25.952Z"
   },
   {
    "duration": 4,
    "start_time": "2024-07-19T08:19:36.247Z"
   },
   {
    "duration": 5,
    "start_time": "2024-07-19T08:19:39.392Z"
   },
   {
    "duration": 11,
    "start_time": "2024-07-19T08:20:02.812Z"
   },
   {
    "duration": 6,
    "start_time": "2024-07-19T08:49:30.676Z"
   },
   {
    "duration": 5,
    "start_time": "2024-07-19T08:56:04.429Z"
   },
   {
    "duration": 6,
    "start_time": "2024-07-19T08:56:18.848Z"
   },
   {
    "duration": 5,
    "start_time": "2024-07-19T08:56:31.320Z"
   },
   {
    "duration": 6,
    "start_time": "2024-07-19T08:57:01.311Z"
   },
   {
    "duration": 8,
    "start_time": "2024-07-19T10:04:23.990Z"
   },
   {
    "duration": 2,
    "start_time": "2024-07-19T10:59:03.523Z"
   },
   {
    "duration": 4,
    "start_time": "2024-07-19T10:59:22.434Z"
   },
   {
    "duration": 12,
    "start_time": "2024-07-19T11:02:32.164Z"
   },
   {
    "duration": 846,
    "start_time": "2024-07-19T11:02:57.413Z"
   },
   {
    "duration": 3,
    "start_time": "2024-07-19T11:12:50.780Z"
   },
   {
    "duration": 371,
    "start_time": "2024-07-19T11:23:28.472Z"
   },
   {
    "duration": 396,
    "start_time": "2024-07-19T11:41:24.252Z"
   },
   {
    "duration": 452,
    "start_time": "2024-07-19T12:56:41.378Z"
   },
   {
    "duration": 391,
    "start_time": "2024-07-19T12:58:19.275Z"
   },
   {
    "duration": 458,
    "start_time": "2024-07-19T12:59:15.533Z"
   },
   {
    "duration": 362,
    "start_time": "2024-07-19T12:59:59.176Z"
   },
   {
    "duration": 387,
    "start_time": "2024-07-19T13:00:12.675Z"
   },
   {
    "duration": 463,
    "start_time": "2024-07-19T13:00:28.744Z"
   },
   {
    "duration": 27,
    "start_time": "2024-07-19T13:38:59.267Z"
   },
   {
    "duration": 5,
    "start_time": "2024-07-19T13:39:18.130Z"
   },
   {
    "duration": 11,
    "start_time": "2024-07-19T13:39:20.020Z"
   },
   {
    "duration": 15,
    "start_time": "2024-07-19T13:39:32.096Z"
   },
   {
    "duration": 322,
    "start_time": "2024-07-19T13:44:47.321Z"
   },
   {
    "duration": 279,
    "start_time": "2024-07-19T16:05:21.175Z"
   },
   {
    "duration": 9,
    "start_time": "2024-07-19T16:05:33.443Z"
   },
   {
    "duration": 534,
    "start_time": "2024-07-19T16:05:57.827Z"
   },
   {
    "duration": 33,
    "start_time": "2024-07-19T16:06:01.110Z"
   },
   {
    "duration": 16,
    "start_time": "2024-07-19T16:06:04.442Z"
   },
   {
    "duration": 18,
    "start_time": "2024-07-19T16:06:07.335Z"
   },
   {
    "duration": 37,
    "start_time": "2024-07-19T16:06:09.661Z"
   },
   {
    "duration": 4,
    "start_time": "2024-07-19T16:06:11.526Z"
   },
   {
    "duration": 8,
    "start_time": "2024-07-19T16:06:13.524Z"
   },
   {
    "duration": 5,
    "start_time": "2024-07-19T16:06:16.545Z"
   },
   {
    "duration": 8,
    "start_time": "2024-07-19T16:06:18.615Z"
   },
   {
    "duration": 5,
    "start_time": "2024-07-19T16:06:20.237Z"
   },
   {
    "duration": 48,
    "start_time": "2024-07-19T16:06:22.171Z"
   },
   {
    "duration": 11,
    "start_time": "2024-07-19T16:06:24.165Z"
   },
   {
    "duration": 4,
    "start_time": "2024-07-19T16:06:26.841Z"
   },
   {
    "duration": 14,
    "start_time": "2024-07-19T16:06:28.486Z"
   },
   {
    "duration": 22,
    "start_time": "2024-07-19T16:06:30.665Z"
   },
   {
    "duration": 24,
    "start_time": "2024-07-19T16:06:32.296Z"
   },
   {
    "duration": 4,
    "start_time": "2024-07-19T16:06:34.353Z"
   },
   {
    "duration": 11,
    "start_time": "2024-07-19T16:06:36.052Z"
   },
   {
    "duration": 8,
    "start_time": "2024-07-19T16:06:38.132Z"
   },
   {
    "duration": 3,
    "start_time": "2024-07-19T16:06:41.260Z"
   },
   {
    "duration": 9,
    "start_time": "2024-07-19T16:06:43.295Z"
   },
   {
    "duration": 9,
    "start_time": "2024-07-19T16:06:50.104Z"
   },
   {
    "duration": 7,
    "start_time": "2024-07-19T16:06:52.168Z"
   },
   {
    "duration": 924,
    "start_time": "2024-07-19T16:06:54.300Z"
   },
   {
    "duration": 437,
    "start_time": "2024-07-19T16:06:58.676Z"
   },
   {
    "duration": 409,
    "start_time": "2024-07-19T16:07:02.939Z"
   },
   {
    "duration": 406,
    "start_time": "2024-07-19T16:07:05.789Z"
   },
   {
    "duration": 46,
    "start_time": "2024-07-19T16:07:09.193Z"
   },
   {
    "duration": 14,
    "start_time": "2024-07-19T16:07:28.673Z"
   },
   {
    "duration": 191,
    "start_time": "2024-07-19T16:08:31.799Z"
   },
   {
    "duration": 143,
    "start_time": "2024-07-19T16:10:29.214Z"
   },
   {
    "duration": 854,
    "start_time": "2024-07-19T16:13:49.008Z"
   },
   {
    "duration": 14,
    "start_time": "2024-07-19T16:14:31.111Z"
   },
   {
    "duration": 17,
    "start_time": "2024-07-19T16:16:26.289Z"
   },
   {
    "duration": 17,
    "start_time": "2024-07-19T16:17:21.408Z"
   },
   {
    "duration": 18,
    "start_time": "2024-07-19T16:17:33.682Z"
   },
   {
    "duration": 17,
    "start_time": "2024-07-19T16:19:15.829Z"
   },
   {
    "duration": 150,
    "start_time": "2024-07-19T16:21:19.375Z"
   },
   {
    "duration": 164,
    "start_time": "2024-07-19T16:22:43.966Z"
   },
   {
    "duration": 489,
    "start_time": "2024-07-19T16:23:37.386Z"
   },
   {
    "duration": 131,
    "start_time": "2024-07-19T16:23:39.852Z"
   },
   {
    "duration": 403,
    "start_time": "2024-07-19T16:28:18.473Z"
   },
   {
    "duration": 141,
    "start_time": "2024-07-19T16:28:21.847Z"
   },
   {
    "duration": 523,
    "start_time": "2024-07-19T16:28:32.509Z"
   },
   {
    "duration": 164,
    "start_time": "2024-07-19T16:28:35.324Z"
   },
   {
    "duration": 411,
    "start_time": "2024-07-19T16:28:40.662Z"
   },
   {
    "duration": 168,
    "start_time": "2024-07-19T16:28:42.926Z"
   },
   {
    "duration": 347,
    "start_time": "2024-07-19T16:28:55.947Z"
   },
   {
    "duration": 217,
    "start_time": "2024-07-19T16:28:58.741Z"
   },
   {
    "duration": 7,
    "start_time": "2024-07-19T16:39:30.842Z"
   },
   {
    "duration": 24,
    "start_time": "2024-07-19T16:39:35.606Z"
   },
   {
    "duration": 84,
    "start_time": "2024-07-19T16:39:46.380Z"
   },
   {
    "duration": 564,
    "start_time": "2024-07-19T16:39:56.992Z"
   },
   {
    "duration": 24,
    "start_time": "2024-07-19T16:39:57.558Z"
   },
   {
    "duration": 29,
    "start_time": "2024-07-19T16:39:57.584Z"
   },
   {
    "duration": 14,
    "start_time": "2024-07-19T16:39:57.616Z"
   },
   {
    "duration": 47,
    "start_time": "2024-07-19T16:39:57.632Z"
   },
   {
    "duration": 4,
    "start_time": "2024-07-19T16:39:57.681Z"
   },
   {
    "duration": 30,
    "start_time": "2024-07-19T16:39:57.687Z"
   },
   {
    "duration": 8,
    "start_time": "2024-07-19T16:39:57.719Z"
   },
   {
    "duration": 36,
    "start_time": "2024-07-19T16:39:57.729Z"
   },
   {
    "duration": 18,
    "start_time": "2024-07-19T16:39:57.768Z"
   },
   {
    "duration": 70,
    "start_time": "2024-07-19T16:39:57.788Z"
   },
   {
    "duration": 13,
    "start_time": "2024-07-19T16:39:57.859Z"
   },
   {
    "duration": 12,
    "start_time": "2024-07-19T16:39:57.874Z"
   },
   {
    "duration": 33,
    "start_time": "2024-07-19T16:39:57.888Z"
   },
   {
    "duration": 35,
    "start_time": "2024-07-19T16:39:57.923Z"
   },
   {
    "duration": 21,
    "start_time": "2024-07-19T16:39:57.960Z"
   },
   {
    "duration": 11,
    "start_time": "2024-07-19T16:39:57.982Z"
   },
   {
    "duration": 34,
    "start_time": "2024-07-19T16:39:57.995Z"
   },
   {
    "duration": 15,
    "start_time": "2024-07-19T16:39:58.030Z"
   },
   {
    "duration": 16,
    "start_time": "2024-07-19T16:39:58.047Z"
   },
   {
    "duration": 30,
    "start_time": "2024-07-19T16:39:58.064Z"
   },
   {
    "duration": 15,
    "start_time": "2024-07-19T16:39:58.095Z"
   },
   {
    "duration": 22,
    "start_time": "2024-07-19T16:39:58.112Z"
   },
   {
    "duration": 644,
    "start_time": "2024-07-19T16:39:58.136Z"
   },
   {
    "duration": 216,
    "start_time": "2024-07-19T16:39:58.781Z"
   },
   {
    "duration": 435,
    "start_time": "2024-07-19T16:39:58.998Z"
   },
   {
    "duration": 174,
    "start_time": "2024-07-19T16:39:59.435Z"
   },
   {
    "duration": 484,
    "start_time": "2024-07-19T16:39:59.612Z"
   },
   {
    "duration": 164,
    "start_time": "2024-07-19T16:40:00.098Z"
   },
   {
    "duration": 367,
    "start_time": "2024-07-19T16:40:00.264Z"
   },
   {
    "duration": 158,
    "start_time": "2024-07-19T16:40:00.633Z"
   },
   {
    "duration": 581,
    "start_time": "2024-07-20T10:52:06.229Z"
   },
   {
    "duration": 23,
    "start_time": "2024-07-20T10:52:06.812Z"
   },
   {
    "duration": 30,
    "start_time": "2024-07-20T10:52:06.836Z"
   },
   {
    "duration": 22,
    "start_time": "2024-07-20T10:52:06.868Z"
   },
   {
    "duration": 39,
    "start_time": "2024-07-20T10:52:06.892Z"
   },
   {
    "duration": 3,
    "start_time": "2024-07-20T10:52:06.933Z"
   },
   {
    "duration": 27,
    "start_time": "2024-07-20T10:52:06.937Z"
   },
   {
    "duration": 5,
    "start_time": "2024-07-20T10:52:06.965Z"
   },
   {
    "duration": 23,
    "start_time": "2024-07-20T10:52:06.972Z"
   },
   {
    "duration": 18,
    "start_time": "2024-07-20T10:52:06.999Z"
   },
   {
    "duration": 56,
    "start_time": "2024-07-20T10:52:07.019Z"
   },
   {
    "duration": 11,
    "start_time": "2024-07-20T10:52:07.076Z"
   },
   {
    "duration": 29,
    "start_time": "2024-07-20T10:52:07.088Z"
   },
   {
    "duration": 42,
    "start_time": "2024-07-20T10:52:07.119Z"
   },
   {
    "duration": 41,
    "start_time": "2024-07-20T10:52:07.163Z"
   },
   {
    "duration": 34,
    "start_time": "2024-07-20T10:52:07.207Z"
   },
   {
    "duration": 28,
    "start_time": "2024-07-20T10:52:07.243Z"
   },
   {
    "duration": 63,
    "start_time": "2024-07-20T10:52:07.272Z"
   },
   {
    "duration": 39,
    "start_time": "2024-07-20T10:52:07.337Z"
   },
   {
    "duration": 69,
    "start_time": "2024-07-20T10:52:07.378Z"
   },
   {
    "duration": 103,
    "start_time": "2024-07-20T10:52:07.449Z"
   },
   {
    "duration": 15,
    "start_time": "2024-07-20T10:52:07.554Z"
   },
   {
    "duration": 84,
    "start_time": "2024-07-20T10:52:07.571Z"
   },
   {
    "duration": 888,
    "start_time": "2024-07-20T10:52:07.657Z"
   },
   {
    "duration": 154,
    "start_time": "2024-07-20T10:52:08.547Z"
   },
   {
    "duration": 420,
    "start_time": "2024-07-20T10:52:08.702Z"
   },
   {
    "duration": 171,
    "start_time": "2024-07-20T10:52:09.124Z"
   },
   {
    "duration": 480,
    "start_time": "2024-07-20T10:52:09.298Z"
   },
   {
    "duration": 139,
    "start_time": "2024-07-20T10:52:09.779Z"
   },
   {
    "duration": 327,
    "start_time": "2024-07-20T10:52:09.920Z"
   },
   {
    "duration": 154,
    "start_time": "2024-07-20T10:52:10.248Z"
   },
   {
    "duration": 80,
    "start_time": "2024-07-20T11:04:26.303Z"
   },
   {
    "duration": 58,
    "start_time": "2024-07-21T15:58:20.856Z"
   },
   {
    "duration": 592,
    "start_time": "2024-07-21T15:59:08.859Z"
   },
   {
    "duration": 22,
    "start_time": "2024-07-21T15:59:09.453Z"
   },
   {
    "duration": 17,
    "start_time": "2024-07-21T15:59:09.477Z"
   },
   {
    "duration": 11,
    "start_time": "2024-07-21T15:59:09.496Z"
   },
   {
    "duration": 57,
    "start_time": "2024-07-21T15:59:09.509Z"
   },
   {
    "duration": 3,
    "start_time": "2024-07-21T15:59:09.567Z"
   },
   {
    "duration": 9,
    "start_time": "2024-07-21T15:59:09.572Z"
   },
   {
    "duration": 4,
    "start_time": "2024-07-21T15:59:09.582Z"
   },
   {
    "duration": 9,
    "start_time": "2024-07-21T15:59:09.588Z"
   },
   {
    "duration": 6,
    "start_time": "2024-07-21T15:59:09.598Z"
   },
   {
    "duration": 70,
    "start_time": "2024-07-21T15:59:09.605Z"
   },
   {
    "duration": 11,
    "start_time": "2024-07-21T15:59:09.677Z"
   },
   {
    "duration": 9,
    "start_time": "2024-07-21T15:59:09.689Z"
   },
   {
    "duration": 13,
    "start_time": "2024-07-21T15:59:09.700Z"
   },
   {
    "duration": 23,
    "start_time": "2024-07-21T15:59:09.714Z"
   },
   {
    "duration": 30,
    "start_time": "2024-07-21T15:59:09.738Z"
   },
   {
    "duration": 3,
    "start_time": "2024-07-21T15:59:09.770Z"
   },
   {
    "duration": 71,
    "start_time": "2024-07-21T15:59:09.774Z"
   },
   {
    "duration": 6,
    "start_time": "2024-07-21T15:59:09.846Z"
   },
   {
    "duration": 4,
    "start_time": "2024-07-21T15:59:09.853Z"
   },
   {
    "duration": 10,
    "start_time": "2024-07-21T15:59:09.859Z"
   },
   {
    "duration": 11,
    "start_time": "2024-07-21T15:59:09.871Z"
   },
   {
    "duration": 14,
    "start_time": "2024-07-21T15:59:09.883Z"
   },
   {
    "duration": 518,
    "start_time": "2024-07-21T15:59:09.898Z"
   },
   {
    "duration": 460,
    "start_time": "2024-07-21T15:59:10.418Z"
   },
   {
    "duration": 154,
    "start_time": "2024-07-21T15:59:10.879Z"
   },
   {
    "duration": 460,
    "start_time": "2024-07-21T15:59:11.035Z"
   },
   {
    "duration": 181,
    "start_time": "2024-07-21T15:59:11.496Z"
   },
   {
    "duration": 459,
    "start_time": "2024-07-21T15:59:11.678Z"
   },
   {
    "duration": 146,
    "start_time": "2024-07-21T15:59:12.138Z"
   },
   {
    "duration": 38,
    "start_time": "2024-07-21T15:59:12.285Z"
   },
   {
    "duration": 330,
    "start_time": "2024-07-21T15:59:12.325Z"
   },
   {
    "duration": 177,
    "start_time": "2024-07-21T15:59:12.657Z"
   },
   {
    "duration": 432,
    "start_time": "2024-07-22T01:15:42.308Z"
   },
   {
    "duration": 22,
    "start_time": "2024-07-22T01:15:42.742Z"
   },
   {
    "duration": 38,
    "start_time": "2024-07-22T01:15:42.766Z"
   },
   {
    "duration": 12,
    "start_time": "2024-07-22T01:15:42.806Z"
   },
   {
    "duration": 36,
    "start_time": "2024-07-22T01:15:42.820Z"
   },
   {
    "duration": 3,
    "start_time": "2024-07-22T01:15:42.858Z"
   },
   {
    "duration": 12,
    "start_time": "2024-07-22T01:15:42.863Z"
   },
   {
    "duration": 5,
    "start_time": "2024-07-22T01:15:42.876Z"
   },
   {
    "duration": 10,
    "start_time": "2024-07-22T01:15:42.882Z"
   },
   {
    "duration": 4,
    "start_time": "2024-07-22T01:15:42.894Z"
   },
   {
    "duration": 32,
    "start_time": "2024-07-22T01:15:42.899Z"
   },
   {
    "duration": 34,
    "start_time": "2024-07-22T01:15:42.933Z"
   },
   {
    "duration": 6,
    "start_time": "2024-07-22T01:15:42.968Z"
   },
   {
    "duration": 19,
    "start_time": "2024-07-22T01:15:42.977Z"
   },
   {
    "duration": 20,
    "start_time": "2024-07-22T01:15:42.998Z"
   },
   {
    "duration": 16,
    "start_time": "2024-07-22T01:15:43.019Z"
   },
   {
    "duration": 4,
    "start_time": "2024-07-22T01:15:43.036Z"
   },
   {
    "duration": 24,
    "start_time": "2024-07-22T01:15:43.041Z"
   },
   {
    "duration": 7,
    "start_time": "2024-07-22T01:15:43.067Z"
   },
   {
    "duration": 4,
    "start_time": "2024-07-22T01:15:43.075Z"
   },
   {
    "duration": 11,
    "start_time": "2024-07-22T01:15:43.080Z"
   },
   {
    "duration": 4,
    "start_time": "2024-07-22T01:15:43.093Z"
   },
   {
    "duration": 6,
    "start_time": "2024-07-22T01:15:43.099Z"
   },
   {
    "duration": 338,
    "start_time": "2024-07-22T01:15:43.106Z"
   },
   {
    "duration": 424,
    "start_time": "2024-07-22T01:15:43.445Z"
   },
   {
    "duration": 142,
    "start_time": "2024-07-22T01:15:43.871Z"
   },
   {
    "duration": 376,
    "start_time": "2024-07-22T01:15:44.015Z"
   },
   {
    "duration": 145,
    "start_time": "2024-07-22T01:15:44.393Z"
   },
   {
    "duration": 434,
    "start_time": "2024-07-22T01:15:44.540Z"
   },
   {
    "duration": 133,
    "start_time": "2024-07-22T01:15:44.976Z"
   },
   {
    "duration": 34,
    "start_time": "2024-07-22T01:15:45.110Z"
   },
   {
    "duration": 322,
    "start_time": "2024-07-22T01:15:45.145Z"
   },
   {
    "duration": 146,
    "start_time": "2024-07-22T01:15:45.469Z"
   },
   {
    "duration": 222,
    "start_time": "2024-07-22T01:20:05.088Z"
   }
  ],
  "colab": {
   "provenance": []
  },
  "kernelspec": {
   "display_name": "Python 3 (ipykernel)",
   "language": "python",
   "name": "python3"
  },
  "language_info": {
   "codemirror_mode": {
    "name": "ipython",
    "version": 3
   },
   "file_extension": ".py",
   "mimetype": "text/x-python",
   "name": "python",
   "nbconvert_exporter": "python",
   "pygments_lexer": "ipython3",
   "version": "3.9.5"
  },
  "toc": {
   "base_numbering": 1,
   "nav_menu": {},
   "number_sections": true,
   "sideBar": true,
   "skip_h1_title": true,
   "title_cell": "Table of Contents",
   "title_sidebar": "Contents",
   "toc_cell": false,
   "toc_position": {},
   "toc_section_display": true,
   "toc_window_display": true
  }
 },
 "nbformat": 4,
 "nbformat_minor": 5
}

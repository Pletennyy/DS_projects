{
 "cells": [
  {
   "cell_type": "markdown",
   "metadata": {},
   "source": [
    "# Выбор локации для скважины"
   ]
  },
  {
   "cell_type": "markdown",
   "metadata": {},
   "source": [
    "Допустим, вы работаете в добывающей компании «ГлавРосГосНефть». Нужно решить, где бурить новую скважину.\n",
    "\n",
    "Вам предоставлены пробы нефти в трёх регионах: в каждом 10 000 месторождений, где измерили качество нефти и объём её запасов. Постройте модель машинного обучения, которая поможет определить регион, где добыча принесёт наибольшую прибыль. Проанализируйте возможную прибыль и риски техникой *Bootstrap.*\n",
    "\n",
    "Шаги для выбора локации:\n",
    "\n",
    "- В избранном регионе ищут месторождения, для каждого определяют значения признаков;\n",
    "- Строят модель и оценивают объём запасов;\n",
    "- Выбирают месторождения с самым высокими оценками значений. Количество месторождений зависит от бюджета компании и стоимости разработки одной скважины;\n",
    "- Прибыль равна суммарной прибыли отобранных месторождений."
   ]
  },
  {
   "cell_type": "markdown",
   "metadata": {},
   "source": [
    "## Загрузка и подготовка данных"
   ]
  },
  {
   "cell_type": "markdown",
   "metadata": {},
   "source": [
    "### Загрузка используемых в проекте библиотек"
   ]
  },
  {
   "cell_type": "code",
   "execution_count": 1,
   "metadata": {},
   "outputs": [
    {
     "data": {
      "text/html": [
       "<style>.container { width:90% !important; }</style>"
      ],
      "text/plain": [
       "<IPython.core.display.HTML object>"
      ]
     },
     "metadata": {},
     "output_type": "display_data"
    }
   ],
   "source": [
    "# Необходимый набор библиотек\n",
    "!pip install matplotlib==3.7.3 numpy==1.22 seaborn==0.11.1 -q\n",
    "!pip install --upgrade scikit-learn -q\n",
    "!pip install shap -q\n",
    "!pip install phik -q\n",
    "!pip install python-levenshtein -q\n",
    "\n",
    "# Работа с данными\n",
    "import pandas as pd\n",
    "import numpy as np\n",
    "\n",
    "# Визуализация, построение графиков\n",
    "from matplotlib import pyplot as plt\n",
    "import seaborn as sns\n",
    "\n",
    "# Применение регулярных выражений\n",
    "import re\n",
    "\n",
    "# Вывод корреляционной матрицы\n",
    "import phik\n",
    "\n",
    "# Тест Шапиро-Уилка\n",
    "from scipy.stats import shapiro\n",
    "\n",
    "# Разбиение данных на тренировочную выборку и тестовую\n",
    "from sklearn.model_selection import train_test_split\n",
    "\n",
    "# Создание pipeline\n",
    "from sklearn.pipeline import Pipeline\n",
    "\n",
    "# Классы для подготовки данных\n",
    "from sklearn.preprocessing import OneHotEncoder, OrdinalEncoder, StandardScaler, MinMaxScaler, RobustScaler\n",
    "from sklearn.compose import ColumnTransformer\n",
    "\n",
    "# Класс для работы с пропусками\n",
    "from sklearn.impute import SimpleImputer\n",
    "\n",
    "# Функция для работы с метриками\n",
    "from sklearn.metrics import roc_auc_score, make_scorer, root_mean_squared_error\n",
    "\n",
    "# RandomizedSearchCV - библиотека, которая используется для рандомизированного поиска гиперпараметров в машинном обучении\n",
    "# GridSearchCV - библиотека, которая помогает автоматизировать настройку гиперпараметров в машинном обучении\n",
    "from sklearn.model_selection import RandomizedSearchCV, GridSearchCV\n",
    "\n",
    "# Модели машинного обучения\n",
    "# Логистическая регрессия\n",
    "from sklearn.linear_model import LogisticRegression\n",
    "# Линейная регрессия\n",
    "from sklearn.linear_model import LinearRegression\n",
    "# k-ближайших соседей\n",
    "from sklearn.neighbors import KNeighborsClassifier, KNeighborsRegressor\n",
    "# Дерево решений\n",
    "from sklearn.tree import DecisionTreeRegressor, DecisionTreeClassifier\n",
    "# Метод опорных векторов\n",
    "from sklearn.svm import SVC, SVR\n",
    "\n",
    "# Кодировка целевого признака\n",
    "from sklearn.preprocessing import LabelEncoder\n",
    "import shap\n",
    "\n",
    "# Проверка уникальности значений в object\n",
    "from fuzzywuzzy import fuzz\n",
    "\n",
    "# Настройка вывода всех столбцов для метода display\n",
    "pd.set_option('display.max_columns', None)\n",
    "\n",
    "from IPython.core.display import display, HTML\n",
    "display(HTML(\"<style>.container { width:90% !important; }</style>\"))"
   ]
  },
  {
   "cell_type": "markdown",
   "metadata": {},
   "source": [
    "### Загрузка данных"
   ]
  },
  {
   "cell_type": "markdown",
   "metadata": {},
   "source": [
    "Загрузим данные предоставленные заказчиком и отобразим первичную информацию по каждому датасету"
   ]
  },
  {
   "cell_type": "code",
   "execution_count": 2,
   "metadata": {},
   "outputs": [],
   "source": [
    "# Тренировочная выборка\n",
    "geo_data_0 = pd.read_csv('https://code.s3.yandex.net/datasets/geo_data_0.csv')\n",
    "# Входные признаки тестовой выборки\n",
    "geo_data_1 = pd.read_csv('https://code.s3.yandex.net/datasets/geo_data_1.csv')\n",
    "# Целевой признак тестовой выборки\n",
    "geo_data_2 = pd.read_csv('https://code.s3.yandex.net/datasets/geo_data_2.csv')"
   ]
  },
  {
   "cell_type": "code",
   "execution_count": 3,
   "metadata": {},
   "outputs": [],
   "source": [
    "# Создадим функцию отоброжения первичной информации о датасете (выборке)\n",
    "def data_head_desc_info(data):\n",
    "    try:\n",
    "        # сразу преобразуем наименование столбцов в нижний регистр и стиль snake_case\n",
    "        data.columns = [re.sub(r'(?<!^)(?=[A-Z])', '_', i).replace(' ', '_').lower() for i in data.columns]\n",
    "        print('---------------------------------------------------------------------------------------------------------------')\n",
    "        print('Первые 3 строки:')\n",
    "        print('---------------------------------------------------------------------------------------------------------------')\n",
    "        display(data.head(3))\n",
    "        print('---------------------------------------------------------------------------------------------------------------')\n",
    "        print('Описание данных:')\n",
    "        print('---------------------------------------------------------------------------------------------------------------')\n",
    "        display(data.describe(include = \"all\"))\n",
    "        print('---------------------------------------------------------------------------------------------------------------')\n",
    "        print('Общая информация о датафрейме')\n",
    "        print('---------------------------------------------------------------------------------------------------------------')\n",
    "        display(data.info())\n",
    "        print('---------------------------------------------------------------------------------------------------------------')\n",
    "        print('Исследование пропусков')\n",
    "        print('---------------------------------------------------------------------------------------------------------------')\n",
    "        frame = {\n",
    "                'nan_кол-во': data.isna().sum().sort_values(ascending=False),\n",
    "                'nan_%': round((data.isna().mean() * 100), 1).sort_values(ascending=False),\n",
    "            }\n",
    "        nan_data = pd.DataFrame(frame)\n",
    "        nan_data = nan_data.style.format({'nan_%': '{:.1f}%'})\n",
    "        nan_data = nan_data.background_gradient(axis=0, cmap='YlOrRd')\n",
    "        display(nan_data)\n",
    "        print('---------------------------------------------------------------------------------------------------------------')\n",
    "        print('Доля явных дубликатов')\n",
    "        print('---------------------------------------------------------------------------------------------------------------')\n",
    "        print(f\"{data.duplicated().sum() / data.shape[0] * 100:.2f}%\")\n",
    "    except:\n",
    "        return 'Проверьте параметры'"
   ]
  },
  {
   "cell_type": "markdown",
   "metadata": {},
   "source": [
    "### Обзор данных"
   ]
  },
  {
   "cell_type": "markdown",
   "metadata": {},
   "source": [
    "#### geo_data_0"
   ]
  },
  {
   "cell_type": "code",
   "execution_count": 4,
   "metadata": {},
   "outputs": [
    {
     "name": "stdout",
     "output_type": "stream",
     "text": [
      "---------------------------------------------------------------------------------------------------------------\n",
      "Первые 3 строки:\n",
      "---------------------------------------------------------------------------------------------------------------\n"
     ]
    },
    {
     "data": {
      "text/html": [
       "<div>\n",
       "<style scoped>\n",
       "    .dataframe tbody tr th:only-of-type {\n",
       "        vertical-align: middle;\n",
       "    }\n",
       "\n",
       "    .dataframe tbody tr th {\n",
       "        vertical-align: top;\n",
       "    }\n",
       "\n",
       "    .dataframe thead th {\n",
       "        text-align: right;\n",
       "    }\n",
       "</style>\n",
       "<table border=\"1\" class=\"dataframe\">\n",
       "  <thead>\n",
       "    <tr style=\"text-align: right;\">\n",
       "      <th></th>\n",
       "      <th>id</th>\n",
       "      <th>f0</th>\n",
       "      <th>f1</th>\n",
       "      <th>f2</th>\n",
       "      <th>product</th>\n",
       "    </tr>\n",
       "  </thead>\n",
       "  <tbody>\n",
       "    <tr>\n",
       "      <th>0</th>\n",
       "      <td>txEyH</td>\n",
       "      <td>0.705745</td>\n",
       "      <td>-0.497823</td>\n",
       "      <td>1.221170</td>\n",
       "      <td>105.280062</td>\n",
       "    </tr>\n",
       "    <tr>\n",
       "      <th>1</th>\n",
       "      <td>2acmU</td>\n",
       "      <td>1.334711</td>\n",
       "      <td>-0.340164</td>\n",
       "      <td>4.365080</td>\n",
       "      <td>73.037750</td>\n",
       "    </tr>\n",
       "    <tr>\n",
       "      <th>2</th>\n",
       "      <td>409Wp</td>\n",
       "      <td>1.022732</td>\n",
       "      <td>0.151990</td>\n",
       "      <td>1.419926</td>\n",
       "      <td>85.265647</td>\n",
       "    </tr>\n",
       "  </tbody>\n",
       "</table>\n",
       "</div>"
      ],
      "text/plain": [
       "      id        f0        f1        f2     product\n",
       "0  txEyH  0.705745 -0.497823  1.221170  105.280062\n",
       "1  2acmU  1.334711 -0.340164  4.365080   73.037750\n",
       "2  409Wp  1.022732  0.151990  1.419926   85.265647"
      ]
     },
     "metadata": {},
     "output_type": "display_data"
    },
    {
     "name": "stdout",
     "output_type": "stream",
     "text": [
      "---------------------------------------------------------------------------------------------------------------\n",
      "Описание данных:\n",
      "---------------------------------------------------------------------------------------------------------------\n"
     ]
    },
    {
     "data": {
      "text/html": [
       "<div>\n",
       "<style scoped>\n",
       "    .dataframe tbody tr th:only-of-type {\n",
       "        vertical-align: middle;\n",
       "    }\n",
       "\n",
       "    .dataframe tbody tr th {\n",
       "        vertical-align: top;\n",
       "    }\n",
       "\n",
       "    .dataframe thead th {\n",
       "        text-align: right;\n",
       "    }\n",
       "</style>\n",
       "<table border=\"1\" class=\"dataframe\">\n",
       "  <thead>\n",
       "    <tr style=\"text-align: right;\">\n",
       "      <th></th>\n",
       "      <th>id</th>\n",
       "      <th>f0</th>\n",
       "      <th>f1</th>\n",
       "      <th>f2</th>\n",
       "      <th>product</th>\n",
       "    </tr>\n",
       "  </thead>\n",
       "  <tbody>\n",
       "    <tr>\n",
       "      <th>count</th>\n",
       "      <td>100000</td>\n",
       "      <td>100000.000000</td>\n",
       "      <td>100000.000000</td>\n",
       "      <td>100000.000000</td>\n",
       "      <td>100000.000000</td>\n",
       "    </tr>\n",
       "    <tr>\n",
       "      <th>unique</th>\n",
       "      <td>99990</td>\n",
       "      <td>NaN</td>\n",
       "      <td>NaN</td>\n",
       "      <td>NaN</td>\n",
       "      <td>NaN</td>\n",
       "    </tr>\n",
       "    <tr>\n",
       "      <th>top</th>\n",
       "      <td>TtcGQ</td>\n",
       "      <td>NaN</td>\n",
       "      <td>NaN</td>\n",
       "      <td>NaN</td>\n",
       "      <td>NaN</td>\n",
       "    </tr>\n",
       "    <tr>\n",
       "      <th>freq</th>\n",
       "      <td>2</td>\n",
       "      <td>NaN</td>\n",
       "      <td>NaN</td>\n",
       "      <td>NaN</td>\n",
       "      <td>NaN</td>\n",
       "    </tr>\n",
       "    <tr>\n",
       "      <th>mean</th>\n",
       "      <td>NaN</td>\n",
       "      <td>0.500419</td>\n",
       "      <td>0.250143</td>\n",
       "      <td>2.502647</td>\n",
       "      <td>92.500000</td>\n",
       "    </tr>\n",
       "    <tr>\n",
       "      <th>std</th>\n",
       "      <td>NaN</td>\n",
       "      <td>0.871832</td>\n",
       "      <td>0.504433</td>\n",
       "      <td>3.248248</td>\n",
       "      <td>44.288691</td>\n",
       "    </tr>\n",
       "    <tr>\n",
       "      <th>min</th>\n",
       "      <td>NaN</td>\n",
       "      <td>-1.408605</td>\n",
       "      <td>-0.848218</td>\n",
       "      <td>-12.088328</td>\n",
       "      <td>0.000000</td>\n",
       "    </tr>\n",
       "    <tr>\n",
       "      <th>25%</th>\n",
       "      <td>NaN</td>\n",
       "      <td>-0.072580</td>\n",
       "      <td>-0.200881</td>\n",
       "      <td>0.287748</td>\n",
       "      <td>56.497507</td>\n",
       "    </tr>\n",
       "    <tr>\n",
       "      <th>50%</th>\n",
       "      <td>NaN</td>\n",
       "      <td>0.502360</td>\n",
       "      <td>0.250252</td>\n",
       "      <td>2.515969</td>\n",
       "      <td>91.849972</td>\n",
       "    </tr>\n",
       "    <tr>\n",
       "      <th>75%</th>\n",
       "      <td>NaN</td>\n",
       "      <td>1.073581</td>\n",
       "      <td>0.700646</td>\n",
       "      <td>4.715088</td>\n",
       "      <td>128.564089</td>\n",
       "    </tr>\n",
       "    <tr>\n",
       "      <th>max</th>\n",
       "      <td>NaN</td>\n",
       "      <td>2.362331</td>\n",
       "      <td>1.343769</td>\n",
       "      <td>16.003790</td>\n",
       "      <td>185.364347</td>\n",
       "    </tr>\n",
       "  </tbody>\n",
       "</table>\n",
       "</div>"
      ],
      "text/plain": [
       "            id             f0             f1             f2        product\n",
       "count   100000  100000.000000  100000.000000  100000.000000  100000.000000\n",
       "unique   99990            NaN            NaN            NaN            NaN\n",
       "top      TtcGQ            NaN            NaN            NaN            NaN\n",
       "freq         2            NaN            NaN            NaN            NaN\n",
       "mean       NaN       0.500419       0.250143       2.502647      92.500000\n",
       "std        NaN       0.871832       0.504433       3.248248      44.288691\n",
       "min        NaN      -1.408605      -0.848218     -12.088328       0.000000\n",
       "25%        NaN      -0.072580      -0.200881       0.287748      56.497507\n",
       "50%        NaN       0.502360       0.250252       2.515969      91.849972\n",
       "75%        NaN       1.073581       0.700646       4.715088     128.564089\n",
       "max        NaN       2.362331       1.343769      16.003790     185.364347"
      ]
     },
     "metadata": {},
     "output_type": "display_data"
    },
    {
     "name": "stdout",
     "output_type": "stream",
     "text": [
      "---------------------------------------------------------------------------------------------------------------\n",
      "Общая информация о датафрейме\n",
      "---------------------------------------------------------------------------------------------------------------\n",
      "<class 'pandas.core.frame.DataFrame'>\n",
      "RangeIndex: 100000 entries, 0 to 99999\n",
      "Data columns (total 5 columns):\n",
      " #   Column   Non-Null Count   Dtype  \n",
      "---  ------   --------------   -----  \n",
      " 0   id       100000 non-null  object \n",
      " 1   f0       100000 non-null  float64\n",
      " 2   f1       100000 non-null  float64\n",
      " 3   f2       100000 non-null  float64\n",
      " 4   product  100000 non-null  float64\n",
      "dtypes: float64(4), object(1)\n",
      "memory usage: 3.8+ MB\n"
     ]
    },
    {
     "data": {
      "text/plain": [
       "None"
      ]
     },
     "metadata": {},
     "output_type": "display_data"
    },
    {
     "name": "stdout",
     "output_type": "stream",
     "text": [
      "---------------------------------------------------------------------------------------------------------------\n",
      "Исследование пропусков\n",
      "---------------------------------------------------------------------------------------------------------------\n"
     ]
    },
    {
     "data": {
      "text/html": [
       "<style  type=\"text/css\" >\n",
       "#T_eab38_row0_col0,#T_eab38_row0_col1,#T_eab38_row1_col0,#T_eab38_row1_col1,#T_eab38_row2_col0,#T_eab38_row2_col1,#T_eab38_row3_col0,#T_eab38_row3_col1,#T_eab38_row4_col0,#T_eab38_row4_col1{\n",
       "            background-color:  #ffffcc;\n",
       "            color:  #000000;\n",
       "        }</style><table id=\"T_eab38_\" ><thead>    <tr>        <th class=\"blank level0\" ></th>        <th class=\"col_heading level0 col0\" >nan_кол-во</th>        <th class=\"col_heading level0 col1\" >nan_%</th>    </tr></thead><tbody>\n",
       "                <tr>\n",
       "                        <th id=\"T_eab38_level0_row0\" class=\"row_heading level0 row0\" >id</th>\n",
       "                        <td id=\"T_eab38_row0_col0\" class=\"data row0 col0\" >0</td>\n",
       "                        <td id=\"T_eab38_row0_col1\" class=\"data row0 col1\" >0.0%</td>\n",
       "            </tr>\n",
       "            <tr>\n",
       "                        <th id=\"T_eab38_level0_row1\" class=\"row_heading level0 row1\" >f0</th>\n",
       "                        <td id=\"T_eab38_row1_col0\" class=\"data row1 col0\" >0</td>\n",
       "                        <td id=\"T_eab38_row1_col1\" class=\"data row1 col1\" >0.0%</td>\n",
       "            </tr>\n",
       "            <tr>\n",
       "                        <th id=\"T_eab38_level0_row2\" class=\"row_heading level0 row2\" >f1</th>\n",
       "                        <td id=\"T_eab38_row2_col0\" class=\"data row2 col0\" >0</td>\n",
       "                        <td id=\"T_eab38_row2_col1\" class=\"data row2 col1\" >0.0%</td>\n",
       "            </tr>\n",
       "            <tr>\n",
       "                        <th id=\"T_eab38_level0_row3\" class=\"row_heading level0 row3\" >f2</th>\n",
       "                        <td id=\"T_eab38_row3_col0\" class=\"data row3 col0\" >0</td>\n",
       "                        <td id=\"T_eab38_row3_col1\" class=\"data row3 col1\" >0.0%</td>\n",
       "            </tr>\n",
       "            <tr>\n",
       "                        <th id=\"T_eab38_level0_row4\" class=\"row_heading level0 row4\" >product</th>\n",
       "                        <td id=\"T_eab38_row4_col0\" class=\"data row4 col0\" >0</td>\n",
       "                        <td id=\"T_eab38_row4_col1\" class=\"data row4 col1\" >0.0%</td>\n",
       "            </tr>\n",
       "    </tbody></table>"
      ],
      "text/plain": [
       "<pandas.io.formats.style.Styler at 0x7fccd233b220>"
      ]
     },
     "metadata": {},
     "output_type": "display_data"
    },
    {
     "name": "stdout",
     "output_type": "stream",
     "text": [
      "---------------------------------------------------------------------------------------------------------------\n",
      "Доля явных дубликатов\n",
      "---------------------------------------------------------------------------------------------------------------\n",
      "0.00%\n"
     ]
    }
   ],
   "source": [
    "data_head_desc_info(geo_data_0)"
   ]
  },
  {
   "cell_type": "code",
   "execution_count": 5,
   "metadata": {},
   "outputs": [
    {
     "data": {
      "text/plain": [
       "10"
      ]
     },
     "execution_count": 5,
     "metadata": {},
     "output_type": "execute_result"
    }
   ],
   "source": [
    "geo_data_0['id'].duplicated().sum()"
   ]
  },
  {
   "cell_type": "code",
   "execution_count": 6,
   "metadata": {},
   "outputs": [
    {
     "name": "stdout",
     "output_type": "stream",
     "text": [
      "id: HZww2\n",
      "Оригинал/Дубликат:\n"
     ]
    },
    {
     "data": {
      "text/html": [
       "<div>\n",
       "<style scoped>\n",
       "    .dataframe tbody tr th:only-of-type {\n",
       "        vertical-align: middle;\n",
       "    }\n",
       "\n",
       "    .dataframe tbody tr th {\n",
       "        vertical-align: top;\n",
       "    }\n",
       "\n",
       "    .dataframe thead th {\n",
       "        text-align: right;\n",
       "    }\n",
       "</style>\n",
       "<table border=\"1\" class=\"dataframe\">\n",
       "  <thead>\n",
       "    <tr style=\"text-align: right;\">\n",
       "      <th></th>\n",
       "      <th>id</th>\n",
       "      <th>f0</th>\n",
       "      <th>f1</th>\n",
       "      <th>f2</th>\n",
       "      <th>product</th>\n",
       "    </tr>\n",
       "  </thead>\n",
       "  <tbody>\n",
       "    <tr>\n",
       "      <th>931</th>\n",
       "      <td>HZww2</td>\n",
       "      <td>0.755284</td>\n",
       "      <td>0.368511</td>\n",
       "      <td>1.863211</td>\n",
       "      <td>30.681774</td>\n",
       "    </tr>\n",
       "    <tr>\n",
       "      <th>7530</th>\n",
       "      <td>HZww2</td>\n",
       "      <td>1.061194</td>\n",
       "      <td>-0.373969</td>\n",
       "      <td>10.430210</td>\n",
       "      <td>158.828695</td>\n",
       "    </tr>\n",
       "  </tbody>\n",
       "</table>\n",
       "</div>"
      ],
      "text/plain": [
       "         id        f0        f1         f2     product\n",
       "931   HZww2  0.755284  0.368511   1.863211   30.681774\n",
       "7530  HZww2  1.061194 -0.373969  10.430210  158.828695"
      ]
     },
     "metadata": {},
     "output_type": "display_data"
    },
    {
     "name": "stdout",
     "output_type": "stream",
     "text": [
      "---------------------\n",
      "id: bxg6G\n",
      "Оригинал/Дубликат:\n"
     ]
    },
    {
     "data": {
      "text/html": [
       "<div>\n",
       "<style scoped>\n",
       "    .dataframe tbody tr th:only-of-type {\n",
       "        vertical-align: middle;\n",
       "    }\n",
       "\n",
       "    .dataframe tbody tr th {\n",
       "        vertical-align: top;\n",
       "    }\n",
       "\n",
       "    .dataframe thead th {\n",
       "        text-align: right;\n",
       "    }\n",
       "</style>\n",
       "<table border=\"1\" class=\"dataframe\">\n",
       "  <thead>\n",
       "    <tr style=\"text-align: right;\">\n",
       "      <th></th>\n",
       "      <th>id</th>\n",
       "      <th>f0</th>\n",
       "      <th>f1</th>\n",
       "      <th>f2</th>\n",
       "      <th>product</th>\n",
       "    </tr>\n",
       "  </thead>\n",
       "  <tbody>\n",
       "    <tr>\n",
       "      <th>1364</th>\n",
       "      <td>bxg6G</td>\n",
       "      <td>0.411645</td>\n",
       "      <td>0.856830</td>\n",
       "      <td>-3.653440</td>\n",
       "      <td>73.604260</td>\n",
       "    </tr>\n",
       "    <tr>\n",
       "      <th>41724</th>\n",
       "      <td>bxg6G</td>\n",
       "      <td>-0.823752</td>\n",
       "      <td>0.546319</td>\n",
       "      <td>3.630479</td>\n",
       "      <td>93.007798</td>\n",
       "    </tr>\n",
       "  </tbody>\n",
       "</table>\n",
       "</div>"
      ],
      "text/plain": [
       "          id        f0        f1        f2    product\n",
       "1364   bxg6G  0.411645  0.856830 -3.653440  73.604260\n",
       "41724  bxg6G -0.823752  0.546319  3.630479  93.007798"
      ]
     },
     "metadata": {},
     "output_type": "display_data"
    },
    {
     "name": "stdout",
     "output_type": "stream",
     "text": [
      "---------------------\n",
      "id: QcMuo\n",
      "Оригинал/Дубликат:\n"
     ]
    },
    {
     "data": {
      "text/html": [
       "<div>\n",
       "<style scoped>\n",
       "    .dataframe tbody tr th:only-of-type {\n",
       "        vertical-align: middle;\n",
       "    }\n",
       "\n",
       "    .dataframe tbody tr th {\n",
       "        vertical-align: top;\n",
       "    }\n",
       "\n",
       "    .dataframe thead th {\n",
       "        text-align: right;\n",
       "    }\n",
       "</style>\n",
       "<table border=\"1\" class=\"dataframe\">\n",
       "  <thead>\n",
       "    <tr style=\"text-align: right;\">\n",
       "      <th></th>\n",
       "      <th>id</th>\n",
       "      <th>f0</th>\n",
       "      <th>f1</th>\n",
       "      <th>f2</th>\n",
       "      <th>product</th>\n",
       "    </tr>\n",
       "  </thead>\n",
       "  <tbody>\n",
       "    <tr>\n",
       "      <th>1949</th>\n",
       "      <td>QcMuo</td>\n",
       "      <td>0.506563</td>\n",
       "      <td>-0.323775</td>\n",
       "      <td>-2.215583</td>\n",
       "      <td>75.496502</td>\n",
       "    </tr>\n",
       "    <tr>\n",
       "      <th>63593</th>\n",
       "      <td>QcMuo</td>\n",
       "      <td>0.635635</td>\n",
       "      <td>-0.473422</td>\n",
       "      <td>0.862670</td>\n",
       "      <td>64.578675</td>\n",
       "    </tr>\n",
       "  </tbody>\n",
       "</table>\n",
       "</div>"
      ],
      "text/plain": [
       "          id        f0        f1        f2    product\n",
       "1949   QcMuo  0.506563 -0.323775 -2.215583  75.496502\n",
       "63593  QcMuo  0.635635 -0.473422  0.862670  64.578675"
      ]
     },
     "metadata": {},
     "output_type": "display_data"
    },
    {
     "name": "stdout",
     "output_type": "stream",
     "text": [
      "---------------------\n",
      "id: A5aEY\n",
      "Оригинал/Дубликат:\n"
     ]
    },
    {
     "data": {
      "text/html": [
       "<div>\n",
       "<style scoped>\n",
       "    .dataframe tbody tr th:only-of-type {\n",
       "        vertical-align: middle;\n",
       "    }\n",
       "\n",
       "    .dataframe tbody tr th {\n",
       "        vertical-align: top;\n",
       "    }\n",
       "\n",
       "    .dataframe thead th {\n",
       "        text-align: right;\n",
       "    }\n",
       "</style>\n",
       "<table border=\"1\" class=\"dataframe\">\n",
       "  <thead>\n",
       "    <tr style=\"text-align: right;\">\n",
       "      <th></th>\n",
       "      <th>id</th>\n",
       "      <th>f0</th>\n",
       "      <th>f1</th>\n",
       "      <th>f2</th>\n",
       "      <th>product</th>\n",
       "    </tr>\n",
       "  </thead>\n",
       "  <tbody>\n",
       "    <tr>\n",
       "      <th>3389</th>\n",
       "      <td>A5aEY</td>\n",
       "      <td>-0.039949</td>\n",
       "      <td>0.156872</td>\n",
       "      <td>0.209861</td>\n",
       "      <td>89.249364</td>\n",
       "    </tr>\n",
       "    <tr>\n",
       "      <th>51970</th>\n",
       "      <td>A5aEY</td>\n",
       "      <td>-0.180335</td>\n",
       "      <td>0.935548</td>\n",
       "      <td>-2.094773</td>\n",
       "      <td>33.020205</td>\n",
       "    </tr>\n",
       "  </tbody>\n",
       "</table>\n",
       "</div>"
      ],
      "text/plain": [
       "          id        f0        f1        f2    product\n",
       "3389   A5aEY -0.039949  0.156872  0.209861  89.249364\n",
       "51970  A5aEY -0.180335  0.935548 -2.094773  33.020205"
      ]
     },
     "metadata": {},
     "output_type": "display_data"
    },
    {
     "name": "stdout",
     "output_type": "stream",
     "text": [
      "---------------------\n",
      "id: fiKDv\n",
      "Оригинал/Дубликат:\n"
     ]
    },
    {
     "data": {
      "text/html": [
       "<div>\n",
       "<style scoped>\n",
       "    .dataframe tbody tr th:only-of-type {\n",
       "        vertical-align: middle;\n",
       "    }\n",
       "\n",
       "    .dataframe tbody tr th {\n",
       "        vertical-align: top;\n",
       "    }\n",
       "\n",
       "    .dataframe thead th {\n",
       "        text-align: right;\n",
       "    }\n",
       "</style>\n",
       "<table border=\"1\" class=\"dataframe\">\n",
       "  <thead>\n",
       "    <tr style=\"text-align: right;\">\n",
       "      <th></th>\n",
       "      <th>id</th>\n",
       "      <th>f0</th>\n",
       "      <th>f1</th>\n",
       "      <th>f2</th>\n",
       "      <th>product</th>\n",
       "    </tr>\n",
       "  </thead>\n",
       "  <tbody>\n",
       "    <tr>\n",
       "      <th>16633</th>\n",
       "      <td>fiKDv</td>\n",
       "      <td>0.157341</td>\n",
       "      <td>1.028359</td>\n",
       "      <td>5.585586</td>\n",
       "      <td>95.817889</td>\n",
       "    </tr>\n",
       "    <tr>\n",
       "      <th>90815</th>\n",
       "      <td>fiKDv</td>\n",
       "      <td>0.049883</td>\n",
       "      <td>0.841313</td>\n",
       "      <td>6.394613</td>\n",
       "      <td>137.346586</td>\n",
       "    </tr>\n",
       "  </tbody>\n",
       "</table>\n",
       "</div>"
      ],
      "text/plain": [
       "          id        f0        f1        f2     product\n",
       "16633  fiKDv  0.157341  1.028359  5.585586   95.817889\n",
       "90815  fiKDv  0.049883  0.841313  6.394613  137.346586"
      ]
     },
     "metadata": {},
     "output_type": "display_data"
    },
    {
     "name": "stdout",
     "output_type": "stream",
     "text": [
      "---------------------\n",
      "id: Tdehs\n",
      "Оригинал/Дубликат:\n"
     ]
    },
    {
     "data": {
      "text/html": [
       "<div>\n",
       "<style scoped>\n",
       "    .dataframe tbody tr th:only-of-type {\n",
       "        vertical-align: middle;\n",
       "    }\n",
       "\n",
       "    .dataframe tbody tr th {\n",
       "        vertical-align: top;\n",
       "    }\n",
       "\n",
       "    .dataframe thead th {\n",
       "        text-align: right;\n",
       "    }\n",
       "</style>\n",
       "<table border=\"1\" class=\"dataframe\">\n",
       "  <thead>\n",
       "    <tr style=\"text-align: right;\">\n",
       "      <th></th>\n",
       "      <th>id</th>\n",
       "      <th>f0</th>\n",
       "      <th>f1</th>\n",
       "      <th>f2</th>\n",
       "      <th>product</th>\n",
       "    </tr>\n",
       "  </thead>\n",
       "  <tbody>\n",
       "    <tr>\n",
       "      <th>21426</th>\n",
       "      <td>Tdehs</td>\n",
       "      <td>0.829407</td>\n",
       "      <td>0.298807</td>\n",
       "      <td>-0.049563</td>\n",
       "      <td>96.035308</td>\n",
       "    </tr>\n",
       "    <tr>\n",
       "      <th>75715</th>\n",
       "      <td>Tdehs</td>\n",
       "      <td>0.112079</td>\n",
       "      <td>0.430296</td>\n",
       "      <td>3.218993</td>\n",
       "      <td>60.964018</td>\n",
       "    </tr>\n",
       "  </tbody>\n",
       "</table>\n",
       "</div>"
      ],
      "text/plain": [
       "          id        f0        f1        f2    product\n",
       "21426  Tdehs  0.829407  0.298807 -0.049563  96.035308\n",
       "75715  Tdehs  0.112079  0.430296  3.218993  60.964018"
      ]
     },
     "metadata": {},
     "output_type": "display_data"
    },
    {
     "name": "stdout",
     "output_type": "stream",
     "text": [
      "---------------------\n",
      "id: AGS9W\n",
      "Оригинал/Дубликат:\n"
     ]
    },
    {
     "data": {
      "text/html": [
       "<div>\n",
       "<style scoped>\n",
       "    .dataframe tbody tr th:only-of-type {\n",
       "        vertical-align: middle;\n",
       "    }\n",
       "\n",
       "    .dataframe tbody tr th {\n",
       "        vertical-align: top;\n",
       "    }\n",
       "\n",
       "    .dataframe thead th {\n",
       "        text-align: right;\n",
       "    }\n",
       "</style>\n",
       "<table border=\"1\" class=\"dataframe\">\n",
       "  <thead>\n",
       "    <tr style=\"text-align: right;\">\n",
       "      <th></th>\n",
       "      <th>id</th>\n",
       "      <th>f0</th>\n",
       "      <th>f1</th>\n",
       "      <th>f2</th>\n",
       "      <th>product</th>\n",
       "    </tr>\n",
       "  </thead>\n",
       "  <tbody>\n",
       "    <tr>\n",
       "      <th>42529</th>\n",
       "      <td>AGS9W</td>\n",
       "      <td>1.454747</td>\n",
       "      <td>-0.479651</td>\n",
       "      <td>0.683380</td>\n",
       "      <td>126.370504</td>\n",
       "    </tr>\n",
       "    <tr>\n",
       "      <th>69163</th>\n",
       "      <td>AGS9W</td>\n",
       "      <td>-0.933795</td>\n",
       "      <td>0.116194</td>\n",
       "      <td>-3.655896</td>\n",
       "      <td>19.230453</td>\n",
       "    </tr>\n",
       "  </tbody>\n",
       "</table>\n",
       "</div>"
      ],
      "text/plain": [
       "          id        f0        f1        f2     product\n",
       "42529  AGS9W  1.454747 -0.479651  0.683380  126.370504\n",
       "69163  AGS9W -0.933795  0.116194 -3.655896   19.230453"
      ]
     },
     "metadata": {},
     "output_type": "display_data"
    },
    {
     "name": "stdout",
     "output_type": "stream",
     "text": [
      "---------------------\n",
      "id: TtcGQ\n",
      "Оригинал/Дубликат:\n"
     ]
    },
    {
     "data": {
      "text/html": [
       "<div>\n",
       "<style scoped>\n",
       "    .dataframe tbody tr th:only-of-type {\n",
       "        vertical-align: middle;\n",
       "    }\n",
       "\n",
       "    .dataframe tbody tr th {\n",
       "        vertical-align: top;\n",
       "    }\n",
       "\n",
       "    .dataframe thead th {\n",
       "        text-align: right;\n",
       "    }\n",
       "</style>\n",
       "<table border=\"1\" class=\"dataframe\">\n",
       "  <thead>\n",
       "    <tr style=\"text-align: right;\">\n",
       "      <th></th>\n",
       "      <th>id</th>\n",
       "      <th>f0</th>\n",
       "      <th>f1</th>\n",
       "      <th>f2</th>\n",
       "      <th>product</th>\n",
       "    </tr>\n",
       "  </thead>\n",
       "  <tbody>\n",
       "    <tr>\n",
       "      <th>60140</th>\n",
       "      <td>TtcGQ</td>\n",
       "      <td>0.569276</td>\n",
       "      <td>-0.104876</td>\n",
       "      <td>6.440215</td>\n",
       "      <td>85.350186</td>\n",
       "    </tr>\n",
       "    <tr>\n",
       "      <th>92341</th>\n",
       "      <td>TtcGQ</td>\n",
       "      <td>0.110711</td>\n",
       "      <td>1.022689</td>\n",
       "      <td>0.911381</td>\n",
       "      <td>101.318008</td>\n",
       "    </tr>\n",
       "  </tbody>\n",
       "</table>\n",
       "</div>"
      ],
      "text/plain": [
       "          id        f0        f1        f2     product\n",
       "60140  TtcGQ  0.569276 -0.104876  6.440215   85.350186\n",
       "92341  TtcGQ  0.110711  1.022689  0.911381  101.318008"
      ]
     },
     "metadata": {},
     "output_type": "display_data"
    },
    {
     "name": "stdout",
     "output_type": "stream",
     "text": [
      "---------------------\n",
      "id: 74z30\n",
      "Оригинал/Дубликат:\n"
     ]
    },
    {
     "data": {
      "text/html": [
       "<div>\n",
       "<style scoped>\n",
       "    .dataframe tbody tr th:only-of-type {\n",
       "        vertical-align: middle;\n",
       "    }\n",
       "\n",
       "    .dataframe tbody tr th {\n",
       "        vertical-align: top;\n",
       "    }\n",
       "\n",
       "    .dataframe thead th {\n",
       "        text-align: right;\n",
       "    }\n",
       "</style>\n",
       "<table border=\"1\" class=\"dataframe\">\n",
       "  <thead>\n",
       "    <tr style=\"text-align: right;\">\n",
       "      <th></th>\n",
       "      <th>id</th>\n",
       "      <th>f0</th>\n",
       "      <th>f1</th>\n",
       "      <th>f2</th>\n",
       "      <th>product</th>\n",
       "    </tr>\n",
       "  </thead>\n",
       "  <tbody>\n",
       "    <tr>\n",
       "      <th>64022</th>\n",
       "      <td>74z30</td>\n",
       "      <td>0.741456</td>\n",
       "      <td>0.459229</td>\n",
       "      <td>5.153109</td>\n",
       "      <td>140.771492</td>\n",
       "    </tr>\n",
       "    <tr>\n",
       "      <th>66136</th>\n",
       "      <td>74z30</td>\n",
       "      <td>1.084962</td>\n",
       "      <td>-0.312358</td>\n",
       "      <td>6.990771</td>\n",
       "      <td>127.643327</td>\n",
       "    </tr>\n",
       "  </tbody>\n",
       "</table>\n",
       "</div>"
      ],
      "text/plain": [
       "          id        f0        f1        f2     product\n",
       "64022  74z30  0.741456  0.459229  5.153109  140.771492\n",
       "66136  74z30  1.084962 -0.312358  6.990771  127.643327"
      ]
     },
     "metadata": {},
     "output_type": "display_data"
    },
    {
     "name": "stdout",
     "output_type": "stream",
     "text": [
      "---------------------\n",
      "id: bsk9y\n",
      "Оригинал/Дубликат:\n"
     ]
    },
    {
     "data": {
      "text/html": [
       "<div>\n",
       "<style scoped>\n",
       "    .dataframe tbody tr th:only-of-type {\n",
       "        vertical-align: middle;\n",
       "    }\n",
       "\n",
       "    .dataframe tbody tr th {\n",
       "        vertical-align: top;\n",
       "    }\n",
       "\n",
       "    .dataframe thead th {\n",
       "        text-align: right;\n",
       "    }\n",
       "</style>\n",
       "<table border=\"1\" class=\"dataframe\">\n",
       "  <thead>\n",
       "    <tr style=\"text-align: right;\">\n",
       "      <th></th>\n",
       "      <th>id</th>\n",
       "      <th>f0</th>\n",
       "      <th>f1</th>\n",
       "      <th>f2</th>\n",
       "      <th>product</th>\n",
       "    </tr>\n",
       "  </thead>\n",
       "  <tbody>\n",
       "    <tr>\n",
       "      <th>89582</th>\n",
       "      <td>bsk9y</td>\n",
       "      <td>0.398908</td>\n",
       "      <td>-0.400253</td>\n",
       "      <td>10.122376</td>\n",
       "      <td>163.433078</td>\n",
       "    </tr>\n",
       "    <tr>\n",
       "      <th>97785</th>\n",
       "      <td>bsk9y</td>\n",
       "      <td>0.378429</td>\n",
       "      <td>0.005837</td>\n",
       "      <td>0.160827</td>\n",
       "      <td>160.637302</td>\n",
       "    </tr>\n",
       "  </tbody>\n",
       "</table>\n",
       "</div>"
      ],
      "text/plain": [
       "          id        f0        f1         f2     product\n",
       "89582  bsk9y  0.398908 -0.400253  10.122376  163.433078\n",
       "97785  bsk9y  0.378429  0.005837   0.160827  160.637302"
      ]
     },
     "metadata": {},
     "output_type": "display_data"
    },
    {
     "name": "stdout",
     "output_type": "stream",
     "text": [
      "---------------------\n"
     ]
    }
   ],
   "source": [
    "duplicates = geo_data_0[geo_data_0['id'].duplicated(keep=False)]\n",
    "\n",
    "for id in duplicates['id'].unique():\n",
    "    print(f\"id: {id}\")\n",
    "    print(\"Оригинал/Дубликат:\")\n",
    "    display(duplicates[duplicates['id'] == id])\n",
    "    print(\"---------------------\")"
   ]
  },
  {
   "cell_type": "code",
   "execution_count": 7,
   "metadata": {},
   "outputs": [
    {
     "name": "stdout",
     "output_type": "stream",
     "text": [
      "<class 'pandas.core.frame.DataFrame'>\n",
      "Int64Index: 99990 entries, 8826 to 57263\n",
      "Data columns (total 5 columns):\n",
      " #   Column   Non-Null Count  Dtype  \n",
      "---  ------   --------------  -----  \n",
      " 0   id       99990 non-null  object \n",
      " 1   f0       99990 non-null  float64\n",
      " 2   f1       99990 non-null  float64\n",
      " 3   f2       99990 non-null  float64\n",
      " 4   product  99990 non-null  float64\n",
      "dtypes: float64(4), object(1)\n",
      "memory usage: 4.6+ MB\n"
     ]
    }
   ],
   "source": [
    "geo_data_0 = geo_data_0.sort_values(by='product', ascending = False)\n",
    "geo_data_0 = geo_data_0.drop_duplicates(subset='id', keep='last')\n",
    "geo_data_0.info()"
   ]
  },
  {
   "cell_type": "code",
   "execution_count": 8,
   "metadata": {},
   "outputs": [
    {
     "data": {
      "text/html": [
       "<div>\n",
       "<style scoped>\n",
       "    .dataframe tbody tr th:only-of-type {\n",
       "        vertical-align: middle;\n",
       "    }\n",
       "\n",
       "    .dataframe tbody tr th {\n",
       "        vertical-align: top;\n",
       "    }\n",
       "\n",
       "    .dataframe thead th {\n",
       "        text-align: right;\n",
       "    }\n",
       "</style>\n",
       "<table border=\"1\" class=\"dataframe\">\n",
       "  <thead>\n",
       "    <tr style=\"text-align: right;\">\n",
       "      <th></th>\n",
       "      <th>id</th>\n",
       "      <th>f0</th>\n",
       "      <th>f1</th>\n",
       "      <th>f2</th>\n",
       "      <th>product</th>\n",
       "    </tr>\n",
       "  </thead>\n",
       "  <tbody>\n",
       "    <tr>\n",
       "      <th>931</th>\n",
       "      <td>HZww2</td>\n",
       "      <td>0.755284</td>\n",
       "      <td>0.368511</td>\n",
       "      <td>1.863211</td>\n",
       "      <td>30.681774</td>\n",
       "    </tr>\n",
       "  </tbody>\n",
       "</table>\n",
       "</div>"
      ],
      "text/plain": [
       "        id        f0        f1        f2    product\n",
       "931  HZww2  0.755284  0.368511  1.863211  30.681774"
      ]
     },
     "metadata": {},
     "output_type": "display_data"
    }
   ],
   "source": [
    "# Проверка правильно ли удалили дубликаты, значение product должно быть 30.68\n",
    "display(geo_data_0[geo_data_0['id'] == 'HZww2'])"
   ]
  },
  {
   "cell_type": "markdown",
   "metadata": {},
   "source": [
    "#### geo_data_1"
   ]
  },
  {
   "cell_type": "code",
   "execution_count": 9,
   "metadata": {},
   "outputs": [
    {
     "name": "stdout",
     "output_type": "stream",
     "text": [
      "---------------------------------------------------------------------------------------------------------------\n",
      "Первые 3 строки:\n",
      "---------------------------------------------------------------------------------------------------------------\n"
     ]
    },
    {
     "data": {
      "text/html": [
       "<div>\n",
       "<style scoped>\n",
       "    .dataframe tbody tr th:only-of-type {\n",
       "        vertical-align: middle;\n",
       "    }\n",
       "\n",
       "    .dataframe tbody tr th {\n",
       "        vertical-align: top;\n",
       "    }\n",
       "\n",
       "    .dataframe thead th {\n",
       "        text-align: right;\n",
       "    }\n",
       "</style>\n",
       "<table border=\"1\" class=\"dataframe\">\n",
       "  <thead>\n",
       "    <tr style=\"text-align: right;\">\n",
       "      <th></th>\n",
       "      <th>id</th>\n",
       "      <th>f0</th>\n",
       "      <th>f1</th>\n",
       "      <th>f2</th>\n",
       "      <th>product</th>\n",
       "    </tr>\n",
       "  </thead>\n",
       "  <tbody>\n",
       "    <tr>\n",
       "      <th>0</th>\n",
       "      <td>kBEdx</td>\n",
       "      <td>-15.001348</td>\n",
       "      <td>-8.276000</td>\n",
       "      <td>-0.005876</td>\n",
       "      <td>3.179103</td>\n",
       "    </tr>\n",
       "    <tr>\n",
       "      <th>1</th>\n",
       "      <td>62mP7</td>\n",
       "      <td>14.272088</td>\n",
       "      <td>-3.475083</td>\n",
       "      <td>0.999183</td>\n",
       "      <td>26.953261</td>\n",
       "    </tr>\n",
       "    <tr>\n",
       "      <th>2</th>\n",
       "      <td>vyE1P</td>\n",
       "      <td>6.263187</td>\n",
       "      <td>-5.948386</td>\n",
       "      <td>5.001160</td>\n",
       "      <td>134.766305</td>\n",
       "    </tr>\n",
       "  </tbody>\n",
       "</table>\n",
       "</div>"
      ],
      "text/plain": [
       "      id         f0        f1        f2     product\n",
       "0  kBEdx -15.001348 -8.276000 -0.005876    3.179103\n",
       "1  62mP7  14.272088 -3.475083  0.999183   26.953261\n",
       "2  vyE1P   6.263187 -5.948386  5.001160  134.766305"
      ]
     },
     "metadata": {},
     "output_type": "display_data"
    },
    {
     "name": "stdout",
     "output_type": "stream",
     "text": [
      "---------------------------------------------------------------------------------------------------------------\n",
      "Описание данных:\n",
      "---------------------------------------------------------------------------------------------------------------\n"
     ]
    },
    {
     "data": {
      "text/html": [
       "<div>\n",
       "<style scoped>\n",
       "    .dataframe tbody tr th:only-of-type {\n",
       "        vertical-align: middle;\n",
       "    }\n",
       "\n",
       "    .dataframe tbody tr th {\n",
       "        vertical-align: top;\n",
       "    }\n",
       "\n",
       "    .dataframe thead th {\n",
       "        text-align: right;\n",
       "    }\n",
       "</style>\n",
       "<table border=\"1\" class=\"dataframe\">\n",
       "  <thead>\n",
       "    <tr style=\"text-align: right;\">\n",
       "      <th></th>\n",
       "      <th>id</th>\n",
       "      <th>f0</th>\n",
       "      <th>f1</th>\n",
       "      <th>f2</th>\n",
       "      <th>product</th>\n",
       "    </tr>\n",
       "  </thead>\n",
       "  <tbody>\n",
       "    <tr>\n",
       "      <th>count</th>\n",
       "      <td>100000</td>\n",
       "      <td>100000.000000</td>\n",
       "      <td>100000.000000</td>\n",
       "      <td>100000.000000</td>\n",
       "      <td>100000.000000</td>\n",
       "    </tr>\n",
       "    <tr>\n",
       "      <th>unique</th>\n",
       "      <td>99996</td>\n",
       "      <td>NaN</td>\n",
       "      <td>NaN</td>\n",
       "      <td>NaN</td>\n",
       "      <td>NaN</td>\n",
       "    </tr>\n",
       "    <tr>\n",
       "      <th>top</th>\n",
       "      <td>5ltQ6</td>\n",
       "      <td>NaN</td>\n",
       "      <td>NaN</td>\n",
       "      <td>NaN</td>\n",
       "      <td>NaN</td>\n",
       "    </tr>\n",
       "    <tr>\n",
       "      <th>freq</th>\n",
       "      <td>2</td>\n",
       "      <td>NaN</td>\n",
       "      <td>NaN</td>\n",
       "      <td>NaN</td>\n",
       "      <td>NaN</td>\n",
       "    </tr>\n",
       "    <tr>\n",
       "      <th>mean</th>\n",
       "      <td>NaN</td>\n",
       "      <td>1.141296</td>\n",
       "      <td>-4.796579</td>\n",
       "      <td>2.494541</td>\n",
       "      <td>68.825000</td>\n",
       "    </tr>\n",
       "    <tr>\n",
       "      <th>std</th>\n",
       "      <td>NaN</td>\n",
       "      <td>8.965932</td>\n",
       "      <td>5.119872</td>\n",
       "      <td>1.703572</td>\n",
       "      <td>45.944423</td>\n",
       "    </tr>\n",
       "    <tr>\n",
       "      <th>min</th>\n",
       "      <td>NaN</td>\n",
       "      <td>-31.609576</td>\n",
       "      <td>-26.358598</td>\n",
       "      <td>-0.018144</td>\n",
       "      <td>0.000000</td>\n",
       "    </tr>\n",
       "    <tr>\n",
       "      <th>25%</th>\n",
       "      <td>NaN</td>\n",
       "      <td>-6.298551</td>\n",
       "      <td>-8.267985</td>\n",
       "      <td>1.000021</td>\n",
       "      <td>26.953261</td>\n",
       "    </tr>\n",
       "    <tr>\n",
       "      <th>50%</th>\n",
       "      <td>NaN</td>\n",
       "      <td>1.153055</td>\n",
       "      <td>-4.813172</td>\n",
       "      <td>2.011479</td>\n",
       "      <td>57.085625</td>\n",
       "    </tr>\n",
       "    <tr>\n",
       "      <th>75%</th>\n",
       "      <td>NaN</td>\n",
       "      <td>8.621015</td>\n",
       "      <td>-1.332816</td>\n",
       "      <td>3.999904</td>\n",
       "      <td>107.813044</td>\n",
       "    </tr>\n",
       "    <tr>\n",
       "      <th>max</th>\n",
       "      <td>NaN</td>\n",
       "      <td>29.421755</td>\n",
       "      <td>18.734063</td>\n",
       "      <td>5.019721</td>\n",
       "      <td>137.945408</td>\n",
       "    </tr>\n",
       "  </tbody>\n",
       "</table>\n",
       "</div>"
      ],
      "text/plain": [
       "            id             f0             f1             f2        product\n",
       "count   100000  100000.000000  100000.000000  100000.000000  100000.000000\n",
       "unique   99996            NaN            NaN            NaN            NaN\n",
       "top      5ltQ6            NaN            NaN            NaN            NaN\n",
       "freq         2            NaN            NaN            NaN            NaN\n",
       "mean       NaN       1.141296      -4.796579       2.494541      68.825000\n",
       "std        NaN       8.965932       5.119872       1.703572      45.944423\n",
       "min        NaN     -31.609576     -26.358598      -0.018144       0.000000\n",
       "25%        NaN      -6.298551      -8.267985       1.000021      26.953261\n",
       "50%        NaN       1.153055      -4.813172       2.011479      57.085625\n",
       "75%        NaN       8.621015      -1.332816       3.999904     107.813044\n",
       "max        NaN      29.421755      18.734063       5.019721     137.945408"
      ]
     },
     "metadata": {},
     "output_type": "display_data"
    },
    {
     "name": "stdout",
     "output_type": "stream",
     "text": [
      "---------------------------------------------------------------------------------------------------------------\n",
      "Общая информация о датафрейме\n",
      "---------------------------------------------------------------------------------------------------------------\n",
      "<class 'pandas.core.frame.DataFrame'>\n",
      "RangeIndex: 100000 entries, 0 to 99999\n",
      "Data columns (total 5 columns):\n",
      " #   Column   Non-Null Count   Dtype  \n",
      "---  ------   --------------   -----  \n",
      " 0   id       100000 non-null  object \n",
      " 1   f0       100000 non-null  float64\n",
      " 2   f1       100000 non-null  float64\n",
      " 3   f2       100000 non-null  float64\n",
      " 4   product  100000 non-null  float64\n",
      "dtypes: float64(4), object(1)\n",
      "memory usage: 3.8+ MB\n"
     ]
    },
    {
     "data": {
      "text/plain": [
       "None"
      ]
     },
     "metadata": {},
     "output_type": "display_data"
    },
    {
     "name": "stdout",
     "output_type": "stream",
     "text": [
      "---------------------------------------------------------------------------------------------------------------\n",
      "Исследование пропусков\n",
      "---------------------------------------------------------------------------------------------------------------\n"
     ]
    },
    {
     "data": {
      "text/html": [
       "<style  type=\"text/css\" >\n",
       "#T_76f0b_row0_col0,#T_76f0b_row0_col1,#T_76f0b_row1_col0,#T_76f0b_row1_col1,#T_76f0b_row2_col0,#T_76f0b_row2_col1,#T_76f0b_row3_col0,#T_76f0b_row3_col1,#T_76f0b_row4_col0,#T_76f0b_row4_col1{\n",
       "            background-color:  #ffffcc;\n",
       "            color:  #000000;\n",
       "        }</style><table id=\"T_76f0b_\" ><thead>    <tr>        <th class=\"blank level0\" ></th>        <th class=\"col_heading level0 col0\" >nan_кол-во</th>        <th class=\"col_heading level0 col1\" >nan_%</th>    </tr></thead><tbody>\n",
       "                <tr>\n",
       "                        <th id=\"T_76f0b_level0_row0\" class=\"row_heading level0 row0\" >id</th>\n",
       "                        <td id=\"T_76f0b_row0_col0\" class=\"data row0 col0\" >0</td>\n",
       "                        <td id=\"T_76f0b_row0_col1\" class=\"data row0 col1\" >0.0%</td>\n",
       "            </tr>\n",
       "            <tr>\n",
       "                        <th id=\"T_76f0b_level0_row1\" class=\"row_heading level0 row1\" >f0</th>\n",
       "                        <td id=\"T_76f0b_row1_col0\" class=\"data row1 col0\" >0</td>\n",
       "                        <td id=\"T_76f0b_row1_col1\" class=\"data row1 col1\" >0.0%</td>\n",
       "            </tr>\n",
       "            <tr>\n",
       "                        <th id=\"T_76f0b_level0_row2\" class=\"row_heading level0 row2\" >f1</th>\n",
       "                        <td id=\"T_76f0b_row2_col0\" class=\"data row2 col0\" >0</td>\n",
       "                        <td id=\"T_76f0b_row2_col1\" class=\"data row2 col1\" >0.0%</td>\n",
       "            </tr>\n",
       "            <tr>\n",
       "                        <th id=\"T_76f0b_level0_row3\" class=\"row_heading level0 row3\" >f2</th>\n",
       "                        <td id=\"T_76f0b_row3_col0\" class=\"data row3 col0\" >0</td>\n",
       "                        <td id=\"T_76f0b_row3_col1\" class=\"data row3 col1\" >0.0%</td>\n",
       "            </tr>\n",
       "            <tr>\n",
       "                        <th id=\"T_76f0b_level0_row4\" class=\"row_heading level0 row4\" >product</th>\n",
       "                        <td id=\"T_76f0b_row4_col0\" class=\"data row4 col0\" >0</td>\n",
       "                        <td id=\"T_76f0b_row4_col1\" class=\"data row4 col1\" >0.0%</td>\n",
       "            </tr>\n",
       "    </tbody></table>"
      ],
      "text/plain": [
       "<pandas.io.formats.style.Styler at 0x7fcc6dd819a0>"
      ]
     },
     "metadata": {},
     "output_type": "display_data"
    },
    {
     "name": "stdout",
     "output_type": "stream",
     "text": [
      "---------------------------------------------------------------------------------------------------------------\n",
      "Доля явных дубликатов\n",
      "---------------------------------------------------------------------------------------------------------------\n",
      "0.00%\n"
     ]
    }
   ],
   "source": [
    "data_head_desc_info(geo_data_1)"
   ]
  },
  {
   "cell_type": "code",
   "execution_count": 10,
   "metadata": {},
   "outputs": [
    {
     "data": {
      "text/plain": [
       "4"
      ]
     },
     "execution_count": 10,
     "metadata": {},
     "output_type": "execute_result"
    }
   ],
   "source": [
    "# Количество дубликатов в id\n",
    "geo_data_1['id'].duplicated().sum()"
   ]
  },
  {
   "cell_type": "code",
   "execution_count": 11,
   "metadata": {},
   "outputs": [
    {
     "name": "stdout",
     "output_type": "stream",
     "text": [
      "id: LHZR0\n",
      "Оригинал/Дубликат:\n"
     ]
    },
    {
     "data": {
      "text/html": [
       "<div>\n",
       "<style scoped>\n",
       "    .dataframe tbody tr th:only-of-type {\n",
       "        vertical-align: middle;\n",
       "    }\n",
       "\n",
       "    .dataframe tbody tr th {\n",
       "        vertical-align: top;\n",
       "    }\n",
       "\n",
       "    .dataframe thead th {\n",
       "        text-align: right;\n",
       "    }\n",
       "</style>\n",
       "<table border=\"1\" class=\"dataframe\">\n",
       "  <thead>\n",
       "    <tr style=\"text-align: right;\">\n",
       "      <th></th>\n",
       "      <th>id</th>\n",
       "      <th>f0</th>\n",
       "      <th>f1</th>\n",
       "      <th>f2</th>\n",
       "      <th>product</th>\n",
       "    </tr>\n",
       "  </thead>\n",
       "  <tbody>\n",
       "    <tr>\n",
       "      <th>1305</th>\n",
       "      <td>LHZR0</td>\n",
       "      <td>11.170835</td>\n",
       "      <td>-1.945066</td>\n",
       "      <td>3.002872</td>\n",
       "      <td>80.859783</td>\n",
       "    </tr>\n",
       "    <tr>\n",
       "      <th>41906</th>\n",
       "      <td>LHZR0</td>\n",
       "      <td>-8.989672</td>\n",
       "      <td>-4.286607</td>\n",
       "      <td>2.009139</td>\n",
       "      <td>57.085625</td>\n",
       "    </tr>\n",
       "  </tbody>\n",
       "</table>\n",
       "</div>"
      ],
      "text/plain": [
       "          id         f0        f1        f2    product\n",
       "1305   LHZR0  11.170835 -1.945066  3.002872  80.859783\n",
       "41906  LHZR0  -8.989672 -4.286607  2.009139  57.085625"
      ]
     },
     "metadata": {},
     "output_type": "display_data"
    },
    {
     "name": "stdout",
     "output_type": "stream",
     "text": [
      "---------------------\n",
      "id: bfPNe\n",
      "Оригинал/Дубликат:\n"
     ]
    },
    {
     "data": {
      "text/html": [
       "<div>\n",
       "<style scoped>\n",
       "    .dataframe tbody tr th:only-of-type {\n",
       "        vertical-align: middle;\n",
       "    }\n",
       "\n",
       "    .dataframe tbody tr th {\n",
       "        vertical-align: top;\n",
       "    }\n",
       "\n",
       "    .dataframe thead th {\n",
       "        text-align: right;\n",
       "    }\n",
       "</style>\n",
       "<table border=\"1\" class=\"dataframe\">\n",
       "  <thead>\n",
       "    <tr style=\"text-align: right;\">\n",
       "      <th></th>\n",
       "      <th>id</th>\n",
       "      <th>f0</th>\n",
       "      <th>f1</th>\n",
       "      <th>f2</th>\n",
       "      <th>product</th>\n",
       "    </tr>\n",
       "  </thead>\n",
       "  <tbody>\n",
       "    <tr>\n",
       "      <th>2721</th>\n",
       "      <td>bfPNe</td>\n",
       "      <td>-9.494442</td>\n",
       "      <td>-5.463692</td>\n",
       "      <td>4.006042</td>\n",
       "      <td>110.992147</td>\n",
       "    </tr>\n",
       "    <tr>\n",
       "      <th>82178</th>\n",
       "      <td>bfPNe</td>\n",
       "      <td>-6.202799</td>\n",
       "      <td>-4.820045</td>\n",
       "      <td>2.995107</td>\n",
       "      <td>84.038886</td>\n",
       "    </tr>\n",
       "  </tbody>\n",
       "</table>\n",
       "</div>"
      ],
      "text/plain": [
       "          id        f0        f1        f2     product\n",
       "2721   bfPNe -9.494442 -5.463692  4.006042  110.992147\n",
       "82178  bfPNe -6.202799 -4.820045  2.995107   84.038886"
      ]
     },
     "metadata": {},
     "output_type": "display_data"
    },
    {
     "name": "stdout",
     "output_type": "stream",
     "text": [
      "---------------------\n",
      "id: 5ltQ6\n",
      "Оригинал/Дубликат:\n"
     ]
    },
    {
     "data": {
      "text/html": [
       "<div>\n",
       "<style scoped>\n",
       "    .dataframe tbody tr th:only-of-type {\n",
       "        vertical-align: middle;\n",
       "    }\n",
       "\n",
       "    .dataframe tbody tr th {\n",
       "        vertical-align: top;\n",
       "    }\n",
       "\n",
       "    .dataframe thead th {\n",
       "        text-align: right;\n",
       "    }\n",
       "</style>\n",
       "<table border=\"1\" class=\"dataframe\">\n",
       "  <thead>\n",
       "    <tr style=\"text-align: right;\">\n",
       "      <th></th>\n",
       "      <th>id</th>\n",
       "      <th>f0</th>\n",
       "      <th>f1</th>\n",
       "      <th>f2</th>\n",
       "      <th>product</th>\n",
       "    </tr>\n",
       "  </thead>\n",
       "  <tbody>\n",
       "    <tr>\n",
       "      <th>5849</th>\n",
       "      <td>5ltQ6</td>\n",
       "      <td>-3.435401</td>\n",
       "      <td>-12.296043</td>\n",
       "      <td>1.999796</td>\n",
       "      <td>57.085625</td>\n",
       "    </tr>\n",
       "    <tr>\n",
       "      <th>84461</th>\n",
       "      <td>5ltQ6</td>\n",
       "      <td>18.213839</td>\n",
       "      <td>2.191999</td>\n",
       "      <td>3.993869</td>\n",
       "      <td>107.813044</td>\n",
       "    </tr>\n",
       "  </tbody>\n",
       "</table>\n",
       "</div>"
      ],
      "text/plain": [
       "          id         f0         f1        f2     product\n",
       "5849   5ltQ6  -3.435401 -12.296043  1.999796   57.085625\n",
       "84461  5ltQ6  18.213839   2.191999  3.993869  107.813044"
      ]
     },
     "metadata": {},
     "output_type": "display_data"
    },
    {
     "name": "stdout",
     "output_type": "stream",
     "text": [
      "---------------------\n",
      "id: wt4Uk\n",
      "Оригинал/Дубликат:\n"
     ]
    },
    {
     "data": {
      "text/html": [
       "<div>\n",
       "<style scoped>\n",
       "    .dataframe tbody tr th:only-of-type {\n",
       "        vertical-align: middle;\n",
       "    }\n",
       "\n",
       "    .dataframe tbody tr th {\n",
       "        vertical-align: top;\n",
       "    }\n",
       "\n",
       "    .dataframe thead th {\n",
       "        text-align: right;\n",
       "    }\n",
       "</style>\n",
       "<table border=\"1\" class=\"dataframe\">\n",
       "  <thead>\n",
       "    <tr style=\"text-align: right;\">\n",
       "      <th></th>\n",
       "      <th>id</th>\n",
       "      <th>f0</th>\n",
       "      <th>f1</th>\n",
       "      <th>f2</th>\n",
       "      <th>product</th>\n",
       "    </tr>\n",
       "  </thead>\n",
       "  <tbody>\n",
       "    <tr>\n",
       "      <th>47591</th>\n",
       "      <td>wt4Uk</td>\n",
       "      <td>-9.091098</td>\n",
       "      <td>-8.109279</td>\n",
       "      <td>-0.002314</td>\n",
       "      <td>3.179103</td>\n",
       "    </tr>\n",
       "    <tr>\n",
       "      <th>82873</th>\n",
       "      <td>wt4Uk</td>\n",
       "      <td>10.259972</td>\n",
       "      <td>-9.376355</td>\n",
       "      <td>4.994297</td>\n",
       "      <td>134.766305</td>\n",
       "    </tr>\n",
       "  </tbody>\n",
       "</table>\n",
       "</div>"
      ],
      "text/plain": [
       "          id         f0        f1        f2     product\n",
       "47591  wt4Uk  -9.091098 -8.109279 -0.002314    3.179103\n",
       "82873  wt4Uk  10.259972 -9.376355  4.994297  134.766305"
      ]
     },
     "metadata": {},
     "output_type": "display_data"
    },
    {
     "name": "stdout",
     "output_type": "stream",
     "text": [
      "---------------------\n"
     ]
    }
   ],
   "source": [
    "# Выводим дубликаты в id\n",
    "duplicates = geo_data_1[geo_data_1['id'].duplicated(keep=False)]\n",
    "\n",
    "for id in duplicates['id'].unique():\n",
    "    print(f\"id: {id}\")\n",
    "    print(\"Оригинал/Дубликат:\")\n",
    "    display(duplicates[duplicates['id'] == id])\n",
    "    print(\"---------------------\")"
   ]
  },
  {
   "cell_type": "code",
   "execution_count": 12,
   "metadata": {},
   "outputs": [
    {
     "name": "stdout",
     "output_type": "stream",
     "text": [
      "<class 'pandas.core.frame.DataFrame'>\n",
      "Int64Index: 99996 entries, 53864 to 42537\n",
      "Data columns (total 5 columns):\n",
      " #   Column   Non-Null Count  Dtype  \n",
      "---  ------   --------------  -----  \n",
      " 0   id       99996 non-null  object \n",
      " 1   f0       99996 non-null  float64\n",
      " 2   f1       99996 non-null  float64\n",
      " 3   f2       99996 non-null  float64\n",
      " 4   product  99996 non-null  float64\n",
      "dtypes: float64(4), object(1)\n",
      "memory usage: 4.6+ MB\n"
     ]
    }
   ],
   "source": [
    "# Удаляем дубликаты\n",
    "geo_data_1 = geo_data_1.sort_values(by='product', ascending = False)\n",
    "geo_data_1 = geo_data_1.drop_duplicates(subset='id', keep='last')\n",
    "geo_data_1.info()"
   ]
  },
  {
   "cell_type": "code",
   "execution_count": 13,
   "metadata": {},
   "outputs": [
    {
     "data": {
      "text/html": [
       "<div>\n",
       "<style scoped>\n",
       "    .dataframe tbody tr th:only-of-type {\n",
       "        vertical-align: middle;\n",
       "    }\n",
       "\n",
       "    .dataframe tbody tr th {\n",
       "        vertical-align: top;\n",
       "    }\n",
       "\n",
       "    .dataframe thead th {\n",
       "        text-align: right;\n",
       "    }\n",
       "</style>\n",
       "<table border=\"1\" class=\"dataframe\">\n",
       "  <thead>\n",
       "    <tr style=\"text-align: right;\">\n",
       "      <th></th>\n",
       "      <th>id</th>\n",
       "      <th>f0</th>\n",
       "      <th>f1</th>\n",
       "      <th>f2</th>\n",
       "      <th>product</th>\n",
       "    </tr>\n",
       "  </thead>\n",
       "  <tbody>\n",
       "    <tr>\n",
       "      <th>47591</th>\n",
       "      <td>wt4Uk</td>\n",
       "      <td>-9.091098</td>\n",
       "      <td>-8.109279</td>\n",
       "      <td>-0.002314</td>\n",
       "      <td>3.179103</td>\n",
       "    </tr>\n",
       "  </tbody>\n",
       "</table>\n",
       "</div>"
      ],
      "text/plain": [
       "          id        f0        f1        f2   product\n",
       "47591  wt4Uk -9.091098 -8.109279 -0.002314  3.179103"
      ]
     },
     "metadata": {},
     "output_type": "display_data"
    }
   ],
   "source": [
    "# Проверка\n",
    "display(geo_data_1[geo_data_1['id'] == 'wt4Uk'])"
   ]
  },
  {
   "cell_type": "markdown",
   "metadata": {},
   "source": [
    "#### geo_data_2"
   ]
  },
  {
   "cell_type": "code",
   "execution_count": 14,
   "metadata": {},
   "outputs": [
    {
     "name": "stdout",
     "output_type": "stream",
     "text": [
      "---------------------------------------------------------------------------------------------------------------\n",
      "Первые 3 строки:\n",
      "---------------------------------------------------------------------------------------------------------------\n"
     ]
    },
    {
     "data": {
      "text/html": [
       "<div>\n",
       "<style scoped>\n",
       "    .dataframe tbody tr th:only-of-type {\n",
       "        vertical-align: middle;\n",
       "    }\n",
       "\n",
       "    .dataframe tbody tr th {\n",
       "        vertical-align: top;\n",
       "    }\n",
       "\n",
       "    .dataframe thead th {\n",
       "        text-align: right;\n",
       "    }\n",
       "</style>\n",
       "<table border=\"1\" class=\"dataframe\">\n",
       "  <thead>\n",
       "    <tr style=\"text-align: right;\">\n",
       "      <th></th>\n",
       "      <th>id</th>\n",
       "      <th>f0</th>\n",
       "      <th>f1</th>\n",
       "      <th>f2</th>\n",
       "      <th>product</th>\n",
       "    </tr>\n",
       "  </thead>\n",
       "  <tbody>\n",
       "    <tr>\n",
       "      <th>0</th>\n",
       "      <td>fwXo0</td>\n",
       "      <td>-1.146987</td>\n",
       "      <td>0.963328</td>\n",
       "      <td>-0.828965</td>\n",
       "      <td>27.758673</td>\n",
       "    </tr>\n",
       "    <tr>\n",
       "      <th>1</th>\n",
       "      <td>WJtFt</td>\n",
       "      <td>0.262778</td>\n",
       "      <td>0.269839</td>\n",
       "      <td>-2.530187</td>\n",
       "      <td>56.069697</td>\n",
       "    </tr>\n",
       "    <tr>\n",
       "      <th>2</th>\n",
       "      <td>ovLUW</td>\n",
       "      <td>0.194587</td>\n",
       "      <td>0.289035</td>\n",
       "      <td>-5.586433</td>\n",
       "      <td>62.871910</td>\n",
       "    </tr>\n",
       "  </tbody>\n",
       "</table>\n",
       "</div>"
      ],
      "text/plain": [
       "      id        f0        f1        f2    product\n",
       "0  fwXo0 -1.146987  0.963328 -0.828965  27.758673\n",
       "1  WJtFt  0.262778  0.269839 -2.530187  56.069697\n",
       "2  ovLUW  0.194587  0.289035 -5.586433  62.871910"
      ]
     },
     "metadata": {},
     "output_type": "display_data"
    },
    {
     "name": "stdout",
     "output_type": "stream",
     "text": [
      "---------------------------------------------------------------------------------------------------------------\n",
      "Описание данных:\n",
      "---------------------------------------------------------------------------------------------------------------\n"
     ]
    },
    {
     "data": {
      "text/html": [
       "<div>\n",
       "<style scoped>\n",
       "    .dataframe tbody tr th:only-of-type {\n",
       "        vertical-align: middle;\n",
       "    }\n",
       "\n",
       "    .dataframe tbody tr th {\n",
       "        vertical-align: top;\n",
       "    }\n",
       "\n",
       "    .dataframe thead th {\n",
       "        text-align: right;\n",
       "    }\n",
       "</style>\n",
       "<table border=\"1\" class=\"dataframe\">\n",
       "  <thead>\n",
       "    <tr style=\"text-align: right;\">\n",
       "      <th></th>\n",
       "      <th>id</th>\n",
       "      <th>f0</th>\n",
       "      <th>f1</th>\n",
       "      <th>f2</th>\n",
       "      <th>product</th>\n",
       "    </tr>\n",
       "  </thead>\n",
       "  <tbody>\n",
       "    <tr>\n",
       "      <th>count</th>\n",
       "      <td>100000</td>\n",
       "      <td>100000.000000</td>\n",
       "      <td>100000.000000</td>\n",
       "      <td>100000.000000</td>\n",
       "      <td>100000.000000</td>\n",
       "    </tr>\n",
       "    <tr>\n",
       "      <th>unique</th>\n",
       "      <td>99996</td>\n",
       "      <td>NaN</td>\n",
       "      <td>NaN</td>\n",
       "      <td>NaN</td>\n",
       "      <td>NaN</td>\n",
       "    </tr>\n",
       "    <tr>\n",
       "      <th>top</th>\n",
       "      <td>VF7Jo</td>\n",
       "      <td>NaN</td>\n",
       "      <td>NaN</td>\n",
       "      <td>NaN</td>\n",
       "      <td>NaN</td>\n",
       "    </tr>\n",
       "    <tr>\n",
       "      <th>freq</th>\n",
       "      <td>2</td>\n",
       "      <td>NaN</td>\n",
       "      <td>NaN</td>\n",
       "      <td>NaN</td>\n",
       "      <td>NaN</td>\n",
       "    </tr>\n",
       "    <tr>\n",
       "      <th>mean</th>\n",
       "      <td>NaN</td>\n",
       "      <td>0.002023</td>\n",
       "      <td>-0.002081</td>\n",
       "      <td>2.495128</td>\n",
       "      <td>95.000000</td>\n",
       "    </tr>\n",
       "    <tr>\n",
       "      <th>std</th>\n",
       "      <td>NaN</td>\n",
       "      <td>1.732045</td>\n",
       "      <td>1.730417</td>\n",
       "      <td>3.473445</td>\n",
       "      <td>44.749921</td>\n",
       "    </tr>\n",
       "    <tr>\n",
       "      <th>min</th>\n",
       "      <td>NaN</td>\n",
       "      <td>-8.760004</td>\n",
       "      <td>-7.084020</td>\n",
       "      <td>-11.970335</td>\n",
       "      <td>0.000000</td>\n",
       "    </tr>\n",
       "    <tr>\n",
       "      <th>25%</th>\n",
       "      <td>NaN</td>\n",
       "      <td>-1.162288</td>\n",
       "      <td>-1.174820</td>\n",
       "      <td>0.130359</td>\n",
       "      <td>59.450441</td>\n",
       "    </tr>\n",
       "    <tr>\n",
       "      <th>50%</th>\n",
       "      <td>NaN</td>\n",
       "      <td>0.009424</td>\n",
       "      <td>-0.009482</td>\n",
       "      <td>2.484236</td>\n",
       "      <td>94.925613</td>\n",
       "    </tr>\n",
       "    <tr>\n",
       "      <th>75%</th>\n",
       "      <td>NaN</td>\n",
       "      <td>1.158535</td>\n",
       "      <td>1.163678</td>\n",
       "      <td>4.858794</td>\n",
       "      <td>130.595027</td>\n",
       "    </tr>\n",
       "    <tr>\n",
       "      <th>max</th>\n",
       "      <td>NaN</td>\n",
       "      <td>7.238262</td>\n",
       "      <td>7.844801</td>\n",
       "      <td>16.739402</td>\n",
       "      <td>190.029838</td>\n",
       "    </tr>\n",
       "  </tbody>\n",
       "</table>\n",
       "</div>"
      ],
      "text/plain": [
       "            id             f0             f1             f2        product\n",
       "count   100000  100000.000000  100000.000000  100000.000000  100000.000000\n",
       "unique   99996            NaN            NaN            NaN            NaN\n",
       "top      VF7Jo            NaN            NaN            NaN            NaN\n",
       "freq         2            NaN            NaN            NaN            NaN\n",
       "mean       NaN       0.002023      -0.002081       2.495128      95.000000\n",
       "std        NaN       1.732045       1.730417       3.473445      44.749921\n",
       "min        NaN      -8.760004      -7.084020     -11.970335       0.000000\n",
       "25%        NaN      -1.162288      -1.174820       0.130359      59.450441\n",
       "50%        NaN       0.009424      -0.009482       2.484236      94.925613\n",
       "75%        NaN       1.158535       1.163678       4.858794     130.595027\n",
       "max        NaN       7.238262       7.844801      16.739402     190.029838"
      ]
     },
     "metadata": {},
     "output_type": "display_data"
    },
    {
     "name": "stdout",
     "output_type": "stream",
     "text": [
      "---------------------------------------------------------------------------------------------------------------\n",
      "Общая информация о датафрейме\n",
      "---------------------------------------------------------------------------------------------------------------\n",
      "<class 'pandas.core.frame.DataFrame'>\n",
      "RangeIndex: 100000 entries, 0 to 99999\n",
      "Data columns (total 5 columns):\n",
      " #   Column   Non-Null Count   Dtype  \n",
      "---  ------   --------------   -----  \n",
      " 0   id       100000 non-null  object \n",
      " 1   f0       100000 non-null  float64\n",
      " 2   f1       100000 non-null  float64\n",
      " 3   f2       100000 non-null  float64\n",
      " 4   product  100000 non-null  float64\n",
      "dtypes: float64(4), object(1)\n",
      "memory usage: 3.8+ MB\n"
     ]
    },
    {
     "data": {
      "text/plain": [
       "None"
      ]
     },
     "metadata": {},
     "output_type": "display_data"
    },
    {
     "name": "stdout",
     "output_type": "stream",
     "text": [
      "---------------------------------------------------------------------------------------------------------------\n",
      "Исследование пропусков\n",
      "---------------------------------------------------------------------------------------------------------------\n"
     ]
    },
    {
     "data": {
      "text/html": [
       "<style  type=\"text/css\" >\n",
       "#T_8751c_row0_col0,#T_8751c_row0_col1,#T_8751c_row1_col0,#T_8751c_row1_col1,#T_8751c_row2_col0,#T_8751c_row2_col1,#T_8751c_row3_col0,#T_8751c_row3_col1,#T_8751c_row4_col0,#T_8751c_row4_col1{\n",
       "            background-color:  #ffffcc;\n",
       "            color:  #000000;\n",
       "        }</style><table id=\"T_8751c_\" ><thead>    <tr>        <th class=\"blank level0\" ></th>        <th class=\"col_heading level0 col0\" >nan_кол-во</th>        <th class=\"col_heading level0 col1\" >nan_%</th>    </tr></thead><tbody>\n",
       "                <tr>\n",
       "                        <th id=\"T_8751c_level0_row0\" class=\"row_heading level0 row0\" >id</th>\n",
       "                        <td id=\"T_8751c_row0_col0\" class=\"data row0 col0\" >0</td>\n",
       "                        <td id=\"T_8751c_row0_col1\" class=\"data row0 col1\" >0.0%</td>\n",
       "            </tr>\n",
       "            <tr>\n",
       "                        <th id=\"T_8751c_level0_row1\" class=\"row_heading level0 row1\" >f0</th>\n",
       "                        <td id=\"T_8751c_row1_col0\" class=\"data row1 col0\" >0</td>\n",
       "                        <td id=\"T_8751c_row1_col1\" class=\"data row1 col1\" >0.0%</td>\n",
       "            </tr>\n",
       "            <tr>\n",
       "                        <th id=\"T_8751c_level0_row2\" class=\"row_heading level0 row2\" >f1</th>\n",
       "                        <td id=\"T_8751c_row2_col0\" class=\"data row2 col0\" >0</td>\n",
       "                        <td id=\"T_8751c_row2_col1\" class=\"data row2 col1\" >0.0%</td>\n",
       "            </tr>\n",
       "            <tr>\n",
       "                        <th id=\"T_8751c_level0_row3\" class=\"row_heading level0 row3\" >f2</th>\n",
       "                        <td id=\"T_8751c_row3_col0\" class=\"data row3 col0\" >0</td>\n",
       "                        <td id=\"T_8751c_row3_col1\" class=\"data row3 col1\" >0.0%</td>\n",
       "            </tr>\n",
       "            <tr>\n",
       "                        <th id=\"T_8751c_level0_row4\" class=\"row_heading level0 row4\" >product</th>\n",
       "                        <td id=\"T_8751c_row4_col0\" class=\"data row4 col0\" >0</td>\n",
       "                        <td id=\"T_8751c_row4_col1\" class=\"data row4 col1\" >0.0%</td>\n",
       "            </tr>\n",
       "    </tbody></table>"
      ],
      "text/plain": [
       "<pandas.io.formats.style.Styler at 0x7fcc6dd77730>"
      ]
     },
     "metadata": {},
     "output_type": "display_data"
    },
    {
     "name": "stdout",
     "output_type": "stream",
     "text": [
      "---------------------------------------------------------------------------------------------------------------\n",
      "Доля явных дубликатов\n",
      "---------------------------------------------------------------------------------------------------------------\n",
      "0.00%\n"
     ]
    }
   ],
   "source": [
    "data_head_desc_info(geo_data_2)"
   ]
  },
  {
   "cell_type": "code",
   "execution_count": 15,
   "metadata": {},
   "outputs": [
    {
     "data": {
      "text/plain": [
       "4"
      ]
     },
     "execution_count": 15,
     "metadata": {},
     "output_type": "execute_result"
    }
   ],
   "source": [
    "# Количество дубликатов в id\n",
    "geo_data_2['id'].duplicated().sum()"
   ]
  },
  {
   "cell_type": "code",
   "execution_count": 16,
   "metadata": {},
   "outputs": [
    {
     "name": "stdout",
     "output_type": "stream",
     "text": [
      "id: VF7Jo\n",
      "Оригинал/Дубликат:\n"
     ]
    },
    {
     "data": {
      "text/html": [
       "<div>\n",
       "<style scoped>\n",
       "    .dataframe tbody tr th:only-of-type {\n",
       "        vertical-align: middle;\n",
       "    }\n",
       "\n",
       "    .dataframe tbody tr th {\n",
       "        vertical-align: top;\n",
       "    }\n",
       "\n",
       "    .dataframe thead th {\n",
       "        text-align: right;\n",
       "    }\n",
       "</style>\n",
       "<table border=\"1\" class=\"dataframe\">\n",
       "  <thead>\n",
       "    <tr style=\"text-align: right;\">\n",
       "      <th></th>\n",
       "      <th>id</th>\n",
       "      <th>f0</th>\n",
       "      <th>f1</th>\n",
       "      <th>f2</th>\n",
       "      <th>product</th>\n",
       "    </tr>\n",
       "  </thead>\n",
       "  <tbody>\n",
       "    <tr>\n",
       "      <th>11449</th>\n",
       "      <td>VF7Jo</td>\n",
       "      <td>2.122656</td>\n",
       "      <td>-0.858275</td>\n",
       "      <td>5.746001</td>\n",
       "      <td>181.716817</td>\n",
       "    </tr>\n",
       "    <tr>\n",
       "      <th>49564</th>\n",
       "      <td>VF7Jo</td>\n",
       "      <td>-0.883115</td>\n",
       "      <td>0.560537</td>\n",
       "      <td>0.723601</td>\n",
       "      <td>136.233420</td>\n",
       "    </tr>\n",
       "  </tbody>\n",
       "</table>\n",
       "</div>"
      ],
      "text/plain": [
       "          id        f0        f1        f2     product\n",
       "11449  VF7Jo  2.122656 -0.858275  5.746001  181.716817\n",
       "49564  VF7Jo -0.883115  0.560537  0.723601  136.233420"
      ]
     },
     "metadata": {},
     "output_type": "display_data"
    },
    {
     "name": "stdout",
     "output_type": "stream",
     "text": [
      "---------------------\n",
      "id: xCHr8\n",
      "Оригинал/Дубликат:\n"
     ]
    },
    {
     "data": {
      "text/html": [
       "<div>\n",
       "<style scoped>\n",
       "    .dataframe tbody tr th:only-of-type {\n",
       "        vertical-align: middle;\n",
       "    }\n",
       "\n",
       "    .dataframe tbody tr th {\n",
       "        vertical-align: top;\n",
       "    }\n",
       "\n",
       "    .dataframe thead th {\n",
       "        text-align: right;\n",
       "    }\n",
       "</style>\n",
       "<table border=\"1\" class=\"dataframe\">\n",
       "  <thead>\n",
       "    <tr style=\"text-align: right;\">\n",
       "      <th></th>\n",
       "      <th>id</th>\n",
       "      <th>f0</th>\n",
       "      <th>f1</th>\n",
       "      <th>f2</th>\n",
       "      <th>product</th>\n",
       "    </tr>\n",
       "  </thead>\n",
       "  <tbody>\n",
       "    <tr>\n",
       "      <th>28039</th>\n",
       "      <td>xCHr8</td>\n",
       "      <td>1.633027</td>\n",
       "      <td>0.368135</td>\n",
       "      <td>-2.378367</td>\n",
       "      <td>6.120525</td>\n",
       "    </tr>\n",
       "    <tr>\n",
       "      <th>43233</th>\n",
       "      <td>xCHr8</td>\n",
       "      <td>-0.847066</td>\n",
       "      <td>2.101796</td>\n",
       "      <td>5.597130</td>\n",
       "      <td>184.388641</td>\n",
       "    </tr>\n",
       "  </tbody>\n",
       "</table>\n",
       "</div>"
      ],
      "text/plain": [
       "          id        f0        f1        f2     product\n",
       "28039  xCHr8  1.633027  0.368135 -2.378367    6.120525\n",
       "43233  xCHr8 -0.847066  2.101796  5.597130  184.388641"
      ]
     },
     "metadata": {},
     "output_type": "display_data"
    },
    {
     "name": "stdout",
     "output_type": "stream",
     "text": [
      "---------------------\n",
      "id: Vcm5J\n",
      "Оригинал/Дубликат:\n"
     ]
    },
    {
     "data": {
      "text/html": [
       "<div>\n",
       "<style scoped>\n",
       "    .dataframe tbody tr th:only-of-type {\n",
       "        vertical-align: middle;\n",
       "    }\n",
       "\n",
       "    .dataframe tbody tr th {\n",
       "        vertical-align: top;\n",
       "    }\n",
       "\n",
       "    .dataframe thead th {\n",
       "        text-align: right;\n",
       "    }\n",
       "</style>\n",
       "<table border=\"1\" class=\"dataframe\">\n",
       "  <thead>\n",
       "    <tr style=\"text-align: right;\">\n",
       "      <th></th>\n",
       "      <th>id</th>\n",
       "      <th>f0</th>\n",
       "      <th>f1</th>\n",
       "      <th>f2</th>\n",
       "      <th>product</th>\n",
       "    </tr>\n",
       "  </thead>\n",
       "  <tbody>\n",
       "    <tr>\n",
       "      <th>44378</th>\n",
       "      <td>Vcm5J</td>\n",
       "      <td>-1.229484</td>\n",
       "      <td>-2.439204</td>\n",
       "      <td>1.222909</td>\n",
       "      <td>137.968290</td>\n",
       "    </tr>\n",
       "    <tr>\n",
       "      <th>95090</th>\n",
       "      <td>Vcm5J</td>\n",
       "      <td>2.587702</td>\n",
       "      <td>1.986875</td>\n",
       "      <td>2.482245</td>\n",
       "      <td>92.327572</td>\n",
       "    </tr>\n",
       "  </tbody>\n",
       "</table>\n",
       "</div>"
      ],
      "text/plain": [
       "          id        f0        f1        f2     product\n",
       "44378  Vcm5J -1.229484 -2.439204  1.222909  137.968290\n",
       "95090  Vcm5J  2.587702  1.986875  2.482245   92.327572"
      ]
     },
     "metadata": {},
     "output_type": "display_data"
    },
    {
     "name": "stdout",
     "output_type": "stream",
     "text": [
      "---------------------\n",
      "id: KUPhW\n",
      "Оригинал/Дубликат:\n"
     ]
    },
    {
     "data": {
      "text/html": [
       "<div>\n",
       "<style scoped>\n",
       "    .dataframe tbody tr th:only-of-type {\n",
       "        vertical-align: middle;\n",
       "    }\n",
       "\n",
       "    .dataframe tbody tr th {\n",
       "        vertical-align: top;\n",
       "    }\n",
       "\n",
       "    .dataframe thead th {\n",
       "        text-align: right;\n",
       "    }\n",
       "</style>\n",
       "<table border=\"1\" class=\"dataframe\">\n",
       "  <thead>\n",
       "    <tr style=\"text-align: right;\">\n",
       "      <th></th>\n",
       "      <th>id</th>\n",
       "      <th>f0</th>\n",
       "      <th>f1</th>\n",
       "      <th>f2</th>\n",
       "      <th>product</th>\n",
       "    </tr>\n",
       "  </thead>\n",
       "  <tbody>\n",
       "    <tr>\n",
       "      <th>45404</th>\n",
       "      <td>KUPhW</td>\n",
       "      <td>0.231846</td>\n",
       "      <td>-1.698941</td>\n",
       "      <td>4.990775</td>\n",
       "      <td>11.716299</td>\n",
       "    </tr>\n",
       "    <tr>\n",
       "      <th>55967</th>\n",
       "      <td>KUPhW</td>\n",
       "      <td>1.211150</td>\n",
       "      <td>3.176408</td>\n",
       "      <td>5.543540</td>\n",
       "      <td>132.831802</td>\n",
       "    </tr>\n",
       "  </tbody>\n",
       "</table>\n",
       "</div>"
      ],
      "text/plain": [
       "          id        f0        f1        f2     product\n",
       "45404  KUPhW  0.231846 -1.698941  4.990775   11.716299\n",
       "55967  KUPhW  1.211150  3.176408  5.543540  132.831802"
      ]
     },
     "metadata": {},
     "output_type": "display_data"
    },
    {
     "name": "stdout",
     "output_type": "stream",
     "text": [
      "---------------------\n"
     ]
    }
   ],
   "source": [
    "# Выводим дубликаты в id\n",
    "duplicates = geo_data_2[geo_data_2['id'].duplicated(keep=False)]\n",
    "\n",
    "for id in duplicates['id'].unique():\n",
    "    print(f\"id: {id}\")\n",
    "    print(\"Оригинал/Дубликат:\")\n",
    "    display(duplicates[duplicates['id'] == id])\n",
    "    print(\"---------------------\")"
   ]
  },
  {
   "cell_type": "code",
   "execution_count": 17,
   "metadata": {},
   "outputs": [
    {
     "name": "stdout",
     "output_type": "stream",
     "text": [
      "<class 'pandas.core.frame.DataFrame'>\n",
      "Int64Index: 99996 entries, 79705 to 68149\n",
      "Data columns (total 5 columns):\n",
      " #   Column   Non-Null Count  Dtype  \n",
      "---  ------   --------------  -----  \n",
      " 0   id       99996 non-null  object \n",
      " 1   f0       99996 non-null  float64\n",
      " 2   f1       99996 non-null  float64\n",
      " 3   f2       99996 non-null  float64\n",
      " 4   product  99996 non-null  float64\n",
      "dtypes: float64(4), object(1)\n",
      "memory usage: 4.6+ MB\n"
     ]
    }
   ],
   "source": [
    "# Удаляем дубликаты\n",
    "geo_data_2 = geo_data_2.sort_values(by='product', ascending = False)\n",
    "geo_data_2 = geo_data_2.drop_duplicates(subset='id', keep='last')\n",
    "geo_data_2.info()"
   ]
  },
  {
   "cell_type": "code",
   "execution_count": 18,
   "metadata": {},
   "outputs": [
    {
     "data": {
      "text/html": [
       "<div>\n",
       "<style scoped>\n",
       "    .dataframe tbody tr th:only-of-type {\n",
       "        vertical-align: middle;\n",
       "    }\n",
       "\n",
       "    .dataframe tbody tr th {\n",
       "        vertical-align: top;\n",
       "    }\n",
       "\n",
       "    .dataframe thead th {\n",
       "        text-align: right;\n",
       "    }\n",
       "</style>\n",
       "<table border=\"1\" class=\"dataframe\">\n",
       "  <thead>\n",
       "    <tr style=\"text-align: right;\">\n",
       "      <th></th>\n",
       "      <th>id</th>\n",
       "      <th>f0</th>\n",
       "      <th>f1</th>\n",
       "      <th>f2</th>\n",
       "      <th>product</th>\n",
       "    </tr>\n",
       "  </thead>\n",
       "  <tbody>\n",
       "    <tr>\n",
       "      <th>45404</th>\n",
       "      <td>KUPhW</td>\n",
       "      <td>0.231846</td>\n",
       "      <td>-1.698941</td>\n",
       "      <td>4.990775</td>\n",
       "      <td>11.716299</td>\n",
       "    </tr>\n",
       "  </tbody>\n",
       "</table>\n",
       "</div>"
      ],
      "text/plain": [
       "          id        f0        f1        f2    product\n",
       "45404  KUPhW  0.231846 -1.698941  4.990775  11.716299"
      ]
     },
     "metadata": {},
     "output_type": "display_data"
    }
   ],
   "source": [
    "# Проверка\n",
    "display(geo_data_2.query('id == \"KUPhW\"'))"
   ]
  },
  {
   "cell_type": "markdown",
   "metadata": {},
   "source": [
    "  "
   ]
  },
  {
   "cell_type": "markdown",
   "metadata": {},
   "source": [
    "id имеет смысл сделать индексом, чтобы данные id не участвовали в обучении модели. Другая предобработка данных не требуется. "
   ]
  },
  {
   "cell_type": "code",
   "execution_count": 19,
   "metadata": {},
   "outputs": [],
   "source": [
    "geo_data_0 = geo_data_0.set_index('id')\n",
    "geo_data_1 = geo_data_1.set_index('id')\n",
    "geo_data_2 = geo_data_2.set_index('id')"
   ]
  },
  {
   "cell_type": "code",
   "execution_count": 20,
   "metadata": {},
   "outputs": [
    {
     "name": "stdout",
     "output_type": "stream",
     "text": [
      "Index(['rjMou', '7cHIv', 'uCDzR', 'IfqrC', '5FEPb', 'bII2i', '8nZzW', 'jMdal',\n",
      "       'AXcMW', 'TBC3a',\n",
      "       ...\n",
      "       'WIzvk', 'NDc1S', '8mAMo', 'dBUmk', 'RvDlF', 'EeI1x', 'kmJjD', 'YcHB5',\n",
      "       'oZ3UJ', 'zCM5W'],\n",
      "      dtype='object', name='id', length=99990)\n",
      "Index(['MzRzn', 'nW6eC', 'xwJzQ', 'Xd8DC', 'Stdrb', 'ImlRy', 'WzBhx', 'qqyeH',\n",
      "       'c0mBf', 'tlA9U',\n",
      "       ...\n",
      "       '8Ug4I', 'PLbAQ', 'vxoKl', '1UqZf', 'oPbFc', 'ZO5rv', 'dg885', '1rxbb',\n",
      "       'qtGm8', 'cR1Ll'],\n",
      "      dtype='object', name='id', length=99996)\n",
      "Index(['UAhji', 'IB0JE', '2HeCn', 'dldNH', 'CpuBi', 'OCUyV', 'JcCZ7', 'ZDbiY',\n",
      "       'mSZSb', 'CmOXJ',\n",
      "       ...\n",
      "       'c7hiP', 'qDnLB', 'NmSOh', 'uXoIE', 'wS7Q1', 'Qi2Do', 'ABIo5', 'TNDTo',\n",
      "       'xMjFy', 'qeefd'],\n",
      "      dtype='object', name='id', length=99996)\n"
     ]
    }
   ],
   "source": [
    "# Проверим, что id стал индексом\n",
    "print(geo_data_0.index)\n",
    "print(geo_data_1.index)\n",
    "print(geo_data_2.index)"
   ]
  },
  {
   "cell_type": "markdown",
   "metadata": {},
   "source": [
    "### Распределение данных"
   ]
  },
  {
   "cell_type": "markdown",
   "metadata": {},
   "source": [
    "Обучение моедли будет происходить на алгоритме линейной регрессии, который очень чувствителен к распределению данных. Лучше всего алгоритм работает на данных с распределением близким к нормальному. Поэтому взглянем как распределяются данные в нащих выборках.\n",
    "\n",
    "*Нормальное расспределение - это особый тип распределения, при котором большинство значений сосредоточено около среднего. Его также называют гауссовым распределением, законом Гаусса или колоколообразным распределением, а его график — кривой Гаусса, или гауссианой. В нормальном распределении большинство значений находятся в пределах одного среднеквадратического отклонения от среднего (68,2%), двух среднеквадратических отклонений (95,4%)*"
   ]
  },
  {
   "cell_type": "code",
   "execution_count": 21,
   "metadata": {},
   "outputs": [
    {
     "data": {
      "text/plain": [
       "<Figure size 1440x720 with 0 Axes>"
      ]
     },
     "metadata": {},
     "output_type": "display_data"
    },
    {
     "data": {
      "image/png": "[encoded data removed]",
      "text/plain": [
       "<Figure size 432x288 with 4 Axes>"
      ]
     },
     "metadata": {
      "needs_background": "light"
     },
     "output_type": "display_data"
    },
    {
     "data": {
      "image/png": "[encoded data removed]",
      "text/plain": [
       "<Figure size 432x288 with 4 Axes>"
      ]
     },
     "metadata": {
      "needs_background": "light"
     },
     "output_type": "display_data"
    },
    {
     "data": {
      "image/png": "[encoded data removed]",
      "text/plain": [
       "<Figure size 432x288 with 4 Axes>"
      ]
     },
     "metadata": {
      "needs_background": "light"
     },
     "output_type": "display_data"
    }
   ],
   "source": [
    "plt.figure(figsize=(20, 10))\n",
    "\n",
    "dfs = [geo_data_0, geo_data_1, geo_data_2]\n",
    "\n",
    "for df in dfs:\n",
    "    df.hist(bins = 100)"
   ]
  },
  {
   "cell_type": "code",
   "execution_count": null,
   "metadata": {},
   "outputs": [],
   "source": [
    "import plotly.express as px\n",
    "\n",
    "dfs = [geo_data_0, geo_data_1, geo_data_2]\n",
    "names = ['geo_data_0', 'geo_data_1', 'geo_data_2']\n",
    "\n",
    "for i, df in enumerate(dfs):\n",
    "    for column in df.columns: \n",
    "        fig = px.histogram(\n",
    "            df,\n",
    "            x=column,\n",
    "            marginal='box',\n",
    "            opacity=0.5,\n",
    "            barmode='group',\n",
    "            title=f'Распределение значений столбца {column} для {names[i]}'\n",
    "        )\n",
    "        fig.update_layout(\n",
    "            width=450,  \n",
    "            height=300,  \n",
    "        )\n",
    "        fig.show()"
   ]
  },
  {
   "cell_type": "code",
   "execution_count": null,
   "metadata": {
    "scrolled": false
   },
   "outputs": [],
   "source": [
    "for i, df in enumerate(dfs):\n",
    "    # Вычисляем статистические показатели\n",
    "    mean = df.mean()\n",
    "    std = df.std()\n",
    "    \n",
    "    # Вычисляем количество значений в пределах одного и двух стандартных отклонений\n",
    "    within_one_std = ((df - mean).abs() <= std).sum()\n",
    "    within_two_std = ((df - mean).abs() <= 2 * std).sum()\n",
    "    \n",
    "    # Вычисляем проценты\n",
    "    percent_one_std = within_one_std / len(df) * 100\n",
    "    percent_two_std = within_two_std / len(df) * 100\n",
    "\n",
    "    # Выводим информацию\n",
    "    print(f\"--- DataFrame {i + 1} ---\")\n",
    "    for col in df.columns:\n",
    "        print(f\"Значений в пределах одного стандартного отклонения для столбца {col}: {percent_one_std[col]:.2f}%\")\n",
    "        print(f\"Значений в пределах двух стандартных отклонений для столбца {col}: {percent_two_std[col]:.2f}%\")\n",
    "        print(\"-----\")\n",
    "    print(\"---------------------\")"
   ]
  },
  {
   "cell_type": "markdown",
   "metadata": {},
   "source": [
    "Распределение данных в пределах 1 - 2 стандартных отклонений близко к нормальному распределению. Также распределение имеет симетрию, что положительно влияет на обучение моделей, но при этом видим, что многие гистограммы имеют не колокообразную форму, что может исказить результаты обучения моделей."
   ]
  },
  {
   "cell_type": "markdown",
   "metadata": {},
   "source": [
    "## Обучение и проверка модели"
   ]
  },
  {
   "cell_type": "code",
   "execution_count": null,
   "metadata": {},
   "outputs": [],
   "source": [
    "print(geo_data_0.info())\n",
    "print(geo_data_1.info())\n",
    "print(geo_data_2.info())"
   ]
  },
  {
   "cell_type": "markdown",
   "metadata": {},
   "source": [
    "### Корреляционный анализ"
   ]
  },
  {
   "cell_type": "code",
   "execution_count": null,
   "metadata": {},
   "outputs": [],
   "source": [
    "# Список количественных столбцов\n",
    "interval_cols = ['f0', 'f1', 'f2']\n",
    "\n",
    "dfs = [geo_data_0, geo_data_1, geo_data_2]\n",
    "names = ['geo_data_0', 'geo_data_1', 'geo_data_2']\n",
    "\n",
    "# Вычисляем матрицы корреляции. Передаем только список с количественными признаками. \n",
    "# Дальше phik определит остальные признаки как категориальные\n",
    "for df, name in zip(dfs, names):\n",
    "    corr_matrix = df.phik_matrix(interval_cols=interval_cols)\n",
    "\n",
    "    # Визуализация матрицы корреляции\n",
    "    plt.figure(figsize=(8, 6))\n",
    "    sns.heatmap(corr_matrix, annot=True, cmap='coolwarm')\n",
    "    plt.title(f'Phi_K Correlation Matrix for {name}') \n",
    "    plt.show()\n",
    "    print(corr_matrix['product'].sort_values(ascending=False))"
   ]
  },
  {
   "cell_type": "markdown",
   "metadata": {},
   "source": [
    "### Создание пайплайна"
   ]
  },
  {
   "cell_type": "code",
   "execution_count": null,
   "metadata": {},
   "outputs": [],
   "source": [
    "from sklearn.pipeline import Pipeline\n",
    "from sklearn.preprocessing import StandardScaler\n",
    "from sklearn.linear_model import Ridge, Lasso\n",
    "from sklearn.model_selection import train_test_split, GridSearchCV\n",
    "from sklearn.metrics import mean_squared_error\n",
    "\n",
    "def train_and_evaluate(data, region_name):\n",
    "    # Разделяем данные на обучающую и валидационную выборки\n",
    "    features = data.drop('product', axis=1)\n",
    "    target = data['product']\n",
    "    X_train, X_valid, y_train, y_valid = train_test_split(\n",
    "        features, target, test_size=0.25, random_state=42\n",
    "    )\n",
    "\n",
    "    # Создаем пайплайн\n",
    "    pipeline = Pipeline([\n",
    "        ('scaler', StandardScaler()),\n",
    "        ('regressor', Ridge())\n",
    "    ])\n",
    "\n",
    "    # Задаем диапазон значений для гиперпараметра alpha\n",
    "    param_grid = {\n",
    "        # Гиперпараметр alpha упарвляет силой регуляризации в Ridge(L2-регуляризация) и Lasso(L1-регуляризация)\n",
    "        'regressor__alpha': [0.1, 1.0, 10.0],\n",
    "        # Список моделей регуляризации\n",
    "        'regressor': [Ridge(), Lasso()] # Список моделей регуляризации\n",
    "    }\n",
    "\n",
    "    # Создаем GridSearchCV\n",
    "    grid_search = GridSearchCV(\n",
    "        pipeline,\n",
    "        param_grid,\n",
    "        cv=10,\n",
    "        scoring='neg_root_mean_squared_error'\n",
    "    )\n",
    "\n",
    "    # Обучаем GridSearchCV\n",
    "    grid_search.fit(X_train, y_train)\n",
    "\n",
    "    # Получаем наилучшую модель\n",
    "    best_model = grid_search.best_estimator_\n",
    "    print(f'Лучшая модель для {region_name} и её параметры:\\n\\n', grid_search.best_estimator_)\n",
    "    print ('Метрика RMSE лучшей модели на тренировочной выборке:', grid_search.best_score_)\n",
    "\n",
    "    # Делаем предсказания\n",
    "    y_pred = best_model.predict(X_valid)\n",
    "\n",
    "    # Сохраняем предсказания и правильные ответы\n",
    "    predictions = pd.DataFrame({'true': y_valid, 'predicted': y_pred})\n",
    "    predictions.to_csv(f'predictions_{region_name}.csv', index=False)\n",
    "\n",
    "    # Вычисляем средний запас предсказанного сырья и RMSE\n",
    "    mean_predicted_reserves = y_pred.mean()\n",
    "    rmse = root_mean_squared_error(y_valid, y_pred)\n",
    "\n",
    "    print(f'Регион: {region_name}')\n",
    "    print(f'Средний запас предсказанного сырья: {mean_predicted_reserves:.2f}')\n",
    "    print(f'RMSE: {rmse:.2f}')\n",
    "    print('------------------------------------------')\n",
    "    \n",
    "    return best_model\n",
    "\n",
    "# Обучаем и оцениваем модель для каждого региона\n",
    "best_model_geo_data_0 = train_and_evaluate(geo_data_0, 'geo_data_0')\n",
    "best_model_geo_data_1 = train_and_evaluate(geo_data_1, 'geo_data_1')\n",
    "best_model_geo_data_2 = train_and_evaluate(geo_data_2, 'geo_data_2')"
   ]
  },
  {
   "cell_type": "markdown",
   "metadata": {},
   "source": [
    "### Вывод"
   ]
  },
  {
   "cell_type": "markdown",
   "metadata": {},
   "source": [
    "Видим, что средний запас предсказанного сырья во втром регионе в полтора раа меньше чем в остальных двух. Но и модель для второго региона работает намного лучше. Ошибка модели для второго региона меньше единицы, что позволяет делать рассчеты и выводы на основе этой модели надежными. Тогда как ошибка в модели для первого и треьего региона можетт не учитывать треть запаса сырья или переоценивать запасы практически в два раза, что делает рассчеты и выводы по этим моделям ненадежными."
   ]
  },
  {
   "cell_type": "code",
   "execution_count": null,
   "metadata": {},
   "outputs": [],
   "source": [
    "# На всяких случай проверим как модель обученая на данных geo_data_1 будет работать на данных других регионов\n",
    "# Обучаем модель на geo_data_1\n",
    "best_model_geo_data_1 = train_and_evaluate(geo_data_1, 'geo_data_1')\n",
    "\n",
    "# Применяем модель к geo_data_0 и geo_data_2\n",
    "y_pred_geo_data_0 = best_model_geo_data_1.predict(geo_data_0.drop('product', axis=1))\n",
    "y_pred_geo_data_2 = best_model_geo_data_1.predict(geo_data_2.drop('product', axis=1))\n",
    "\n",
    "# Вычисляем RMSE для geo_data_0 и geo_data_2\n",
    "rmse_geo_data_0 = root_mean_squared_error(geo_data_0['product'], y_pred_geo_data_0)\n",
    "rmse_geo_data_2 = root_mean_squared_error(geo_data_2['product'], y_pred_geo_data_2)\n",
    "\n",
    "# Выводим результаты\n",
    "print(f'RMSE для geo_data_0: {rmse_geo_data_0:.2f}')\n",
    "print(f'RMSE для geo_data_2: {rmse_geo_data_2:.2f}')"
   ]
  },
  {
   "cell_type": "markdown",
   "metadata": {},
   "source": [
    "Результат еще хуже. Дело в данных"
   ]
  },
  {
   "cell_type": "markdown",
   "metadata": {},
   "source": [
    "## Подготовка к расчёту прибыли"
   ]
  },
  {
   "cell_type": "markdown",
   "metadata": {},
   "source": [
    "### Рассчет достаточнного объёма сырья для безубыточной разработки новой скважины и сравнение полученного объёма сырья со средним запасом в каждом регионе."
   ]
  },
  {
   "cell_type": "markdown",
   "metadata": {},
   "source": [
    "**Условия задачи**\n",
    "- При разведке региона исследуют 500 точек, из которых с помощью машинного обучения выбирают 200 лучших для разработки.\n",
    "- Бюджет на разработку скважин в регионе — 10 млрд рублей.\n",
    "- При нынешних ценах один баррель сырья приносит 450 рублей дохода. Доход с каждой единицы продукта составляет 450 тыс. рублей, поскольку объём указан в тысячах баррелей.\n",
    "- После оценки рисков нужно оставить лишь те регионы, в которых вероятность убытков меньше 2.5%. Среди них выбирают регион с наибольшей средней прибылью."
   ]
  },
  {
   "cell_type": "code",
   "execution_count": null,
   "metadata": {},
   "outputs": [],
   "source": [
    "# Количество необходимых скважин\n",
    "NUM_WELLS = 200\n",
    "BUDJET = 10000000000\n",
    "PRODUCT_UNIT_INCOME = 450000\n",
    "# Расчет бюджета на одну скважин\n",
    "ONE_WELL_BUDJET = BUDJET / NUM_WELLS\n",
    "# Достаточнный объем\n",
    "NEED_VOLUME = ONE_WELL_BUDJET/PRODUCT_UNIT_INCOME # получается 111,11"
   ]
  },
  {
   "cell_type": "code",
   "execution_count": null,
   "metadata": {},
   "outputs": [],
   "source": [
    "# Делаем предсказания для всех выборок\n",
    "predictions_geo_data_0 = best_model_geo_data_0.predict(geo_data_0.drop('product', axis=1))\n",
    "predictions_geo_data_1 = best_model_geo_data_1.predict(geo_data_1.drop('product', axis=1))\n",
    "predictions_geo_data_2 = best_model_geo_data_2.predict(geo_data_2.drop('product', axis=1))\n",
    "\n",
    "# Добавляем столбцы с предсказаниями в DataFrame\n",
    "geo_data_0['predictions'] = predictions_geo_data_0\n",
    "geo_data_1['predictions'] = predictions_geo_data_1\n",
    "geo_data_2['predictions'] = predictions_geo_data_2\n",
    "\n",
    "# Выбираем 200 лучших скважин для каждого региона\n",
    "num_wells = 200\n",
    "top_wells_geo_data_0 = geo_data_0.sort_values(by='predictions', ascending=False)[:NUM_WELLS]\n",
    "top_wells_geo_data_1 = geo_data_1.sort_values(by='predictions', ascending=False)[:NUM_WELLS]\n",
    "top_wells_geo_data_2 = geo_data_2.sort_values(by='predictions', ascending=False)[:NUM_WELLS]\n",
    "\n",
    "# Рассчитываем средний запас предсказанного сырья для 200 лучших скважин.\n",
    "mean_predicted_reserves_0 = top_wells_geo_data_0['predictions'].mean()\n",
    "mean_predicted_reserves_1 = top_wells_geo_data_1['predictions'].mean()\n",
    "mean_predicted_reserves_2 = top_wells_geo_data_2['predictions'].mean()\n",
    "\n",
    "print(f\"Необходимый запас сырья для безубыточной разработки: {NEED_VOLUME:.2f} тонн\")\n",
    "print(f\"Средний запас предсказанного сырья для geo_data_0 по известным данным (200 лучших): {mean_predicted_reserves_0:.2f} тонн\")\n",
    "print(f\"Средний запас предсказанного сырья для geo_data_1 по известным данным (200 лучших): {mean_predicted_reserves_1:.2f} тонн\")\n",
    "print(f\"Средний запас предсказанного сырья для geo_data_2 по известным данным (200 лучших): {mean_predicted_reserves_2:.2f} тонн\")"
   ]
  },
  {
   "cell_type": "markdown",
   "metadata": {},
   "source": [
    "### Вывод\n",
    "Средний запас сырья 200 лучших скважин во всех трех регионах выше необходимого запаса сырья для безубыточной разработки. Все три региона обладают достаточным потенциалом для прибыльной разработки скважин."
   ]
  },
  {
   "cell_type": "markdown",
   "metadata": {},
   "source": [
    "## Расчёт прибыли и рисков "
   ]
  },
  {
   "cell_type": "markdown",
   "metadata": {},
   "source": [
    "Получается нам нужно в каждом регионе  по скважинам умножить запас сырья на 450000 и просуммировать все получившиеся значения.Далее из суммы значений вычитаем бюджет выделенный на регион получаем прибыль."
   ]
  },
  {
   "cell_type": "code",
   "execution_count": null,
   "metadata": {},
   "outputs": [],
   "source": [
    "top_wells_geo_data_0['income'] = top_wells_geo_data_0['predictions'] * PRODUCT_UNIT_INCOME\n",
    "top_wells_geo_data_1['income'] = top_wells_geo_data_1['predictions'] * PRODUCT_UNIT_INCOME\n",
    "top_wells_geo_data_2['income'] = top_wells_geo_data_2['predictions'] * PRODUCT_UNIT_INCOME\n",
    "\n",
    "profit_top_wells_geo_data_0 = top_wells_geo_data_0['income'].sum() - BUDJET\n",
    "profit_top_wells_geo_data_1 = top_wells_geo_data_1['income'].sum() - BUDJET\n",
    "profit_top_wells_geo_data_2 = top_wells_geo_data_2['income'].sum() - BUDJET\n",
    "\n",
    "print(f\"Прибыль при разработке 200 лучших скважин в первом регионе {profit_top_wells_geo_data_0:,.2f} руб.\")\n",
    "print(f\"Прибыль при разработке 200 лучших скважин в втором регионе {profit_top_wells_geo_data_1:,.2f} руб.\")\n",
    "print(f\"Прибыль при разработке 200 лучших скважин в третьем регионе {profit_top_wells_geo_data_2:,.2f} руб.\")"
   ]
  },
  {
   "cell_type": "markdown",
   "metadata": {},
   "source": [
    "### Подсчет рисков и прибыли с помощью Bootstrap для каждого региона:"
   ]
  },
  {
   "cell_type": "markdown",
   "metadata": {},
   "source": [
    "**Функция подсчета прибыли**"
   ]
  },
  {
   "cell_type": "markdown",
   "metadata": {},
   "source": [
    "Из предыдущих рассуждений и кодв сформируем функции подсчета прибыл в регионе и функцию метод Bootstrap для моделирования распределения прибыли от разработки скважин."
   ]
  },
  {
   "cell_type": "code",
   "execution_count": null,
   "metadata": {},
   "outputs": [],
   "source": [
    "def profit_region(predicts, NUM_WELLS, data):\n",
    "    # Сортируем предсказания модели в порядке убывания и берем лучшие 200\n",
    "    top_wells_index = predicts.sort_values(ascending=False)[:NUM_WELLS].index\n",
    "    # Суммируем запасы сырья в отобранных скважинах\n",
    "    sum_product = data.loc[top_wells_index, 'product'].sum()\n",
    "    # Рассчитываем доход от продажи сырья\n",
    "    revenue = sum_product * PRODUCT_UNIT_INCOME\n",
    "    # Возвращаем прибыль (доход минус бюджет)\n",
    "    return revenue - BUDJET"
   ]
  },
  {
   "cell_type": "code",
   "execution_count": null,
   "metadata": {},
   "outputs": [],
   "source": [
    "def bootstrap_profit(data, NUM_WELLS, num_simulations=1000):\n",
    "    profits = []\n",
    "    for _ in range(num_simulations):\n",
    "        bootstrap_data = data.sample(n=500, replace=True)  # Бутстрап-выборка\n",
    "        profit = profit_region(bootstrap_data['predictions'], NUM_WELLS, bootstrap_data)  \n",
    "        profits.append(profit)\n",
    "    return profits"
   ]
  },
  {
   "cell_type": "markdown",
   "metadata": {},
   "source": [
    "Вычислим прибыль, доверительный интервал и риск убытков для каждого региона"
   ]
  },
  {
   "cell_type": "code",
   "execution_count": null,
   "metadata": {},
   "outputs": [],
   "source": [
    "from scipy.stats import percentileofscore\n",
    "\n",
    "# Вычисляем прибыль, доверительный интервал и риск\n",
    "results = {}\n",
    "for region_data, region_name in zip(\n",
    "    [geo_data_0, geo_data_1, geo_data_2],\n",
    "    ['geo_data_0', 'geo_data_1', 'geo_data_2']\n",
    "):\n",
    "    profits = bootstrap_profit(region_data, NUM_WELLS, num_simulations=1000)  # Получаем список прибылей из Bootstrap\n",
    "\n",
    "    # Рассчитываем среднюю прибыль, доверительный интервал и риск\n",
    "    mean_profit = np.mean(profits) / 1e6  # Средняя прибыль в млн. рублей\n",
    "    confidence_interval = np.percentile(profits, [2.5, 97.5]) / 1e6  # Доверительный интервал в млн. рублей\n",
    "    risk = np.sum(np.array(profits) < 0) / len(profits) * 100  # Процент риска убытков\n",
    "    # Другие врианты подсчета risk\n",
    "#     risk = (np.array(profits) < 0).mean() * 100\n",
    "#     risk = 100 - percentileofscore(profits, 0)\n",
    "\n",
    "    results[region_name] = {\n",
    "        'mean_profit': mean_profit,\n",
    "        'confidence_interval': confidence_interval,\n",
    "        'risk': risk\n",
    "    }\n",
    "    plt.figure(figsize=(8, 5))  \n",
    "    plt.hist(np.array(profits) / 1e6, bins=20, edgecolor='black') \n",
    "    plt.title(f'Распределение прибыли для региона {region_name}')  \n",
    "    plt.xlabel('Прибыль (млн. рублей)')  \n",
    "    plt.ylabel('Частота')  # Подпись оси Y\n",
    "    plt.axvline(mean_profit, color='red', linestyle='--', label='Средняя прибыль')\n",
    "    plt.axvline(confidence_interval[0], color='blue', linestyle='--', label='Доверительный интервал')\n",
    "    plt.axvline(confidence_interval[1], color='blue', linestyle='--')\n",
    "    plt.legend()  # Легенда\n",
    "    plt.show()\n",
    "    \n",
    "    # Вывод результатов\n",
    "for region_name, data in results.items():\n",
    "    print(f\"Регион: {region_name}\")\n",
    "    print(f\"Средняя прибыль: {data['mean_profit']:.0f} млн. рублей.\")\n",
    "    print(f\"95%-й доверительный интервал: [{data['confidence_interval'][0]:.0f}, {data['confidence_interval'][1]:.0f}] млн. рублей.\")\n",
    "    print(f\"Риск убытков: {data['risk']:.2f}%\")\n",
    "    print('---')"
   ]
  },
  {
   "cell_type": "markdown",
   "metadata": {},
   "source": [
    "### Вывод\n",
    "\n",
    "Рекомендуемый регион для разработки geo_data_1:\n",
    "   - Регион имеет наибольшую среднюю прибыль 501 млн. рублей\n",
    "   - Нижняя граница доверительного интервала для этого региона выше нуля, что предполагает прибыль, в остальных регионах нижня граница = убыток\n",
    "   - Выполнено условие - вероятность убытков меньше 2.5%"
   ]
  }
 ],
 "metadata": {
  "ExecuteTimeLog": [
   {
    "duration": 38878,
    "start_time": "2024-10-31T10:29:19.196Z"
   },
   {
    "duration": 1212,
    "start_time": "2024-10-31T10:33:53.201Z"
   },
   {
    "duration": 13612,
    "start_time": "2024-10-31T10:34:01.440Z"
   },
   {
    "duration": 1201,
    "start_time": "2024-10-31T10:36:01.487Z"
   },
   {
    "duration": 7,
    "start_time": "2024-10-31T10:36:44.859Z"
   },
   {
    "duration": 7,
    "start_time": "2024-10-31T10:36:48.854Z"
   },
   {
    "duration": 264,
    "start_time": "2024-10-31T10:37:30.599Z"
   },
   {
    "duration": 282235,
    "start_time": "2024-10-31T10:39:42.171Z"
   },
   {
    "duration": 185,
    "start_time": "2024-10-31T10:54:18.512Z"
   },
   {
    "duration": 151,
    "start_time": "2024-10-31T10:58:02.132Z"
   },
   {
    "duration": 1556,
    "start_time": "2024-10-31T10:58:32.131Z"
   },
   {
    "duration": 184,
    "start_time": "2024-10-31T10:58:40.487Z"
   },
   {
    "duration": 24,
    "start_time": "2024-10-31T11:32:56.083Z"
   },
   {
    "duration": 19,
    "start_time": "2024-10-31T11:33:25.476Z"
   },
   {
    "duration": 11,
    "start_time": "2024-10-31T11:33:56.583Z"
   },
   {
    "duration": 4,
    "start_time": "2024-10-31T11:34:45.318Z"
   },
   {
    "duration": 19476,
    "start_time": "2024-10-31T11:49:48.732Z"
   },
   {
    "duration": 1348,
    "start_time": "2024-10-31T11:50:08.210Z"
   },
   {
    "duration": 6,
    "start_time": "2024-10-31T11:50:09.560Z"
   },
   {
    "duration": 298,
    "start_time": "2024-10-31T11:50:09.568Z"
   },
   {
    "duration": 218,
    "start_time": "2024-10-31T11:50:09.869Z"
   },
   {
    "duration": 203,
    "start_time": "2024-10-31T11:50:10.089Z"
   },
   {
    "duration": 35,
    "start_time": "2024-10-31T11:50:10.294Z"
   },
   {
    "duration": 9,
    "start_time": "2024-10-31T11:50:10.331Z"
   },
   {
    "duration": 114904,
    "start_time": "2024-10-31T11:50:10.342Z"
   },
   {
    "duration": 47010,
    "start_time": "2024-10-31T11:53:24.442Z"
   },
   {
    "duration": 27326,
    "start_time": "2024-10-31T11:54:52.339Z"
   },
   {
    "duration": 1282,
    "start_time": "2024-10-31T11:56:11.191Z"
   },
   {
    "duration": 19,
    "start_time": "2024-10-31T12:02:23.070Z"
   },
   {
    "duration": 12,
    "start_time": "2024-10-31T12:05:36.917Z"
   },
   {
    "duration": 13870,
    "start_time": "2024-10-31T12:05:41.202Z"
   },
   {
    "duration": 54,
    "start_time": "2024-10-31T12:06:05.898Z"
   },
   {
    "duration": 40715,
    "start_time": "2024-10-31T14:12:26.878Z"
   },
   {
    "duration": 1082,
    "start_time": "2024-10-31T14:13:07.595Z"
   },
   {
    "duration": 8,
    "start_time": "2024-10-31T14:13:08.680Z"
   },
   {
    "duration": 258,
    "start_time": "2024-10-31T14:13:08.689Z"
   },
   {
    "duration": 199,
    "start_time": "2024-10-31T14:13:08.949Z"
   },
   {
    "duration": 215,
    "start_time": "2024-10-31T14:13:09.150Z"
   },
   {
    "duration": 16,
    "start_time": "2024-10-31T14:13:09.367Z"
   },
   {
    "duration": 9,
    "start_time": "2024-10-31T14:13:09.385Z"
   },
   {
    "duration": 1391,
    "start_time": "2024-10-31T14:13:09.418Z"
   },
   {
    "duration": 55,
    "start_time": "2024-10-31T14:13:10.811Z"
   },
   {
    "duration": 74,
    "start_time": "2024-10-31T14:13:54.255Z"
   },
   {
    "duration": 3959,
    "start_time": "2024-10-31T14:14:03.427Z"
   },
   {
    "duration": 48,
    "start_time": "2024-10-31T14:48:10.944Z"
   },
   {
    "duration": 2,
    "start_time": "2024-10-31T14:49:52.238Z"
   },
   {
    "duration": 148,
    "start_time": "2024-10-31T14:52:23.361Z"
   },
   {
    "duration": 3,
    "start_time": "2024-10-31T14:54:50.239Z"
   },
   {
    "duration": 3294,
    "start_time": "2024-10-31T14:58:13.439Z"
   },
   {
    "duration": 147,
    "start_time": "2024-10-31T15:03:15.738Z"
   },
   {
    "duration": 13,
    "start_time": "2024-10-31T15:03:44.156Z"
   },
   {
    "duration": 12,
    "start_time": "2024-10-31T15:04:19.543Z"
   },
   {
    "duration": 12,
    "start_time": "2024-10-31T15:05:58.666Z"
   },
   {
    "duration": 52,
    "start_time": "2024-10-31T15:06:44.415Z"
   },
   {
    "duration": 54,
    "start_time": "2024-10-31T15:07:30.000Z"
   },
   {
    "duration": 49,
    "start_time": "2024-10-31T15:09:06.873Z"
   },
   {
    "duration": 56,
    "start_time": "2024-10-31T15:09:16.573Z"
   },
   {
    "duration": 27,
    "start_time": "2024-10-31T15:10:15.411Z"
   },
   {
    "duration": 31,
    "start_time": "2024-10-31T15:10:46.680Z"
   },
   {
    "duration": 52,
    "start_time": "2024-10-31T15:12:40.585Z"
   },
   {
    "duration": 13,
    "start_time": "2024-10-31T15:14:34.384Z"
   },
   {
    "duration": 14,
    "start_time": "2024-10-31T15:15:01.538Z"
   },
   {
    "duration": 47,
    "start_time": "2024-10-31T15:15:13.829Z"
   },
   {
    "duration": 47,
    "start_time": "2024-10-31T15:17:01.411Z"
   },
   {
    "duration": 30,
    "start_time": "2024-10-31T15:17:29.735Z"
   },
   {
    "duration": 49,
    "start_time": "2024-10-31T15:18:26.939Z"
   },
   {
    "duration": 50,
    "start_time": "2024-10-31T15:19:07.231Z"
   },
   {
    "duration": 55,
    "start_time": "2024-10-31T15:20:35.201Z"
   },
   {
    "duration": 96,
    "start_time": "2024-11-01T07:19:41.673Z"
   },
   {
    "duration": 43829,
    "start_time": "2024-11-01T07:19:49.904Z"
   },
   {
    "duration": 1188,
    "start_time": "2024-11-01T07:20:33.735Z"
   },
   {
    "duration": 7,
    "start_time": "2024-11-01T07:20:34.925Z"
   },
   {
    "duration": 274,
    "start_time": "2024-11-01T07:20:34.934Z"
   },
   {
    "duration": 184,
    "start_time": "2024-11-01T07:20:35.219Z"
   },
   {
    "duration": 203,
    "start_time": "2024-11-01T07:20:35.417Z"
   },
   {
    "duration": 16,
    "start_time": "2024-11-01T07:20:35.622Z"
   },
   {
    "duration": 25,
    "start_time": "2024-11-01T07:20:35.639Z"
   },
   {
    "duration": 4242,
    "start_time": "2024-11-01T07:20:35.666Z"
   },
   {
    "duration": 50,
    "start_time": "2024-11-01T07:20:39.910Z"
   },
   {
    "duration": 76,
    "start_time": "2024-11-01T07:20:39.962Z"
   },
   {
    "duration": 127,
    "start_time": "2024-11-01T07:22:42.861Z"
   },
   {
    "duration": 24,
    "start_time": "2024-11-01T07:23:00.891Z"
   },
   {
    "duration": 3702,
    "start_time": "2024-11-01T07:39:45.558Z"
   },
   {
    "duration": 182,
    "start_time": "2024-11-01T08:25:09.697Z"
   },
   {
    "duration": 37729,
    "start_time": "2024-11-01T08:28:22.026Z"
   },
   {
    "duration": 14576,
    "start_time": "2024-11-01T08:32:26.700Z"
   },
   {
    "duration": 39694,
    "start_time": "2024-11-01T08:36:28.884Z"
   },
   {
    "duration": 38640,
    "start_time": "2024-11-01T08:51:00.152Z"
   },
   {
    "duration": 39559,
    "start_time": "2024-11-01T09:00:58.387Z"
   },
   {
    "duration": 38119,
    "start_time": "2024-11-01T09:02:15.579Z"
   },
   {
    "duration": 39696,
    "start_time": "2024-11-01T09:06:50.281Z"
   },
   {
    "duration": 39214,
    "start_time": "2024-11-01T09:23:52.589Z"
   },
   {
    "duration": 41309,
    "start_time": "2024-11-01T09:25:13.850Z"
   },
   {
    "duration": 14066,
    "start_time": "2024-11-01T09:32:14.000Z"
   },
   {
    "duration": 41182,
    "start_time": "2024-11-01T09:33:50.455Z"
   },
   {
    "duration": 14067,
    "start_time": "2024-11-01T09:34:39.752Z"
   },
   {
    "duration": 32,
    "start_time": "2024-11-01T10:51:09.326Z"
   },
   {
    "duration": 21,
    "start_time": "2024-11-01T12:53:10.467Z"
   },
   {
    "duration": 39592,
    "start_time": "2024-11-01T12:53:25.429Z"
   },
   {
    "duration": 39197,
    "start_time": "2024-11-01T12:55:35.326Z"
   },
   {
    "duration": 39623,
    "start_time": "2024-11-01T13:03:20.299Z"
   },
   {
    "duration": 42257,
    "start_time": "2024-11-01T13:04:05.911Z"
   },
   {
    "duration": 148,
    "start_time": "2024-11-01T13:04:48.170Z"
   },
   {
    "duration": 106,
    "start_time": "2024-11-01T13:06:21.926Z"
   },
   {
    "duration": 27,
    "start_time": "2024-11-01T13:23:36.812Z"
   },
   {
    "duration": 24,
    "start_time": "2024-11-01T13:24:01.476Z"
   },
   {
    "duration": 15723,
    "start_time": "2024-11-01T13:25:09.115Z"
   },
   {
    "duration": 1323,
    "start_time": "2024-11-01T13:25:24.840Z"
   },
   {
    "duration": 7,
    "start_time": "2024-11-01T13:25:26.165Z"
   },
   {
    "duration": 287,
    "start_time": "2024-11-01T13:25:26.173Z"
   },
   {
    "duration": 208,
    "start_time": "2024-11-01T13:25:26.462Z"
   },
   {
    "duration": 205,
    "start_time": "2024-11-01T13:25:26.672Z"
   },
   {
    "duration": 16,
    "start_time": "2024-11-01T13:25:26.879Z"
   },
   {
    "duration": 29,
    "start_time": "2024-11-01T13:25:26.896Z"
   },
   {
    "duration": 3722,
    "start_time": "2024-11-01T13:25:26.927Z"
   },
   {
    "duration": 45,
    "start_time": "2024-11-01T13:25:30.650Z"
   },
   {
    "duration": 39,
    "start_time": "2024-11-01T13:25:30.697Z"
   },
   {
    "duration": 38129,
    "start_time": "2024-11-01T13:25:30.737Z"
   },
   {
    "duration": 13458,
    "start_time": "2024-11-01T13:26:08.867Z"
   },
   {
    "duration": 39364,
    "start_time": "2024-11-01T13:26:22.417Z"
   },
   {
    "duration": 299,
    "start_time": "2024-11-01T13:27:01.783Z"
   },
   {
    "duration": 4,
    "start_time": "2024-11-01T13:27:02.084Z"
   },
   {
    "duration": 156,
    "start_time": "2024-11-01T13:28:57.757Z"
   },
   {
    "duration": 13618,
    "start_time": "2024-11-01T13:29:27.172Z"
   },
   {
    "duration": 1048,
    "start_time": "2024-11-01T13:29:40.793Z"
   },
   {
    "duration": 9,
    "start_time": "2024-11-01T13:29:41.842Z"
   },
   {
    "duration": 216,
    "start_time": "2024-11-01T13:29:41.852Z"
   },
   {
    "duration": 202,
    "start_time": "2024-11-01T13:29:42.071Z"
   },
   {
    "duration": 198,
    "start_time": "2024-11-01T13:29:42.274Z"
   },
   {
    "duration": 14,
    "start_time": "2024-11-01T13:29:42.473Z"
   },
   {
    "duration": 28,
    "start_time": "2024-11-01T13:29:42.489Z"
   },
   {
    "duration": 3890,
    "start_time": "2024-11-01T13:29:42.519Z"
   },
   {
    "duration": 49,
    "start_time": "2024-11-01T13:29:46.411Z"
   },
   {
    "duration": 21,
    "start_time": "2024-11-01T13:29:46.461Z"
   },
   {
    "duration": 38938,
    "start_time": "2024-11-01T13:29:46.483Z"
   },
   {
    "duration": 12634,
    "start_time": "2024-11-01T13:30:25.422Z"
   },
   {
    "duration": 39017,
    "start_time": "2024-11-01T13:30:38.059Z"
   },
   {
    "duration": 280,
    "start_time": "2024-11-01T13:31:17.078Z"
   },
   {
    "duration": 4,
    "start_time": "2024-11-01T13:31:17.360Z"
   },
   {
    "duration": 16022,
    "start_time": "2024-11-01T14:21:53.172Z"
   },
   {
    "duration": 1182,
    "start_time": "2024-11-01T14:22:09.197Z"
   },
   {
    "duration": 8,
    "start_time": "2024-11-01T14:22:10.381Z"
   },
   {
    "duration": 358,
    "start_time": "2024-11-01T14:22:10.392Z"
   },
   {
    "duration": 192,
    "start_time": "2024-11-01T14:22:10.752Z"
   },
   {
    "duration": 186,
    "start_time": "2024-11-01T14:22:10.946Z"
   },
   {
    "duration": 15,
    "start_time": "2024-11-01T14:22:11.133Z"
   },
   {
    "duration": 8,
    "start_time": "2024-11-01T14:22:11.150Z"
   },
   {
    "duration": 3759,
    "start_time": "2024-11-01T14:22:11.160Z"
   },
   {
    "duration": 50,
    "start_time": "2024-11-01T14:22:14.927Z"
   },
   {
    "duration": 21,
    "start_time": "2024-11-01T14:22:14.978Z"
   },
   {
    "duration": 39465,
    "start_time": "2024-11-01T14:22:15.000Z"
   },
   {
    "duration": 12957,
    "start_time": "2024-11-01T14:22:54.466Z"
   },
   {
    "duration": 39837,
    "start_time": "2024-11-01T14:23:07.426Z"
   },
   {
    "duration": 354,
    "start_time": "2024-11-01T14:23:47.265Z"
   },
   {
    "duration": 5,
    "start_time": "2024-11-01T14:23:47.625Z"
   },
   {
    "duration": 25,
    "start_time": "2024-11-01T14:48:14.647Z"
   },
   {
    "duration": 7,
    "start_time": "2024-11-01T14:49:10.918Z"
   },
   {
    "duration": 7,
    "start_time": "2024-11-01T14:51:31.394Z"
   },
   {
    "duration": 9,
    "start_time": "2024-11-01T14:54:03.144Z"
   },
   {
    "duration": 171,
    "start_time": "2024-11-01T14:54:25.183Z"
   },
   {
    "duration": 7,
    "start_time": "2024-11-01T14:55:01.069Z"
   },
   {
    "duration": 8,
    "start_time": "2024-11-01T14:56:51.433Z"
   },
   {
    "duration": 8,
    "start_time": "2024-11-01T15:00:40.774Z"
   },
   {
    "duration": 8,
    "start_time": "2024-11-01T15:01:05.568Z"
   },
   {
    "duration": 1096,
    "start_time": "2024-11-01T18:02:59.658Z"
   },
   {
    "duration": 39533,
    "start_time": "2024-11-03T12:12:21.602Z"
   },
   {
    "duration": 1195,
    "start_time": "2024-11-03T12:13:01.137Z"
   },
   {
    "duration": 7,
    "start_time": "2024-11-03T12:13:02.333Z"
   },
   {
    "duration": 255,
    "start_time": "2024-11-03T12:13:02.341Z"
   },
   {
    "duration": 210,
    "start_time": "2024-11-03T12:13:02.598Z"
   },
   {
    "duration": 209,
    "start_time": "2024-11-03T12:13:02.810Z"
   },
   {
    "duration": 15,
    "start_time": "2024-11-03T12:13:03.021Z"
   },
   {
    "duration": 10,
    "start_time": "2024-11-03T12:13:03.038Z"
   },
   {
    "duration": 3526,
    "start_time": "2024-11-03T12:13:03.049Z"
   },
   {
    "duration": 189,
    "start_time": "2024-11-03T12:13:06.577Z"
   },
   {
    "duration": 26,
    "start_time": "2024-11-03T12:13:06.768Z"
   },
   {
    "duration": 40866,
    "start_time": "2024-11-03T12:13:06.795Z"
   },
   {
    "duration": 13013,
    "start_time": "2024-11-03T12:13:47.663Z"
   },
   {
    "duration": 40270,
    "start_time": "2024-11-03T12:14:00.680Z"
   },
   {
    "duration": 306,
    "start_time": "2024-11-03T12:14:40.952Z"
   },
   {
    "duration": 19,
    "start_time": "2024-11-03T12:14:41.260Z"
   },
   {
    "duration": 970,
    "start_time": "2024-11-03T12:14:41.281Z"
   },
   {
    "duration": 3,
    "start_time": "2024-11-03T12:14:42.253Z"
   },
   {
    "duration": 1603,
    "start_time": "2024-11-03T12:17:57.752Z"
   },
   {
    "duration": 370,
    "start_time": "2024-11-03T12:18:25.428Z"
   },
   {
    "duration": 54,
    "start_time": "2024-11-03T12:58:04.490Z"
   },
   {
    "duration": 198,
    "start_time": "2024-11-03T13:08:29.186Z"
   },
   {
    "duration": 804,
    "start_time": "2024-11-03T13:08:43.054Z"
   },
   {
    "duration": 3,
    "start_time": "2024-11-03T13:23:22.442Z"
   },
   {
    "duration": 3,
    "start_time": "2024-11-03T13:23:33.449Z"
   },
   {
    "duration": 52,
    "start_time": "2024-11-03T13:50:20.243Z"
   },
   {
    "duration": 4,
    "start_time": "2024-11-03T13:50:32.260Z"
   },
   {
    "duration": 17,
    "start_time": "2024-11-03T13:56:43.225Z"
   },
   {
    "duration": 15,
    "start_time": "2024-11-03T13:57:48.672Z"
   },
   {
    "duration": 17,
    "start_time": "2024-11-03T13:58:32.816Z"
   },
   {
    "duration": 3,
    "start_time": "2024-11-03T13:59:08.310Z"
   },
   {
    "duration": 4,
    "start_time": "2024-11-03T13:59:09.781Z"
   },
   {
    "duration": 82550,
    "start_time": "2024-11-03T13:59:12.599Z"
   },
   {
    "duration": 83744,
    "start_time": "2024-11-03T14:04:31.470Z"
   },
   {
    "duration": 84123,
    "start_time": "2024-11-03T14:12:29.166Z"
   },
   {
    "duration": 4,
    "start_time": "2024-11-03T14:13:53.291Z"
   },
   {
    "duration": 6,
    "start_time": "2024-11-03T14:13:53.296Z"
   },
   {
    "duration": 162,
    "start_time": "2024-11-07T11:15:18.784Z"
   },
   {
    "duration": 5687,
    "start_time": "2024-11-07T11:19:04.292Z"
   },
   {
    "duration": 15436,
    "start_time": "2024-11-07T11:56:02.860Z"
   },
   {
    "duration": 1299,
    "start_time": "2024-11-07T11:56:18.298Z"
   },
   {
    "duration": 7,
    "start_time": "2024-11-07T11:56:19.599Z"
   },
   {
    "duration": 254,
    "start_time": "2024-11-07T11:56:19.608Z"
   },
   {
    "duration": 14,
    "start_time": "2024-11-07T11:56:19.865Z"
   },
   {
    "duration": 123,
    "start_time": "2024-11-07T11:56:19.880Z"
   },
   {
    "duration": 72,
    "start_time": "2024-11-07T11:56:20.005Z"
   },
   {
    "duration": 72,
    "start_time": "2024-11-07T11:56:20.079Z"
   },
   {
    "duration": 0,
    "start_time": "2024-11-07T11:56:20.153Z"
   },
   {
    "duration": 0,
    "start_time": "2024-11-07T11:56:20.154Z"
   },
   {
    "duration": 0,
    "start_time": "2024-11-07T11:56:20.155Z"
   },
   {
    "duration": 0,
    "start_time": "2024-11-07T11:56:20.157Z"
   },
   {
    "duration": 0,
    "start_time": "2024-11-07T11:56:20.158Z"
   },
   {
    "duration": 0,
    "start_time": "2024-11-07T11:56:20.159Z"
   },
   {
    "duration": 0,
    "start_time": "2024-11-07T11:56:20.160Z"
   },
   {
    "duration": 0,
    "start_time": "2024-11-07T11:56:20.161Z"
   },
   {
    "duration": 0,
    "start_time": "2024-11-07T11:56:20.162Z"
   },
   {
    "duration": 0,
    "start_time": "2024-11-07T11:56:20.163Z"
   },
   {
    "duration": 0,
    "start_time": "2024-11-07T11:56:20.164Z"
   },
   {
    "duration": 0,
    "start_time": "2024-11-07T11:56:20.166Z"
   },
   {
    "duration": 0,
    "start_time": "2024-11-07T11:56:20.167Z"
   },
   {
    "duration": 0,
    "start_time": "2024-11-07T11:56:20.167Z"
   },
   {
    "duration": 0,
    "start_time": "2024-11-07T11:56:20.169Z"
   },
   {
    "duration": 0,
    "start_time": "2024-11-07T11:56:20.170Z"
   },
   {
    "duration": 0,
    "start_time": "2024-11-07T11:56:20.171Z"
   },
   {
    "duration": 0,
    "start_time": "2024-11-07T11:56:20.172Z"
   },
   {
    "duration": 0,
    "start_time": "2024-11-07T11:56:20.173Z"
   },
   {
    "duration": 0,
    "start_time": "2024-11-07T11:56:20.174Z"
   },
   {
    "duration": 0,
    "start_time": "2024-11-07T11:56:20.176Z"
   },
   {
    "duration": 0,
    "start_time": "2024-11-07T11:56:20.177Z"
   },
   {
    "duration": 0,
    "start_time": "2024-11-07T11:56:20.177Z"
   },
   {
    "duration": 0,
    "start_time": "2024-11-07T11:56:20.178Z"
   },
   {
    "duration": 0,
    "start_time": "2024-11-07T11:56:20.180Z"
   },
   {
    "duration": 0,
    "start_time": "2024-11-07T11:56:20.181Z"
   },
   {
    "duration": 0,
    "start_time": "2024-11-07T11:56:20.182Z"
   },
   {
    "duration": 187,
    "start_time": "2024-11-07T11:57:21.667Z"
   },
   {
    "duration": 15202,
    "start_time": "2024-11-07T11:58:09.874Z"
   },
   {
    "duration": 864,
    "start_time": "2024-11-07T11:58:25.079Z"
   },
   {
    "duration": 6,
    "start_time": "2024-11-07T11:58:25.945Z"
   },
   {
    "duration": 235,
    "start_time": "2024-11-07T11:58:25.953Z"
   },
   {
    "duration": 19,
    "start_time": "2024-11-07T11:58:26.200Z"
   },
   {
    "duration": 113,
    "start_time": "2024-11-07T11:58:26.221Z"
   },
   {
    "duration": 110,
    "start_time": "2024-11-07T11:58:26.336Z"
   },
   {
    "duration": 222,
    "start_time": "2024-11-07T11:58:26.448Z"
   },
   {
    "duration": 199,
    "start_time": "2024-11-07T11:58:26.672Z"
   },
   {
    "duration": 35,
    "start_time": "2024-11-07T11:58:26.875Z"
   },
   {
    "duration": 56,
    "start_time": "2024-11-07T11:58:26.912Z"
   },
   {
    "duration": 80,
    "start_time": "2024-11-07T11:58:26.969Z"
   },
   {
    "duration": 76,
    "start_time": "2024-11-07T11:58:27.050Z"
   },
   {
    "duration": 0,
    "start_time": "2024-11-07T11:58:27.128Z"
   },
   {
    "duration": 0,
    "start_time": "2024-11-07T11:58:27.129Z"
   },
   {
    "duration": 0,
    "start_time": "2024-11-07T11:58:27.130Z"
   },
   {
    "duration": 0,
    "start_time": "2024-11-07T11:58:27.131Z"
   },
   {
    "duration": 0,
    "start_time": "2024-11-07T11:58:27.132Z"
   },
   {
    "duration": 0,
    "start_time": "2024-11-07T11:58:27.133Z"
   },
   {
    "duration": 0,
    "start_time": "2024-11-07T11:58:27.134Z"
   },
   {
    "duration": 0,
    "start_time": "2024-11-07T11:58:27.135Z"
   },
   {
    "duration": 0,
    "start_time": "2024-11-07T11:58:27.136Z"
   },
   {
    "duration": 0,
    "start_time": "2024-11-07T11:58:27.137Z"
   },
   {
    "duration": 0,
    "start_time": "2024-11-07T11:58:27.138Z"
   },
   {
    "duration": 0,
    "start_time": "2024-11-07T11:58:27.139Z"
   },
   {
    "duration": 0,
    "start_time": "2024-11-07T11:58:27.140Z"
   },
   {
    "duration": 0,
    "start_time": "2024-11-07T11:58:27.141Z"
   },
   {
    "duration": 0,
    "start_time": "2024-11-07T11:58:27.142Z"
   },
   {
    "duration": 0,
    "start_time": "2024-11-07T11:58:27.143Z"
   },
   {
    "duration": 0,
    "start_time": "2024-11-07T11:58:27.144Z"
   },
   {
    "duration": 0,
    "start_time": "2024-11-07T11:58:27.144Z"
   },
   {
    "duration": 0,
    "start_time": "2024-11-07T11:58:27.145Z"
   },
   {
    "duration": 0,
    "start_time": "2024-11-07T11:58:27.147Z"
   },
   {
    "duration": 0,
    "start_time": "2024-11-07T11:58:27.148Z"
   },
   {
    "duration": 0,
    "start_time": "2024-11-07T11:58:27.149Z"
   },
   {
    "duration": 40348,
    "start_time": "2024-11-08T06:36:37.178Z"
   },
   {
    "duration": 1106,
    "start_time": "2024-11-08T06:37:17.528Z"
   },
   {
    "duration": 7,
    "start_time": "2024-11-08T06:37:18.636Z"
   },
   {
    "duration": 257,
    "start_time": "2024-11-08T06:37:18.644Z"
   },
   {
    "duration": 15,
    "start_time": "2024-11-08T06:37:18.903Z"
   },
   {
    "duration": 141,
    "start_time": "2024-11-08T06:37:18.920Z"
   },
   {
    "duration": 103,
    "start_time": "2024-11-08T06:37:19.063Z"
   },
   {
    "duration": 30,
    "start_time": "2024-11-08T06:37:19.168Z"
   },
   {
    "duration": 209,
    "start_time": "2024-11-08T06:37:19.200Z"
   },
   {
    "duration": 32,
    "start_time": "2024-11-08T06:37:19.412Z"
   },
   {
    "duration": 49,
    "start_time": "2024-11-08T06:37:19.445Z"
   },
   {
    "duration": 88,
    "start_time": "2024-11-08T06:37:19.496Z"
   },
   {
    "duration": 18,
    "start_time": "2024-11-08T06:37:19.586Z"
   },
   {
    "duration": 210,
    "start_time": "2024-11-08T06:37:19.606Z"
   },
   {
    "duration": 29,
    "start_time": "2024-11-08T06:37:19.818Z"
   },
   {
    "duration": 76,
    "start_time": "2024-11-08T06:37:19.848Z"
   },
   {
    "duration": 96,
    "start_time": "2024-11-08T06:37:19.926Z"
   },
   {
    "duration": 32,
    "start_time": "2024-11-08T06:37:20.024Z"
   },
   {
    "duration": 54,
    "start_time": "2024-11-08T06:37:20.057Z"
   },
   {
    "duration": 23,
    "start_time": "2024-11-08T06:37:20.112Z"
   },
   {
    "duration": 3801,
    "start_time": "2024-11-08T06:37:20.138Z"
   }
  ],
  "kernelspec": {
   "display_name": "Python 3 (ipykernel)",
   "language": "python",
   "name": "python3"
  },
  "language_info": {
   "codemirror_mode": {
    "name": "ipython",
    "version": 3
   },
   "file_extension": ".py",
   "mimetype": "text/x-python",
   "name": "python",
   "nbconvert_exporter": "python",
   "pygments_lexer": "ipython3",
   "version": "3.9.5"
  },
  "toc": {
   "base_numbering": 1,
   "nav_menu": {},
   "number_sections": true,
   "sideBar": true,
   "skip_h1_title": true,
   "title_cell": "Table of Contents",
   "title_sidebar": "Contents",
   "toc_cell": false,
   "toc_position": {
    "height": "calc(100% - 180px)",
    "left": "10px",
    "top": "150px",
    "width": "165px"
   },
   "toc_section_display": true,
   "toc_window_display": true
  }
 },
 "nbformat": 4,
 "nbformat_minor": 2
}

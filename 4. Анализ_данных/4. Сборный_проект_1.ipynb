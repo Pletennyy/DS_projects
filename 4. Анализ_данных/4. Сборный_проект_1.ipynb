{
 "cells": [
  {
   "cell_type": "markdown",
   "metadata": {},
   "source": [
    "# Проект: Анализ и выявление факторов успеха продаж компьютерных игр в интернет-магазине «Стримчик».\n",
    "\n",
    "**Описание проекта**\n",
    "\n",
    "Проект направлен на анализ исторических данных о продажах компьютерных игр, чтобы выявить факторы, определяющие их успешность.\n",
    "\n",
    "Цель — прогнозировать продажи в будущем, определять потенциально популярные продукты и планировать рекламные кампании.\n",
    "\n",
    "В проекте мы будем использовать данные о прадажах, оценки пользователей и экспертов, жанры и платформы Интернет-магазина  «Стримчик», который продаёт по всему миру компьютерные игры (games.csv).\n",
    "\n",
    "Описание данных:\n",
    " 1. Name — название игры\n",
    " 2. Platform — платформа\n",
    " 3. Year_of_Release — год выпуска\n",
    " 4. Genre — жанр игры\n",
    " 5. NA_sales — продажи в Северной Америке (миллионы проданных копий)\n",
    " 6. EU_sales — продажи в Европе (миллионы проданных копий)\n",
    " 7. JP_sales — продажи в Японии (миллионы проданных копий)\n",
    " 8. Other_sales — продажи в других странах (миллионы проданных копий)\n",
    " 9. Critic_Score — оценка критиков (максимум 100)\n",
    " 10. User_Score — оценка пользователей (максимум 10)\n",
    " 11. Rating — рейтинг от организации ESRB (англ. Entertainment Software Rating Board). Эта ассоциация определяет рейтинг компьютерных игр и присваивает им подходящую возрастную категорию.\n",
    " \n",
    "План работы:\n",
    " 1. Провести исследовательский анализ данных:\n",
    "   - Сколько игр выпускалось в разные годы\n",
    "   - Посмотрим, как менялись продажи по платформам и какие факторы влияли на это\n",
    "   - Поймем в каких жанрах и скаким рейтингом ESRB продавалось игр больше всего\n",
    " 2. Провести проверку гипотез:\n",
    "   - Проверим одинаковы ли средние пользовательские рейтинги платформ Xbox One и PC\n",
    "   - Проверим разные ли Средние пользовательские рейтинги жанров Action (англ. «действие», экшен-игры) и Sports (англ. «спортивные соревнования»)\n",
    " 3. Сформулировать рекомендации на основе полученных результатов:\n",
    "   - Определить перспективные платформы и жанры для выпуска новых игр.\n",
    "   - Разработать рекомендации по рекламной стратегии с учетом региональных особенностей и предпочтений пользователей."
   ]
  },
  {
   "cell_type": "code",
   "execution_count": 1,
   "metadata": {},
   "outputs": [],
   "source": [
    "import pandas as pd\n",
    "import matplotlib.pyplot as plt\n",
    "import numpy as np\n",
    "from scipy import stats as st\n",
    "import seaborn as sns\n",
    "# Заранее сделаем настройку метода dispaly, чтобы он всегда выводил все столбцы датафрейма\n",
    "pd.set_option('display.max_columns', None)"
   ]
  },
  {
   "cell_type": "markdown",
   "metadata": {},
   "source": [
    "## Загрузка и характеристика данных"
   ]
  },
  {
   "cell_type": "code",
   "execution_count": 2,
   "metadata": {},
   "outputs": [
    {
     "name": "stdout",
     "output_type": "stream",
     "text": [
      "<class 'pandas.core.frame.DataFrame'>\n",
      "RangeIndex: 16715 entries, 0 to 16714\n",
      "Data columns (total 11 columns):\n",
      " #   Column           Non-Null Count  Dtype  \n",
      "---  ------           --------------  -----  \n",
      " 0   Name             16713 non-null  object \n",
      " 1   Platform         16715 non-null  object \n",
      " 2   Year_of_Release  16446 non-null  float64\n",
      " 3   Genre            16713 non-null  object \n",
      " 4   NA_sales         16715 non-null  float64\n",
      " 5   EU_sales         16715 non-null  float64\n",
      " 6   JP_sales         16715 non-null  float64\n",
      " 7   Other_sales      16715 non-null  float64\n",
      " 8   Critic_Score     8137 non-null   float64\n",
      " 9   User_Score       10014 non-null  object \n",
      " 10  Rating           9949 non-null   object \n",
      "dtypes: float64(6), object(5)\n",
      "memory usage: 1.4+ MB\n",
      "None\n"
     ]
    }
   ],
   "source": [
    "# Для  начала выведем общую информацию и предоставленных данных\n",
    "data = pd.read_csv('/datasets/games.csv')\n",
    "print(data.info())"
   ]
  },
  {
   "cell_type": "code",
   "execution_count": 3,
   "metadata": {
    "scrolled": true
   },
   "outputs": [
    {
     "data": {
      "text/html": [
       "<div>\n",
       "<style scoped>\n",
       "    .dataframe tbody tr th:only-of-type {\n",
       "        vertical-align: middle;\n",
       "    }\n",
       "\n",
       "    .dataframe tbody tr th {\n",
       "        vertical-align: top;\n",
       "    }\n",
       "\n",
       "    .dataframe thead th {\n",
       "        text-align: right;\n",
       "    }\n",
       "</style>\n",
       "<table border=\"1\" class=\"dataframe\">\n",
       "  <thead>\n",
       "    <tr style=\"text-align: right;\">\n",
       "      <th></th>\n",
       "      <th>Name</th>\n",
       "      <th>Platform</th>\n",
       "      <th>Year_of_Release</th>\n",
       "      <th>Genre</th>\n",
       "      <th>NA_sales</th>\n",
       "      <th>EU_sales</th>\n",
       "      <th>JP_sales</th>\n",
       "      <th>Other_sales</th>\n",
       "      <th>Critic_Score</th>\n",
       "      <th>User_Score</th>\n",
       "      <th>Rating</th>\n",
       "    </tr>\n",
       "  </thead>\n",
       "  <tbody>\n",
       "    <tr>\n",
       "      <th>0</th>\n",
       "      <td>Wii Sports</td>\n",
       "      <td>Wii</td>\n",
       "      <td>2006.0</td>\n",
       "      <td>Sports</td>\n",
       "      <td>41.36</td>\n",
       "      <td>28.96</td>\n",
       "      <td>3.77</td>\n",
       "      <td>8.45</td>\n",
       "      <td>76.0</td>\n",
       "      <td>8</td>\n",
       "      <td>E</td>\n",
       "    </tr>\n",
       "    <tr>\n",
       "      <th>1</th>\n",
       "      <td>Super Mario Bros.</td>\n",
       "      <td>NES</td>\n",
       "      <td>1985.0</td>\n",
       "      <td>Platform</td>\n",
       "      <td>29.08</td>\n",
       "      <td>3.58</td>\n",
       "      <td>6.81</td>\n",
       "      <td>0.77</td>\n",
       "      <td>NaN</td>\n",
       "      <td>NaN</td>\n",
       "      <td>NaN</td>\n",
       "    </tr>\n",
       "    <tr>\n",
       "      <th>2</th>\n",
       "      <td>Mario Kart Wii</td>\n",
       "      <td>Wii</td>\n",
       "      <td>2008.0</td>\n",
       "      <td>Racing</td>\n",
       "      <td>15.68</td>\n",
       "      <td>12.76</td>\n",
       "      <td>3.79</td>\n",
       "      <td>3.29</td>\n",
       "      <td>82.0</td>\n",
       "      <td>8.3</td>\n",
       "      <td>E</td>\n",
       "    </tr>\n",
       "    <tr>\n",
       "      <th>3</th>\n",
       "      <td>Wii Sports Resort</td>\n",
       "      <td>Wii</td>\n",
       "      <td>2009.0</td>\n",
       "      <td>Sports</td>\n",
       "      <td>15.61</td>\n",
       "      <td>10.93</td>\n",
       "      <td>3.28</td>\n",
       "      <td>2.95</td>\n",
       "      <td>80.0</td>\n",
       "      <td>8</td>\n",
       "      <td>E</td>\n",
       "    </tr>\n",
       "    <tr>\n",
       "      <th>4</th>\n",
       "      <td>Pokemon Red/Pokemon Blue</td>\n",
       "      <td>GB</td>\n",
       "      <td>1996.0</td>\n",
       "      <td>Role-Playing</td>\n",
       "      <td>11.27</td>\n",
       "      <td>8.89</td>\n",
       "      <td>10.22</td>\n",
       "      <td>1.00</td>\n",
       "      <td>NaN</td>\n",
       "      <td>NaN</td>\n",
       "      <td>NaN</td>\n",
       "    </tr>\n",
       "    <tr>\n",
       "      <th>5</th>\n",
       "      <td>Tetris</td>\n",
       "      <td>GB</td>\n",
       "      <td>1989.0</td>\n",
       "      <td>Puzzle</td>\n",
       "      <td>23.20</td>\n",
       "      <td>2.26</td>\n",
       "      <td>4.22</td>\n",
       "      <td>0.58</td>\n",
       "      <td>NaN</td>\n",
       "      <td>NaN</td>\n",
       "      <td>NaN</td>\n",
       "    </tr>\n",
       "    <tr>\n",
       "      <th>6</th>\n",
       "      <td>New Super Mario Bros.</td>\n",
       "      <td>DS</td>\n",
       "      <td>2006.0</td>\n",
       "      <td>Platform</td>\n",
       "      <td>11.28</td>\n",
       "      <td>9.14</td>\n",
       "      <td>6.50</td>\n",
       "      <td>2.88</td>\n",
       "      <td>89.0</td>\n",
       "      <td>8.5</td>\n",
       "      <td>E</td>\n",
       "    </tr>\n",
       "    <tr>\n",
       "      <th>7</th>\n",
       "      <td>Wii Play</td>\n",
       "      <td>Wii</td>\n",
       "      <td>2006.0</td>\n",
       "      <td>Misc</td>\n",
       "      <td>13.96</td>\n",
       "      <td>9.18</td>\n",
       "      <td>2.93</td>\n",
       "      <td>2.84</td>\n",
       "      <td>58.0</td>\n",
       "      <td>6.6</td>\n",
       "      <td>E</td>\n",
       "    </tr>\n",
       "    <tr>\n",
       "      <th>8</th>\n",
       "      <td>New Super Mario Bros. Wii</td>\n",
       "      <td>Wii</td>\n",
       "      <td>2009.0</td>\n",
       "      <td>Platform</td>\n",
       "      <td>14.44</td>\n",
       "      <td>6.94</td>\n",
       "      <td>4.70</td>\n",
       "      <td>2.24</td>\n",
       "      <td>87.0</td>\n",
       "      <td>8.4</td>\n",
       "      <td>E</td>\n",
       "    </tr>\n",
       "    <tr>\n",
       "      <th>9</th>\n",
       "      <td>Duck Hunt</td>\n",
       "      <td>NES</td>\n",
       "      <td>1984.0</td>\n",
       "      <td>Shooter</td>\n",
       "      <td>26.93</td>\n",
       "      <td>0.63</td>\n",
       "      <td>0.28</td>\n",
       "      <td>0.47</td>\n",
       "      <td>NaN</td>\n",
       "      <td>NaN</td>\n",
       "      <td>NaN</td>\n",
       "    </tr>\n",
       "    <tr>\n",
       "      <th>10</th>\n",
       "      <td>Nintendogs</td>\n",
       "      <td>DS</td>\n",
       "      <td>2005.0</td>\n",
       "      <td>Simulation</td>\n",
       "      <td>9.05</td>\n",
       "      <td>10.95</td>\n",
       "      <td>1.93</td>\n",
       "      <td>2.74</td>\n",
       "      <td>NaN</td>\n",
       "      <td>NaN</td>\n",
       "      <td>NaN</td>\n",
       "    </tr>\n",
       "    <tr>\n",
       "      <th>11</th>\n",
       "      <td>Mario Kart DS</td>\n",
       "      <td>DS</td>\n",
       "      <td>2005.0</td>\n",
       "      <td>Racing</td>\n",
       "      <td>9.71</td>\n",
       "      <td>7.47</td>\n",
       "      <td>4.13</td>\n",
       "      <td>1.90</td>\n",
       "      <td>91.0</td>\n",
       "      <td>8.6</td>\n",
       "      <td>E</td>\n",
       "    </tr>\n",
       "    <tr>\n",
       "      <th>12</th>\n",
       "      <td>Pokemon Gold/Pokemon Silver</td>\n",
       "      <td>GB</td>\n",
       "      <td>1999.0</td>\n",
       "      <td>Role-Playing</td>\n",
       "      <td>9.00</td>\n",
       "      <td>6.18</td>\n",
       "      <td>7.20</td>\n",
       "      <td>0.71</td>\n",
       "      <td>NaN</td>\n",
       "      <td>NaN</td>\n",
       "      <td>NaN</td>\n",
       "    </tr>\n",
       "    <tr>\n",
       "      <th>13</th>\n",
       "      <td>Wii Fit</td>\n",
       "      <td>Wii</td>\n",
       "      <td>2007.0</td>\n",
       "      <td>Sports</td>\n",
       "      <td>8.92</td>\n",
       "      <td>8.03</td>\n",
       "      <td>3.60</td>\n",
       "      <td>2.15</td>\n",
       "      <td>80.0</td>\n",
       "      <td>7.7</td>\n",
       "      <td>E</td>\n",
       "    </tr>\n",
       "    <tr>\n",
       "      <th>14</th>\n",
       "      <td>Kinect Adventures!</td>\n",
       "      <td>X360</td>\n",
       "      <td>2010.0</td>\n",
       "      <td>Misc</td>\n",
       "      <td>15.00</td>\n",
       "      <td>4.89</td>\n",
       "      <td>0.24</td>\n",
       "      <td>1.69</td>\n",
       "      <td>61.0</td>\n",
       "      <td>6.3</td>\n",
       "      <td>E</td>\n",
       "    </tr>\n",
       "    <tr>\n",
       "      <th>15</th>\n",
       "      <td>Wii Fit Plus</td>\n",
       "      <td>Wii</td>\n",
       "      <td>2009.0</td>\n",
       "      <td>Sports</td>\n",
       "      <td>9.01</td>\n",
       "      <td>8.49</td>\n",
       "      <td>2.53</td>\n",
       "      <td>1.77</td>\n",
       "      <td>80.0</td>\n",
       "      <td>7.4</td>\n",
       "      <td>E</td>\n",
       "    </tr>\n",
       "    <tr>\n",
       "      <th>16</th>\n",
       "      <td>Grand Theft Auto V</td>\n",
       "      <td>PS3</td>\n",
       "      <td>2013.0</td>\n",
       "      <td>Action</td>\n",
       "      <td>7.02</td>\n",
       "      <td>9.09</td>\n",
       "      <td>0.98</td>\n",
       "      <td>3.96</td>\n",
       "      <td>97.0</td>\n",
       "      <td>8.2</td>\n",
       "      <td>M</td>\n",
       "    </tr>\n",
       "    <tr>\n",
       "      <th>17</th>\n",
       "      <td>Grand Theft Auto: San Andreas</td>\n",
       "      <td>PS2</td>\n",
       "      <td>2004.0</td>\n",
       "      <td>Action</td>\n",
       "      <td>9.43</td>\n",
       "      <td>0.40</td>\n",
       "      <td>0.41</td>\n",
       "      <td>10.57</td>\n",
       "      <td>95.0</td>\n",
       "      <td>9</td>\n",
       "      <td>M</td>\n",
       "    </tr>\n",
       "    <tr>\n",
       "      <th>18</th>\n",
       "      <td>Super Mario World</td>\n",
       "      <td>SNES</td>\n",
       "      <td>1990.0</td>\n",
       "      <td>Platform</td>\n",
       "      <td>12.78</td>\n",
       "      <td>3.75</td>\n",
       "      <td>3.54</td>\n",
       "      <td>0.55</td>\n",
       "      <td>NaN</td>\n",
       "      <td>NaN</td>\n",
       "      <td>NaN</td>\n",
       "    </tr>\n",
       "    <tr>\n",
       "      <th>19</th>\n",
       "      <td>Brain Age: Train Your Brain in Minutes a Day</td>\n",
       "      <td>DS</td>\n",
       "      <td>2005.0</td>\n",
       "      <td>Misc</td>\n",
       "      <td>4.74</td>\n",
       "      <td>9.20</td>\n",
       "      <td>4.16</td>\n",
       "      <td>2.04</td>\n",
       "      <td>77.0</td>\n",
       "      <td>7.9</td>\n",
       "      <td>E</td>\n",
       "    </tr>\n",
       "  </tbody>\n",
       "</table>\n",
       "</div>"
      ],
      "text/plain": [
       "                                            Name Platform  Year_of_Release  \\\n",
       "0                                     Wii Sports      Wii           2006.0   \n",
       "1                              Super Mario Bros.      NES           1985.0   \n",
       "2                                 Mario Kart Wii      Wii           2008.0   \n",
       "3                              Wii Sports Resort      Wii           2009.0   \n",
       "4                       Pokemon Red/Pokemon Blue       GB           1996.0   \n",
       "5                                         Tetris       GB           1989.0   \n",
       "6                          New Super Mario Bros.       DS           2006.0   \n",
       "7                                       Wii Play      Wii           2006.0   \n",
       "8                      New Super Mario Bros. Wii      Wii           2009.0   \n",
       "9                                      Duck Hunt      NES           1984.0   \n",
       "10                                    Nintendogs       DS           2005.0   \n",
       "11                                 Mario Kart DS       DS           2005.0   \n",
       "12                   Pokemon Gold/Pokemon Silver       GB           1999.0   \n",
       "13                                       Wii Fit      Wii           2007.0   \n",
       "14                            Kinect Adventures!     X360           2010.0   \n",
       "15                                  Wii Fit Plus      Wii           2009.0   \n",
       "16                            Grand Theft Auto V      PS3           2013.0   \n",
       "17                 Grand Theft Auto: San Andreas      PS2           2004.0   \n",
       "18                             Super Mario World     SNES           1990.0   \n",
       "19  Brain Age: Train Your Brain in Minutes a Day       DS           2005.0   \n",
       "\n",
       "           Genre  NA_sales  EU_sales  JP_sales  Other_sales  Critic_Score  \\\n",
       "0         Sports     41.36     28.96      3.77         8.45          76.0   \n",
       "1       Platform     29.08      3.58      6.81         0.77           NaN   \n",
       "2         Racing     15.68     12.76      3.79         3.29          82.0   \n",
       "3         Sports     15.61     10.93      3.28         2.95          80.0   \n",
       "4   Role-Playing     11.27      8.89     10.22         1.00           NaN   \n",
       "5         Puzzle     23.20      2.26      4.22         0.58           NaN   \n",
       "6       Platform     11.28      9.14      6.50         2.88          89.0   \n",
       "7           Misc     13.96      9.18      2.93         2.84          58.0   \n",
       "8       Platform     14.44      6.94      4.70         2.24          87.0   \n",
       "9        Shooter     26.93      0.63      0.28         0.47           NaN   \n",
       "10    Simulation      9.05     10.95      1.93         2.74           NaN   \n",
       "11        Racing      9.71      7.47      4.13         1.90          91.0   \n",
       "12  Role-Playing      9.00      6.18      7.20         0.71           NaN   \n",
       "13        Sports      8.92      8.03      3.60         2.15          80.0   \n",
       "14          Misc     15.00      4.89      0.24         1.69          61.0   \n",
       "15        Sports      9.01      8.49      2.53         1.77          80.0   \n",
       "16        Action      7.02      9.09      0.98         3.96          97.0   \n",
       "17        Action      9.43      0.40      0.41        10.57          95.0   \n",
       "18      Platform     12.78      3.75      3.54         0.55           NaN   \n",
       "19          Misc      4.74      9.20      4.16         2.04          77.0   \n",
       "\n",
       "   User_Score Rating  \n",
       "0           8      E  \n",
       "1         NaN    NaN  \n",
       "2         8.3      E  \n",
       "3           8      E  \n",
       "4         NaN    NaN  \n",
       "5         NaN    NaN  \n",
       "6         8.5      E  \n",
       "7         6.6      E  \n",
       "8         8.4      E  \n",
       "9         NaN    NaN  \n",
       "10        NaN    NaN  \n",
       "11        8.6      E  \n",
       "12        NaN    NaN  \n",
       "13        7.7      E  \n",
       "14        6.3      E  \n",
       "15        7.4      E  \n",
       "16        8.2      M  \n",
       "17          9      M  \n",
       "18        NaN    NaN  \n",
       "19        7.9      E  "
      ]
     },
     "metadata": {},
     "output_type": "display_data"
    }
   ],
   "source": [
    "# Выведем и посмотрим несколько строк датафрейма с которым мы будем работать\n",
    "display(data.head(20))"
   ]
  },
  {
   "cell_type": "code",
   "execution_count": 4,
   "metadata": {
    "scrolled": true
   },
   "outputs": [
    {
     "data": {
      "text/plain": [
       "Name                  2\n",
       "Platform              0\n",
       "Year_of_Release     269\n",
       "Genre                 2\n",
       "NA_sales              0\n",
       "EU_sales              0\n",
       "JP_sales              0\n",
       "Other_sales           0\n",
       "Critic_Score       8578\n",
       "User_Score         6701\n",
       "Rating             6766\n",
       "dtype: int64"
      ]
     },
     "metadata": {},
     "output_type": "display_data"
    }
   ],
   "source": [
    "# Проверим данные на пропуски\n",
    "display(data.isna().sum())"
   ]
  },
  {
   "cell_type": "code",
   "execution_count": 5,
   "metadata": {},
   "outputs": [
    {
     "data": {
      "text/plain": [
       "Name                0.011965\n",
       "Platform            0.000000\n",
       "Year_of_Release     1.609333\n",
       "Genre               0.011965\n",
       "NA_sales            0.000000\n",
       "EU_sales            0.000000\n",
       "JP_sales            0.000000\n",
       "Other_sales         0.000000\n",
       "Critic_Score       51.319174\n",
       "User_Score         40.089740\n",
       "Rating             40.478612\n",
       "dtype: float64"
      ]
     },
     "metadata": {},
     "output_type": "display_data"
    }
   ],
   "source": [
    "display(data.isna().mean()*100)"
   ]
  },
  {
   "cell_type": "markdown",
   "metadata": {},
   "source": [
    "**Вывод**\n",
    "\n",
    "Охарактеризуем предоставленные данные:\n",
    "1. Размерность - датафрейм состоит из 16715 строк и 11 столбцов\n",
    "2. Тип данных:\n",
    "    - User_Score - преобразуем тип object в тип float, т.к. нам потребуется работа с числовыми данными.\n",
    "    - Critic_Score - преобразуем тип object в тип float, т.к. нам потребуется работа с числовыми данными.\n",
    "    - Rating - преобразуем тип object в тип category. т.к. данный тип подходит по смыслу, более экономен в памяти, чем текстовые данные, операции с данным типом данных выполняются быстрее.\n",
    "3. Пропуски в данных:\n",
    "    - В столбцах Critic_Score, User_Score, Rating средними или медианными значениями заменить нельзя, т.к. величина этих значений не имеет линейную зависимость от каких то других данных, которые нам предоставили, да и величина пропусков настолько большая, что заполннение медианными или средними значениями означает, что у нас будет перекос в сторону этих значений. \n",
    "    - Year_of_Release - кол-во невелико, но оставляем пустые не заполненными, т.к. узнать год релиза не представляеися возможным.\n",
    "    "
   ]
  },
  {
   "cell_type": "markdown",
   "metadata": {},
   "source": [
    "## Предобработка данных"
   ]
  },
  {
   "cell_type": "markdown",
   "metadata": {},
   "source": [
    "### Замена названия столбцов. Приведение их к нижнему регистру"
   ]
  },
  {
   "cell_type": "code",
   "execution_count": 6,
   "metadata": {},
   "outputs": [
    {
     "name": "stdout",
     "output_type": "stream",
     "text": [
      "<class 'pandas.core.frame.DataFrame'>\n",
      "RangeIndex: 16715 entries, 0 to 16714\n",
      "Data columns (total 11 columns):\n",
      " #   Column           Non-Null Count  Dtype  \n",
      "---  ------           --------------  -----  \n",
      " 0   name             16713 non-null  object \n",
      " 1   platform         16715 non-null  object \n",
      " 2   year_of_release  16446 non-null  float64\n",
      " 3   genre            16713 non-null  object \n",
      " 4   na_sales         16715 non-null  float64\n",
      " 5   eu_sales         16715 non-null  float64\n",
      " 6   jp_sales         16715 non-null  float64\n",
      " 7   other_sales      16715 non-null  float64\n",
      " 8   critic_score     8137 non-null   float64\n",
      " 9   user_score       10014 non-null  object \n",
      " 10  rating           9949 non-null   object \n",
      "dtypes: float64(6), object(5)\n",
      "memory usage: 1.4+ MB\n",
      "None\n"
     ]
    }
   ],
   "source": [
    "data.columns = data.columns.str.lower()\n",
    "print(data.info())"
   ]
  },
  {
   "cell_type": "markdown",
   "metadata": {},
   "source": [
    "### Преобразование типов данных"
   ]
  },
  {
   "cell_type": "markdown",
   "metadata": {},
   "source": [
    "Давайте разберемся со значением tbd в столбце с оценкой пользователей.\n",
    "tbd(to be determined) - используется для обозначения того, что время или место чего-либо еще не определено и будет объявлено позже.\n",
    "Анализируем мы данные на сегодняшний день, это обознаяение tbd говорит нам о том что занчение по позициям tbd нам не известно.\n",
    "Поэтому tbd мы просто заменим на NaN"
   ]
  },
  {
   "cell_type": "code",
   "execution_count": 7,
   "metadata": {},
   "outputs": [
    {
     "name": "stdout",
     "output_type": "stream",
     "text": [
      "Количество строк с 'tbd': 2424 из 10014\n"
     ]
    }
   ],
   "source": [
    "tbd_count = data['user_score'].value_counts()['tbd']\n",
    "all_user_scores_count = data['user_score'].value_counts().sum()\n",
    "print(f\"Количество строк с 'tbd': {tbd_count} из {all_user_scores_count}\")"
   ]
  },
  {
   "cell_type": "code",
   "execution_count": 8,
   "metadata": {},
   "outputs": [
    {
     "name": "stdout",
     "output_type": "stream",
     "text": [
      "<class 'pandas.core.frame.DataFrame'>\n",
      "RangeIndex: 16715 entries, 0 to 16714\n",
      "Data columns (total 11 columns):\n",
      " #   Column           Non-Null Count  Dtype   \n",
      "---  ------           --------------  -----   \n",
      " 0   name             16713 non-null  object  \n",
      " 1   platform         16715 non-null  object  \n",
      " 2   year_of_release  16446 non-null  float64 \n",
      " 3   genre            16713 non-null  object  \n",
      " 4   na_sales         16715 non-null  float64 \n",
      " 5   eu_sales         16715 non-null  float64 \n",
      " 6   jp_sales         16715 non-null  float64 \n",
      " 7   other_sales      16715 non-null  float64 \n",
      " 8   critic_score     8137 non-null   float64 \n",
      " 9   user_score       7590 non-null   float64 \n",
      " 10  rating           9949 non-null   category\n",
      "dtypes: category(1), float64(7), object(3)\n",
      "memory usage: 1.3+ MB\n",
      "None\n"
     ]
    }
   ],
   "source": [
    "data['user_score'] = pd.to_numeric(data['user_score'], errors='coerce')\n",
    "data['critic_score'] = pd.to_numeric(data['critic_score'], errors='coerce')\n",
    "data['rating'] = data['rating'].astype('category')\n",
    "\n",
    "# Почему мы использовали конструкцию pd.to_numeric(data['year_of_release'], errors='coerce'), \n",
    "# а не data['year_of_release'] = data['year_of_release'].astype('float'). дело в том что astype не обрабатывает пустые значения\n",
    "# следсвие чего выдается ошибка. pd.to_numeric решает эту проблему и все необработанные позиции заменяет на NaN.\n",
    "\n",
    "print(data.info())"
   ]
  },
  {
   "cell_type": "markdown",
   "metadata": {},
   "source": [
    "### Заполнение пропусков"
   ]
  },
  {
   "cell_type": "markdown",
   "metadata": {},
   "source": [
    "Не заполняем"
   ]
  },
  {
   "cell_type": "markdown",
   "metadata": {},
   "source": [
    "### Cуммарные продажи во всех регионах"
   ]
  },
  {
   "cell_type": "code",
   "execution_count": 9,
   "metadata": {},
   "outputs": [
    {
     "data": {
      "text/html": [
       "<div>\n",
       "<style scoped>\n",
       "    .dataframe tbody tr th:only-of-type {\n",
       "        vertical-align: middle;\n",
       "    }\n",
       "\n",
       "    .dataframe tbody tr th {\n",
       "        vertical-align: top;\n",
       "    }\n",
       "\n",
       "    .dataframe thead th {\n",
       "        text-align: right;\n",
       "    }\n",
       "</style>\n",
       "<table border=\"1\" class=\"dataframe\">\n",
       "  <thead>\n",
       "    <tr style=\"text-align: right;\">\n",
       "      <th></th>\n",
       "      <th>name</th>\n",
       "      <th>platform</th>\n",
       "      <th>year_of_release</th>\n",
       "      <th>genre</th>\n",
       "      <th>na_sales</th>\n",
       "      <th>eu_sales</th>\n",
       "      <th>jp_sales</th>\n",
       "      <th>other_sales</th>\n",
       "      <th>critic_score</th>\n",
       "      <th>user_score</th>\n",
       "      <th>rating</th>\n",
       "      <th>all_country_sales</th>\n",
       "    </tr>\n",
       "  </thead>\n",
       "  <tbody>\n",
       "    <tr>\n",
       "      <th>0</th>\n",
       "      <td>Wii Sports</td>\n",
       "      <td>Wii</td>\n",
       "      <td>2006.0</td>\n",
       "      <td>Sports</td>\n",
       "      <td>41.36</td>\n",
       "      <td>28.96</td>\n",
       "      <td>3.77</td>\n",
       "      <td>8.45</td>\n",
       "      <td>76.0</td>\n",
       "      <td>8.0</td>\n",
       "      <td>E</td>\n",
       "      <td>82.54</td>\n",
       "    </tr>\n",
       "    <tr>\n",
       "      <th>1</th>\n",
       "      <td>Super Mario Bros.</td>\n",
       "      <td>NES</td>\n",
       "      <td>1985.0</td>\n",
       "      <td>Platform</td>\n",
       "      <td>29.08</td>\n",
       "      <td>3.58</td>\n",
       "      <td>6.81</td>\n",
       "      <td>0.77</td>\n",
       "      <td>NaN</td>\n",
       "      <td>NaN</td>\n",
       "      <td>NaN</td>\n",
       "      <td>40.24</td>\n",
       "    </tr>\n",
       "    <tr>\n",
       "      <th>2</th>\n",
       "      <td>Mario Kart Wii</td>\n",
       "      <td>Wii</td>\n",
       "      <td>2008.0</td>\n",
       "      <td>Racing</td>\n",
       "      <td>15.68</td>\n",
       "      <td>12.76</td>\n",
       "      <td>3.79</td>\n",
       "      <td>3.29</td>\n",
       "      <td>82.0</td>\n",
       "      <td>8.3</td>\n",
       "      <td>E</td>\n",
       "      <td>35.52</td>\n",
       "    </tr>\n",
       "    <tr>\n",
       "      <th>3</th>\n",
       "      <td>Wii Sports Resort</td>\n",
       "      <td>Wii</td>\n",
       "      <td>2009.0</td>\n",
       "      <td>Sports</td>\n",
       "      <td>15.61</td>\n",
       "      <td>10.93</td>\n",
       "      <td>3.28</td>\n",
       "      <td>2.95</td>\n",
       "      <td>80.0</td>\n",
       "      <td>8.0</td>\n",
       "      <td>E</td>\n",
       "      <td>32.77</td>\n",
       "    </tr>\n",
       "    <tr>\n",
       "      <th>4</th>\n",
       "      <td>Pokemon Red/Pokemon Blue</td>\n",
       "      <td>GB</td>\n",
       "      <td>1996.0</td>\n",
       "      <td>Role-Playing</td>\n",
       "      <td>11.27</td>\n",
       "      <td>8.89</td>\n",
       "      <td>10.22</td>\n",
       "      <td>1.00</td>\n",
       "      <td>NaN</td>\n",
       "      <td>NaN</td>\n",
       "      <td>NaN</td>\n",
       "      <td>31.38</td>\n",
       "    </tr>\n",
       "    <tr>\n",
       "      <th>5</th>\n",
       "      <td>Tetris</td>\n",
       "      <td>GB</td>\n",
       "      <td>1989.0</td>\n",
       "      <td>Puzzle</td>\n",
       "      <td>23.20</td>\n",
       "      <td>2.26</td>\n",
       "      <td>4.22</td>\n",
       "      <td>0.58</td>\n",
       "      <td>NaN</td>\n",
       "      <td>NaN</td>\n",
       "      <td>NaN</td>\n",
       "      <td>30.26</td>\n",
       "    </tr>\n",
       "    <tr>\n",
       "      <th>6</th>\n",
       "      <td>New Super Mario Bros.</td>\n",
       "      <td>DS</td>\n",
       "      <td>2006.0</td>\n",
       "      <td>Platform</td>\n",
       "      <td>11.28</td>\n",
       "      <td>9.14</td>\n",
       "      <td>6.50</td>\n",
       "      <td>2.88</td>\n",
       "      <td>89.0</td>\n",
       "      <td>8.5</td>\n",
       "      <td>E</td>\n",
       "      <td>29.80</td>\n",
       "    </tr>\n",
       "    <tr>\n",
       "      <th>7</th>\n",
       "      <td>Wii Play</td>\n",
       "      <td>Wii</td>\n",
       "      <td>2006.0</td>\n",
       "      <td>Misc</td>\n",
       "      <td>13.96</td>\n",
       "      <td>9.18</td>\n",
       "      <td>2.93</td>\n",
       "      <td>2.84</td>\n",
       "      <td>58.0</td>\n",
       "      <td>6.6</td>\n",
       "      <td>E</td>\n",
       "      <td>28.91</td>\n",
       "    </tr>\n",
       "    <tr>\n",
       "      <th>8</th>\n",
       "      <td>New Super Mario Bros. Wii</td>\n",
       "      <td>Wii</td>\n",
       "      <td>2009.0</td>\n",
       "      <td>Platform</td>\n",
       "      <td>14.44</td>\n",
       "      <td>6.94</td>\n",
       "      <td>4.70</td>\n",
       "      <td>2.24</td>\n",
       "      <td>87.0</td>\n",
       "      <td>8.4</td>\n",
       "      <td>E</td>\n",
       "      <td>28.32</td>\n",
       "    </tr>\n",
       "    <tr>\n",
       "      <th>9</th>\n",
       "      <td>Duck Hunt</td>\n",
       "      <td>NES</td>\n",
       "      <td>1984.0</td>\n",
       "      <td>Shooter</td>\n",
       "      <td>26.93</td>\n",
       "      <td>0.63</td>\n",
       "      <td>0.28</td>\n",
       "      <td>0.47</td>\n",
       "      <td>NaN</td>\n",
       "      <td>NaN</td>\n",
       "      <td>NaN</td>\n",
       "      <td>28.31</td>\n",
       "    </tr>\n",
       "  </tbody>\n",
       "</table>\n",
       "</div>"
      ],
      "text/plain": [
       "                        name platform  year_of_release         genre  \\\n",
       "0                 Wii Sports      Wii           2006.0        Sports   \n",
       "1          Super Mario Bros.      NES           1985.0      Platform   \n",
       "2             Mario Kart Wii      Wii           2008.0        Racing   \n",
       "3          Wii Sports Resort      Wii           2009.0        Sports   \n",
       "4   Pokemon Red/Pokemon Blue       GB           1996.0  Role-Playing   \n",
       "5                     Tetris       GB           1989.0        Puzzle   \n",
       "6      New Super Mario Bros.       DS           2006.0      Platform   \n",
       "7                   Wii Play      Wii           2006.0          Misc   \n",
       "8  New Super Mario Bros. Wii      Wii           2009.0      Platform   \n",
       "9                  Duck Hunt      NES           1984.0       Shooter   \n",
       "\n",
       "   na_sales  eu_sales  jp_sales  other_sales  critic_score  user_score rating  \\\n",
       "0     41.36     28.96      3.77         8.45          76.0         8.0      E   \n",
       "1     29.08      3.58      6.81         0.77           NaN         NaN    NaN   \n",
       "2     15.68     12.76      3.79         3.29          82.0         8.3      E   \n",
       "3     15.61     10.93      3.28         2.95          80.0         8.0      E   \n",
       "4     11.27      8.89     10.22         1.00           NaN         NaN    NaN   \n",
       "5     23.20      2.26      4.22         0.58           NaN         NaN    NaN   \n",
       "6     11.28      9.14      6.50         2.88          89.0         8.5      E   \n",
       "7     13.96      9.18      2.93         2.84          58.0         6.6      E   \n",
       "8     14.44      6.94      4.70         2.24          87.0         8.4      E   \n",
       "9     26.93      0.63      0.28         0.47           NaN         NaN    NaN   \n",
       "\n",
       "   all_country_sales  \n",
       "0              82.54  \n",
       "1              40.24  \n",
       "2              35.52  \n",
       "3              32.77  \n",
       "4              31.38  \n",
       "5              30.26  \n",
       "6              29.80  \n",
       "7              28.91  \n",
       "8              28.32  \n",
       "9              28.31  "
      ]
     },
     "metadata": {},
     "output_type": "display_data"
    }
   ],
   "source": [
    "# Создаем новый столбец - суммарные продажи во всех регионах. Назовем его all_country_sales\n",
    "data['all_country_sales'] = data['na_sales'] + data['eu_sales'] + data['jp_sales'] + data['other_sales']\n",
    "# data['all_country_sales'] = data[['na_sales', 'eu_sales', 'jp_sales', 'other_sales']].sum(axis=1) еще так можно\n",
    "display(data.head(10))"
   ]
  },
  {
   "cell_type": "markdown",
   "metadata": {},
   "source": [
    "**Вывод**\n",
    "\n",
    "В итоге с помощью предобработки мы сделали:\n",
    "   - привели названия всех столбцов к нижнему регистру;\n",
    "   - преобразовали в столбцах critic_score, user_score, rating тип данных object в тип данных float;\n",
    "   - создали новый столбец -  all_country_sales (суммарные продажи во всех регионах)."
   ]
  },
  {
   "cell_type": "markdown",
   "metadata": {},
   "source": [
    "## Исследовательский анализ данных"
   ]
  },
  {
   "cell_type": "markdown",
   "metadata": {},
   "source": [
    "### Количество игр выпущенное в разные годы"
   ]
  },
  {
   "cell_type": "code",
   "execution_count": 10,
   "metadata": {
    "scrolled": true
   },
   "outputs": [
    {
     "data": {
      "image/png": "[encoded data removed]",
      "text/plain": [
       "<Figure size 1440x360 with 1 Axes>"
      ]
     },
     "metadata": {
      "needs_background": "light"
     },
     "output_type": "display_data"
    }
   ],
   "source": [
    "games_per_year = data['year_of_release'].value_counts().sort_index()\n",
    "plt.figure(figsize=(20, 5))\n",
    "bars = plt.bar(games_per_year.index, games_per_year.values)\n",
    "for bar in bars:\n",
    "    yval = bar.get_height()\n",
    "    plt.text(bar.get_x() + bar.get_width() / 2, yval + 0.5, str(int(yval)), ha='center', va='bottom')\n",
    "plt.title('Количество выпущенных игр по годам')\n",
    "plt.xlabel('Год выпуска')\n",
    "plt.ylabel('Количество игр')\n",
    "plt.show()"
   ]
  },
  {
   "cell_type": "markdown",
   "metadata": {},
   "source": [
    "**Вывод**\n",
    "\n",
    "Видим что до 1990 года рынок видео игр был статичным и не развивался. Первый период роста - с 1990 по 1995 год, появляются популярные 8 битные приставки, продажи которых завставил расти и рынок игр. С 1995 по 2000 появляется PS. Издание игр вырастает в 3 раза. С 2000 года появляются консоли нового поколения и мы видим взрыной рост выпуска игр. Максимальное количесвто игр было выпущено в 2008 и 2009 годах. С 2009 по 2016 год количество выпускаемых игр уменьшилось в 3 раза."
   ]
  },
  {
   "cell_type": "markdown",
   "metadata": {},
   "source": [
    "### Продажи игр в зависимости от платформы"
   ]
  },
  {
   "cell_type": "code",
   "execution_count": 11,
   "metadata": {},
   "outputs": [
    {
     "name": "stdout",
     "output_type": "stream",
     "text": [
      "platform\n",
      "PS2     1233.56\n",
      "X360     961.24\n",
      "PS3      931.34\n",
      "Wii      891.18\n",
      "DS       802.76\n",
      "PS       727.58\n",
      "PS4      314.14\n",
      "GBA      312.88\n",
      "PSP      289.53\n",
      "3DS      257.81\n",
      "PC       255.69\n",
      "XB       251.57\n",
      "N64      218.01\n",
      "SNES     200.04\n",
      "GC       196.73\n",
      "GB       188.03\n",
      "XOne     159.32\n",
      "WiiU      82.19\n",
      "PSV       53.81\n",
      "SAT       33.59\n",
      "GEN       30.77\n",
      "NES       27.54\n",
      "DC        15.95\n",
      "SCD        1.86\n",
      "NG         1.44\n",
      "WS         1.42\n",
      "TG16       0.16\n",
      "3DO        0.10\n",
      "GG         0.04\n",
      "PCFX       0.03\n",
      "Name: all_country_sales, dtype: float64\n"
     ]
    }
   ],
   "source": [
    "# Т.к. рост выпуска игр начался с 1990 года, будем рассматривать дальше рынка игр с этого года\n",
    "data_since_1990 = data[data['year_of_release'] >= 1990]\n",
    "\n",
    "# Выведем суммарные продажи по платформам. Так мы узнаем самые прибыльные из них.\n",
    "platform_sales_since_1990 = data_since_1990.groupby('platform')['all_country_sales'].sum().sort_values(ascending=False)\n",
    "print(platform_sales_since_1990)"
   ]
  },
  {
   "cell_type": "code",
   "execution_count": 12,
   "metadata": {
    "scrolled": false
   },
   "outputs": [
    {
     "data": {
      "image/png": "[encoded data removed]",
      "text/plain": [
       "<Figure size 1440x1296 with 1 Axes>"
      ]
     },
     "metadata": {
      "needs_background": "light"
     },
     "output_type": "display_data"
    }
   ],
   "source": [
    "# Построим столбчатую диаграмму с накоплением, чтобы наглядно показать доли продаж каждой платформы относительно друг друга\n",
    "plt.figure(figsize=(20, 18))\n",
    "\n",
    "for i, platform in enumerate(platform_sales_since_1990.index):\n",
    "    platform_data = data_since_1990[data_since_1990['platform'] == platform]\n",
    "    \n",
    "    # Группируем по годам и считаем суммарные продажи\n",
    "    yearly_sales = platform_data.groupby('year_of_release')['all_country_sales'].sum()\n",
    "\n",
    "    # Создаем массив bottom с правильной длиной\n",
    "    bottom = np.zeros(len(yearly_sales.index))  \n",
    "\n",
    "    bars = plt.bar(yearly_sales.index, yearly_sales.values, label=platform, width=0.4, bottom=bottom)\n",
    "\n",
    "    # Добавляем подписи к барам\n",
    "    for j, bar in enumerate(bars):\n",
    "        yval = bar.get_height()\n",
    "        xval = bar.get_x() + bar.get_width() / 2\n",
    "        plt.text(xval, yval + bottom[j] + 0.5, f'{platform} ({int(yval)})', ha='center', va='bottom')\n",
    "\n",
    "    bottom += yearly_sales.values\n",
    "\n",
    "plt.title('Суммарные продажи игр по годам для топ-платформ (с 1990 года) млн', fontsize=20)\n",
    "plt.xlabel('Год выпуска', fontsize=18)\n",
    "plt.ylabel('Суммарные продажи (млн)', fontsize=18)\n",
    "plt.yticks(fontsize=14)\n",
    "\n",
    "years = range(1990, 2019)\n",
    "plt.xticks(years, years, rotation=45, fontsize=14)\n",
    "\n",
    "plt.legend(prop={'size': 20})\n",
    "plt.tight_layout()\n",
    "plt.show()"
   ]
  },
  {
   "cell_type": "markdown",
   "metadata": {},
   "source": [
    "**Вывод**\n",
    "\n",
    "Из полученной диаграммы видим, что с 1996 по 2010 года срок жизни и активный рост продаж игр платформы в среднем 5 лет. С 2010 и далее это 3 года. Также уже с учетом этой диаграммы мы можем уточнить актуальный период для нашего исследования. Также тенденции в жанрах игр 10 лет назад и на текущий момент могли сильно измениться.\n",
    "\n",
    "Для начала определим актальный период выборки.  В бизнесе обычно берут период не больше 2-3 лет, чтобы не анализироват отжившие тренды. На диагрмме выше можно отчетливо увидеть последний сложившийся тренд - это появление новых поколений платформ PS4, XOne, WiiU на рынке, который как раз сложился последние три года.   \n",
    "\n",
    "Также имеем информацию, что в 2016 году данные могут быть не полные. По диаграмме видно что продаж меньше чем за предыдущий год, но распределение значений по продаж похоже и нам важно учитывать как можно более свежие тенденции, поэтому также будем учитывать данные за 2016 год.\n",
    "\n",
    "Принимая во внимание все обозначеные факторы, мы берем в качестве актуального период с 2014 по 2016 годы."
   ]
  },
  {
   "cell_type": "code",
   "execution_count": 13,
   "metadata": {},
   "outputs": [
    {
     "data": {
      "text/html": [
       "<div>\n",
       "<style scoped>\n",
       "    .dataframe tbody tr th:only-of-type {\n",
       "        vertical-align: middle;\n",
       "    }\n",
       "\n",
       "    .dataframe tbody tr th {\n",
       "        vertical-align: top;\n",
       "    }\n",
       "\n",
       "    .dataframe thead th {\n",
       "        text-align: right;\n",
       "    }\n",
       "</style>\n",
       "<table border=\"1\" class=\"dataframe\">\n",
       "  <thead>\n",
       "    <tr style=\"text-align: right;\">\n",
       "      <th></th>\n",
       "      <th>name</th>\n",
       "      <th>platform</th>\n",
       "      <th>year_of_release</th>\n",
       "      <th>genre</th>\n",
       "      <th>na_sales</th>\n",
       "      <th>eu_sales</th>\n",
       "      <th>jp_sales</th>\n",
       "      <th>other_sales</th>\n",
       "      <th>critic_score</th>\n",
       "      <th>user_score</th>\n",
       "      <th>rating</th>\n",
       "      <th>all_country_sales</th>\n",
       "    </tr>\n",
       "  </thead>\n",
       "  <tbody>\n",
       "    <tr>\n",
       "      <th>31</th>\n",
       "      <td>Call of Duty: Black Ops 3</td>\n",
       "      <td>PS4</td>\n",
       "      <td>2015.0</td>\n",
       "      <td>Shooter</td>\n",
       "      <td>6.03</td>\n",
       "      <td>5.86</td>\n",
       "      <td>0.36</td>\n",
       "      <td>2.38</td>\n",
       "      <td>NaN</td>\n",
       "      <td>NaN</td>\n",
       "      <td>NaN</td>\n",
       "      <td>14.63</td>\n",
       "    </tr>\n",
       "    <tr>\n",
       "      <th>42</th>\n",
       "      <td>Grand Theft Auto V</td>\n",
       "      <td>PS4</td>\n",
       "      <td>2014.0</td>\n",
       "      <td>Action</td>\n",
       "      <td>3.96</td>\n",
       "      <td>6.31</td>\n",
       "      <td>0.38</td>\n",
       "      <td>1.97</td>\n",
       "      <td>97.0</td>\n",
       "      <td>8.3</td>\n",
       "      <td>M</td>\n",
       "      <td>12.62</td>\n",
       "    </tr>\n",
       "    <tr>\n",
       "      <th>47</th>\n",
       "      <td>Pokemon Omega Ruby/Pokemon Alpha Sapphire</td>\n",
       "      <td>3DS</td>\n",
       "      <td>2014.0</td>\n",
       "      <td>Role-Playing</td>\n",
       "      <td>4.35</td>\n",
       "      <td>3.49</td>\n",
       "      <td>3.10</td>\n",
       "      <td>0.74</td>\n",
       "      <td>NaN</td>\n",
       "      <td>NaN</td>\n",
       "      <td>NaN</td>\n",
       "      <td>11.68</td>\n",
       "    </tr>\n",
       "    <tr>\n",
       "      <th>77</th>\n",
       "      <td>FIFA 16</td>\n",
       "      <td>PS4</td>\n",
       "      <td>2015.0</td>\n",
       "      <td>Sports</td>\n",
       "      <td>1.12</td>\n",
       "      <td>6.12</td>\n",
       "      <td>0.06</td>\n",
       "      <td>1.28</td>\n",
       "      <td>82.0</td>\n",
       "      <td>4.3</td>\n",
       "      <td>E</td>\n",
       "      <td>8.58</td>\n",
       "    </tr>\n",
       "    <tr>\n",
       "      <th>87</th>\n",
       "      <td>Star Wars Battlefront (2015)</td>\n",
       "      <td>PS4</td>\n",
       "      <td>2015.0</td>\n",
       "      <td>Shooter</td>\n",
       "      <td>2.99</td>\n",
       "      <td>3.49</td>\n",
       "      <td>0.22</td>\n",
       "      <td>1.28</td>\n",
       "      <td>NaN</td>\n",
       "      <td>NaN</td>\n",
       "      <td>NaN</td>\n",
       "      <td>7.98</td>\n",
       "    </tr>\n",
       "  </tbody>\n",
       "</table>\n",
       "</div>"
      ],
      "text/plain": [
       "                                         name platform  year_of_release  \\\n",
       "31                  Call of Duty: Black Ops 3      PS4           2015.0   \n",
       "42                         Grand Theft Auto V      PS4           2014.0   \n",
       "47  Pokemon Omega Ruby/Pokemon Alpha Sapphire      3DS           2014.0   \n",
       "77                                    FIFA 16      PS4           2015.0   \n",
       "87               Star Wars Battlefront (2015)      PS4           2015.0   \n",
       "\n",
       "           genre  na_sales  eu_sales  jp_sales  other_sales  critic_score  \\\n",
       "31       Shooter      6.03      5.86      0.36         2.38           NaN   \n",
       "42        Action      3.96      6.31      0.38         1.97          97.0   \n",
       "47  Role-Playing      4.35      3.49      3.10         0.74           NaN   \n",
       "77        Sports      1.12      6.12      0.06         1.28          82.0   \n",
       "87       Shooter      2.99      3.49      0.22         1.28           NaN   \n",
       "\n",
       "    user_score rating  all_country_sales  \n",
       "31         NaN    NaN              14.63  \n",
       "42         8.3      M              12.62  \n",
       "47         NaN    NaN              11.68  \n",
       "77         4.3      E               8.58  \n",
       "87         NaN    NaN               7.98  "
      ]
     },
     "metadata": {},
     "output_type": "display_data"
    },
    {
     "name": "stdout",
     "output_type": "stream",
     "text": [
      "[2015. 2014. 2016.]\n"
     ]
    }
   ],
   "source": [
    "# Создаем датафрейм с данными за актуальный период\n",
    "actual_period_data = data[data['year_of_release'] >= 2014]\n",
    "display(actual_period_data.head(5))\n",
    "print(actual_period_data['year_of_release'].unique())"
   ]
  },
  {
   "cell_type": "markdown",
   "metadata": {},
   "source": [
    "Дальше нам необходимо определиться с выборкой платформ. Платформ много, но нам нужны самые прибыльные.\n",
    "Поэтому выведем топ 10 платформ с самыми высоким продажами за выбранные период и на основе полученных данных примем решение какие из платформ мы включим в наше исследование."
   ]
  },
  {
   "cell_type": "code",
   "execution_count": 14,
   "metadata": {
    "scrolled": false
   },
   "outputs": [
    {
     "name": "stdout",
     "output_type": "stream",
     "text": [
      "platform\n",
      "PS4     288.15\n",
      "XOne    140.36\n",
      "3DS      86.68\n",
      "PS3      68.18\n",
      "X360     48.22\n",
      "WiiU     42.98\n",
      "PC       27.05\n",
      "PSV      22.40\n",
      "Wii       5.07\n",
      "PSP       0.36\n",
      "Name: all_country_sales, dtype: float64\n"
     ]
    }
   ],
   "source": [
    "# Выведем топ 10 суммарные продажи по платформам.\n",
    "platform_sales_since_2014 = actual_period_data.groupby('platform')['all_country_sales'].sum().sort_values(ascending=False)[:10]\n",
    "print(platform_sales_since_2014)"
   ]
  },
  {
   "cell_type": "markdown",
   "metadata": {},
   "source": [
    "Возьмем 6 первых позиций. Большая выборка усложнит наш анализ, а меньшая не даст нам нужного разнообразия (виды консолей: портативные, обычные, с сенсорным оборудованием / предыдущее поколение, новое поколение)"
   ]
  },
  {
   "cell_type": "code",
   "execution_count": 15,
   "metadata": {},
   "outputs": [
    {
     "name": "stdout",
     "output_type": "stream",
     "text": [
      "<class 'pandas.core.frame.DataFrame'>\n",
      "Int64Index: 1219 entries, 31 to 16710\n",
      "Data columns (total 12 columns):\n",
      " #   Column             Non-Null Count  Dtype   \n",
      "---  ------             --------------  -----   \n",
      " 0   name               1219 non-null   object  \n",
      " 1   platform           1219 non-null   object  \n",
      " 2   year_of_release    1219 non-null   float64 \n",
      " 3   genre              1219 non-null   object  \n",
      " 4   na_sales           1219 non-null   float64 \n",
      " 5   eu_sales           1219 non-null   float64 \n",
      " 6   jp_sales           1219 non-null   float64 \n",
      " 7   other_sales        1219 non-null   float64 \n",
      " 8   critic_score       548 non-null    float64 \n",
      " 9   user_score         691 non-null    float64 \n",
      " 10  rating             740 non-null    category\n",
      " 11  all_country_sales  1219 non-null   float64 \n",
      "dtypes: category(1), float64(8), object(3)\n",
      "memory usage: 115.8+ KB\n"
     ]
    },
    {
     "data": {
      "text/html": [
       "<div>\n",
       "<style scoped>\n",
       "    .dataframe tbody tr th:only-of-type {\n",
       "        vertical-align: middle;\n",
       "    }\n",
       "\n",
       "    .dataframe tbody tr th {\n",
       "        vertical-align: top;\n",
       "    }\n",
       "\n",
       "    .dataframe thead th {\n",
       "        text-align: right;\n",
       "    }\n",
       "</style>\n",
       "<table border=\"1\" class=\"dataframe\">\n",
       "  <thead>\n",
       "    <tr style=\"text-align: right;\">\n",
       "      <th></th>\n",
       "      <th>name</th>\n",
       "      <th>platform</th>\n",
       "      <th>year_of_release</th>\n",
       "      <th>genre</th>\n",
       "      <th>na_sales</th>\n",
       "      <th>eu_sales</th>\n",
       "      <th>jp_sales</th>\n",
       "      <th>other_sales</th>\n",
       "      <th>critic_score</th>\n",
       "      <th>user_score</th>\n",
       "      <th>rating</th>\n",
       "      <th>all_country_sales</th>\n",
       "    </tr>\n",
       "  </thead>\n",
       "  <tbody>\n",
       "    <tr>\n",
       "      <th>31</th>\n",
       "      <td>Call of Duty: Black Ops 3</td>\n",
       "      <td>PS4</td>\n",
       "      <td>2015.0</td>\n",
       "      <td>Shooter</td>\n",
       "      <td>6.03</td>\n",
       "      <td>5.86</td>\n",
       "      <td>0.36</td>\n",
       "      <td>2.38</td>\n",
       "      <td>NaN</td>\n",
       "      <td>NaN</td>\n",
       "      <td>NaN</td>\n",
       "      <td>14.63</td>\n",
       "    </tr>\n",
       "    <tr>\n",
       "      <th>42</th>\n",
       "      <td>Grand Theft Auto V</td>\n",
       "      <td>PS4</td>\n",
       "      <td>2014.0</td>\n",
       "      <td>Action</td>\n",
       "      <td>3.96</td>\n",
       "      <td>6.31</td>\n",
       "      <td>0.38</td>\n",
       "      <td>1.97</td>\n",
       "      <td>97.0</td>\n",
       "      <td>8.3</td>\n",
       "      <td>M</td>\n",
       "      <td>12.62</td>\n",
       "    </tr>\n",
       "    <tr>\n",
       "      <th>47</th>\n",
       "      <td>Pokemon Omega Ruby/Pokemon Alpha Sapphire</td>\n",
       "      <td>3DS</td>\n",
       "      <td>2014.0</td>\n",
       "      <td>Role-Playing</td>\n",
       "      <td>4.35</td>\n",
       "      <td>3.49</td>\n",
       "      <td>3.10</td>\n",
       "      <td>0.74</td>\n",
       "      <td>NaN</td>\n",
       "      <td>NaN</td>\n",
       "      <td>NaN</td>\n",
       "      <td>11.68</td>\n",
       "    </tr>\n",
       "    <tr>\n",
       "      <th>77</th>\n",
       "      <td>FIFA 16</td>\n",
       "      <td>PS4</td>\n",
       "      <td>2015.0</td>\n",
       "      <td>Sports</td>\n",
       "      <td>1.12</td>\n",
       "      <td>6.12</td>\n",
       "      <td>0.06</td>\n",
       "      <td>1.28</td>\n",
       "      <td>82.0</td>\n",
       "      <td>4.3</td>\n",
       "      <td>E</td>\n",
       "      <td>8.58</td>\n",
       "    </tr>\n",
       "    <tr>\n",
       "      <th>87</th>\n",
       "      <td>Star Wars Battlefront (2015)</td>\n",
       "      <td>PS4</td>\n",
       "      <td>2015.0</td>\n",
       "      <td>Shooter</td>\n",
       "      <td>2.99</td>\n",
       "      <td>3.49</td>\n",
       "      <td>0.22</td>\n",
       "      <td>1.28</td>\n",
       "      <td>NaN</td>\n",
       "      <td>NaN</td>\n",
       "      <td>NaN</td>\n",
       "      <td>7.98</td>\n",
       "    </tr>\n",
       "  </tbody>\n",
       "</table>\n",
       "</div>"
      ],
      "text/plain": [
       "                                         name platform  year_of_release  \\\n",
       "31                  Call of Duty: Black Ops 3      PS4           2015.0   \n",
       "42                         Grand Theft Auto V      PS4           2014.0   \n",
       "47  Pokemon Omega Ruby/Pokemon Alpha Sapphire      3DS           2014.0   \n",
       "77                                    FIFA 16      PS4           2015.0   \n",
       "87               Star Wars Battlefront (2015)      PS4           2015.0   \n",
       "\n",
       "           genre  na_sales  eu_sales  jp_sales  other_sales  critic_score  \\\n",
       "31       Shooter      6.03      5.86      0.36         2.38           NaN   \n",
       "42        Action      3.96      6.31      0.38         1.97          97.0   \n",
       "47  Role-Playing      4.35      3.49      3.10         0.74           NaN   \n",
       "77        Sports      1.12      6.12      0.06         1.28          82.0   \n",
       "87       Shooter      2.99      3.49      0.22         1.28           NaN   \n",
       "\n",
       "    user_score rating  all_country_sales  \n",
       "31         NaN    NaN              14.63  \n",
       "42         8.3      M              12.62  \n",
       "47         NaN    NaN              11.68  \n",
       "77         4.3      E               8.58  \n",
       "87         NaN    NaN               7.98  "
      ]
     },
     "metadata": {},
     "output_type": "display_data"
    },
    {
     "name": "stdout",
     "output_type": "stream",
     "text": [
      "['PS4' '3DS' 'XOne' 'WiiU' 'PS3' 'X360']\n"
     ]
    }
   ],
   "source": [
    "# Создаем датафрейм с самыми продаваемыми платформами\n",
    "platforms_array = ['PS4', 'XOne', '3DS', 'PS3', 'X360', 'WiiU']\n",
    "actual_period_data = actual_period_data[actual_period_data['platform'].isin(platforms_array)]\n",
    "actual_period_data.info()\n",
    "display(actual_period_data.head(5))\n",
    "print(actual_period_data['platform'].unique())"
   ]
  },
  {
   "cell_type": "code",
   "execution_count": 16,
   "metadata": {},
   "outputs": [
    {
     "data": {
      "image/png": "[encoded data removed]",
      "text/plain": [
       "<Figure size 720x432 with 1 Axes>"
      ]
     },
     "metadata": {
      "needs_background": "light"
     },
     "output_type": "display_data"
    }
   ],
   "source": [
    "# Построим столбчатую диаграмму с накоплением\n",
    "platform_sales = actual_period_data.groupby('platform')['all_country_sales'].sum().sort_values(ascending=False)\n",
    "plt.figure(figsize=(10, 6))\n",
    "\n",
    "for i, platform in enumerate(platform_sales.index):\n",
    "    platform_data = actual_period_data[actual_period_data['platform'] == platform]\n",
    "    \n",
    "    # Группируем по годам и считаем суммарные продажи\n",
    "    yearly_sales = platform_data.groupby('year_of_release')['all_country_sales'].sum()\n",
    "\n",
    "    # Создаем массив bottom с правильной длиной\n",
    "    bottom = np.zeros(len(yearly_sales.index))\n",
    "\n",
    "    bars = plt.bar(yearly_sales.index, yearly_sales.values, label=platform, width=0.4, bottom=bottom)\n",
    "\n",
    "    # Добавляем подписи к барам\n",
    "    for j, bar in enumerate(bars):\n",
    "        yval = bar.get_height()\n",
    "        xval = bar.get_x() + bar.get_width() / 2\n",
    "        plt.text(xval, yval + bottom[j] + 0.5, f'{platform} ({int(yval)})', ha='center', va='bottom')\n",
    "\n",
    "    # Обновляем bottom только для тех годов, где есть данные\n",
    "    bottom = np.array([bottom[j] + yearly_sales.values[j] if j < len(yearly_sales.values) else bottom[j] for j in range(len(bottom))])\n",
    "\n",
    "plt.title('Суммарные продажи игр по годам для топ-платформ (с 2010 года) млн', fontsize=14)\n",
    "plt.xlabel('Год выпуска', fontsize=18)\n",
    "plt.ylabel('Суммарные продажи (млн)', fontsize=18)\n",
    "plt.yticks(fontsize=14)\n",
    "\n",
    "years = range(2014, 2017)  # Изменили диапазон годов\n",
    "plt.xticks(years, years, rotation=45, fontsize=14)\n",
    "\n",
    "plt.legend(prop={'size': 12})\n",
    "plt.tight_layout()\n",
    "plt.show()"
   ]
  },
  {
   "cell_type": "code",
   "execution_count": 17,
   "metadata": {},
   "outputs": [
    {
     "data": {
      "image/png": "[encoded data removed]",
      "text/plain": [
       "<Figure size 720x432 with 1 Axes>"
      ]
     },
     "metadata": {
      "needs_background": "light"
     },
     "output_type": "display_data"
    }
   ],
   "source": [
    "# Построим график ящик с усами по глобальным продажам игр в разбивке по платформам.\n",
    "platforms_array = ['PS4', 'XOne', '3DS', 'PS3', 'X360', 'WiiU']\n",
    "\n",
    "# Сгруппируем данные по платформам для ящика с усами\n",
    "platform_data = []\n",
    "for platform in platforms_array:\n",
    "    platform_sales = actual_period_data[actual_period_data['platform'] == platform]['all_country_sales']\n",
    "    \n",
    "    # Исключим выбросы\n",
    "    Q1 = np.percentile(platform_sales, 25)\n",
    "    Q3 = np.percentile(platform_sales, 75)\n",
    "    IQR = Q3 - Q1\n",
    "    lower_bound = Q1 - 1.5 * IQR\n",
    "    upper_bound = Q3 + 1.5 * IQR\n",
    "    platform_sales = platform_sales[(platform_sales >= lower_bound) & (platform_sales <= upper_bound)]\n",
    "    \n",
    "    platform_data.append(platform_sales)\n",
    "\n",
    "# Построим график \"ящик с усами\"\n",
    "plt.figure(figsize=(10, 6))\n",
    "plt.boxplot(platform_data, \n",
    "            labels=platforms_array, \n",
    "            patch_artist=True, \n",
    "            showmeans=True)  # showmeans=True покажет среднее\n",
    "\n",
    "plt.title('Глобальные продажи игр по платформам (2006-2016) без выбросов')\n",
    "plt.ylabel('Глобальные продажи (млн)')\n",
    "plt.show()"
   ]
  },
  {
   "cell_type": "code",
   "execution_count": 18,
   "metadata": {},
   "outputs": [
    {
     "name": "stdout",
     "output_type": "stream",
     "text": [
      "Платформа: PS4\n",
      "Минимум: 0.01\n",
      "Максимум: 1.54\n",
      "Первый квартиль (Q1): 0.05\n",
      "Медиана: 0.12000000000000001\n",
      "Третий квартиль (Q3): 0.365\n",
      "Среднее: 0.26938080495356037\n",
      "--------------------\n",
      "Платформа: XOne\n",
      "Минимум: 0.01\n",
      "Максимум: 1.4900000000000002\n",
      "Первый квартиль (Q1): 0.04\n",
      "Медиана: 0.15000000000000002\n",
      "Третий квартиль (Q3): 0.445\n",
      "Среднее: 0.30935960591133005\n",
      "--------------------\n",
      "Платформа: 3DS\n",
      "Минимум: 0.01\n",
      "Максимум: 0.5700000000000001\n",
      "Первый квартиль (Q1): 0.03\n",
      "Медиана: 0.07\n",
      "Третий квартиль (Q3): 0.16\n",
      "Среднее: 0.1217837837837838\n",
      "--------------------\n",
      "Платформа: PS3\n",
      "Минимум: 0.01\n",
      "Максимум: 0.7300000000000001\n",
      "Первый квартиль (Q1): 0.03\n",
      "Медиана: 0.09\n",
      "Третий квартиль (Q3): 0.245\n",
      "Среднее: 0.16376884422110555\n",
      "--------------------\n",
      "Платформа: X360\n",
      "Минимум: 0.01\n",
      "Максимум: 1.08\n",
      "Первый квартиль (Q1): 0.06999999999999999\n",
      "Медиана: 0.16\n",
      "Третий квартиль (Q3): 0.42\n",
      "Среднее: 0.2799009900990099\n",
      "--------------------\n",
      "Платформа: WiiU\n",
      "Минимум: 0.01\n",
      "Максимум: 1.3\n",
      "Первый квартиль (Q1): 0.05\n",
      "Медиана: 0.13\n",
      "Третий квартиль (Q3): 0.47\n",
      "Среднее: 0.3023880597014926\n",
      "--------------------\n"
     ]
    }
   ],
   "source": [
    "# Выведем получившиеся значения ящиков с усами\n",
    "for i, platform in enumerate(platforms_array):\n",
    "    dt = platform_data[i]\n",
    "    print(f\"Платформа: {platform}\")\n",
    "    print(f\"Минимум: {dt.min()}\")\n",
    "    print(f\"Максимум: {dt.max()}\")\n",
    "    print(f\"Первый квартиль (Q1): {np.percentile(dt, 25)}\")\n",
    "    print(f\"Медиана: {np.median(dt)}\")\n",
    "    print(f\"Третий квартиль (Q3): {np.percentile(dt, 75)}\")\n",
    "    print(f\"Среднее: {np.mean(dt)}\")\n",
    "    print(\"--------------------\")\n",
    "\n",
    "plt.show()"
   ]
  },
  {
   "cell_type": "markdown",
   "metadata": {},
   "source": [
    "Описание результата:\n",
    "\n",
    "   - У всех платформдовольно низкие средние значения, это говорит нам, что в данный период больштнство игр с низкими продажами.\n",
    "   - Платформы PS4 и XOne имеют более широкий диапазон продаж (от 0.01 до 1.54 млн. долларов) и более высокие средние значения, чем другие, заимключением WiiU. Это указывает на то, что на этих платформах выпускалось больше игр с высокими продажами.\n",
    "   -  WiiU Среднее значение продаж WiiU (0.302 млн. долларов) находится на уровне PS4 и XOne, что говорит о том, что платформа способна генерировать значительные продажи, несмотря на небольшие суммарные продажи по сравнени. с другими платформами.\n",
    "   - 3DS имеет самый узкий диапазон продаж (от 0.01 до 0.57 млн. долларов) и самое низкое среднее значение продаж. Это говорит нам, что на этой платформе выпускалось меньше всего игр с высокими продажами."
   ]
  },
  {
   "cell_type": "markdown",
   "metadata": {},
   "source": [
    "#### Влияние отзывов на продажи (для PS4)"
   ]
  },
  {
   "cell_type": "code",
   "execution_count": 19,
   "metadata": {},
   "outputs": [
    {
     "data": {
      "text/plain": [
       "<Figure size 720x432 with 0 Axes>"
      ]
     },
     "metadata": {},
     "output_type": "display_data"
    },
    {
     "data": {
      "image/png": "[encoded data removed]",
      "text/plain": [
       "<Figure size 360x360 with 1 Axes>"
      ]
     },
     "metadata": {
      "needs_background": "light"
     },
     "output_type": "display_data"
    },
    {
     "name": "stdout",
     "output_type": "stream",
     "text": [
      "Коэффициент корреляции Пирсона: 0.40266141068104083\n"
     ]
    },
    {
     "data": {
      "text/plain": [
       "<Figure size 720x432 with 0 Axes>"
      ]
     },
     "metadata": {},
     "output_type": "display_data"
    },
    {
     "data": {
      "image/png": "[encoded data removed]",
      "text/plain": [
       "<Figure size 360x360 with 1 Axes>"
      ]
     },
     "metadata": {
      "needs_background": "light"
     },
     "output_type": "display_data"
    },
    {
     "name": "stdout",
     "output_type": "stream",
     "text": [
      "Коэффициент корреляции Пирсона: -0.040131589472697356\n"
     ]
    }
   ],
   "source": [
    "# Выбираем популярную платформу в последние годы PS4\n",
    "platform = 'PS4'\n",
    "PS4_data = actual_period_data[actual_period_data['platform'] == platform]\n",
    "\n",
    "# Строим диаграмму рассеяния\n",
    "plt.figure(figsize=(10, 6))\n",
    "sns.lmplot(x='critic_score', y='all_country_sales', data=PS4_data)\n",
    "plt.title(f'Влияние отзывов критиков на продажи игр на {platform}')\n",
    "plt.xlabel('Оценка критиков')\n",
    "plt.ylabel('Глобальные продажи (млн)')\n",
    "plt.show()\n",
    "\n",
    "# Вычисляем коэффициент корреляции Пирсона - это статистический показатель, \n",
    "# который измеряет степень линейной зависимости между двумя переменными\n",
    "correlation_critic_score = PS4_data['critic_score'].corr(PS4_data['all_country_sales'])\n",
    "print(f'Коэффициент корреляции Пирсона: {correlation_critic_score}')\n",
    "\n",
    "plt.figure(figsize=(10, 6))\n",
    "sns.lmplot(x='user_score', y='all_country_sales', data=PS4_data)\n",
    "plt.title(f'Влияние отзывов пользователей на продажи игр на {platform}')\n",
    "plt.xlabel('Оценка пользователей')\n",
    "plt.ylabel('Глобальные продажи (млн)')\n",
    "plt.show()\n",
    "\n",
    "correlation_user_score = PS4_data['user_score'].corr(PS4_data['all_country_sales'])\n",
    "print(f'Коэффициент корреляции Пирсона: {correlation_user_score}')"
   ]
  },
  {
   "cell_type": "markdown",
   "metadata": {},
   "source": [
    "**Вывод**\n",
    "\n",
    "Отзывы критиков имеют среднее положительное влияние на продажи игр на PS4, этот фактор не является единственным определяющим фактором.\n",
    "\n",
    "Отношение между отзывами пользователей и продажами очень слабое. Это означает, что отзывы пользователей практически не влияют на продажи игр на PS4."
   ]
  },
  {
   "cell_type": "markdown",
   "metadata": {},
   "source": [
    "### Влияние отзывов на продажи для остальных платформ"
   ]
  },
  {
   "cell_type": "code",
   "execution_count": 20,
   "metadata": {},
   "outputs": [
    {
     "name": "stdout",
     "output_type": "stream",
     "text": [
      "Платформа: PS3\n",
      "Коэффициент корреляции Пирсона для оценок критиков: 0.44657460493190704\n",
      "Коэффициент корреляции Пирсона для оценок пользователей: -0.16676141347662118\n",
      "--------------------\n",
      "Платформа: X360\n",
      "Коэффициент корреляции Пирсона для оценок критиков: 0.5257228356581523\n",
      "Коэффициент корреляции Пирсона для оценок пользователей: -0.138444570945665\n",
      "--------------------\n",
      "Платформа: Wii\n",
      "Коэффициент корреляции Пирсона для оценок критиков: nan\n",
      "Коэффициент корреляции Пирсона для оценок пользователей: nan\n",
      "--------------------\n",
      "Платформа: 3DS\n",
      "Коэффициент корреляции Пирсона для оценок критиков: 0.314117492869051\n",
      "Коэффициент корреляции Пирсона для оценок пользователей: 0.2151932718527028\n",
      "--------------------\n",
      "Платформа: XOne\n",
      "Коэффициент корреляции Пирсона для оценок критиков: 0.42867694370333226\n",
      "Коэффициент корреляции Пирсона для оценок пользователей: -0.0703839280647581\n",
      "--------------------\n"
     ]
    }
   ],
   "source": [
    "platforms = ['PS3', 'X360', 'Wii', '3DS', 'XOne']\n",
    "\n",
    "for platform in platforms:\n",
    "    platform_data = actual_period_data[actual_period_data['platform'] == platform]\n",
    "    correlation_critic_score = platform_data['critic_score'].corr(platform_data['all_country_sales'])\n",
    "    correlation_user_score = platform_data['user_score'].corr(platform_data['all_country_sales'])\n",
    "    \n",
    "    print(f\"Платформа: {platform}\")\n",
    "    print(f\"Коэффициент корреляции Пирсона для оценок критиков: {correlation_critic_score}\")\n",
    "    print(f\"Коэффициент корреляции Пирсона для оценок пользователей: {correlation_user_score}\")\n",
    "    print(\"--------------------\")"
   ]
  },
  {
   "cell_type": "markdown",
   "metadata": {},
   "source": [
    "**Вывод**\n",
    "\n",
    "Ситуация по остальным платформам похожая. Для всех платформ наблюдаем среднюю (от 0.3 до 0.5) положительную корреляцию между оценками критиков и продажами игр. Это означает, что игры с более высокими оценками критиков, имеют немного лучшие продажи, чем игры с низкими оценками. Корреляция между оценками пользователей и продажами либо слабая (близкая к нулю), либо практически отсутствует. Это указывает на то, что отзывы пользователей не являются сильным фактором, влияющим на продажи."
   ]
  },
  {
   "cell_type": "markdown",
   "metadata": {},
   "source": [
    "### Распределение игр по жанрам"
   ]
  },
  {
   "cell_type": "code",
   "execution_count": 21,
   "metadata": {
    "scrolled": true
   },
   "outputs": [
    {
     "data": {
      "image/png": "[encoded data removed]",
      "text/plain": [
       "<Figure size 720x360 with 1 Axes>"
      ]
     },
     "metadata": {
      "needs_background": "light"
     },
     "output_type": "display_data"
    },
    {
     "name": "stdout",
     "output_type": "stream",
     "text": [
      "genre\n",
      "Action          185.16\n",
      "Shooter         164.51\n",
      "Sports          106.70\n",
      "Role-Playing     90.47\n",
      "Misc             30.91\n",
      "Fighting         27.43\n",
      "Racing           26.78\n",
      "Platform         17.84\n",
      "Adventure        14.64\n",
      "Simulation        6.49\n",
      "Puzzle            2.15\n",
      "Strategy          1.49\n",
      "Name: all_country_sales, dtype: float64\n"
     ]
    }
   ],
   "source": [
    "# Расчет количества игр по жанрам\n",
    "genre_count = actual_period_data['genre'].value_counts()\n",
    "plt.figure(figsize=(10, 5))\n",
    "plt.bar(genre_count.index, genre_count.values)\n",
    "plt.title('Распределение игр по жанрам')\n",
    "plt.xlabel('Жанр')\n",
    "plt.ylabel('Количество игр')\n",
    "plt.xticks(rotation=45)\n",
    "plt.show()\n",
    "\n",
    "# Группируем по жанрам и считаем суммарные продажи\n",
    "genre_sales = actual_period_data.groupby('genre')['all_country_sales'].sum().sort_values(ascending=False)\n",
    "print(genre_sales)"
   ]
  },
  {
   "cell_type": "markdown",
   "metadata": {},
   "source": [
    "Продажи Action больше из-за того, что самих игр в данном жанре выпускается больше. Но прибыль на одну игру может быть меньше, чем у игры другого жанра.\n",
    "\n",
    "Чтобы понять какой жанр приносит больше прибыли надо выяснить средние продажи одной игры в каждом жанре. Для этого нам нужно разделить суммарные продажи на количество выпущенных игр."
   ]
  },
  {
   "cell_type": "code",
   "execution_count": 22,
   "metadata": {},
   "outputs": [
    {
     "name": "stdout",
     "output_type": "stream",
     "text": [
      "Shooter         1.551981\n",
      "Sports          0.773188\n",
      "Role-Playing    0.628264\n",
      "Platform        0.540606\n",
      "Fighting        0.537843\n",
      "Racing          0.505283\n",
      "Action          0.405164\n",
      "Misc            0.351250\n",
      "Simulation      0.282174\n",
      "Puzzle          0.179167\n",
      "Adventure       0.149388\n",
      "Strategy        0.093125\n",
      "dtype: float64\n"
     ]
    }
   ],
   "source": [
    "genres_profit = genre_sales / genre_count\n",
    "genres_profit = genres_profit.sort_values(ascending=False)\n",
    "print(genres_profit)"
   ]
  },
  {
   "cell_type": "markdown",
   "metadata": {},
   "source": [
    "**Вывод**\n",
    "\n",
    "Больше всего выпускается игр в жанре Action. Самые продаваемые жанры: Action, Role-Playing и Sports . Жанры с низкими продажами: Strategy, Puzzle, Simulation.\n",
    "\n",
    "Но анализируя средние продажи одной игры, мы видим, что самые прибыльные жанр - это Shooter (средние продажи на игру 1.55 миллиона долларов. Продажи игр этого жанра почти вдое превосходя средние показатели игр других жанров. На втором месте Sports(0.77), на третьем Role-Playing (0.63). В то же время игры жанров Puzzle (0.18), Adventure (0.15) и Strategy (0.09) приносят меньше всего прибыли.\n",
    "\n",
    "Учитывая высокую прибыльность жанра Shooter, можно рассмотреть возможность увеличения вложений в продвижение и маркетинг игр этого жанра, а также в игры жанров Sports и Role-Playing.\n",
    "Игры жанров Puzzle, Adventure и Strategy приносят меньше всего прибыли, поэтому можно рассмотреть возможность уменьшения или вообще сокращения вложений в игры данных жанров."
   ]
  },
  {
   "cell_type": "markdown",
   "metadata": {},
   "source": [
    "## Портрет пользователя каждого региона"
   ]
  },
  {
   "cell_type": "markdown",
   "metadata": {},
   "source": [
    "### Самые популярные платформы (топ-5)"
   ]
  },
  {
   "cell_type": "code",
   "execution_count": 23,
   "metadata": {},
   "outputs": [
    {
     "name": "stdout",
     "output_type": "stream",
     "text": [
      "Пользователи региона na\n",
      "Самые популярные платформы по продажам:\n",
      "platform\n",
      "PS4     98.61\n",
      "XOne    81.27\n",
      "X360    28.30\n",
      "3DS     22.64\n",
      "PS3     22.05\n",
      "Name: na_sales, dtype: float64\n",
      "\n",
      " Процент продаж по платформам:\n",
      "platform\n",
      "PS4     36.223047\n",
      "XOne    29.853433\n",
      "X360    10.395621\n",
      "3DS      8.316497\n",
      "PS3      8.099769\n",
      "Name: na_sales, dtype: float64\n",
      "------------------------------\n",
      "Пользователи региона eu\n",
      "Самые популярные платформы по продажам:\n",
      "platform\n",
      "PS4     130.04\n",
      "XOne     46.25\n",
      "PS3      25.54\n",
      "3DS      16.12\n",
      "X360     15.49\n",
      "Name: eu_sales, dtype: float64\n",
      "\n",
      " Процент продаж по платформам:\n",
      "platform\n",
      "PS4     52.735310\n",
      "XOne    18.755830\n",
      "PS3     10.357273\n",
      "3DS      6.537167\n",
      "X360     6.281682\n",
      "Name: eu_sales, dtype: float64\n",
      "------------------------------\n",
      "Пользователи региона jp\n",
      "Самые популярные платформы по продажам:\n",
      "platform\n",
      "3DS     44.24\n",
      "PS4     15.02\n",
      "PS3     11.22\n",
      "WiiU     7.31\n",
      "XOne     0.32\n",
      "Name: jp_sales, dtype: float64\n",
      "\n",
      " Процент продаж по платформам:\n",
      "platform\n",
      "3DS     56.580125\n",
      "PS4     19.209618\n",
      "PS3     14.349661\n",
      "WiiU     9.349022\n",
      "XOne     0.409259\n",
      "Name: jp_sales, dtype: float64\n",
      "------------------------------\n"
     ]
    }
   ],
   "source": [
    "regions = ['na', 'eu', 'jp']\n",
    "\n",
    "for region in regions:\n",
    "    print(f\"Пользователи региона {region}\")\n",
    "\n",
    "    # Самые популярные платформы по продажам\n",
    "    region_data = actual_period_data[actual_period_data[f'{region}_sales'] > 0]\n",
    "    platform_sales = region_data.groupby('platform')[f'{region}_sales'].sum().sort_values(ascending=False)\n",
    "    top_platforms = platform_sales.head(5)\n",
    "    print(\"Самые популярные платформы по продажам:\")\n",
    "    print(top_platforms)\n",
    "\n",
    "    # Процент продаж по платформам\n",
    "    total_sales = platform_sales.sum()\n",
    "    platform_rercents = (platform_sales / total_sales) * 100\n",
    "    print(\"\\n Процент продаж по платформам:\")\n",
    "    print(platform_rercents.head(5))\n",
    "\n",
    "    print(\"------------------------------\")"
   ]
  },
  {
   "cell_type": "markdown",
   "metadata": {},
   "source": [
    "**Вывод**\n",
    "\n",
    "В Северной Америке и Европе преобладают платформы PS4 и XOne. Причем в Европе PS4 доминирует, составляя более половины продаж. Это может говорить о том, что в этих регионах игроки предпочитают игровой опыт на больших экранах с более мощными устройствами.\n",
    "\n",
    "В Японии доминирует над остальными платформами 3DS и составляет 56% от всех продаж на рынке, что говорит о любви японских пользователей к портативным консолям."
   ]
  },
  {
   "cell_type": "markdown",
   "metadata": {},
   "source": [
    "### Самые популярные жанры (топ-5)"
   ]
  },
  {
   "cell_type": "code",
   "execution_count": 24,
   "metadata": {},
   "outputs": [
    {
     "name": "stdout",
     "output_type": "stream",
     "text": [
      "Пользователи региона na\n",
      "Самые популярные жанры по продажам:\n",
      "genre\n",
      "Shooter         76.83\n",
      "Action          69.83\n",
      "Sports          45.71\n",
      "Role-Playing    31.14\n",
      "Misc            13.15\n",
      "Name: na_sales, dtype: float64\n",
      "\n",
      "Процент продаж по жанрам:\n",
      "genre\n",
      "Shooter         28.222459\n",
      "Action          25.651104\n",
      "Sports          16.790949\n",
      "Role-Playing    11.438857\n",
      "Misc             4.830474\n",
      "Name: na_sales, dtype: float64\n",
      "------------------------------\n",
      "Пользователи региона eu\n",
      "Самые популярные жанры по продажам:\n",
      "genre\n",
      "Action          69.32\n",
      "Shooter         61.87\n",
      "Sports          44.17\n",
      "Role-Playing    24.91\n",
      "Racing          13.51\n",
      "Name: eu_sales, dtype: float64\n",
      "\n",
      "Процент продаж по жанрам:\n",
      "genre\n",
      "Action          28.111440\n",
      "Shooter         25.090231\n",
      "Sports          17.912324\n",
      "Role-Playing    10.101788\n",
      "Racing           5.478730\n",
      "Name: eu_sales, dtype: float64\n",
      "------------------------------\n",
      "Пользователи региона jp\n",
      "Самые популярные жанры по продажам:\n",
      "genre\n",
      "Role-Playing    26.47\n",
      "Action          24.48\n",
      "Fighting         5.91\n",
      "Shooter          4.86\n",
      "Misc             3.74\n",
      "Name: jp_sales, dtype: float64\n",
      "\n",
      "Процент продаж по жанрам:\n",
      "genre\n",
      "Role-Playing    33.853434\n",
      "Action          31.308351\n",
      "Fighting         7.558511\n",
      "Shooter          6.215629\n",
      "Misc             4.783220\n",
      "Name: jp_sales, dtype: float64\n",
      "------------------------------\n"
     ]
    }
   ],
   "source": [
    "for region in regions:\n",
    "    print(f\"Пользователи региона {region}\")\n",
    "\n",
    "    # Самые популярные жанры по продажам\n",
    "    region_data = actual_period_data[actual_period_data[f'{region}_sales'] > 0]\n",
    "    genre_sales = region_data.groupby('genre')[f'{region}_sales'].sum().sort_values(ascending=False)\n",
    "    top_genres = genre_sales.head(5)\n",
    "    print(\"Самые популярные жанры по продажам:\")\n",
    "    print(top_genres)\n",
    "\n",
    "    # Процент продаж по жанрам\n",
    "    total_sales = genre_sales.sum()\n",
    "    genre_percents = (genre_sales / total_sales) * 100\n",
    "    print(\"\\nПроцент продаж по жанрам:\")\n",
    "    print(genre_percents.head(5))\n",
    "        \n",
    "    print(\"------------------------------\")"
   ]
  },
  {
   "cell_type": "markdown",
   "metadata": {},
   "source": [
    "**Вывод**\n",
    "\n",
    "В Северной Америке (NA) и Европе (EU) схожие предпочтения, Action и Shooter: Эти жанры являются наиболее популярными жанрами в обоих регионах, составляя более половины продаж. Спортивные игры также занимают значительную долю продаж, что говорит о популярности спортивных симуляторов в обоих регионах. Ролевые игры менее популярны, чем в Японии, но все же имеют значительную долю рынка.\n",
    "\n",
    "Япония (JP) отличается значительной популярностью ролевые игры (Role-Playing). Это может быть связано с традициями японской игровой индустрии, где ролевые игры всегда занимают важное место."
   ]
  },
  {
   "cell_type": "markdown",
   "metadata": {},
   "source": [
    "### Влияет ли рейтинг ESRB на продажи в отдельном регионе?"
   ]
  },
  {
   "cell_type": "markdown",
   "metadata": {},
   "source": [
    "Для начала объясним значения рейтинга ESRB:\n",
    "   - «EC» («Early childhood») — «Для детей младшего возраста»\n",
    "   - «E» («Everyone») — «Для всех»\n",
    "   - «E10+» («Everyone 10 and older») — «Для всех от 10 лет и старше»\n",
    "   - «T» («Teen») — «Подросткам»\n",
    "   - «M» («Mature») — «Для взрослых»\n",
    "   - «AO» («Adults Only 18+») — «Только для взрослых»\n",
    "   - «RP» («Rating Pending») — «Рейтинг ожидается»\n",
    "   - «RP 17+» («Rating Pending») — «Рейтинг ожидается - примерно 17+»"
   ]
  },
  {
   "cell_type": "code",
   "execution_count": 25,
   "metadata": {},
   "outputs": [
    {
     "name": "stdout",
     "output_type": "stream",
     "text": [
      "Пользователи региона na\n",
      "Влияние рейтинга ESRB:\n",
      "rating\n",
      "M       91.25\n",
      "E       50.28\n",
      "T       36.05\n",
      "E10+    30.80\n",
      "AO       0.00\n",
      "EC       0.00\n",
      "K-A      0.00\n",
      "RP       0.00\n",
      "Name: na_sales, dtype: float64\n",
      "------------------------------\n",
      "Пользователи региона eu\n",
      "Влияние рейтинга ESRB:\n",
      "rating\n",
      "M       85.40\n",
      "E       55.05\n",
      "T       29.21\n",
      "E10+    22.22\n",
      "AO       0.00\n",
      "EC       0.00\n",
      "K-A      0.00\n",
      "RP       0.00\n",
      "Name: eu_sales, dtype: float64\n",
      "------------------------------\n",
      "Пользователи региона jp\n",
      "Влияние рейтинга ESRB:\n",
      "rating\n",
      "T       10.73\n",
      "E        8.89\n",
      "M        7.21\n",
      "E10+     4.18\n",
      "AO       0.00\n",
      "EC       0.00\n",
      "K-A      0.00\n",
      "RP       0.00\n",
      "Name: jp_sales, dtype: float64\n",
      "------------------------------\n"
     ]
    }
   ],
   "source": [
    "for region in regions:\n",
    "    print(f\"Пользователи региона {region}\")\n",
    "\n",
    "    # Влияние рейтинга ESRB\n",
    "    region_data = actual_period_data[actual_period_data[f'{region}_sales'] > 0]\n",
    "    esrb_sales = region_data.groupby('rating')[f'{region}_sales'].sum().sort_values(ascending=False)\n",
    "    print(\"Влияние рейтинга ESRB:\")\n",
    "    print(esrb_sales)\n",
    "\n",
    "    print(\"------------------------------\")"
   ]
  },
  {
   "cell_type": "markdown",
   "metadata": {},
   "source": [
    "**Вывод**\n",
    "\n",
    "Самые продаваемые игры  во всех регионах с рейтингом E, M, T и E10+\n",
    "\n",
    "Cамые большие продажи в Северной америке и Европе имеют игры с рейтингом М (для взрослых) - это игры рекомендуемые возрасту +18, где присутствуют сцены насилия и сцены сексуального характера.\n",
    "\n",
    "Низкий спрос на “EC”, “AO” и “K-A”. Игры с этим ретингм практически не продаются.\n",
    "\n",
    "Существуют различия в предпочтениях пользователей из Европы и Северной америки и японскими пользователями. Например, в Японии более популярны игры с рейтингом “T”, чем в других регионах."
   ]
  },
  {
   "cell_type": "markdown",
   "metadata": {},
   "source": [
    "## Проверка гипотез"
   ]
  },
  {
   "cell_type": "markdown",
   "metadata": {},
   "source": [
    "### Проверка гипотезы: Средние пользовательские рейтинги платформ Xbox One и PC одинаковые"
   ]
  },
  {
   "cell_type": "markdown",
   "metadata": {},
   "source": [
    "Создадим два датафрейма с рейтингами по платформам XOne и PC и проверим одностороннюю гипотезу о равенстве двух средних генеральных совокупностей.\n",
    "В данном случае нулевая и альтернативная гипотезы выглядят так:\n",
    " - Нулевая гипотеза: средние пользовательские рейтинги платформ XOne и PC одинаковые.\n",
    " - Альтернативная гипотеза: средние пользовательские рейтинги платформ XOne и PC отличаются."
   ]
  },
  {
   "cell_type": "markdown",
   "metadata": {},
   "source": [
    "Уровень значимости (alpha) в статистических тестах - это порог, который мы устанавливаем для принятия решения о том, отвергать ли нулевую гипотезу или нет.\n",
    "\n",
    "Что он означает:\n",
    "\n",
    "alpha = 0.05 означает, что мы готовы принять риск ошибиться в 5% случаев, отвергая нулевую гипотезу, когда она на самом деле верна.\n",
    "Другими словами, мы готовы принять 5% вероятность ошибочно отвергнуть нулевую гипотезу (т.е. сделать ошибку первого рода).\n",
    "Почему он такой (0.05)?\n",
    "\n",
    "Исторически сложившийся стандарт: 0.05 — это традиционный уровень значимости, который широко используется в статистике.\n",
    "Компромисс между точностью и риском: С одной стороны, мы хотим минимизировать риск ошибочно отвергнуть нулевую гипотезу. \n",
    "С другой стороны, мы не хотим слишком сильно завышать риск ошибки второго рода (не отвергнуть нулевую гипотезу, \n",
    "когда она на самом деле неверна).\n",
    "0.05 представляет собой разумный компромисс между этими двумя факторами."
   ]
  },
  {
   "cell_type": "markdown",
   "metadata": {},
   "source": [
    "Теперь нужно разобраться походит ли нам уровень значимости 0.05. Обычно уровень значимости имеет значения от 0.01 (выборка 100-1000 позиций) до 0.1 (до 100). Чем меньше выборка, тем выше уровень значимости.\n",
    "\n",
    "Факторы, влияющие на выбор уровня значимости:\n",
    "Первое и, возможно, самое очевидное – это цели и специфика проекта. От того, насколько критичными могут быть последствия ошибки, зависит, насколько консервативным или агрессивным вы можете быть в выборе α.\n",
    "\n",
    "Статистическая мощность. Выбор слишком низкого α может привести к снижению мощности теста, что увеличивает риск ошибки второго рода – не обнаружить реальное различие, когда оно существует.\n",
    "\n",
    "Размер выборки напрямую влияет на статистические выводы. С большей выборкой больше шансов обнаружить реальное различие, если оно существует. Это может позволить выбрать более строгий уровень значимости без ущерба для статистической мощности.\n",
    "\n",
    "Разница между выборками: Если различие между выборками большое, то уровень значимости может быть ниже, потому что вы с большей вероятностью откроете статистически значимое различие.\n",
    "\n",
    "Дисперсия данных: Чем больше дисперсия данных в выборках, тем больше размер выборки нужен для получения статистически значимых результатов."
   ]
  },
  {
   "cell_type": "markdown",
   "metadata": {},
   "source": [
    "Рассмотрим выборки для проверки гипотезы "
   ]
  },
  {
   "cell_type": "code",
   "execution_count": 26,
   "metadata": {},
   "outputs": [],
   "source": [
    "# Создаем датафрейм с актуальным периодом, но который включает все платформы\n",
    "actual_period_data_all_platforms = data[data['year_of_release'] >= 2014]\n",
    "\n",
    "# Создаем новые датафреймы для проверки гипотезы\n",
    "xone_data = actual_period_data_all_platforms[actual_period_data_all_platforms['platform'] == 'XOne']['user_score'].dropna()\n",
    "pc_data = actual_period_data_all_platforms[actual_period_data_all_platforms['platform'] == 'PC']['user_score'].dropna()"
   ]
  },
  {
   "cell_type": "code",
   "execution_count": 27,
   "metadata": {},
   "outputs": [
    {
     "data": {
      "text/plain": [
       "count    165.000000\n",
       "mean       6.594545\n",
       "std        1.375139\n",
       "min        1.600000\n",
       "25%        5.800000\n",
       "50%        6.800000\n",
       "75%        7.600000\n",
       "max        9.200000\n",
       "Name: user_score, dtype: float64"
      ]
     },
     "execution_count": 27,
     "metadata": {},
     "output_type": "execute_result"
    }
   ],
   "source": [
    "xone_data.describe()"
   ]
  },
  {
   "cell_type": "code",
   "execution_count": 28,
   "metadata": {},
   "outputs": [
    {
     "data": {
      "text/plain": [
       "count    122.000000\n",
       "mean       6.298361\n",
       "std        1.703278\n",
       "min        1.400000\n",
       "25%        5.325000\n",
       "50%        6.800000\n",
       "75%        7.600000\n",
       "max        9.300000\n",
       "Name: user_score, dtype: float64"
      ]
     },
     "execution_count": 28,
     "metadata": {},
     "output_type": "execute_result"
    }
   ],
   "source": [
    "pc_data.describe()"
   ]
  },
  {
   "cell_type": "markdown",
   "metadata": {},
   "source": [
    "Видим, что выборки имеют средний размер, высокой дисперсии не просматривается. Задаём уровень значимости 0.05. После вывода результата, можно также посмотреть измениться ли результат, при уровнях значимости 0.01 и 0.1."
   ]
  },
  {
   "cell_type": "code",
   "execution_count": 29,
   "metadata": {},
   "outputs": [
    {
     "name": "stdout",
     "output_type": "stream",
     "text": [
      "Гипотеза: Средние пользовательские рейтинги платформ XOne и PC одинаковые\n",
      "t-статистика: 1.58\n",
      "p-значение: 0.116\n",
      "Не можем отвергнуть нулевую гипотезу. Средние пользовательские рейтинги XOne и PC могут быть одинаковыми.\n"
     ]
    }
   ],
   "source": [
    "# # Создаем датафрейм с актуальным периодом, но который включает все платформы\n",
    "# actual_period_data_all_platforms = data[data['year_of_release'] >= 2014]\n",
    "\n",
    "# # Создаем новые датафреймы для проверки гипотезы\n",
    "# xone_data = actual_period_data_all_platforms[actual_period_data_all_platforms['platform'] == 'XOne']['user_score'].dropna()\n",
    "# pc_data = actual_period_data_all_platforms[actual_period_data_all_platforms['platform'] == 'PC']['user_score'].dropna()\n",
    "\n",
    "# Задаём уровень значимости\n",
    "alpha = 0.05\n",
    "\n",
    "# Проверка гипотезы\n",
    "t_statistic, p_value = st.ttest_ind(xone_data, pc_data, equal_var=False, alternative='two-sided')\n",
    "\n",
    "# Вывод результата\n",
    "print(\"Гипотеза: Средние пользовательские рейтинги платформ XOne и PC одинаковые\")\n",
    "print(f\"t-статистика: {t_statistic:.2f}\")\n",
    "print(f\"p-значение: {p_value:.3f}\")\n",
    "\n",
    "if p_value < alpha:\n",
    "    print(\"Отвергаем нулевую гипотезу. Средние пользовательские рейтинги XOne и PC отличаются.\")\n",
    "else:\n",
    "    print(\"Не можем отвергнуть нулевую гипотезу. Средние пользовательские рейтинги XOne и PC могут быть одинаковыми.\")\n"
   ]
  },
  {
   "cell_type": "markdown",
   "metadata": {},
   "source": [
    "**Вывод**\n",
    "\n",
    "Значение t-статистика небольшое (1.58). Это означает, что что различие между средними значениями Xbox One и PC небольшое.\n",
    "\n",
    "p-значение (0.116) выше уровня значимости. Это означает, что средние пользовательские рейтинги XOne и PC могут быть одинаковыми.\n",
    "\n",
    "В данном случае изменение уровня значимости на результат никак не повлияет."
   ]
  },
  {
   "cell_type": "markdown",
   "metadata": {},
   "source": [
    "### Проверка гипотезы: Средние пользовательские рейтинги жанров Action (англ. «действие», экшен-игры) и Sports (англ. «спортивные соревнования») разные."
   ]
  },
  {
   "cell_type": "markdown",
   "metadata": {},
   "source": [
    "Создадим два датафрейма с рейтингами по жанрам Action И Sports и проверим одностороннюю гипотезу о равенстве двух средних генеральных совокупностей.\n",
    "В данном случае нулевая и альтернативная гипотезы выглядят так:\n",
    " - Нулевая гипотеза: cредние пользовательские рейтинги жанров Action и Sports одинаковые.\n",
    " - Альтернативная гипотеза: средние пользовательские рейтинги жанров Action и Sports отличаются."
   ]
  },
  {
   "cell_type": "code",
   "execution_count": 30,
   "metadata": {},
   "outputs": [],
   "source": [
    "# Создаем новые датафреймы для проверки гипотезы\n",
    "action_data = actual_period_data_all_platforms[actual_period_data_all_platforms['genre'] == 'Action']['user_score'].dropna()\n",
    "sports_data = actual_period_data_all_platforms[actual_period_data_all_platforms['genre'] == 'Sports']['user_score'].dropna()"
   ]
  },
  {
   "cell_type": "code",
   "execution_count": 31,
   "metadata": {},
   "outputs": [
    {
     "data": {
      "text/plain": [
       "count    297.000000\n",
       "mean       6.760606\n",
       "std        1.377852\n",
       "min        2.000000\n",
       "25%        6.100000\n",
       "50%        7.100000\n",
       "75%        7.700000\n",
       "max        9.000000\n",
       "Name: user_score, dtype: float64"
      ]
     },
     "execution_count": 31,
     "metadata": {},
     "output_type": "execute_result"
    }
   ],
   "source": [
    "action_data.describe()"
   ]
  },
  {
   "cell_type": "code",
   "execution_count": 32,
   "metadata": {},
   "outputs": [
    {
     "data": {
      "text/plain": [
       "count    127.000000\n",
       "mean       5.225197\n",
       "std        1.856604\n",
       "min        0.200000\n",
       "25%        4.000000\n",
       "50%        5.500000\n",
       "75%        6.650000\n",
       "max        8.800000\n",
       "Name: user_score, dtype: float64"
      ]
     },
     "execution_count": 32,
     "metadata": {},
     "output_type": "execute_result"
    }
   ],
   "source": [
    "sports_data.describe()"
   ]
  },
  {
   "cell_type": "markdown",
   "metadata": {},
   "source": [
    "Для проверки гипотезы ьакже подходит уровень значимости 0.05."
   ]
  },
  {
   "cell_type": "code",
   "execution_count": 33,
   "metadata": {},
   "outputs": [
    {
     "name": "stdout",
     "output_type": "stream",
     "text": [
      "Гипотеза: Средние пользовательские рейтинги жанров Action и Sports разные\n",
      "t-статистика: 8.38\n",
      "p-значение: 0.000\n",
      "Отвергаем нулевую гипотезу. Средние пользовательские рейтинги Action и Sports отличаются.\n"
     ]
    }
   ],
   "source": [
    "# # Создаем новые датафреймы для проверки гипотезы\n",
    "# action_data = actual_period_data_all_platforms[actual_period_data_all_platforms['genre'] == 'Action']['user_score'].dropna()\n",
    "# sports_data = actual_period_data_all_platforms[actual_period_data_all_platforms['genre'] == 'Sports']['user_score'].dropna()\n",
    "\n",
    "# Задаём уровень значимости\n",
    "alpha = 0.05\n",
    "\n",
    "# Проверка гипотезы\n",
    "t_statistic, p_value = st.ttest_ind(action_data, sports_data, equal_var=False)\n",
    "\n",
    "# Вывод результата\n",
    "print(\"Гипотеза: Средние пользовательские рейтинги жанров Action и Sports разные\")\n",
    "print(f\"t-статистика: {t_statistic:.2f}\")\n",
    "print(f\"p-значение: {p_value:.3f}\")\n",
    "\n",
    "if p_value < alpha:\n",
    "    print(\"Отвергаем нулевую гипотезу. Средние пользовательские рейтинги Action и Sports отличаются.\")\n",
    "else:\n",
    "    print(\"Не можем отвергнуть нулевую гипотезу. Средние пользовательские рейтинги Action и Sports могут быть одинаковыми.\")"
   ]
  },
  {
   "cell_type": "markdown",
   "metadata": {},
   "source": [
    "**Вывод**\n",
    "\n",
    "Значение t-статистика (8.38) значительно отличается от нуля. Это означает, что разница между средними пользовательскими рейтингами Action и Sports довольно значительна.\n",
    "\n",
    "p-значение (0.000) очень маленькое. Это означает, что мы наблюдаем данные, которые очень маловероятно получить, если нулевая гипотеза верна, а следовательно средние пользовательские рейтинги Action и Sports отличаются.\n",
    "\n",
    "В данном случае изменение уровня значимости на результат никак не повлияет."
   ]
  },
  {
   "cell_type": "markdown",
   "metadata": {},
   "source": [
    "## Общий вывод"
   ]
  },
  {
   "cell_type": "markdown",
   "metadata": {},
   "source": [
    "**Проект: Анализ и выявление факторов успеха продаж компьютерных игр в интернет-магазине «Стримчик».**\n",
    "\n",
    "### Описание проекта\n",
    "Проект направлен на анализ исторических данных о продажах компьютерных игр, чтобы выявить факторы, определяющие их успешность.\n",
    "\n",
    "### Цель проекта\n",
    "Цель — прогнозировать продажи в будущем, определять потенциально популярные продукты и планировать рекламные кампании.\n",
    "\n",
    "### Предобработка данных\n",
    "На первом этапе нашего исследования была проведена предобработка данных:\n",
    "   - привели названия всех столбцов к нижнему регистру;\n",
    "   - преобразовали в столбцах critic_score, user_score, rating тип данных object в тип данных float;\n",
    "   - создали новый столбец -  all_country_sales (суммарные продажи во всех регионах).\n",
    "   \n",
    "### Исследовательский анализ\n",
    "Анализ показал, что рынок видеоигр претерпел значительные изменения за последние 15 лет. Период с 2014 по 2016 год наиболее подходящим для исследования, так как именно в этот период наблюдается смена тренда, максимальная прибыль от продажи игр переходит к консолям нового поколения.\n",
    "\n",
    "**Проведенный исследовательский анализ позволил нам сделать следующие выводы:**\n",
    "\n",
    " - Срок жизни платформ сократился: С 1996 по 2010 год средний срок жизни платформы составлял 5 лет, после 2010 года - 3 года.\n",
    " - Платформы PS4, XOne выделяются как наиболее прибыльные платформы, демонстрируя широкий диапазон продаж и высокие средние значения. PS4 является самой перспективной в ближайшие годы, т.к. имеет самые высокие продажи за последние 3 года.\n",
    " - WiiU и 3DS: WiiU демонстрирует более стабильные продажи, но без явных хитов. 3DS, наоборот, имеет самый узкий диапазон продаж и низкие средние показатели, что указывает на меньшее количество высоко продаваемых игр на этой платформе.\n",
    "\n",
    "**Влияние оценок критиков и пользователей на продажи:**\n",
    " - Отзывы критиков имеют среднее положительное влияние на продажи игр, но не являются основным фактором.\n",
    " - Отзывы пользователей практически не влияют на продажи игр, корреляция между оценками пользователей и продажами слабая или отсутствует.\n",
    "\n",
    "**Влияние жанров на продажи:**\n",
    " - Больше всего выпускается игр в жанре Action. Самые продаваемые жанры: Action, Role-Playing и Sports . Жанры с низкими продажами: Strategy, Puzzle, Simulation.\n",
    " - Shooter является самым прибыльным жанром с средними продажами на игру 1.55 миллиона долларов. Продажи игр этого жанра почти вдвое превосходят средние показатели игр других жанров. На втором месте Sports (0.77 миллиона долларов), на третьем Role-Playing (0,63 миллиона долларов). Игры жанров Puzzle (0.18 миллиона долларов), Adventure (0.15 миллиона долларов) и Strategy (0.09 миллиона долларов) приносят меньше всего прибыли.\n",
    " \n",
    " \n",
    "### Портрет пользователя по регионам\n",
    "**Северная Америка (NA) и Европа (EU):**\n",
    "\n",
    "Предпочтения в платформах: PS4, XOne.\n",
    "Предпочтения в жанрах: Action, Sports, Shooter.\n",
    "Предпочтения в рейтингах: M (для взрослых), E (для всех), T (подростковый), E10+.\n",
    "Профиль пользователя: Игрок, предпочитающий игровой опыт на больших экранах с более мощными устройствами. Увлекается спортивными симуляторами, шутерами. Обычно старше 18 лет.\n",
    "\n",
    "\n",
    "**Япония (JP):**\n",
    "\n",
    "Предпочтения в платформах: 3DS, PS4.\n",
    "Предпочтения в жанрах: Role-Playing.\n",
    "Предпочтения в рейтингах: T (подростковый), E (для всех).\n",
    "Профиль пользователя: Игрок, предпочитающий портативные консоли. Увлекается ролевыми играми. Может быть как взрослым, так и подростком.\n",
    "\n",
    "### Проверка гипотез\n",
    "**Проверка гипотезы: Средние пользовательские рейтинги платформ Xbox One и PC одинаковые:**\n",
    "\n",
    " - Нулевая гипотеза: средние пользовательские рейтинги платформ XOne и PC одинаковые.\n",
    " - Альтернативная гипотеза: средние пользовательские рейтинги платформ XOne и PC отличаются.\n",
    " \n",
    " \n",
    " *Результат проверки:*\n",
    " \n",
    "Значение t-статистика небольшое (1.58). Это означает, что что различие между средними значениями Xbox One и PC небольшое. \n",
    "p-значение (0.116) выше уровня значимости. Это означает, что средние пользовательские рейтинги XOne и PC могут быть одинаковыми.\n",
    " \n",
    " \n",
    "**Проверка гипотезы: Средние пользовательские рейтинги жанров Action (англ. «действие», экшен-игры) и Sports (англ. «спортивные соревнования») разные:**\n",
    "\n",
    " - Нулевая гипотеза: cредние пользовательские рейтинги жанров Action и Sports разные.\n",
    " - Альтернативная гипотеза: средние пользовательские рейтинги жанров Action и Sports отличаются.\n",
    " \n",
    " \n",
    " *Результат проверки:*\n",
    " \n",
    "Значение t-статистика (8.38) значительно отличается от нуля. Это означает, что разница между средними пользовательскими рейтингами Action и Sports довольно значительна. p-значение (0.000) очень маленькое. Это означает, что мы наблюдаем данные, которые очень маловероятно получить, если нулевая гипотеза верна, а следовательно средние пользовательские рейтинги Action и Sports отличаются.\n",
    " \n",
    "### Рекомендации на основе проведенного анализа данных продаж компьютерных игр в интернет-магазине «Стримчик»\n",
    "1. Необходимо сосредоточиться на играх плафтформ PS4, XOne, PS3, X360 - это приоритетные платформы с наибольшим продажами. Также необходимо сделать особый акцент на PS4,  учитывая высокие продажи за последние два года, PS4 является наиболее перспективной платформой на данный момент.\n",
    "2. Необходимо выбирать игры в жанры Action, Sports, Shooter, Role-Playing, которые имеют высокий потенциал. Анализ региональных предпочтений показал, что адаптировать рекламные кампании в Северной Америке и Европе должная делать упор на игры жанров Action, Sports, Shooter с рейтингом M и E, в Японии - Role-Playing с рейтингом T и E.\n",
    "3. Рассмотреть возможность выпуска игр с рейтингом E (для всех) для всех регионов.\n",
    "4. Учитывать отзывы критиков и пользователей, но не делать на них основной упор.\n",
    "5. Учитывая высокую прибыльность жанра Shooter, можно рассмотреть возможность увеличения вложений в продвижение и маркетинг игр этого жанра, а также в игры жанров Sports и Role-Playing.\n",
    "6. Из-за большого разнообразия игр необходимо развивать систему рекомендаций для пользователей, чтобы предлагать им игры, которые им могут понравиться."
   ]
  }
 ],
 "metadata": {
  "ExecuteTimeLog": [
   {
    "duration": 1302,
    "start_time": "2024-08-30T07:41:35.882Z"
   },
   {
    "duration": 192,
    "start_time": "2024-08-30T07:44:43.139Z"
   },
   {
    "duration": 3,
    "start_time": "2024-08-30T07:47:16.827Z"
   },
   {
    "duration": 25,
    "start_time": "2024-08-30T07:52:22.042Z"
   },
   {
    "duration": 10,
    "start_time": "2024-08-30T08:02:05.203Z"
   },
   {
    "duration": 1149,
    "start_time": "2024-08-30T08:24:55.166Z"
   },
   {
    "duration": 1179,
    "start_time": "2024-08-30T08:25:54.049Z"
   },
   {
    "duration": 5,
    "start_time": "2024-08-30T13:04:15.814Z"
   },
   {
    "duration": 17,
    "start_time": "2024-08-30T13:04:35.652Z"
   },
   {
    "duration": 110,
    "start_time": "2024-08-30T13:16:52.269Z"
   },
   {
    "duration": 23,
    "start_time": "2024-08-30T13:17:38.683Z"
   },
   {
    "duration": 65,
    "start_time": "2024-08-30T13:22:25.735Z"
   },
   {
    "duration": 10,
    "start_time": "2024-08-30T13:22:35.937Z"
   },
   {
    "duration": 14,
    "start_time": "2024-08-30T13:23:41.845Z"
   },
   {
    "duration": 16,
    "start_time": "2024-08-30T13:24:01.524Z"
   },
   {
    "duration": 31,
    "start_time": "2024-08-30T14:29:42.125Z"
   },
   {
    "duration": 3,
    "start_time": "2024-08-30T14:33:01.692Z"
   },
   {
    "duration": 3,
    "start_time": "2024-08-30T14:33:11.185Z"
   },
   {
    "duration": 3,
    "start_time": "2024-08-30T14:33:32.029Z"
   },
   {
    "duration": 3,
    "start_time": "2024-08-30T14:33:40.007Z"
   },
   {
    "duration": 4,
    "start_time": "2024-08-30T14:33:45.700Z"
   },
   {
    "duration": 3,
    "start_time": "2024-08-30T14:33:55.064Z"
   },
   {
    "duration": 1126,
    "start_time": "2024-08-30T14:35:02.434Z"
   },
   {
    "duration": 1039,
    "start_time": "2024-08-30T14:38:22.351Z"
   },
   {
    "duration": 1193,
    "start_time": "2024-08-30T14:39:23.320Z"
   },
   {
    "duration": 3,
    "start_time": "2024-08-30T14:40:27.636Z"
   },
   {
    "duration": 71,
    "start_time": "2024-08-30T14:40:27.641Z"
   },
   {
    "duration": 24,
    "start_time": "2024-08-30T14:40:27.714Z"
   },
   {
    "duration": 12,
    "start_time": "2024-08-30T14:40:27.739Z"
   },
   {
    "duration": 14,
    "start_time": "2024-08-30T14:40:27.753Z"
   },
   {
    "duration": 7,
    "start_time": "2024-08-30T14:40:27.769Z"
   },
   {
    "duration": 9,
    "start_time": "2024-08-30T14:40:43.587Z"
   },
   {
    "duration": 9,
    "start_time": "2024-08-30T14:40:54.269Z"
   },
   {
    "duration": 7,
    "start_time": "2024-08-30T14:41:04.288Z"
   },
   {
    "duration": 24,
    "start_time": "2024-08-30T14:44:31.044Z"
   },
   {
    "duration": 22,
    "start_time": "2024-08-30T14:49:05.072Z"
   },
   {
    "duration": 19,
    "start_time": "2024-08-30T14:50:06.269Z"
   },
   {
    "duration": 1409,
    "start_time": "2024-08-30T18:16:08.371Z"
   },
   {
    "duration": 266,
    "start_time": "2024-08-30T18:16:09.782Z"
   },
   {
    "duration": 25,
    "start_time": "2024-08-30T18:16:10.050Z"
   },
   {
    "duration": 53,
    "start_time": "2024-08-30T18:16:10.077Z"
   },
   {
    "duration": 14,
    "start_time": "2024-08-30T18:16:10.132Z"
   },
   {
    "duration": 8,
    "start_time": "2024-08-30T18:16:10.148Z"
   },
   {
    "duration": 26,
    "start_time": "2024-08-30T18:16:10.157Z"
   },
   {
    "duration": 21,
    "start_time": "2024-08-30T18:16:10.185Z"
   },
   {
    "duration": 20,
    "start_time": "2024-08-30T18:27:48.631Z"
   },
   {
    "duration": 995,
    "start_time": "2024-08-30T18:45:42.590Z"
   },
   {
    "duration": 206,
    "start_time": "2024-08-30T18:45:51.884Z"
   },
   {
    "duration": 910,
    "start_time": "2024-08-30T18:51:09.446Z"
   },
   {
    "duration": 215,
    "start_time": "2024-08-30T18:51:27.085Z"
   },
   {
    "duration": 904,
    "start_time": "2024-08-30T18:53:17.201Z"
   },
   {
    "duration": 225,
    "start_time": "2024-08-30T18:53:34.944Z"
   },
   {
    "duration": 519,
    "start_time": "2024-08-30T18:56:40.537Z"
   },
   {
    "duration": 640,
    "start_time": "2024-08-30T18:57:02.628Z"
   },
   {
    "duration": 623,
    "start_time": "2024-08-30T18:57:13.109Z"
   },
   {
    "duration": 516,
    "start_time": "2024-08-30T18:58:17.536Z"
   },
   {
    "duration": 541,
    "start_time": "2024-08-30T18:58:32.126Z"
   },
   {
    "duration": 548,
    "start_time": "2024-08-30T19:00:17.593Z"
   },
   {
    "duration": 567,
    "start_time": "2024-08-30T19:02:37.498Z"
   },
   {
    "duration": 657,
    "start_time": "2024-08-30T19:02:57.829Z"
   },
   {
    "duration": 532,
    "start_time": "2024-08-30T19:03:51.235Z"
   },
   {
    "duration": 555,
    "start_time": "2024-08-30T19:04:02.654Z"
   },
   {
    "duration": 585,
    "start_time": "2024-08-30T19:04:18.371Z"
   },
   {
    "duration": 556,
    "start_time": "2024-08-30T19:04:36.841Z"
   },
   {
    "duration": 559,
    "start_time": "2024-08-30T19:05:02.964Z"
   },
   {
    "duration": 650,
    "start_time": "2024-08-30T19:05:58.179Z"
   },
   {
    "duration": 872,
    "start_time": "2024-08-30T19:07:31.519Z"
   },
   {
    "duration": 876,
    "start_time": "2024-08-30T19:08:07.349Z"
   },
   {
    "duration": 602,
    "start_time": "2024-08-30T19:10:05.218Z"
   },
   {
    "duration": 597,
    "start_time": "2024-08-30T19:12:49.505Z"
   },
   {
    "duration": 650,
    "start_time": "2024-08-30T19:13:02.862Z"
   },
   {
    "duration": 853,
    "start_time": "2024-08-30T19:23:15.773Z"
   },
   {
    "duration": 224,
    "start_time": "2024-08-30T19:23:27.952Z"
   },
   {
    "duration": 933,
    "start_time": "2024-08-30T19:28:42.167Z"
   },
   {
    "duration": 1030,
    "start_time": "2024-08-30T19:29:00.136Z"
   },
   {
    "duration": 139,
    "start_time": "2024-08-30T19:29:14.213Z"
   },
   {
    "duration": 818,
    "start_time": "2024-08-30T19:39:03.920Z"
   },
   {
    "duration": 198,
    "start_time": "2024-08-30T19:41:39.476Z"
   },
   {
    "duration": 874,
    "start_time": "2024-08-30T19:44:13.412Z"
   },
   {
    "duration": 337,
    "start_time": "2024-08-30T19:44:22.416Z"
   },
   {
    "duration": 52,
    "start_time": "2024-08-31T17:18:41.968Z"
   },
   {
    "duration": 1289,
    "start_time": "2024-08-31T17:18:59.580Z"
   },
   {
    "duration": 178,
    "start_time": "2024-08-31T17:19:00.871Z"
   },
   {
    "duration": 22,
    "start_time": "2024-08-31T17:19:01.051Z"
   },
   {
    "duration": 13,
    "start_time": "2024-08-31T17:19:01.075Z"
   },
   {
    "duration": 17,
    "start_time": "2024-08-31T17:19:01.090Z"
   },
   {
    "duration": 8,
    "start_time": "2024-08-31T17:19:01.109Z"
   },
   {
    "duration": 35,
    "start_time": "2024-08-31T17:19:01.118Z"
   },
   {
    "duration": 38,
    "start_time": "2024-08-31T17:19:01.154Z"
   },
   {
    "duration": 243,
    "start_time": "2024-08-31T17:19:01.193Z"
   },
   {
    "duration": 174,
    "start_time": "2024-08-31T17:20:15.605Z"
   },
   {
    "duration": 182,
    "start_time": "2024-08-31T17:20:24.462Z"
   },
   {
    "duration": 385,
    "start_time": "2024-08-31T17:22:05.521Z"
   },
   {
    "duration": 354,
    "start_time": "2024-08-31T17:22:13.237Z"
   },
   {
    "duration": 66,
    "start_time": "2024-08-31T17:22:22.685Z"
   },
   {
    "duration": 68,
    "start_time": "2024-08-31T17:22:31.740Z"
   },
   {
    "duration": 425,
    "start_time": "2024-08-31T17:22:42.704Z"
   },
   {
    "duration": 347,
    "start_time": "2024-08-31T17:25:47.879Z"
   },
   {
    "duration": 1382,
    "start_time": "2024-08-31T17:43:24.813Z"
   },
   {
    "duration": 1265,
    "start_time": "2024-08-31T17:44:48.365Z"
   },
   {
    "duration": 1128,
    "start_time": "2024-08-31T17:47:31.799Z"
   },
   {
    "duration": 253,
    "start_time": "2024-08-31T17:47:53.445Z"
   },
   {
    "duration": 2552,
    "start_time": "2024-08-31T17:50:26.608Z"
   },
   {
    "duration": 1353,
    "start_time": "2024-08-31T20:11:12.530Z"
   },
   {
    "duration": 203,
    "start_time": "2024-08-31T20:11:13.885Z"
   },
   {
    "duration": 23,
    "start_time": "2024-08-31T20:11:14.090Z"
   },
   {
    "duration": 10,
    "start_time": "2024-08-31T20:11:14.114Z"
   },
   {
    "duration": 14,
    "start_time": "2024-08-31T20:11:14.126Z"
   },
   {
    "duration": 8,
    "start_time": "2024-08-31T20:11:14.141Z"
   },
   {
    "duration": 36,
    "start_time": "2024-08-31T20:11:14.161Z"
   },
   {
    "duration": 21,
    "start_time": "2024-08-31T20:11:14.198Z"
   },
   {
    "duration": 392,
    "start_time": "2024-08-31T20:11:14.220Z"
   },
   {
    "duration": 2544,
    "start_time": "2024-08-31T20:11:14.614Z"
   },
   {
    "duration": 8,
    "start_time": "2024-08-31T20:12:14.834Z"
   },
   {
    "duration": 2548,
    "start_time": "2024-08-31T20:12:23.200Z"
   },
   {
    "duration": 2582,
    "start_time": "2024-08-31T20:12:44.421Z"
   },
   {
    "duration": 1071,
    "start_time": "2024-08-31T20:13:37.893Z"
   },
   {
    "duration": 65,
    "start_time": "2024-08-31T20:13:38.966Z"
   },
   {
    "duration": 25,
    "start_time": "2024-08-31T20:13:39.032Z"
   },
   {
    "duration": 14,
    "start_time": "2024-08-31T20:13:39.058Z"
   },
   {
    "duration": 16,
    "start_time": "2024-08-31T20:13:39.075Z"
   },
   {
    "duration": 8,
    "start_time": "2024-08-31T20:13:39.093Z"
   },
   {
    "duration": 26,
    "start_time": "2024-08-31T20:13:39.103Z"
   },
   {
    "duration": 40,
    "start_time": "2024-08-31T20:13:39.130Z"
   },
   {
    "duration": 391,
    "start_time": "2024-08-31T20:13:39.171Z"
   },
   {
    "duration": 12,
    "start_time": "2024-08-31T20:13:39.564Z"
   },
   {
    "duration": 2512,
    "start_time": "2024-08-31T20:13:39.586Z"
   },
   {
    "duration": 99,
    "start_time": "2024-08-31T20:13:42.100Z"
   },
   {
    "duration": 0,
    "start_time": "2024-08-31T20:13:42.201Z"
   },
   {
    "duration": 0,
    "start_time": "2024-08-31T20:13:42.202Z"
   },
   {
    "duration": 0,
    "start_time": "2024-08-31T20:13:42.203Z"
   },
   {
    "duration": 2616,
    "start_time": "2024-08-31T20:13:54.674Z"
   },
   {
    "duration": 12,
    "start_time": "2024-08-31T20:41:52.354Z"
   },
   {
    "duration": 2570,
    "start_time": "2024-08-31T20:42:26.006Z"
   },
   {
    "duration": 12,
    "start_time": "2024-08-31T20:42:40.735Z"
   },
   {
    "duration": 4,
    "start_time": "2024-08-31T20:43:54.628Z"
   },
   {
    "duration": 5,
    "start_time": "2024-08-31T20:54:27.697Z"
   },
   {
    "duration": 5,
    "start_time": "2024-08-31T20:56:22.299Z"
   },
   {
    "duration": 998,
    "start_time": "2024-08-31T20:56:28.815Z"
   },
   {
    "duration": 339,
    "start_time": "2024-08-31T20:57:08.121Z"
   },
   {
    "duration": 402,
    "start_time": "2024-08-31T20:57:27.084Z"
   },
   {
    "duration": 894,
    "start_time": "2024-08-31T20:59:25.751Z"
   },
   {
    "duration": 816,
    "start_time": "2024-08-31T20:59:45.814Z"
   },
   {
    "duration": 767,
    "start_time": "2024-08-31T20:59:55.312Z"
   },
   {
    "duration": 891,
    "start_time": "2024-08-31T21:00:16.684Z"
   },
   {
    "duration": 2460,
    "start_time": "2024-08-31T21:00:30.404Z"
   },
   {
    "duration": 2508,
    "start_time": "2024-08-31T21:00:46.926Z"
   },
   {
    "duration": 761,
    "start_time": "2024-08-31T21:00:59.192Z"
   },
   {
    "duration": 955,
    "start_time": "2024-08-31T21:02:56.218Z"
   },
   {
    "duration": 170,
    "start_time": "2024-08-31T21:03:31.772Z"
   },
   {
    "duration": 1029,
    "start_time": "2024-08-31T21:04:47.710Z"
   },
   {
    "duration": 162,
    "start_time": "2024-08-31T21:05:01.094Z"
   },
   {
    "duration": 2062,
    "start_time": "2024-08-31T21:07:21.823Z"
   },
   {
    "duration": 191,
    "start_time": "2024-08-31T21:07:35.412Z"
   },
   {
    "duration": 15,
    "start_time": "2024-08-31T21:25:40.093Z"
   },
   {
    "duration": 188,
    "start_time": "2024-08-31T21:30:06.444Z"
   },
   {
    "duration": 834,
    "start_time": "2024-08-31T21:53:39.079Z"
   },
   {
    "duration": 819,
    "start_time": "2024-08-31T21:53:49.225Z"
   },
   {
    "duration": 722,
    "start_time": "2024-08-31T21:54:15.101Z"
   },
   {
    "duration": 881,
    "start_time": "2024-08-31T21:54:25.548Z"
   },
   {
    "duration": 1108,
    "start_time": "2024-08-31T21:54:35.908Z"
   },
   {
    "duration": 66,
    "start_time": "2024-08-31T21:54:37.018Z"
   },
   {
    "duration": 22,
    "start_time": "2024-08-31T21:54:37.085Z"
   },
   {
    "duration": 16,
    "start_time": "2024-08-31T21:54:37.109Z"
   },
   {
    "duration": 13,
    "start_time": "2024-08-31T21:54:37.127Z"
   },
   {
    "duration": 23,
    "start_time": "2024-08-31T21:54:37.141Z"
   },
   {
    "duration": 42,
    "start_time": "2024-08-31T21:54:37.165Z"
   },
   {
    "duration": 24,
    "start_time": "2024-08-31T21:54:37.209Z"
   },
   {
    "duration": 386,
    "start_time": "2024-08-31T21:54:37.234Z"
   },
   {
    "duration": 11,
    "start_time": "2024-08-31T21:54:37.622Z"
   },
   {
    "duration": 2556,
    "start_time": "2024-08-31T21:54:37.635Z"
   },
   {
    "duration": 825,
    "start_time": "2024-08-31T21:54:40.192Z"
   },
   {
    "duration": 195,
    "start_time": "2024-08-31T21:54:41.019Z"
   },
   {
    "duration": 19,
    "start_time": "2024-08-31T21:54:41.216Z"
   },
   {
    "duration": 837,
    "start_time": "2024-08-31T21:54:41.236Z"
   },
   {
    "duration": 0,
    "start_time": "2024-08-31T21:54:42.075Z"
   },
   {
    "duration": 0,
    "start_time": "2024-08-31T21:54:42.076Z"
   },
   {
    "duration": 16,
    "start_time": "2024-08-31T22:01:15.060Z"
   },
   {
    "duration": 944,
    "start_time": "2024-08-31T22:03:52.851Z"
   },
   {
    "duration": 163,
    "start_time": "2024-08-31T22:04:21.917Z"
   },
   {
    "duration": 371,
    "start_time": "2024-08-31T22:12:27.772Z"
   },
   {
    "duration": 755,
    "start_time": "2024-08-31T22:22:08.475Z"
   },
   {
    "duration": 788,
    "start_time": "2024-08-31T22:39:52.474Z"
   },
   {
    "duration": 931,
    "start_time": "2024-08-31T22:42:08.738Z"
   },
   {
    "duration": 18,
    "start_time": "2024-08-31T22:44:03.513Z"
   },
   {
    "duration": 859,
    "start_time": "2024-08-31T22:51:16.962Z"
   },
   {
    "duration": 160,
    "start_time": "2024-08-31T22:52:50.097Z"
   },
   {
    "duration": 51,
    "start_time": "2024-09-01T06:04:22.225Z"
   },
   {
    "duration": 9,
    "start_time": "2024-09-01T06:05:19.103Z"
   },
   {
    "duration": 1318,
    "start_time": "2024-09-01T06:05:37.904Z"
   },
   {
    "duration": 181,
    "start_time": "2024-09-01T06:05:39.224Z"
   },
   {
    "duration": 23,
    "start_time": "2024-09-01T06:05:39.406Z"
   },
   {
    "duration": 17,
    "start_time": "2024-09-01T06:05:39.431Z"
   },
   {
    "duration": 20,
    "start_time": "2024-09-01T06:05:39.450Z"
   },
   {
    "duration": 7,
    "start_time": "2024-09-01T06:05:39.471Z"
   },
   {
    "duration": 34,
    "start_time": "2024-09-01T06:05:39.481Z"
   },
   {
    "duration": 44,
    "start_time": "2024-09-01T06:05:39.518Z"
   },
   {
    "duration": 455,
    "start_time": "2024-09-01T06:05:39.564Z"
   },
   {
    "duration": 12,
    "start_time": "2024-09-01T06:05:40.021Z"
   },
   {
    "duration": 2624,
    "start_time": "2024-09-01T06:05:40.034Z"
   },
   {
    "duration": 856,
    "start_time": "2024-09-01T06:05:42.660Z"
   },
   {
    "duration": 221,
    "start_time": "2024-09-01T06:05:43.518Z"
   },
   {
    "duration": 28,
    "start_time": "2024-09-01T06:05:43.742Z"
   },
   {
    "duration": 764,
    "start_time": "2024-09-01T06:05:43.772Z"
   },
   {
    "duration": 32,
    "start_time": "2024-09-01T06:05:44.538Z"
   },
   {
    "duration": 172,
    "start_time": "2024-09-01T06:05:44.573Z"
   },
   {
    "duration": 1208,
    "start_time": "2024-09-01T06:05:44.747Z"
   },
   {
    "duration": 0,
    "start_time": "2024-09-01T06:05:45.957Z"
   },
   {
    "duration": 1000,
    "start_time": "2024-09-01T06:06:26.497Z"
   },
   {
    "duration": 30,
    "start_time": "2024-09-01T06:06:50.695Z"
   },
   {
    "duration": 24,
    "start_time": "2024-09-01T06:07:17.969Z"
   },
   {
    "duration": 34,
    "start_time": "2024-09-01T06:07:46.997Z"
   },
   {
    "duration": 1104,
    "start_time": "2024-09-01T06:40:07.758Z"
   },
   {
    "duration": 1091,
    "start_time": "2024-09-01T06:40:37.326Z"
   },
   {
    "duration": 20,
    "start_time": "2024-09-01T06:41:00.110Z"
   },
   {
    "duration": 18,
    "start_time": "2024-09-01T06:42:01.711Z"
   },
   {
    "duration": 29,
    "start_time": "2024-09-01T06:42:26.788Z"
   },
   {
    "duration": 22,
    "start_time": "2024-09-01T06:42:39.753Z"
   },
   {
    "duration": 21,
    "start_time": "2024-09-01T07:03:11.390Z"
   },
   {
    "duration": 20,
    "start_time": "2024-09-01T07:05:49.221Z"
   },
   {
    "duration": 22,
    "start_time": "2024-09-01T07:08:02.624Z"
   },
   {
    "duration": 20,
    "start_time": "2024-09-01T07:09:12.588Z"
   },
   {
    "duration": 23,
    "start_time": "2024-09-01T07:14:24.443Z"
   },
   {
    "duration": 16,
    "start_time": "2024-09-01T07:14:51.171Z"
   },
   {
    "duration": 22,
    "start_time": "2024-09-01T07:15:00.015Z"
   },
   {
    "duration": 14,
    "start_time": "2024-09-01T07:16:57.708Z"
   },
   {
    "duration": 15,
    "start_time": "2024-09-01T07:17:09.215Z"
   },
   {
    "duration": 17,
    "start_time": "2024-09-01T07:22:52.318Z"
   },
   {
    "duration": 20,
    "start_time": "2024-09-01T07:23:19.165Z"
   },
   {
    "duration": 31,
    "start_time": "2024-09-01T07:23:29.839Z"
   },
   {
    "duration": 1391,
    "start_time": "2024-09-01T10:00:39.577Z"
   },
   {
    "duration": 214,
    "start_time": "2024-09-01T10:00:40.970Z"
   },
   {
    "duration": 27,
    "start_time": "2024-09-01T10:00:41.186Z"
   },
   {
    "duration": 11,
    "start_time": "2024-09-01T10:00:41.215Z"
   },
   {
    "duration": 15,
    "start_time": "2024-09-01T10:00:41.229Z"
   },
   {
    "duration": 8,
    "start_time": "2024-09-01T10:00:41.245Z"
   },
   {
    "duration": 24,
    "start_time": "2024-09-01T10:00:41.254Z"
   },
   {
    "duration": 20,
    "start_time": "2024-09-01T10:00:41.305Z"
   },
   {
    "duration": 411,
    "start_time": "2024-09-01T10:00:41.326Z"
   },
   {
    "duration": 10,
    "start_time": "2024-09-01T10:00:41.738Z"
   },
   {
    "duration": 2795,
    "start_time": "2024-09-01T10:00:41.750Z"
   },
   {
    "duration": 902,
    "start_time": "2024-09-01T10:00:44.547Z"
   },
   {
    "duration": 207,
    "start_time": "2024-09-01T10:00:45.451Z"
   },
   {
    "duration": 14,
    "start_time": "2024-09-01T10:00:45.661Z"
   },
   {
    "duration": 853,
    "start_time": "2024-09-01T10:00:45.676Z"
   },
   {
    "duration": 17,
    "start_time": "2024-09-01T10:00:46.531Z"
   },
   {
    "duration": 187,
    "start_time": "2024-09-01T10:00:46.550Z"
   },
   {
    "duration": 21,
    "start_time": "2024-09-01T10:00:46.739Z"
   },
   {
    "duration": 64,
    "start_time": "2024-09-01T10:00:46.762Z"
   },
   {
    "duration": 15,
    "start_time": "2024-09-01T10:00:46.828Z"
   },
   {
    "duration": 874,
    "start_time": "2024-09-01T10:01:17.814Z"
   },
   {
    "duration": 3,
    "start_time": "2024-09-01T10:01:53.112Z"
   },
   {
    "duration": 71,
    "start_time": "2024-09-01T10:01:53.117Z"
   },
   {
    "duration": 20,
    "start_time": "2024-09-01T10:01:53.190Z"
   },
   {
    "duration": 14,
    "start_time": "2024-09-01T10:01:53.211Z"
   },
   {
    "duration": 26,
    "start_time": "2024-09-01T10:01:53.228Z"
   },
   {
    "duration": 10,
    "start_time": "2024-09-01T10:01:53.256Z"
   },
   {
    "duration": 39,
    "start_time": "2024-09-01T10:01:53.267Z"
   },
   {
    "duration": 20,
    "start_time": "2024-09-01T10:01:53.308Z"
   },
   {
    "duration": 389,
    "start_time": "2024-09-01T10:01:53.330Z"
   },
   {
    "duration": 10,
    "start_time": "2024-09-01T10:01:53.721Z"
   },
   {
    "duration": 2851,
    "start_time": "2024-09-01T10:01:53.733Z"
   },
   {
    "duration": 899,
    "start_time": "2024-09-01T10:02:01.528Z"
   },
   {
    "duration": 214,
    "start_time": "2024-09-01T10:02:08.453Z"
   },
   {
    "duration": 785,
    "start_time": "2024-09-01T10:02:39.339Z"
   },
   {
    "duration": 17,
    "start_time": "2024-09-01T10:03:03.380Z"
   },
   {
    "duration": 841,
    "start_time": "2024-09-01T10:03:21.865Z"
   },
   {
    "duration": 19,
    "start_time": "2024-09-01T10:03:33.278Z"
   },
   {
    "duration": 188,
    "start_time": "2024-09-01T10:03:54.046Z"
   },
   {
    "duration": 20,
    "start_time": "2024-09-01T10:04:41.553Z"
   },
   {
    "duration": 19,
    "start_time": "2024-09-01T10:04:50.973Z"
   },
   {
    "duration": 3,
    "start_time": "2024-09-01T10:08:11.715Z"
   },
   {
    "duration": 90,
    "start_time": "2024-09-01T10:08:11.720Z"
   },
   {
    "duration": 21,
    "start_time": "2024-09-01T10:08:11.811Z"
   },
   {
    "duration": 38,
    "start_time": "2024-09-01T10:08:11.833Z"
   },
   {
    "duration": 126,
    "start_time": "2024-09-01T10:08:11.873Z"
   },
   {
    "duration": 8,
    "start_time": "2024-09-01T10:08:12.001Z"
   },
   {
    "duration": 33,
    "start_time": "2024-09-01T10:08:12.011Z"
   },
   {
    "duration": 19,
    "start_time": "2024-09-01T10:08:12.046Z"
   },
   {
    "duration": 412,
    "start_time": "2024-09-01T10:08:12.067Z"
   },
   {
    "duration": 10,
    "start_time": "2024-09-01T10:08:12.481Z"
   },
   {
    "duration": 2801,
    "start_time": "2024-09-01T10:08:12.492Z"
   },
   {
    "duration": 685,
    "start_time": "2024-09-01T10:08:30.329Z"
   },
   {
    "duration": 753,
    "start_time": "2024-09-01T10:09:32.743Z"
   },
   {
    "duration": 217,
    "start_time": "2024-09-01T10:09:46.728Z"
   },
   {
    "duration": 650,
    "start_time": "2024-09-01T10:12:12.452Z"
   },
   {
    "duration": 206,
    "start_time": "2024-09-01T10:12:24.742Z"
   },
   {
    "duration": 20,
    "start_time": "2024-09-01T10:13:11.103Z"
   },
   {
    "duration": 858,
    "start_time": "2024-09-01T10:13:47.770Z"
   },
   {
    "duration": 20,
    "start_time": "2024-09-01T10:14:06.836Z"
   },
   {
    "duration": 177,
    "start_time": "2024-09-01T10:14:33.233Z"
   },
   {
    "duration": 24,
    "start_time": "2024-09-01T10:14:46.099Z"
   },
   {
    "duration": 20,
    "start_time": "2024-09-01T10:15:18.410Z"
   },
   {
    "duration": 17,
    "start_time": "2024-09-01T10:15:40.341Z"
   },
   {
    "duration": 868,
    "start_time": "2024-09-01T10:55:10.466Z"
   },
   {
    "duration": 69,
    "start_time": "2024-09-01T10:58:01.270Z"
   },
   {
    "duration": 793,
    "start_time": "2024-09-01T10:58:24.959Z"
   },
   {
    "duration": 12,
    "start_time": "2024-09-01T11:00:03.606Z"
   },
   {
    "duration": 1171,
    "start_time": "2024-09-01T11:00:24.360Z"
   },
   {
    "duration": 69,
    "start_time": "2024-09-01T11:00:25.532Z"
   },
   {
    "duration": 25,
    "start_time": "2024-09-01T11:00:25.603Z"
   },
   {
    "duration": 82,
    "start_time": "2024-09-01T11:00:25.629Z"
   },
   {
    "duration": 23,
    "start_time": "2024-09-01T11:00:25.713Z"
   },
   {
    "duration": 8,
    "start_time": "2024-09-01T11:00:25.738Z"
   },
   {
    "duration": 32,
    "start_time": "2024-09-01T11:00:25.748Z"
   },
   {
    "duration": 22,
    "start_time": "2024-09-01T11:00:25.782Z"
   },
   {
    "duration": 448,
    "start_time": "2024-09-01T11:00:25.806Z"
   },
   {
    "duration": 11,
    "start_time": "2024-09-01T11:00:26.256Z"
   },
   {
    "duration": 2824,
    "start_time": "2024-09-01T11:00:26.269Z"
   },
   {
    "duration": 765,
    "start_time": "2024-09-01T11:00:29.095Z"
   },
   {
    "duration": 215,
    "start_time": "2024-09-01T11:00:29.861Z"
   },
   {
    "duration": 28,
    "start_time": "2024-09-01T11:00:30.079Z"
   },
   {
    "duration": 823,
    "start_time": "2024-09-01T11:00:30.109Z"
   },
   {
    "duration": 16,
    "start_time": "2024-09-01T11:00:30.933Z"
   },
   {
    "duration": 198,
    "start_time": "2024-09-01T11:00:30.951Z"
   },
   {
    "duration": 19,
    "start_time": "2024-09-01T11:00:31.150Z"
   },
   {
    "duration": 39,
    "start_time": "2024-09-01T11:00:31.171Z"
   },
   {
    "duration": 15,
    "start_time": "2024-09-01T11:00:31.212Z"
   },
   {
    "duration": 143,
    "start_time": "2024-09-01T11:00:31.229Z"
   },
   {
    "duration": 0,
    "start_time": "2024-09-01T11:00:31.374Z"
   },
   {
    "duration": 1113,
    "start_time": "2024-09-01T11:03:06.579Z"
   },
   {
    "duration": 241,
    "start_time": "2024-09-01T11:05:05.838Z"
   },
   {
    "duration": 23,
    "start_time": "2024-09-01T11:05:09.130Z"
   },
   {
    "duration": 1150,
    "start_time": "2024-09-01T11:05:24.763Z"
   },
   {
    "duration": 73,
    "start_time": "2024-09-01T11:05:25.915Z"
   },
   {
    "duration": 35,
    "start_time": "2024-09-01T11:05:25.990Z"
   },
   {
    "duration": 12,
    "start_time": "2024-09-01T11:05:26.027Z"
   },
   {
    "duration": 20,
    "start_time": "2024-09-01T11:05:26.042Z"
   },
   {
    "duration": 10,
    "start_time": "2024-09-01T11:05:26.063Z"
   },
   {
    "duration": 47,
    "start_time": "2024-09-01T11:05:26.075Z"
   },
   {
    "duration": 21,
    "start_time": "2024-09-01T11:05:26.124Z"
   },
   {
    "duration": 397,
    "start_time": "2024-09-01T11:05:26.147Z"
   },
   {
    "duration": 12,
    "start_time": "2024-09-01T11:05:26.546Z"
   },
   {
    "duration": 2697,
    "start_time": "2024-09-01T11:05:26.560Z"
   },
   {
    "duration": 732,
    "start_time": "2024-09-01T11:05:29.259Z"
   },
   {
    "duration": 233,
    "start_time": "2024-09-01T11:05:29.993Z"
   },
   {
    "duration": 16,
    "start_time": "2024-09-01T11:05:30.229Z"
   },
   {
    "duration": 872,
    "start_time": "2024-09-01T11:05:30.247Z"
   },
   {
    "duration": 16,
    "start_time": "2024-09-01T11:05:31.120Z"
   },
   {
    "duration": 213,
    "start_time": "2024-09-01T11:05:31.138Z"
   },
   {
    "duration": 25,
    "start_time": "2024-09-01T11:05:31.352Z"
   },
   {
    "duration": 45,
    "start_time": "2024-09-01T11:05:31.379Z"
   },
   {
    "duration": 18,
    "start_time": "2024-09-01T11:05:31.426Z"
   },
   {
    "duration": 20,
    "start_time": "2024-09-01T11:05:31.446Z"
   },
   {
    "duration": 1046,
    "start_time": "2024-09-01T11:05:31.467Z"
   },
   {
    "duration": 15,
    "start_time": "2024-09-01T11:12:17.593Z"
   },
   {
    "duration": 10,
    "start_time": "2024-09-01T11:12:43.060Z"
   },
   {
    "duration": 12,
    "start_time": "2024-09-01T11:15:34.275Z"
   },
   {
    "duration": 16,
    "start_time": "2024-09-01T11:17:29.085Z"
   },
   {
    "duration": 1123,
    "start_time": "2024-09-01T11:20:10.669Z"
   },
   {
    "duration": 16,
    "start_time": "2024-09-01T11:20:43.708Z"
   },
   {
    "duration": 12,
    "start_time": "2024-09-01T11:20:53.298Z"
   },
   {
    "duration": 13,
    "start_time": "2024-09-01T11:43:09.477Z"
   },
   {
    "duration": 990,
    "start_time": "2024-09-01T11:44:45.789Z"
   },
   {
    "duration": 10,
    "start_time": "2024-09-01T11:45:58.953Z"
   },
   {
    "duration": 10,
    "start_time": "2024-09-01T11:47:30.446Z"
   },
   {
    "duration": 4,
    "start_time": "2024-09-01T11:48:54.460Z"
   },
   {
    "duration": 5,
    "start_time": "2024-09-01T11:49:24.160Z"
   },
   {
    "duration": 12,
    "start_time": "2024-09-01T12:16:58.993Z"
   },
   {
    "duration": 11,
    "start_time": "2024-09-01T12:17:04.821Z"
   },
   {
    "duration": 14,
    "start_time": "2024-09-01T12:17:15.482Z"
   },
   {
    "duration": 11,
    "start_time": "2024-09-01T12:17:28.862Z"
   },
   {
    "duration": 13,
    "start_time": "2024-09-01T12:19:18.861Z"
   },
   {
    "duration": 9,
    "start_time": "2024-09-01T12:19:22.066Z"
   },
   {
    "duration": 1221,
    "start_time": "2024-09-02T16:39:59.397Z"
   },
   {
    "duration": 178,
    "start_time": "2024-09-02T16:40:00.620Z"
   },
   {
    "duration": 22,
    "start_time": "2024-09-02T16:40:00.799Z"
   },
   {
    "duration": 7,
    "start_time": "2024-09-02T16:40:00.823Z"
   },
   {
    "duration": 12,
    "start_time": "2024-09-02T16:40:00.832Z"
   },
   {
    "duration": 6,
    "start_time": "2024-09-02T16:40:00.846Z"
   },
   {
    "duration": 39,
    "start_time": "2024-09-02T16:40:00.853Z"
   },
   {
    "duration": 22,
    "start_time": "2024-09-02T16:40:00.894Z"
   },
   {
    "duration": 357,
    "start_time": "2024-09-02T16:40:00.918Z"
   },
   {
    "duration": 10,
    "start_time": "2024-09-02T16:40:01.277Z"
   },
   {
    "duration": 2376,
    "start_time": "2024-09-02T16:40:01.289Z"
   },
   {
    "duration": 488,
    "start_time": "2024-09-02T16:40:45.755Z"
   },
   {
    "duration": 379,
    "start_time": "2024-09-02T16:40:58.349Z"
   },
   {
    "duration": 175,
    "start_time": "2024-09-02T16:41:17.037Z"
   },
   {
    "duration": 14,
    "start_time": "2024-09-02T16:41:17.215Z"
   },
   {
    "duration": 854,
    "start_time": "2024-09-02T16:41:17.230Z"
   },
   {
    "duration": 30,
    "start_time": "2024-09-02T16:41:18.086Z"
   },
   {
    "duration": 175,
    "start_time": "2024-09-02T16:41:18.119Z"
   },
   {
    "duration": 22,
    "start_time": "2024-09-02T16:41:18.296Z"
   },
   {
    "duration": 19,
    "start_time": "2024-09-02T16:41:18.320Z"
   },
   {
    "duration": 24,
    "start_time": "2024-09-02T16:41:18.340Z"
   },
   {
    "duration": 16,
    "start_time": "2024-09-02T16:41:18.365Z"
   },
   {
    "duration": 7,
    "start_time": "2024-09-02T16:41:18.382Z"
   },
   {
    "duration": 745,
    "start_time": "2024-09-02T16:41:35.805Z"
   },
   {
    "duration": 742,
    "start_time": "2024-09-02T16:41:42.465Z"
   },
   {
    "duration": 4,
    "start_time": "2024-09-02T17:40:06.097Z"
   },
   {
    "duration": 5,
    "start_time": "2024-09-02T17:44:12.678Z"
   },
   {
    "duration": 5,
    "start_time": "2024-09-02T17:44:23.379Z"
   },
   {
    "duration": 5,
    "start_time": "2024-09-02T17:44:49.444Z"
   },
   {
    "duration": 6,
    "start_time": "2024-09-02T17:44:54.249Z"
   },
   {
    "duration": 6,
    "start_time": "2024-09-02T17:45:00.040Z"
   },
   {
    "duration": 3,
    "start_time": "2024-09-02T17:45:20.272Z"
   },
   {
    "duration": 81,
    "start_time": "2024-09-02T17:45:20.276Z"
   },
   {
    "duration": 25,
    "start_time": "2024-09-02T17:45:20.358Z"
   },
   {
    "duration": 13,
    "start_time": "2024-09-02T17:45:20.385Z"
   },
   {
    "duration": 18,
    "start_time": "2024-09-02T17:45:20.400Z"
   },
   {
    "duration": 12,
    "start_time": "2024-09-02T17:45:20.420Z"
   },
   {
    "duration": 30,
    "start_time": "2024-09-02T17:45:20.433Z"
   },
   {
    "duration": 22,
    "start_time": "2024-09-02T17:45:20.465Z"
   },
   {
    "duration": 389,
    "start_time": "2024-09-02T17:45:20.488Z"
   },
   {
    "duration": 9,
    "start_time": "2024-09-02T17:45:20.879Z"
   },
   {
    "duration": 2247,
    "start_time": "2024-09-02T17:45:20.889Z"
   },
   {
    "duration": 6,
    "start_time": "2024-09-02T17:45:23.138Z"
   },
   {
    "duration": 13,
    "start_time": "2024-09-02T17:45:23.147Z"
   },
   {
    "duration": 3,
    "start_time": "2024-09-02T17:46:03.751Z"
   },
   {
    "duration": 96,
    "start_time": "2024-09-02T17:46:03.756Z"
   },
   {
    "duration": 18,
    "start_time": "2024-09-02T17:46:03.854Z"
   },
   {
    "duration": 14,
    "start_time": "2024-09-02T17:46:03.874Z"
   },
   {
    "duration": 20,
    "start_time": "2024-09-02T17:46:03.890Z"
   },
   {
    "duration": 6,
    "start_time": "2024-09-02T17:46:03.912Z"
   },
   {
    "duration": 20,
    "start_time": "2024-09-02T17:46:03.919Z"
   },
   {
    "duration": 15,
    "start_time": "2024-09-02T17:46:03.940Z"
   },
   {
    "duration": 326,
    "start_time": "2024-09-02T17:46:03.957Z"
   },
   {
    "duration": 8,
    "start_time": "2024-09-02T17:46:04.285Z"
   },
   {
    "duration": 2324,
    "start_time": "2024-09-02T17:46:04.294Z"
   },
   {
    "duration": 59,
    "start_time": "2024-09-02T17:46:06.620Z"
   },
   {
    "duration": 0,
    "start_time": "2024-09-02T17:46:06.680Z"
   },
   {
    "duration": 3,
    "start_time": "2024-09-02T17:46:25.996Z"
   },
   {
    "duration": 6,
    "start_time": "2024-09-02T17:46:33.521Z"
   },
   {
    "duration": 1123,
    "start_time": "2024-09-02T17:47:04.301Z"
   },
   {
    "duration": 63,
    "start_time": "2024-09-02T17:47:05.426Z"
   },
   {
    "duration": 21,
    "start_time": "2024-09-02T17:47:05.490Z"
   },
   {
    "duration": 104,
    "start_time": "2024-09-02T17:47:05.512Z"
   },
   {
    "duration": 27,
    "start_time": "2024-09-02T17:47:05.617Z"
   },
   {
    "duration": 13,
    "start_time": "2024-09-02T17:47:05.645Z"
   },
   {
    "duration": 103,
    "start_time": "2024-09-02T17:47:05.659Z"
   },
   {
    "duration": 29,
    "start_time": "2024-09-02T17:47:05.763Z"
   },
   {
    "duration": 324,
    "start_time": "2024-09-02T17:47:05.794Z"
   },
   {
    "duration": 14,
    "start_time": "2024-09-02T17:47:06.120Z"
   },
   {
    "duration": 2322,
    "start_time": "2024-09-02T17:47:06.135Z"
   },
   {
    "duration": 5,
    "start_time": "2024-09-02T17:47:08.459Z"
   },
   {
    "duration": 6,
    "start_time": "2024-09-02T17:49:21.310Z"
   },
   {
    "duration": 107,
    "start_time": "2024-09-02T17:54:08.215Z"
   },
   {
    "duration": 18,
    "start_time": "2024-09-02T17:54:46.296Z"
   },
   {
    "duration": 15,
    "start_time": "2024-09-02T17:55:18.150Z"
   },
   {
    "duration": 7,
    "start_time": "2024-09-02T18:01:31.651Z"
   },
   {
    "duration": 2,
    "start_time": "2024-09-02T18:16:26.784Z"
   },
   {
    "duration": 16,
    "start_time": "2024-09-02T18:17:29.828Z"
   },
   {
    "duration": 23,
    "start_time": "2024-09-02T18:17:52.217Z"
   },
   {
    "duration": 62,
    "start_time": "2024-09-02T18:20:38.669Z"
   },
   {
    "duration": 5,
    "start_time": "2024-09-02T18:21:07.131Z"
   },
   {
    "duration": 5,
    "start_time": "2024-09-02T18:21:15.589Z"
   },
   {
    "duration": 1102,
    "start_time": "2024-09-02T18:21:40.870Z"
   },
   {
    "duration": 62,
    "start_time": "2024-09-02T18:21:41.974Z"
   },
   {
    "duration": 19,
    "start_time": "2024-09-02T18:21:42.037Z"
   },
   {
    "duration": 7,
    "start_time": "2024-09-02T18:21:42.058Z"
   },
   {
    "duration": 18,
    "start_time": "2024-09-02T18:21:42.067Z"
   },
   {
    "duration": 21,
    "start_time": "2024-09-02T18:21:42.087Z"
   },
   {
    "duration": 19,
    "start_time": "2024-09-02T18:21:42.109Z"
   },
   {
    "duration": 30,
    "start_time": "2024-09-02T18:21:42.129Z"
   },
   {
    "duration": 321,
    "start_time": "2024-09-02T18:21:42.160Z"
   },
   {
    "duration": 9,
    "start_time": "2024-09-02T18:21:42.482Z"
   },
   {
    "duration": 2336,
    "start_time": "2024-09-02T18:21:42.493Z"
   },
   {
    "duration": 16,
    "start_time": "2024-09-02T18:21:44.831Z"
   },
   {
    "duration": 11,
    "start_time": "2024-09-02T18:21:44.848Z"
   },
   {
    "duration": 30,
    "start_time": "2024-09-02T18:21:44.861Z"
   },
   {
    "duration": 399,
    "start_time": "2024-09-02T18:27:03.300Z"
   },
   {
    "duration": 94,
    "start_time": "2024-09-02T18:30:09.082Z"
   },
   {
    "duration": 160,
    "start_time": "2024-09-02T18:31:08.074Z"
   },
   {
    "duration": 12,
    "start_time": "2024-09-02T18:31:23.186Z"
   },
   {
    "duration": 631,
    "start_time": "2024-09-02T18:47:59.217Z"
   },
   {
    "duration": 11,
    "start_time": "2024-09-02T18:48:24.745Z"
   },
   {
    "duration": 145,
    "start_time": "2024-09-02T18:52:16.122Z"
   },
   {
    "duration": 17,
    "start_time": "2024-09-02T18:53:53.242Z"
   },
   {
    "duration": 16,
    "start_time": "2024-09-02T18:57:28.757Z"
   },
   {
    "duration": 11,
    "start_time": "2024-09-02T19:04:17.407Z"
   },
   {
    "duration": 8,
    "start_time": "2024-09-02T19:06:07.903Z"
   },
   {
    "duration": 9,
    "start_time": "2024-09-02T19:15:26.671Z"
   },
   {
    "duration": 8,
    "start_time": "2024-09-02T19:22:04.389Z"
   },
   {
    "duration": 7,
    "start_time": "2024-09-02T19:31:59.229Z"
   },
   {
    "duration": 9,
    "start_time": "2024-09-02T20:08:06.139Z"
   },
   {
    "duration": 7,
    "start_time": "2024-09-02T20:08:30.632Z"
   },
   {
    "duration": 7,
    "start_time": "2024-09-02T20:08:44.030Z"
   },
   {
    "duration": 7,
    "start_time": "2024-09-02T20:09:01.551Z"
   },
   {
    "duration": 8,
    "start_time": "2024-09-02T20:09:50.961Z"
   },
   {
    "duration": 8,
    "start_time": "2024-09-02T20:10:09.728Z"
   },
   {
    "duration": 9,
    "start_time": "2024-09-02T20:10:59.455Z"
   },
   {
    "duration": 8,
    "start_time": "2024-09-02T20:11:09.033Z"
   },
   {
    "duration": 6,
    "start_time": "2024-09-02T20:11:21.141Z"
   },
   {
    "duration": 5,
    "start_time": "2024-09-02T20:11:27.332Z"
   },
   {
    "duration": 8,
    "start_time": "2024-09-02T20:18:15.242Z"
   },
   {
    "duration": 8,
    "start_time": "2024-09-02T20:18:21.884Z"
   },
   {
    "duration": 108,
    "start_time": "2024-09-02T20:20:46.282Z"
   },
   {
    "duration": 103,
    "start_time": "2024-09-02T20:21:07.785Z"
   },
   {
    "duration": 6,
    "start_time": "2024-09-02T20:21:44.236Z"
   },
   {
    "duration": 6,
    "start_time": "2024-09-02T20:21:46.237Z"
   },
   {
    "duration": 5,
    "start_time": "2024-09-02T20:32:01.997Z"
   },
   {
    "duration": 6,
    "start_time": "2024-09-02T20:32:04.030Z"
   },
   {
    "duration": 15,
    "start_time": "2024-09-02T20:32:11.610Z"
   },
   {
    "duration": 4,
    "start_time": "2024-09-02T20:34:39.546Z"
   },
   {
    "duration": 7,
    "start_time": "2024-09-02T20:36:23.517Z"
   },
   {
    "duration": 12,
    "start_time": "2024-09-02T20:37:03.110Z"
   },
   {
    "duration": 10,
    "start_time": "2024-09-02T20:37:21.408Z"
   },
   {
    "duration": 5,
    "start_time": "2024-09-02T20:38:34.948Z"
   },
   {
    "duration": 62,
    "start_time": "2024-09-02T20:53:13.943Z"
   },
   {
    "duration": 61,
    "start_time": "2024-09-02T20:53:24.790Z"
   },
   {
    "duration": 72,
    "start_time": "2024-09-02T20:54:32.078Z"
   },
   {
    "duration": 67,
    "start_time": "2024-09-02T20:55:47.793Z"
   },
   {
    "duration": 17,
    "start_time": "2024-09-02T20:57:08.994Z"
   },
   {
    "duration": 8,
    "start_time": "2024-09-02T21:00:38.858Z"
   },
   {
    "duration": 1124,
    "start_time": "2024-09-02T21:03:20.259Z"
   },
   {
    "duration": 63,
    "start_time": "2024-09-02T21:03:21.386Z"
   },
   {
    "duration": 24,
    "start_time": "2024-09-02T21:03:21.450Z"
   },
   {
    "duration": 86,
    "start_time": "2024-09-02T21:03:21.475Z"
   },
   {
    "duration": 10,
    "start_time": "2024-09-02T21:03:21.563Z"
   },
   {
    "duration": 13,
    "start_time": "2024-09-02T21:03:21.574Z"
   },
   {
    "duration": 61,
    "start_time": "2024-09-02T21:03:21.588Z"
   },
   {
    "duration": 0,
    "start_time": "2024-09-02T21:03:21.651Z"
   },
   {
    "duration": 0,
    "start_time": "2024-09-02T21:03:21.652Z"
   },
   {
    "duration": 0,
    "start_time": "2024-09-02T21:03:21.653Z"
   },
   {
    "duration": 0,
    "start_time": "2024-09-02T21:03:21.654Z"
   },
   {
    "duration": 0,
    "start_time": "2024-09-02T21:03:21.654Z"
   },
   {
    "duration": 0,
    "start_time": "2024-09-02T21:03:21.655Z"
   },
   {
    "duration": 0,
    "start_time": "2024-09-02T21:03:21.656Z"
   },
   {
    "duration": 0,
    "start_time": "2024-09-02T21:03:21.657Z"
   },
   {
    "duration": 0,
    "start_time": "2024-09-02T21:03:21.658Z"
   },
   {
    "duration": 0,
    "start_time": "2024-09-02T21:03:21.659Z"
   },
   {
    "duration": 0,
    "start_time": "2024-09-02T21:03:21.659Z"
   },
   {
    "duration": 0,
    "start_time": "2024-09-02T21:03:21.660Z"
   },
   {
    "duration": 0,
    "start_time": "2024-09-02T21:03:21.661Z"
   },
   {
    "duration": 0,
    "start_time": "2024-09-02T21:03:21.661Z"
   },
   {
    "duration": 0,
    "start_time": "2024-09-02T21:03:21.662Z"
   },
   {
    "duration": 0,
    "start_time": "2024-09-02T21:03:21.663Z"
   },
   {
    "duration": 0,
    "start_time": "2024-09-02T21:03:21.663Z"
   },
   {
    "duration": 0,
    "start_time": "2024-09-02T21:03:21.664Z"
   },
   {
    "duration": 0,
    "start_time": "2024-09-02T21:03:21.665Z"
   },
   {
    "duration": 0,
    "start_time": "2024-09-02T21:03:21.666Z"
   },
   {
    "duration": 0,
    "start_time": "2024-09-02T21:03:21.666Z"
   },
   {
    "duration": 0,
    "start_time": "2024-09-02T21:03:21.667Z"
   },
   {
    "duration": 0,
    "start_time": "2024-09-02T21:03:21.668Z"
   },
   {
    "duration": 0,
    "start_time": "2024-09-02T21:03:21.669Z"
   },
   {
    "duration": 0,
    "start_time": "2024-09-02T21:03:21.670Z"
   },
   {
    "duration": 0,
    "start_time": "2024-09-02T21:03:21.670Z"
   },
   {
    "duration": 3,
    "start_time": "2024-09-02T21:03:35.527Z"
   },
   {
    "duration": 101,
    "start_time": "2024-09-02T21:03:35.532Z"
   },
   {
    "duration": 17,
    "start_time": "2024-09-02T21:03:35.634Z"
   },
   {
    "duration": 28,
    "start_time": "2024-09-02T21:03:35.652Z"
   },
   {
    "duration": 65,
    "start_time": "2024-09-02T21:03:35.682Z"
   },
   {
    "duration": 37,
    "start_time": "2024-09-02T21:03:35.748Z"
   },
   {
    "duration": 66,
    "start_time": "2024-09-02T21:03:35.786Z"
   },
   {
    "duration": 0,
    "start_time": "2024-09-02T21:03:35.854Z"
   },
   {
    "duration": 0,
    "start_time": "2024-09-02T21:03:35.855Z"
   },
   {
    "duration": 0,
    "start_time": "2024-09-02T21:03:35.856Z"
   },
   {
    "duration": 0,
    "start_time": "2024-09-02T21:03:35.856Z"
   },
   {
    "duration": 0,
    "start_time": "2024-09-02T21:03:35.857Z"
   },
   {
    "duration": 0,
    "start_time": "2024-09-02T21:03:35.858Z"
   },
   {
    "duration": 0,
    "start_time": "2024-09-02T21:03:35.859Z"
   },
   {
    "duration": 0,
    "start_time": "2024-09-02T21:03:35.860Z"
   },
   {
    "duration": 0,
    "start_time": "2024-09-02T21:03:35.861Z"
   },
   {
    "duration": 0,
    "start_time": "2024-09-02T21:03:35.862Z"
   },
   {
    "duration": 0,
    "start_time": "2024-09-02T21:03:35.863Z"
   },
   {
    "duration": 0,
    "start_time": "2024-09-02T21:03:35.864Z"
   },
   {
    "duration": 0,
    "start_time": "2024-09-02T21:03:35.864Z"
   },
   {
    "duration": 0,
    "start_time": "2024-09-02T21:03:35.865Z"
   },
   {
    "duration": 0,
    "start_time": "2024-09-02T21:03:35.866Z"
   },
   {
    "duration": 0,
    "start_time": "2024-09-02T21:03:35.867Z"
   },
   {
    "duration": 0,
    "start_time": "2024-09-02T21:03:35.867Z"
   },
   {
    "duration": 0,
    "start_time": "2024-09-02T21:03:35.868Z"
   },
   {
    "duration": 0,
    "start_time": "2024-09-02T21:03:35.869Z"
   },
   {
    "duration": 0,
    "start_time": "2024-09-02T21:03:35.870Z"
   },
   {
    "duration": 0,
    "start_time": "2024-09-02T21:03:35.870Z"
   },
   {
    "duration": 0,
    "start_time": "2024-09-02T21:03:35.871Z"
   },
   {
    "duration": 0,
    "start_time": "2024-09-02T21:03:35.872Z"
   },
   {
    "duration": 0,
    "start_time": "2024-09-02T21:03:35.873Z"
   },
   {
    "duration": 0,
    "start_time": "2024-09-02T21:03:35.874Z"
   },
   {
    "duration": 0,
    "start_time": "2024-09-02T21:03:35.875Z"
   },
   {
    "duration": 7,
    "start_time": "2024-09-02T21:04:08.403Z"
   },
   {
    "duration": 57,
    "start_time": "2024-09-02T21:04:08.411Z"
   },
   {
    "duration": 45,
    "start_time": "2024-09-02T21:04:08.470Z"
   },
   {
    "duration": 330,
    "start_time": "2024-09-02T21:04:08.517Z"
   },
   {
    "duration": 9,
    "start_time": "2024-09-02T21:04:08.848Z"
   },
   {
    "duration": 2359,
    "start_time": "2024-09-02T21:04:08.859Z"
   },
   {
    "duration": 17,
    "start_time": "2024-09-02T21:04:11.219Z"
   },
   {
    "duration": 8,
    "start_time": "2024-09-02T21:04:11.238Z"
   },
   {
    "duration": 64,
    "start_time": "2024-09-02T21:04:11.247Z"
   },
   {
    "duration": 427,
    "start_time": "2024-09-02T21:04:11.313Z"
   },
   {
    "duration": 180,
    "start_time": "2024-09-02T21:04:11.742Z"
   },
   {
    "duration": 13,
    "start_time": "2024-09-02T21:04:11.923Z"
   },
   {
    "duration": 794,
    "start_time": "2024-09-02T21:04:11.937Z"
   },
   {
    "duration": 13,
    "start_time": "2024-09-02T21:04:12.732Z"
   },
   {
    "duration": 169,
    "start_time": "2024-09-02T21:04:12.746Z"
   },
   {
    "duration": 17,
    "start_time": "2024-09-02T21:04:12.917Z"
   },
   {
    "duration": 19,
    "start_time": "2024-09-02T21:04:12.935Z"
   },
   {
    "duration": 21,
    "start_time": "2024-09-02T21:04:12.956Z"
   },
   {
    "duration": 32,
    "start_time": "2024-09-02T21:04:12.978Z"
   },
   {
    "duration": 7,
    "start_time": "2024-09-02T21:04:13.012Z"
   },
   {
    "duration": 14,
    "start_time": "2024-09-02T21:04:13.020Z"
   },
   {
    "duration": 10,
    "start_time": "2024-09-02T21:04:13.035Z"
   },
   {
    "duration": 12,
    "start_time": "2024-09-02T21:04:13.046Z"
   },
   {
    "duration": 9,
    "start_time": "2024-09-02T21:04:13.059Z"
   },
   {
    "duration": 16,
    "start_time": "2024-09-02T21:04:13.069Z"
   },
   {
    "duration": 20,
    "start_time": "2024-09-02T21:04:13.087Z"
   },
   {
    "duration": 47,
    "start_time": "2024-09-03T20:22:50.322Z"
   },
   {
    "duration": 1356,
    "start_time": "2024-09-03T20:23:30.886Z"
   },
   {
    "duration": 236,
    "start_time": "2024-09-03T20:23:32.244Z"
   },
   {
    "duration": 24,
    "start_time": "2024-09-03T20:23:32.482Z"
   },
   {
    "duration": 9,
    "start_time": "2024-09-03T20:23:32.508Z"
   },
   {
    "duration": 10,
    "start_time": "2024-09-03T20:23:32.519Z"
   },
   {
    "duration": 14,
    "start_time": "2024-09-03T20:23:32.530Z"
   },
   {
    "duration": 18,
    "start_time": "2024-09-03T20:23:32.546Z"
   },
   {
    "duration": 47,
    "start_time": "2024-09-03T20:23:32.565Z"
   },
   {
    "duration": 20,
    "start_time": "2024-09-03T20:23:32.614Z"
   },
   {
    "duration": 401,
    "start_time": "2024-09-03T20:23:32.635Z"
   },
   {
    "duration": 11,
    "start_time": "2024-09-03T20:23:33.038Z"
   },
   {
    "duration": 2716,
    "start_time": "2024-09-03T20:23:33.050Z"
   },
   {
    "duration": 21,
    "start_time": "2024-09-03T20:23:35.768Z"
   },
   {
    "duration": 14,
    "start_time": "2024-09-03T20:23:35.792Z"
   },
   {
    "duration": 37,
    "start_time": "2024-09-03T20:23:35.807Z"
   },
   {
    "duration": 506,
    "start_time": "2024-09-03T20:23:35.845Z"
   },
   {
    "duration": 203,
    "start_time": "2024-09-03T20:23:36.353Z"
   },
   {
    "duration": 15,
    "start_time": "2024-09-03T20:23:36.558Z"
   },
   {
    "duration": 823,
    "start_time": "2024-09-03T20:23:36.574Z"
   },
   {
    "duration": 14,
    "start_time": "2024-09-03T20:23:37.399Z"
   },
   {
    "duration": 186,
    "start_time": "2024-09-03T20:23:37.414Z"
   },
   {
    "duration": 6,
    "start_time": "2024-09-03T20:23:41.551Z"
   },
   {
    "duration": 44,
    "start_time": "2024-09-03T22:21:42.871Z"
   },
   {
    "duration": 45,
    "start_time": "2024-09-03T22:22:27.175Z"
   },
   {
    "duration": 1170,
    "start_time": "2024-09-03T22:23:10.345Z"
   },
   {
    "duration": 72,
    "start_time": "2024-09-03T22:23:11.517Z"
   },
   {
    "duration": 24,
    "start_time": "2024-09-03T22:23:11.591Z"
   },
   {
    "duration": 9,
    "start_time": "2024-09-03T22:23:11.616Z"
   },
   {
    "duration": 30,
    "start_time": "2024-09-03T22:23:11.627Z"
   },
   {
    "duration": 20,
    "start_time": "2024-09-03T22:23:11.658Z"
   },
   {
    "duration": 7,
    "start_time": "2024-09-03T22:23:11.680Z"
   },
   {
    "duration": 38,
    "start_time": "2024-09-03T22:23:11.688Z"
   },
   {
    "duration": 23,
    "start_time": "2024-09-03T22:23:11.728Z"
   },
   {
    "duration": 396,
    "start_time": "2024-09-03T22:23:11.752Z"
   },
   {
    "duration": 12,
    "start_time": "2024-09-03T22:23:12.149Z"
   },
   {
    "duration": 2640,
    "start_time": "2024-09-03T22:23:12.162Z"
   },
   {
    "duration": 18,
    "start_time": "2024-09-03T22:23:14.804Z"
   },
   {
    "duration": 6,
    "start_time": "2024-09-03T22:23:14.825Z"
   },
   {
    "duration": 117,
    "start_time": "2024-09-03T22:23:14.832Z"
   },
   {
    "duration": 390,
    "start_time": "2024-09-03T22:23:14.951Z"
   },
   {
    "duration": 203,
    "start_time": "2024-09-03T22:23:15.343Z"
   },
   {
    "duration": 15,
    "start_time": "2024-09-03T22:23:15.548Z"
   },
   {
    "duration": 830,
    "start_time": "2024-09-03T22:23:15.564Z"
   },
   {
    "duration": 15,
    "start_time": "2024-09-03T22:23:16.396Z"
   },
   {
    "duration": 201,
    "start_time": "2024-09-03T22:23:16.413Z"
   },
   {
    "duration": 6,
    "start_time": "2024-09-03T22:23:16.615Z"
   },
   {
    "duration": 26,
    "start_time": "2024-09-03T22:23:16.622Z"
   },
   {
    "duration": 18,
    "start_time": "2024-09-03T22:23:16.649Z"
   },
   {
    "duration": 37,
    "start_time": "2024-09-03T22:23:16.668Z"
   },
   {
    "duration": 6,
    "start_time": "2024-09-03T22:23:16.707Z"
   },
   {
    "duration": 7,
    "start_time": "2024-09-03T22:23:16.715Z"
   },
   {
    "duration": 7,
    "start_time": "2024-09-03T22:23:16.723Z"
   },
   {
    "duration": 6,
    "start_time": "2024-09-03T22:23:16.731Z"
   },
   {
    "duration": 7,
    "start_time": "2024-09-03T22:23:16.738Z"
   },
   {
    "duration": 7,
    "start_time": "2024-09-03T22:23:16.746Z"
   },
   {
    "duration": 46,
    "start_time": "2024-09-03T22:23:16.755Z"
   },
   {
    "duration": 8,
    "start_time": "2024-09-03T22:23:16.802Z"
   }
  ],
  "kernelspec": {
   "display_name": "Python 3 (ipykernel)",
   "language": "python",
   "name": "python3"
  },
  "language_info": {
   "codemirror_mode": {
    "name": "ipython",
    "version": 3
   },
   "file_extension": ".py",
   "mimetype": "text/x-python",
   "name": "python",
   "nbconvert_exporter": "python",
   "pygments_lexer": "ipython3",
   "version": "3.9.5"
  },
  "toc": {
   "base_numbering": 1,
   "nav_menu": {},
   "number_sections": true,
   "sideBar": true,
   "skip_h1_title": true,
   "title_cell": "Table of Contents",
   "title_sidebar": "Contents",
   "toc_cell": false,
   "toc_position": {},
   "toc_section_display": true,
   "toc_window_display": true
  }
 },
 "nbformat": 4,
 "nbformat_minor": 2
}

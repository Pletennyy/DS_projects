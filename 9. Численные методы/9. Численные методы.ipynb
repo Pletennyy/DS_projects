{
 "cells": [
  {
   "cell_type": "markdown",
   "metadata": {},
   "source": [
    "# Определение стоимости автомобилей"
   ]
  },
  {
   "cell_type": "markdown",
   "metadata": {},
   "source": [
    "Сервис по продаже автомобилей с пробегом «Не бит, не крашен» разрабатывает приложение для привлечения новых клиентов. В нём можно быстро узнать рыночную стоимость своего автомобиля. В вашем распоряжении исторические данные: технические характеристики, комплектации и цены автомобилей. Вам нужно построить модель для определения стоимости. \n",
    "\n",
    "Заказчику важны:\n",
    "\n",
    "- качество предсказания;\n",
    "- скорость предсказания;\n",
    "- время обучения."
   ]
  },
  {
   "cell_type": "code",
   "execution_count": 31,
   "metadata": {},
   "outputs": [],
   "source": [
    "import warnings\n",
    "warnings.simplefilter(\"ignore\")\n",
    "\n",
    "# Необходимый набор библиотек\n",
    "!pip install matplotlib==3.7.3 numpy==1.22 seaborn==0.11.1 -q\n",
    "!pip install --upgrade scikit-learn -q\n",
    "!pip install shap -q\n",
    "!pip install phik -q\n",
    "!pip install python-levenshtein -q\n",
    "\n",
    "# Работа с данными\n",
    "import pandas as pd\n",
    "import numpy as np\n",
    "\n",
    "# Визуализация, построение графиков\n",
    "from matplotlib import pyplot as plt\n",
    "import seaborn as sns\n",
    "\n",
    "# Применение регулярных выражений\n",
    "import re\n",
    "\n",
    "# Разбиение данных на тренировочную выборку и тестовую\n",
    "from sklearn.model_selection import train_test_split\n",
    "\n",
    "# Создание pipeline\n",
    "from sklearn.pipeline import Pipeline\n",
    "\n",
    "import pandas as pd\n",
    "import numpy as np\n",
    "from sklearn.model_selection import train_test_split, GridSearchCV, KFold, cross_val_score\n",
    "from sklearn.preprocessing import StandardScaler, OneHotEncoder, OrdinalEncoder\n",
    "from sklearn.ensemble import RandomForestRegressor\n",
    "from catboost import CatBoostRegressor\n",
    "import lightgbm as lgb\n",
    "from sklearn.metrics import mean_squared_error\n",
    "from time import time\n",
    "import math\n",
    "from sklearn.compose import ColumnTransformer\n",
    "from sklearn.dummy import DummyRegressor\n",
    "\n",
    "# Проверка уникальности значений в object\n",
    "from fuzzywuzzy import fuzz\n",
    "\n",
    "# Настройка вывода всех столбцов для метода display\n",
    "pd.set_option('display.max_columns', None)\n",
    "\n",
    "# from IPython.core.display import display, HTML\n",
    "# display(HTML(\"<style>.container { width:90% !important; }</style>\"))"
   ]
  },
  {
   "cell_type": "markdown",
   "metadata": {},
   "source": [
    "## Подготовка данных"
   ]
  },
  {
   "cell_type": "markdown",
   "metadata": {},
   "source": [
    "Загрузка данных"
   ]
  },
  {
   "cell_type": "code",
   "execution_count": 2,
   "metadata": {},
   "outputs": [],
   "source": [
    "df = pd.read_csv('/datasets/autos.csv')"
   ]
  },
  {
   "cell_type": "code",
   "execution_count": 3,
   "metadata": {
    "scrolled": false
   },
   "outputs": [
    {
     "name": "stdout",
     "output_type": "stream",
     "text": [
      "<class 'pandas.core.frame.DataFrame'>\n",
      "RangeIndex: 354369 entries, 0 to 354368\n",
      "Data columns (total 16 columns):\n",
      " #   Column             Non-Null Count   Dtype \n",
      "---  ------             --------------   ----- \n",
      " 0   DateCrawled        354369 non-null  object\n",
      " 1   Price              354369 non-null  int64 \n",
      " 2   VehicleType        316879 non-null  object\n",
      " 3   RegistrationYear   354369 non-null  int64 \n",
      " 4   Gearbox            334536 non-null  object\n",
      " 5   Power              354369 non-null  int64 \n",
      " 6   Model              334664 non-null  object\n",
      " 7   Kilometer          354369 non-null  int64 \n",
      " 8   RegistrationMonth  354369 non-null  int64 \n",
      " 9   FuelType           321474 non-null  object\n",
      " 10  Brand              354369 non-null  object\n",
      " 11  Repaired           283215 non-null  object\n",
      " 12  DateCreated        354369 non-null  object\n",
      " 13  NumberOfPictures   354369 non-null  int64 \n",
      " 14  PostalCode         354369 non-null  int64 \n",
      " 15  LastSeen           354369 non-null  object\n",
      "dtypes: int64(7), object(9)\n",
      "memory usage: 43.3+ MB\n"
     ]
    }
   ],
   "source": [
    "df.info()"
   ]
  },
  {
   "cell_type": "markdown",
   "metadata": {},
   "source": [
    "Узнаем самую позднюю дату выгрузки данных, чтобы исключить информацию за пределами этой даты."
   ]
  },
  {
   "cell_type": "code",
   "execution_count": 4,
   "metadata": {},
   "outputs": [
    {
     "data": {
      "text/plain": [
       "90713     2016-04-07 14:36:58\n",
       "339649    2016-04-07 14:36:56\n",
       "301030    2016-04-07 14:36:55\n",
       "53739     2016-04-07 14:36:54\n",
       "204218    2016-04-07 14:36:53\n",
       "304465    2016-04-07 14:36:46\n",
       "218564    2016-04-07 14:36:45\n",
       "36475     2016-04-07 14:36:45\n",
       "124250    2016-04-07 14:36:44\n",
       "222289    2016-04-07 14:36:44\n",
       "Name: DateCrawled, dtype: object"
      ]
     },
     "execution_count": 4,
     "metadata": {},
     "output_type": "execute_result"
    }
   ],
   "source": [
    "df_sorted = df.sort_values('DateCrawled', ascending=False)\n",
    "df_sorted['DateCrawled'].head(10)"
   ]
  },
  {
   "cell_type": "markdown",
   "metadata": {},
   "source": [
    "Сразу удалим столбцы, которы никак не вkияют на предсказание стоимости машины, а именно:\n",
    "- LastSeen\n",
    "- PostalCode\n",
    "- NumberOfPictures\n",
    "- DateCreated\n",
    "- DateCrawled\n",
    "- RegistrationMonth"
   ]
  },
  {
   "cell_type": "markdown",
   "metadata": {},
   "source": [
    "Разберем почему мы удаляем эти признаки :\n",
    "1. Признаки, которые относятся к пользователю, а не к автомобилю:\n",
    "- LastSeen — дата последней активности пользователя\n",
    "- PostalCode — почтовый индекс владельца анкеты (пользователя)\n",
    "- DateCreated — дата создания анкеты\n",
    "- DateCrawled — дата скачивания анкеты из базы\n",
    "\n",
    "Все эти признаки, никак не влияют на характеристики автомобиля и не влияют на стоимость автомобиля\n",
    "\n",
    "- NumberOfPictures\n",
    "\n",
    "У нас одно значение по этому полю - 0, удаляем\n",
    "\n",
    "- RegistrationMonth — месяц регистрации автомобиля\n",
    "\n",
    "При определении стоимости автомобиля обычно учитывается только год регистрации, а месяц игнорируется"
   ]
  },
  {
   "cell_type": "code",
   "execution_count": 5,
   "metadata": {
    "scrolled": true
   },
   "outputs": [
    {
     "name": "stdout",
     "output_type": "stream",
     "text": [
      "<class 'pandas.core.frame.DataFrame'>\n",
      "RangeIndex: 354369 entries, 0 to 354368\n",
      "Data columns (total 10 columns):\n",
      " #   Column            Non-Null Count   Dtype \n",
      "---  ------            --------------   ----- \n",
      " 0   Price             354369 non-null  int64 \n",
      " 1   VehicleType       316879 non-null  object\n",
      " 2   RegistrationYear  354369 non-null  int64 \n",
      " 3   Gearbox           334536 non-null  object\n",
      " 4   Power             354369 non-null  int64 \n",
      " 5   Model             334664 non-null  object\n",
      " 6   Kilometer         354369 non-null  int64 \n",
      " 7   FuelType          321474 non-null  object\n",
      " 8   Brand             354369 non-null  object\n",
      " 9   Repaired          283215 non-null  object\n",
      "dtypes: int64(4), object(6)\n",
      "memory usage: 27.0+ MB\n"
     ]
    }
   ],
   "source": [
    "df = df.drop(columns = ['LastSeen', 'PostalCode', 'DateCreated', 'DateCrawled', 'RegistrationMonth', 'NumberOfPictures'])\n",
    "df.info()"
   ]
  },
  {
   "cell_type": "code",
   "execution_count": 6,
   "metadata": {
    "scrolled": false
   },
   "outputs": [
    {
     "data": {
      "text/html": [
       "<div>\n",
       "<style scoped>\n",
       "    .dataframe tbody tr th:only-of-type {\n",
       "        vertical-align: middle;\n",
       "    }\n",
       "\n",
       "    .dataframe tbody tr th {\n",
       "        vertical-align: top;\n",
       "    }\n",
       "\n",
       "    .dataframe thead th {\n",
       "        text-align: right;\n",
       "    }\n",
       "</style>\n",
       "<table border=\"1\" class=\"dataframe\">\n",
       "  <thead>\n",
       "    <tr style=\"text-align: right;\">\n",
       "      <th></th>\n",
       "      <th>Price</th>\n",
       "      <th>VehicleType</th>\n",
       "      <th>RegistrationYear</th>\n",
       "      <th>Gearbox</th>\n",
       "      <th>Power</th>\n",
       "      <th>Model</th>\n",
       "      <th>Kilometer</th>\n",
       "      <th>FuelType</th>\n",
       "      <th>Brand</th>\n",
       "      <th>Repaired</th>\n",
       "    </tr>\n",
       "  </thead>\n",
       "  <tbody>\n",
       "    <tr>\n",
       "      <th>0</th>\n",
       "      <td>480</td>\n",
       "      <td>NaN</td>\n",
       "      <td>1993</td>\n",
       "      <td>manual</td>\n",
       "      <td>0</td>\n",
       "      <td>golf</td>\n",
       "      <td>150000</td>\n",
       "      <td>petrol</td>\n",
       "      <td>volkswagen</td>\n",
       "      <td>NaN</td>\n",
       "    </tr>\n",
       "    <tr>\n",
       "      <th>1</th>\n",
       "      <td>18300</td>\n",
       "      <td>coupe</td>\n",
       "      <td>2011</td>\n",
       "      <td>manual</td>\n",
       "      <td>190</td>\n",
       "      <td>NaN</td>\n",
       "      <td>125000</td>\n",
       "      <td>gasoline</td>\n",
       "      <td>audi</td>\n",
       "      <td>yes</td>\n",
       "    </tr>\n",
       "    <tr>\n",
       "      <th>2</th>\n",
       "      <td>9800</td>\n",
       "      <td>suv</td>\n",
       "      <td>2004</td>\n",
       "      <td>auto</td>\n",
       "      <td>163</td>\n",
       "      <td>grand</td>\n",
       "      <td>125000</td>\n",
       "      <td>gasoline</td>\n",
       "      <td>jeep</td>\n",
       "      <td>NaN</td>\n",
       "    </tr>\n",
       "    <tr>\n",
       "      <th>3</th>\n",
       "      <td>1500</td>\n",
       "      <td>small</td>\n",
       "      <td>2001</td>\n",
       "      <td>manual</td>\n",
       "      <td>75</td>\n",
       "      <td>golf</td>\n",
       "      <td>150000</td>\n",
       "      <td>petrol</td>\n",
       "      <td>volkswagen</td>\n",
       "      <td>no</td>\n",
       "    </tr>\n",
       "    <tr>\n",
       "      <th>4</th>\n",
       "      <td>3600</td>\n",
       "      <td>small</td>\n",
       "      <td>2008</td>\n",
       "      <td>manual</td>\n",
       "      <td>69</td>\n",
       "      <td>fabia</td>\n",
       "      <td>90000</td>\n",
       "      <td>gasoline</td>\n",
       "      <td>skoda</td>\n",
       "      <td>no</td>\n",
       "    </tr>\n",
       "    <tr>\n",
       "      <th>5</th>\n",
       "      <td>650</td>\n",
       "      <td>sedan</td>\n",
       "      <td>1995</td>\n",
       "      <td>manual</td>\n",
       "      <td>102</td>\n",
       "      <td>3er</td>\n",
       "      <td>150000</td>\n",
       "      <td>petrol</td>\n",
       "      <td>bmw</td>\n",
       "      <td>yes</td>\n",
       "    </tr>\n",
       "    <tr>\n",
       "      <th>6</th>\n",
       "      <td>2200</td>\n",
       "      <td>convertible</td>\n",
       "      <td>2004</td>\n",
       "      <td>manual</td>\n",
       "      <td>109</td>\n",
       "      <td>2_reihe</td>\n",
       "      <td>150000</td>\n",
       "      <td>petrol</td>\n",
       "      <td>peugeot</td>\n",
       "      <td>no</td>\n",
       "    </tr>\n",
       "    <tr>\n",
       "      <th>7</th>\n",
       "      <td>0</td>\n",
       "      <td>sedan</td>\n",
       "      <td>1980</td>\n",
       "      <td>manual</td>\n",
       "      <td>50</td>\n",
       "      <td>other</td>\n",
       "      <td>40000</td>\n",
       "      <td>petrol</td>\n",
       "      <td>volkswagen</td>\n",
       "      <td>no</td>\n",
       "    </tr>\n",
       "    <tr>\n",
       "      <th>8</th>\n",
       "      <td>14500</td>\n",
       "      <td>bus</td>\n",
       "      <td>2014</td>\n",
       "      <td>manual</td>\n",
       "      <td>125</td>\n",
       "      <td>c_max</td>\n",
       "      <td>30000</td>\n",
       "      <td>petrol</td>\n",
       "      <td>ford</td>\n",
       "      <td>NaN</td>\n",
       "    </tr>\n",
       "    <tr>\n",
       "      <th>9</th>\n",
       "      <td>999</td>\n",
       "      <td>small</td>\n",
       "      <td>1998</td>\n",
       "      <td>manual</td>\n",
       "      <td>101</td>\n",
       "      <td>golf</td>\n",
       "      <td>150000</td>\n",
       "      <td>NaN</td>\n",
       "      <td>volkswagen</td>\n",
       "      <td>NaN</td>\n",
       "    </tr>\n",
       "  </tbody>\n",
       "</table>\n",
       "</div>"
      ],
      "text/plain": [
       "   Price  VehicleType  RegistrationYear Gearbox  Power    Model  Kilometer  \\\n",
       "0    480          NaN              1993  manual      0     golf     150000   \n",
       "1  18300        coupe              2011  manual    190      NaN     125000   \n",
       "2   9800          suv              2004    auto    163    grand     125000   \n",
       "3   1500        small              2001  manual     75     golf     150000   \n",
       "4   3600        small              2008  manual     69    fabia      90000   \n",
       "5    650        sedan              1995  manual    102      3er     150000   \n",
       "6   2200  convertible              2004  manual    109  2_reihe     150000   \n",
       "7      0        sedan              1980  manual     50    other      40000   \n",
       "8  14500          bus              2014  manual    125    c_max      30000   \n",
       "9    999        small              1998  manual    101     golf     150000   \n",
       "\n",
       "   FuelType       Brand Repaired  \n",
       "0    petrol  volkswagen      NaN  \n",
       "1  gasoline        audi      yes  \n",
       "2  gasoline        jeep      NaN  \n",
       "3    petrol  volkswagen       no  \n",
       "4  gasoline       skoda       no  \n",
       "5    petrol         bmw      yes  \n",
       "6    petrol     peugeot       no  \n",
       "7    petrol  volkswagen       no  \n",
       "8    petrol        ford      NaN  \n",
       "9       NaN  volkswagen      NaN  "
      ]
     },
     "metadata": {},
     "output_type": "display_data"
    }
   ],
   "source": [
    "display(df.head(10))"
   ]
  },
  {
   "cell_type": "markdown",
   "metadata": {},
   "source": [
    "Осталось понять что делать с пропусками.\n",
    "<br>Удаление пропусков - слишком дорогостоящая операция, так как мы теряем очень много данных. При этом в случае удаления мы теряем часть бизнес-сценариев, так как ситуации, когда клиент не указывает какие-то параметры автомобиля - нередкость, и в идеале модель должна уметь обрабатывать и их.\n",
    "\n",
    "При работе с категориальными признаками стоит использовать заглушки в виде новых значений категорий для заполнения пропусков: это позволит как сохранить наблюдения вместо их удаления, так и избавит нас от возможных ошибок при эмпирическом импутировании.\n",
    "\n",
    "В данном случае заменим пропущенные данные значением 'unknown'"
   ]
  },
  {
   "cell_type": "code",
   "execution_count": 7,
   "metadata": {},
   "outputs": [
    {
     "name": "stdout",
     "output_type": "stream",
     "text": [
      "<class 'pandas.core.frame.DataFrame'>\n",
      "RangeIndex: 354369 entries, 0 to 354368\n",
      "Data columns (total 10 columns):\n",
      " #   Column            Non-Null Count   Dtype \n",
      "---  ------            --------------   ----- \n",
      " 0   Price             354369 non-null  int64 \n",
      " 1   VehicleType       316879 non-null  object\n",
      " 2   RegistrationYear  354369 non-null  int64 \n",
      " 3   Gearbox           334536 non-null  object\n",
      " 4   Power             354369 non-null  int64 \n",
      " 5   Model             334664 non-null  object\n",
      " 6   Kilometer         354369 non-null  int64 \n",
      " 7   FuelType          321474 non-null  object\n",
      " 8   Brand             354369 non-null  object\n",
      " 9   Repaired          283215 non-null  object\n",
      "dtypes: int64(4), object(6)\n",
      "memory usage: 27.0+ MB\n"
     ]
    }
   ],
   "source": [
    "df.info()"
   ]
  },
  {
   "cell_type": "code",
   "execution_count": 8,
   "metadata": {},
   "outputs": [
    {
     "name": "stdout",
     "output_type": "stream",
     "text": [
      "<class 'pandas.core.frame.DataFrame'>\n",
      "RangeIndex: 354369 entries, 0 to 354368\n",
      "Data columns (total 10 columns):\n",
      " #   Column            Non-Null Count   Dtype \n",
      "---  ------            --------------   ----- \n",
      " 0   Price             354369 non-null  int64 \n",
      " 1   VehicleType       354369 non-null  object\n",
      " 2   RegistrationYear  354369 non-null  int64 \n",
      " 3   Gearbox           354369 non-null  object\n",
      " 4   Power             354369 non-null  int64 \n",
      " 5   Model             354369 non-null  object\n",
      " 6   Kilometer         354369 non-null  int64 \n",
      " 7   FuelType          354369 non-null  object\n",
      " 8   Brand             354369 non-null  object\n",
      " 9   Repaired          354369 non-null  object\n",
      "dtypes: int64(4), object(6)\n",
      "memory usage: 27.0+ MB\n"
     ]
    }
   ],
   "source": [
    "df = df.fillna('unknown')\n",
    "df.info()"
   ]
  },
  {
   "cell_type": "markdown",
   "metadata": {},
   "source": [
    " "
   ]
  },
  {
   "cell_type": "markdown",
   "metadata": {},
   "source": [
    "Проверка данных кастомными функциями"
   ]
  },
  {
   "cell_type": "code",
   "execution_count": 9,
   "metadata": {},
   "outputs": [],
   "source": [
    "# Создадим функцию отоброжения первичной информации о датасете (выборке)\n",
    "def data_head_desc_info(data):\n",
    "    try:\n",
    "        # сразу преобразуем наименование столбцов в нижний регистр и стиль snake_case\n",
    "        data.columns = [re.sub(r'(?<!^)(?=[A-Z])', '_', i).replace(' ', '_').lower() for i in data.columns]\n",
    "        print('---------------------------------------------------------------------------------------------------------------')\n",
    "        print('Первые 3 строки:')\n",
    "        print('---------------------------------------------------------------------------------------------------------------')\n",
    "        display(data.head(3))\n",
    "        print('---------------------------------------------------------------------------------------------------------------')\n",
    "        print('Описание данных:')\n",
    "        print('---------------------------------------------------------------------------------------------------------------')\n",
    "        display(data.describe(include=\"all\", datetime_is_numeric=True))\n",
    "        print('---------------------------------------------------------------------------------------------------------------')\n",
    "        print('Общая информация о датафрейме')\n",
    "        print('---------------------------------------------------------------------------------------------------------------')\n",
    "        display(data.info())\n",
    "        print('---------------------------------------------------------------------------------------------------------------')\n",
    "        print('Исследование пропусков')\n",
    "        print('---------------------------------------------------------------------------------------------------------------')\n",
    "        frame = {\n",
    "                'nan_кол-во': data.isna().sum().sort_values(ascending=False),\n",
    "                'nan_%': round((data.isna().mean() * 100), 1).sort_values(ascending=False),\n",
    "            }\n",
    "        nan_data = pd.DataFrame(frame)\n",
    "        nan_data = nan_data.style.format({'nan_%': '{:.1f}%'})\n",
    "        nan_data = nan_data.background_gradient(axis=0, cmap='YlOrRd')\n",
    "        display(nan_data)\n",
    "        print('---------------------------------------------------------------------------------------------------------------')\n",
    "        print('Доля явных дубликатов')\n",
    "        print('---------------------------------------------------------------------------------------------------------------')\n",
    "        print(f\"{data.duplicated().sum() / data.shape[0] * 100:.2f}%\")\n",
    "    except:\n",
    "        return 'Проверьте параметры'"
   ]
  },
  {
   "cell_type": "code",
   "execution_count": 10,
   "metadata": {
    "scrolled": false
   },
   "outputs": [
    {
     "name": "stdout",
     "output_type": "stream",
     "text": [
      "---------------------------------------------------------------------------------------------------------------\n",
      "Первые 3 строки:\n",
      "---------------------------------------------------------------------------------------------------------------\n"
     ]
    },
    {
     "data": {
      "text/html": [
       "<div>\n",
       "<style scoped>\n",
       "    .dataframe tbody tr th:only-of-type {\n",
       "        vertical-align: middle;\n",
       "    }\n",
       "\n",
       "    .dataframe tbody tr th {\n",
       "        vertical-align: top;\n",
       "    }\n",
       "\n",
       "    .dataframe thead th {\n",
       "        text-align: right;\n",
       "    }\n",
       "</style>\n",
       "<table border=\"1\" class=\"dataframe\">\n",
       "  <thead>\n",
       "    <tr style=\"text-align: right;\">\n",
       "      <th></th>\n",
       "      <th>price</th>\n",
       "      <th>vehicle_type</th>\n",
       "      <th>registration_year</th>\n",
       "      <th>gearbox</th>\n",
       "      <th>power</th>\n",
       "      <th>model</th>\n",
       "      <th>kilometer</th>\n",
       "      <th>fuel_type</th>\n",
       "      <th>brand</th>\n",
       "      <th>repaired</th>\n",
       "    </tr>\n",
       "  </thead>\n",
       "  <tbody>\n",
       "    <tr>\n",
       "      <th>0</th>\n",
       "      <td>480</td>\n",
       "      <td>unknown</td>\n",
       "      <td>1993</td>\n",
       "      <td>manual</td>\n",
       "      <td>0</td>\n",
       "      <td>golf</td>\n",
       "      <td>150000</td>\n",
       "      <td>petrol</td>\n",
       "      <td>volkswagen</td>\n",
       "      <td>unknown</td>\n",
       "    </tr>\n",
       "    <tr>\n",
       "      <th>1</th>\n",
       "      <td>18300</td>\n",
       "      <td>coupe</td>\n",
       "      <td>2011</td>\n",
       "      <td>manual</td>\n",
       "      <td>190</td>\n",
       "      <td>unknown</td>\n",
       "      <td>125000</td>\n",
       "      <td>gasoline</td>\n",
       "      <td>audi</td>\n",
       "      <td>yes</td>\n",
       "    </tr>\n",
       "    <tr>\n",
       "      <th>2</th>\n",
       "      <td>9800</td>\n",
       "      <td>suv</td>\n",
       "      <td>2004</td>\n",
       "      <td>auto</td>\n",
       "      <td>163</td>\n",
       "      <td>grand</td>\n",
       "      <td>125000</td>\n",
       "      <td>gasoline</td>\n",
       "      <td>jeep</td>\n",
       "      <td>unknown</td>\n",
       "    </tr>\n",
       "  </tbody>\n",
       "</table>\n",
       "</div>"
      ],
      "text/plain": [
       "   price vehicle_type  registration_year gearbox  power    model  kilometer  \\\n",
       "0    480      unknown               1993  manual      0     golf     150000   \n",
       "1  18300        coupe               2011  manual    190  unknown     125000   \n",
       "2   9800          suv               2004    auto    163    grand     125000   \n",
       "\n",
       "  fuel_type       brand repaired  \n",
       "0    petrol  volkswagen  unknown  \n",
       "1  gasoline        audi      yes  \n",
       "2  gasoline        jeep  unknown  "
      ]
     },
     "metadata": {},
     "output_type": "display_data"
    },
    {
     "name": "stdout",
     "output_type": "stream",
     "text": [
      "---------------------------------------------------------------------------------------------------------------\n",
      "Описание данных:\n",
      "---------------------------------------------------------------------------------------------------------------\n"
     ]
    },
    {
     "data": {
      "text/html": [
       "<div>\n",
       "<style scoped>\n",
       "    .dataframe tbody tr th:only-of-type {\n",
       "        vertical-align: middle;\n",
       "    }\n",
       "\n",
       "    .dataframe tbody tr th {\n",
       "        vertical-align: top;\n",
       "    }\n",
       "\n",
       "    .dataframe thead th {\n",
       "        text-align: right;\n",
       "    }\n",
       "</style>\n",
       "<table border=\"1\" class=\"dataframe\">\n",
       "  <thead>\n",
       "    <tr style=\"text-align: right;\">\n",
       "      <th></th>\n",
       "      <th>price</th>\n",
       "      <th>vehicle_type</th>\n",
       "      <th>registration_year</th>\n",
       "      <th>gearbox</th>\n",
       "      <th>power</th>\n",
       "      <th>model</th>\n",
       "      <th>kilometer</th>\n",
       "      <th>fuel_type</th>\n",
       "      <th>brand</th>\n",
       "      <th>repaired</th>\n",
       "    </tr>\n",
       "  </thead>\n",
       "  <tbody>\n",
       "    <tr>\n",
       "      <th>count</th>\n",
       "      <td>354369.000000</td>\n",
       "      <td>354369</td>\n",
       "      <td>354369.000000</td>\n",
       "      <td>354369</td>\n",
       "      <td>354369.000000</td>\n",
       "      <td>354369</td>\n",
       "      <td>354369.000000</td>\n",
       "      <td>354369</td>\n",
       "      <td>354369</td>\n",
       "      <td>354369</td>\n",
       "    </tr>\n",
       "    <tr>\n",
       "      <th>unique</th>\n",
       "      <td>NaN</td>\n",
       "      <td>9</td>\n",
       "      <td>NaN</td>\n",
       "      <td>3</td>\n",
       "      <td>NaN</td>\n",
       "      <td>251</td>\n",
       "      <td>NaN</td>\n",
       "      <td>8</td>\n",
       "      <td>40</td>\n",
       "      <td>3</td>\n",
       "    </tr>\n",
       "    <tr>\n",
       "      <th>top</th>\n",
       "      <td>NaN</td>\n",
       "      <td>sedan</td>\n",
       "      <td>NaN</td>\n",
       "      <td>manual</td>\n",
       "      <td>NaN</td>\n",
       "      <td>golf</td>\n",
       "      <td>NaN</td>\n",
       "      <td>petrol</td>\n",
       "      <td>volkswagen</td>\n",
       "      <td>no</td>\n",
       "    </tr>\n",
       "    <tr>\n",
       "      <th>freq</th>\n",
       "      <td>NaN</td>\n",
       "      <td>91457</td>\n",
       "      <td>NaN</td>\n",
       "      <td>268251</td>\n",
       "      <td>NaN</td>\n",
       "      <td>29232</td>\n",
       "      <td>NaN</td>\n",
       "      <td>216352</td>\n",
       "      <td>77013</td>\n",
       "      <td>247161</td>\n",
       "    </tr>\n",
       "    <tr>\n",
       "      <th>mean</th>\n",
       "      <td>4416.656776</td>\n",
       "      <td>NaN</td>\n",
       "      <td>2004.234448</td>\n",
       "      <td>NaN</td>\n",
       "      <td>110.094337</td>\n",
       "      <td>NaN</td>\n",
       "      <td>128211.172535</td>\n",
       "      <td>NaN</td>\n",
       "      <td>NaN</td>\n",
       "      <td>NaN</td>\n",
       "    </tr>\n",
       "    <tr>\n",
       "      <th>std</th>\n",
       "      <td>4514.158514</td>\n",
       "      <td>NaN</td>\n",
       "      <td>90.227958</td>\n",
       "      <td>NaN</td>\n",
       "      <td>189.850405</td>\n",
       "      <td>NaN</td>\n",
       "      <td>37905.341530</td>\n",
       "      <td>NaN</td>\n",
       "      <td>NaN</td>\n",
       "      <td>NaN</td>\n",
       "    </tr>\n",
       "    <tr>\n",
       "      <th>min</th>\n",
       "      <td>0.000000</td>\n",
       "      <td>NaN</td>\n",
       "      <td>1000.000000</td>\n",
       "      <td>NaN</td>\n",
       "      <td>0.000000</td>\n",
       "      <td>NaN</td>\n",
       "      <td>5000.000000</td>\n",
       "      <td>NaN</td>\n",
       "      <td>NaN</td>\n",
       "      <td>NaN</td>\n",
       "    </tr>\n",
       "    <tr>\n",
       "      <th>25%</th>\n",
       "      <td>1050.000000</td>\n",
       "      <td>NaN</td>\n",
       "      <td>1999.000000</td>\n",
       "      <td>NaN</td>\n",
       "      <td>69.000000</td>\n",
       "      <td>NaN</td>\n",
       "      <td>125000.000000</td>\n",
       "      <td>NaN</td>\n",
       "      <td>NaN</td>\n",
       "      <td>NaN</td>\n",
       "    </tr>\n",
       "    <tr>\n",
       "      <th>50%</th>\n",
       "      <td>2700.000000</td>\n",
       "      <td>NaN</td>\n",
       "      <td>2003.000000</td>\n",
       "      <td>NaN</td>\n",
       "      <td>105.000000</td>\n",
       "      <td>NaN</td>\n",
       "      <td>150000.000000</td>\n",
       "      <td>NaN</td>\n",
       "      <td>NaN</td>\n",
       "      <td>NaN</td>\n",
       "    </tr>\n",
       "    <tr>\n",
       "      <th>75%</th>\n",
       "      <td>6400.000000</td>\n",
       "      <td>NaN</td>\n",
       "      <td>2008.000000</td>\n",
       "      <td>NaN</td>\n",
       "      <td>143.000000</td>\n",
       "      <td>NaN</td>\n",
       "      <td>150000.000000</td>\n",
       "      <td>NaN</td>\n",
       "      <td>NaN</td>\n",
       "      <td>NaN</td>\n",
       "    </tr>\n",
       "    <tr>\n",
       "      <th>max</th>\n",
       "      <td>20000.000000</td>\n",
       "      <td>NaN</td>\n",
       "      <td>9999.000000</td>\n",
       "      <td>NaN</td>\n",
       "      <td>20000.000000</td>\n",
       "      <td>NaN</td>\n",
       "      <td>150000.000000</td>\n",
       "      <td>NaN</td>\n",
       "      <td>NaN</td>\n",
       "      <td>NaN</td>\n",
       "    </tr>\n",
       "  </tbody>\n",
       "</table>\n",
       "</div>"
      ],
      "text/plain": [
       "                price vehicle_type  registration_year gearbox          power  \\\n",
       "count   354369.000000       354369      354369.000000  354369  354369.000000   \n",
       "unique            NaN            9                NaN       3            NaN   \n",
       "top               NaN        sedan                NaN  manual            NaN   \n",
       "freq              NaN        91457                NaN  268251            NaN   \n",
       "mean      4416.656776          NaN        2004.234448     NaN     110.094337   \n",
       "std       4514.158514          NaN          90.227958     NaN     189.850405   \n",
       "min          0.000000          NaN        1000.000000     NaN       0.000000   \n",
       "25%       1050.000000          NaN        1999.000000     NaN      69.000000   \n",
       "50%       2700.000000          NaN        2003.000000     NaN     105.000000   \n",
       "75%       6400.000000          NaN        2008.000000     NaN     143.000000   \n",
       "max      20000.000000          NaN        9999.000000     NaN   20000.000000   \n",
       "\n",
       "         model      kilometer fuel_type       brand repaired  \n",
       "count   354369  354369.000000    354369      354369   354369  \n",
       "unique     251            NaN         8          40        3  \n",
       "top       golf            NaN    petrol  volkswagen       no  \n",
       "freq     29232            NaN    216352       77013   247161  \n",
       "mean       NaN  128211.172535       NaN         NaN      NaN  \n",
       "std        NaN   37905.341530       NaN         NaN      NaN  \n",
       "min        NaN    5000.000000       NaN         NaN      NaN  \n",
       "25%        NaN  125000.000000       NaN         NaN      NaN  \n",
       "50%        NaN  150000.000000       NaN         NaN      NaN  \n",
       "75%        NaN  150000.000000       NaN         NaN      NaN  \n",
       "max        NaN  150000.000000       NaN         NaN      NaN  "
      ]
     },
     "metadata": {},
     "output_type": "display_data"
    },
    {
     "name": "stdout",
     "output_type": "stream",
     "text": [
      "---------------------------------------------------------------------------------------------------------------\n",
      "Общая информация о датафрейме\n",
      "---------------------------------------------------------------------------------------------------------------\n",
      "<class 'pandas.core.frame.DataFrame'>\n",
      "RangeIndex: 354369 entries, 0 to 354368\n",
      "Data columns (total 10 columns):\n",
      " #   Column             Non-Null Count   Dtype \n",
      "---  ------             --------------   ----- \n",
      " 0   price              354369 non-null  int64 \n",
      " 1   vehicle_type       354369 non-null  object\n",
      " 2   registration_year  354369 non-null  int64 \n",
      " 3   gearbox            354369 non-null  object\n",
      " 4   power              354369 non-null  int64 \n",
      " 5   model              354369 non-null  object\n",
      " 6   kilometer          354369 non-null  int64 \n",
      " 7   fuel_type          354369 non-null  object\n",
      " 8   brand              354369 non-null  object\n",
      " 9   repaired           354369 non-null  object\n",
      "dtypes: int64(4), object(6)\n",
      "memory usage: 27.0+ MB\n"
     ]
    },
    {
     "data": {
      "text/plain": [
       "None"
      ]
     },
     "metadata": {},
     "output_type": "display_data"
    },
    {
     "name": "stdout",
     "output_type": "stream",
     "text": [
      "---------------------------------------------------------------------------------------------------------------\n",
      "Исследование пропусков\n",
      "---------------------------------------------------------------------------------------------------------------\n"
     ]
    },
    {
     "data": {
      "text/html": [
       "<style  type=\"text/css\" >\n",
       "#T_9d9c0_row0_col0,#T_9d9c0_row0_col1,#T_9d9c0_row1_col0,#T_9d9c0_row1_col1,#T_9d9c0_row2_col0,#T_9d9c0_row2_col1,#T_9d9c0_row3_col0,#T_9d9c0_row3_col1,#T_9d9c0_row4_col0,#T_9d9c0_row4_col1,#T_9d9c0_row5_col0,#T_9d9c0_row5_col1,#T_9d9c0_row6_col0,#T_9d9c0_row6_col1,#T_9d9c0_row7_col0,#T_9d9c0_row7_col1,#T_9d9c0_row8_col0,#T_9d9c0_row8_col1,#T_9d9c0_row9_col0,#T_9d9c0_row9_col1{\n",
       "            background-color:  #ffffcc;\n",
       "            color:  #000000;\n",
       "        }</style><table id=\"T_9d9c0_\" ><thead>    <tr>        <th class=\"blank level0\" ></th>        <th class=\"col_heading level0 col0\" >nan_кол-во</th>        <th class=\"col_heading level0 col1\" >nan_%</th>    </tr></thead><tbody>\n",
       "                <tr>\n",
       "                        <th id=\"T_9d9c0_level0_row0\" class=\"row_heading level0 row0\" >price</th>\n",
       "                        <td id=\"T_9d9c0_row0_col0\" class=\"data row0 col0\" >0</td>\n",
       "                        <td id=\"T_9d9c0_row0_col1\" class=\"data row0 col1\" >0.0%</td>\n",
       "            </tr>\n",
       "            <tr>\n",
       "                        <th id=\"T_9d9c0_level0_row1\" class=\"row_heading level0 row1\" >vehicle_type</th>\n",
       "                        <td id=\"T_9d9c0_row1_col0\" class=\"data row1 col0\" >0</td>\n",
       "                        <td id=\"T_9d9c0_row1_col1\" class=\"data row1 col1\" >0.0%</td>\n",
       "            </tr>\n",
       "            <tr>\n",
       "                        <th id=\"T_9d9c0_level0_row2\" class=\"row_heading level0 row2\" >registration_year</th>\n",
       "                        <td id=\"T_9d9c0_row2_col0\" class=\"data row2 col0\" >0</td>\n",
       "                        <td id=\"T_9d9c0_row2_col1\" class=\"data row2 col1\" >0.0%</td>\n",
       "            </tr>\n",
       "            <tr>\n",
       "                        <th id=\"T_9d9c0_level0_row3\" class=\"row_heading level0 row3\" >gearbox</th>\n",
       "                        <td id=\"T_9d9c0_row3_col0\" class=\"data row3 col0\" >0</td>\n",
       "                        <td id=\"T_9d9c0_row3_col1\" class=\"data row3 col1\" >0.0%</td>\n",
       "            </tr>\n",
       "            <tr>\n",
       "                        <th id=\"T_9d9c0_level0_row4\" class=\"row_heading level0 row4\" >power</th>\n",
       "                        <td id=\"T_9d9c0_row4_col0\" class=\"data row4 col0\" >0</td>\n",
       "                        <td id=\"T_9d9c0_row4_col1\" class=\"data row4 col1\" >0.0%</td>\n",
       "            </tr>\n",
       "            <tr>\n",
       "                        <th id=\"T_9d9c0_level0_row5\" class=\"row_heading level0 row5\" >model</th>\n",
       "                        <td id=\"T_9d9c0_row5_col0\" class=\"data row5 col0\" >0</td>\n",
       "                        <td id=\"T_9d9c0_row5_col1\" class=\"data row5 col1\" >0.0%</td>\n",
       "            </tr>\n",
       "            <tr>\n",
       "                        <th id=\"T_9d9c0_level0_row6\" class=\"row_heading level0 row6\" >kilometer</th>\n",
       "                        <td id=\"T_9d9c0_row6_col0\" class=\"data row6 col0\" >0</td>\n",
       "                        <td id=\"T_9d9c0_row6_col1\" class=\"data row6 col1\" >0.0%</td>\n",
       "            </tr>\n",
       "            <tr>\n",
       "                        <th id=\"T_9d9c0_level0_row7\" class=\"row_heading level0 row7\" >fuel_type</th>\n",
       "                        <td id=\"T_9d9c0_row7_col0\" class=\"data row7 col0\" >0</td>\n",
       "                        <td id=\"T_9d9c0_row7_col1\" class=\"data row7 col1\" >0.0%</td>\n",
       "            </tr>\n",
       "            <tr>\n",
       "                        <th id=\"T_9d9c0_level0_row8\" class=\"row_heading level0 row8\" >brand</th>\n",
       "                        <td id=\"T_9d9c0_row8_col0\" class=\"data row8 col0\" >0</td>\n",
       "                        <td id=\"T_9d9c0_row8_col1\" class=\"data row8 col1\" >0.0%</td>\n",
       "            </tr>\n",
       "            <tr>\n",
       "                        <th id=\"T_9d9c0_level0_row9\" class=\"row_heading level0 row9\" >repaired</th>\n",
       "                        <td id=\"T_9d9c0_row9_col0\" class=\"data row9 col0\" >0</td>\n",
       "                        <td id=\"T_9d9c0_row9_col1\" class=\"data row9 col1\" >0.0%</td>\n",
       "            </tr>\n",
       "    </tbody></table>"
      ],
      "text/plain": [
       "<pandas.io.formats.style.Styler at 0x7f27d17d65e0>"
      ]
     },
     "metadata": {},
     "output_type": "display_data"
    },
    {
     "name": "stdout",
     "output_type": "stream",
     "text": [
      "---------------------------------------------------------------------------------------------------------------\n",
      "Доля явных дубликатов\n",
      "---------------------------------------------------------------------------------------------------------------\n",
      "12.71%\n"
     ]
    }
   ],
   "source": [
    "data_head_desc_info(df)"
   ]
  },
  {
   "cell_type": "code",
   "execution_count": 11,
   "metadata": {},
   "outputs": [
    {
     "name": "stdout",
     "output_type": "stream",
     "text": [
      "45040\n"
     ]
    }
   ],
   "source": [
    "print(df.duplicated().sum())"
   ]
  },
  {
   "cell_type": "markdown",
   "metadata": {},
   "source": [
    "Дубликаты, которые образовались после удаления части признаков, нужно удалять непосредственно перед машинным обучением: с точки зрения EDA такие дубликаты - разные автомобили, у которых после удаления разных характеристик остались только те, которые пересекаются. Поэтому такие дубликаты должны быть учтены в EDA, так как они описывают особенности распределения данных.\n",
    "    \n",
    "На данном этапе стоит проверить дубликаты до удаления лишних признаков, а уже перед машинным обучением удалить те, которые появились после удаления лишних признаков."
   ]
  },
  {
   "cell_type": "code",
   "execution_count": 12,
   "metadata": {},
   "outputs": [],
   "source": [
    "# Функция проверки неявных дубликатов в столбцах типа object\n",
    "def check_unique_object_columns(df):\n",
    "    print('------------------------------------------------------------------------------------------------------------------')\n",
    "    print('Проверка неявных дубликатов в столбцах типа object:')\n",
    "    print('------------------------------------------------------------------------------------------------------------------')\n",
    "    if not isinstance(df, pd.DataFrame):\n",
    "        print(\"Вход должен быть DataFrame pandas.\")\n",
    "        return None\n",
    "\n",
    "    object_cols = df.select_dtypes(include=['object']).columns\n",
    "    if object_cols.empty:\n",
    "        print(\"В DataFrame нет столбцов типа object.\")\n",
    "        return None\n",
    "\n",
    "    results = {}\n",
    "    for col in object_cols:\n",
    "        unique_vals = df[col].unique()\n",
    "        results[col] = {\n",
    "            'число_уникальных_значений': len(unique_vals),\n",
    "            # Преобразование в список для лучшего отображения\n",
    "            'уникальных_значения': unique_vals.tolist(),\n",
    "            'потенциальные_дубликаты': []\n",
    "        }\n",
    "\n",
    "        # Базовая проверка потенциальных дубликатов:\n",
    "        # Проверяет значения с разными регистрами или незначительными вариациями.\n",
    "        for i, val in enumerate(unique_vals):\n",
    "            if unique_vals.tolist().count(val) > 1 and val != '':  # важная проверка на пустую строку!\n",
    "                for j, other_val in enumerate(unique_vals):\n",
    "                    if i != j and fuzz.ratio(val.lower(), other_val.lower()) >= 90:\n",
    "                        #  Уникальная строка не должна быть в списке дубликатов\n",
    "                        if other_val not in results[col]['потенциальные_дубликаты']: \n",
    "                            results[col]['потенциальные_дубликаты'].append(other_val)\n",
    "\n",
    "    result_df = pd.DataFrame.from_dict(results, orient='index')\n",
    "    display(result_df)\n",
    "    \n",
    "    print('------------------------------------------------------------------------------------------------------------------')\n",
    "    print('Вывод всех уникальных значений:')\n",
    "    print('------------------------------------------------------------------------------------------------------------------')\n",
    "    \n",
    "    # Вывод всех уникальных значений\n",
    "    for col in object_cols:\n",
    "        print(f\"\\nСтолбец {col}:\")\n",
    "        print(f\"Уникальные значения: {result_df.loc[col, 'уникальных_значения']}\")"
   ]
  },
  {
   "cell_type": "code",
   "execution_count": 13,
   "metadata": {
    "scrolled": false
   },
   "outputs": [
    {
     "name": "stdout",
     "output_type": "stream",
     "text": [
      "------------------------------------------------------------------------------------------------------------------\n",
      "Проверка неявных дубликатов в столбцах типа object:\n",
      "------------------------------------------------------------------------------------------------------------------\n"
     ]
    },
    {
     "data": {
      "text/html": [
       "<div>\n",
       "<style scoped>\n",
       "    .dataframe tbody tr th:only-of-type {\n",
       "        vertical-align: middle;\n",
       "    }\n",
       "\n",
       "    .dataframe tbody tr th {\n",
       "        vertical-align: top;\n",
       "    }\n",
       "\n",
       "    .dataframe thead th {\n",
       "        text-align: right;\n",
       "    }\n",
       "</style>\n",
       "<table border=\"1\" class=\"dataframe\">\n",
       "  <thead>\n",
       "    <tr style=\"text-align: right;\">\n",
       "      <th></th>\n",
       "      <th>число_уникальных_значений</th>\n",
       "      <th>уникальных_значения</th>\n",
       "      <th>потенциальные_дубликаты</th>\n",
       "    </tr>\n",
       "  </thead>\n",
       "  <tbody>\n",
       "    <tr>\n",
       "      <th>vehicle_type</th>\n",
       "      <td>9</td>\n",
       "      <td>[unknown, coupe, suv, small, sedan, convertibl...</td>\n",
       "      <td>[]</td>\n",
       "    </tr>\n",
       "    <tr>\n",
       "      <th>gearbox</th>\n",
       "      <td>3</td>\n",
       "      <td>[manual, auto, unknown]</td>\n",
       "      <td>[]</td>\n",
       "    </tr>\n",
       "    <tr>\n",
       "      <th>model</th>\n",
       "      <td>251</td>\n",
       "      <td>[golf, unknown, grand, fabia, 3er, 2_reihe, ot...</td>\n",
       "      <td>[]</td>\n",
       "    </tr>\n",
       "    <tr>\n",
       "      <th>fuel_type</th>\n",
       "      <td>8</td>\n",
       "      <td>[petrol, gasoline, unknown, lpg, other, hybrid...</td>\n",
       "      <td>[]</td>\n",
       "    </tr>\n",
       "    <tr>\n",
       "      <th>brand</th>\n",
       "      <td>40</td>\n",
       "      <td>[volkswagen, audi, jeep, skoda, bmw, peugeot, ...</td>\n",
       "      <td>[]</td>\n",
       "    </tr>\n",
       "    <tr>\n",
       "      <th>repaired</th>\n",
       "      <td>3</td>\n",
       "      <td>[unknown, yes, no]</td>\n",
       "      <td>[]</td>\n",
       "    </tr>\n",
       "  </tbody>\n",
       "</table>\n",
       "</div>"
      ],
      "text/plain": [
       "              число_уникальных_значений  \\\n",
       "vehicle_type                          9   \n",
       "gearbox                               3   \n",
       "model                               251   \n",
       "fuel_type                             8   \n",
       "brand                                40   \n",
       "repaired                              3   \n",
       "\n",
       "                                            уникальных_значения  \\\n",
       "vehicle_type  [unknown, coupe, suv, small, sedan, convertibl...   \n",
       "gearbox                                 [manual, auto, unknown]   \n",
       "model         [golf, unknown, grand, fabia, 3er, 2_reihe, ot...   \n",
       "fuel_type     [petrol, gasoline, unknown, lpg, other, hybrid...   \n",
       "brand         [volkswagen, audi, jeep, skoda, bmw, peugeot, ...   \n",
       "repaired                                     [unknown, yes, no]   \n",
       "\n",
       "             потенциальные_дубликаты  \n",
       "vehicle_type                      []  \n",
       "gearbox                           []  \n",
       "model                             []  \n",
       "fuel_type                         []  \n",
       "brand                             []  \n",
       "repaired                          []  "
      ]
     },
     "metadata": {},
     "output_type": "display_data"
    },
    {
     "name": "stdout",
     "output_type": "stream",
     "text": [
      "------------------------------------------------------------------------------------------------------------------\n",
      "Вывод всех уникальных значений:\n",
      "------------------------------------------------------------------------------------------------------------------\n",
      "\n",
      "Столбец vehicle_type:\n",
      "Уникальные значения: ['unknown', 'coupe', 'suv', 'small', 'sedan', 'convertible', 'bus', 'wagon', 'other']\n",
      "\n",
      "Столбец gearbox:\n",
      "Уникальные значения: ['manual', 'auto', 'unknown']\n",
      "\n",
      "Столбец model:\n",
      "Уникальные значения: ['golf', 'unknown', 'grand', 'fabia', '3er', '2_reihe', 'other', 'c_max', '3_reihe', 'passat', 'navara', 'ka', 'polo', 'twingo', 'a_klasse', 'scirocco', '5er', 'meriva', 'arosa', 'c4', 'civic', 'transporter', 'punto', 'e_klasse', 'clio', 'kadett', 'kangoo', 'corsa', 'one', 'fortwo', '1er', 'b_klasse', 'signum', 'astra', 'a8', 'jetta', 'fiesta', 'c_klasse', 'micra', 'vito', 'sprinter', '156', 'escort', 'forester', 'xc_reihe', 'scenic', 'a4', 'a1', 'insignia', 'combo', 'focus', 'tt', 'a6', 'jazz', 'omega', 'slk', '7er', '80', '147', '100', 'z_reihe', 'sportage', 'sorento', 'v40', 'ibiza', 'mustang', 'eos', 'touran', 'getz', 'a3', 'almera', 'megane', 'lupo', 'r19', 'zafira', 'caddy', 'mondeo', 'cordoba', 'colt', 'impreza', 'vectra', 'berlingo', 'tiguan', 'i_reihe', 'espace', 'sharan', '6_reihe', 'panda', 'up', 'seicento', 'ceed', '5_reihe', 'yeti', 'octavia', 'mii', 'rx_reihe', '6er', 'modus', 'fox', 'matiz', 'beetle', 'c1', 'rio', 'touareg', 'logan', 'spider', 'cuore', 's_max', 'a2', 'galaxy', 'c3', 'viano', 's_klasse', '1_reihe', 'avensis', 'roomster', 'sl', 'kaefer', 'santa', 'cooper', 'leon', '4_reihe', 'a5', '500', 'laguna', 'ptcruiser', 'clk', 'primera', 'x_reihe', 'exeo', '159', 'transit', 'juke', 'qashqai', 'carisma', 'accord', 'corolla', 'lanos', 'phaeton', 'verso', 'swift', 'rav', 'picanto', 'boxster', 'kalos', 'superb', 'stilo', 'alhambra', 'mx_reihe', 'roadster', 'ypsilon', 'cayenne', 'galant', 'justy', '90', 'sirion', 'crossfire', 'agila', 'duster', 'cr_reihe', 'v50', 'c_reihe', 'v_klasse', 'm_klasse', 'yaris', 'c5', 'aygo', 'cc', 'carnival', 'fusion', '911', 'bora', 'forfour', 'm_reihe', 'cl', 'tigra', '300c', 'spark', 'v70', 'kuga', 'x_type', 'ducato', 's_type', 'x_trail', 'toledo', 'altea', 'voyager', 'calibra', 'bravo', 'antara', 'tucson', 'citigo', 'jimny', 'wrangler', 'lybra', 'q7', 'lancer', 'captiva', 'c2', 'discovery', 'freelander', 'sandero', 'note', '900', 'cherokee', 'clubman', 'samara', 'defender', '601', 'cx_reihe', 'legacy', 'pajero', 'auris', 'niva', 's60', 'nubira', 'vivaro', 'g_klasse', 'lodgy', '850', 'range_rover', 'q3', 'serie_2', 'glk', 'charade', 'croma', 'outlander', 'doblo', 'musa', 'move', '9000', 'v60', '145', 'aveo', '200', 'b_max', 'range_rover_sport', 'terios', 'rangerover', 'q5', 'range_rover_evoque', 'materia', 'delta', 'gl', 'kalina', 'amarok', 'elefantino', 'i3', 'kappa', 'serie_3', 'serie_1']\n",
      "\n",
      "Столбец fuel_type:\n",
      "Уникальные значения: ['petrol', 'gasoline', 'unknown', 'lpg', 'other', 'hybrid', 'cng', 'electric']\n",
      "\n",
      "Столбец brand:\n",
      "Уникальные значения: ['volkswagen', 'audi', 'jeep', 'skoda', 'bmw', 'peugeot', 'ford', 'mazda', 'nissan', 'renault', 'mercedes_benz', 'opel', 'seat', 'citroen', 'honda', 'fiat', 'mini', 'smart', 'hyundai', 'sonstige_autos', 'alfa_romeo', 'subaru', 'volvo', 'mitsubishi', 'kia', 'suzuki', 'lancia', 'toyota', 'chevrolet', 'dacia', 'daihatsu', 'trabant', 'saab', 'chrysler', 'jaguar', 'daewoo', 'porsche', 'rover', 'land_rover', 'lada']\n",
      "\n",
      "Столбец repaired:\n",
      "Уникальные значения: ['unknown', 'yes', 'no']\n"
     ]
    }
   ],
   "source": [
    "check_unique_object_columns(df)"
   ]
  },
  {
   "cell_type": "markdown",
   "metadata": {},
   "source": [
    "FuelType - значения petrol и gasoline по сути означают одно и то же, можно привести к одной форме.\n",
    "\n",
    "Model - значения rangerover и range_rover аналогично характеризуют одну модель, можно также привести к одной форме."
   ]
  },
  {
   "cell_type": "code",
   "execution_count": 14,
   "metadata": {},
   "outputs": [],
   "source": [
    "df = df.replace({'gasoline':'petrol', 'rangerover':'range_rover'})"
   ]
  },
  {
   "cell_type": "code",
   "execution_count": 15,
   "metadata": {},
   "outputs": [
    {
     "name": "stdout",
     "output_type": "stream",
     "text": [
      "<class 'pandas.core.frame.DataFrame'>\n",
      "RangeIndex: 354369 entries, 0 to 354368\n",
      "Data columns (total 10 columns):\n",
      " #   Column             Non-Null Count   Dtype \n",
      "---  ------             --------------   ----- \n",
      " 0   price              354369 non-null  int64 \n",
      " 1   vehicle_type       354369 non-null  object\n",
      " 2   registration_year  354369 non-null  int64 \n",
      " 3   gearbox            354369 non-null  object\n",
      " 4   power              354369 non-null  int64 \n",
      " 5   model              354369 non-null  object\n",
      " 6   kilometer          354369 non-null  int64 \n",
      " 7   fuel_type          354369 non-null  object\n",
      " 8   brand              354369 non-null  object\n",
      " 9   repaired           354369 non-null  object\n",
      "dtypes: int64(4), object(6)\n",
      "memory usage: 27.0+ MB\n"
     ]
    }
   ],
   "source": [
    "df.info()"
   ]
  },
  {
   "cell_type": "code",
   "execution_count": 16,
   "metadata": {
    "scrolled": false
   },
   "outputs": [
    {
     "data": {
      "image/png": "[encoded data removed]",
      "text/plain": [
       "<Figure size 576x432 with 1 Axes>"
      ]
     },
     "metadata": {
      "needs_background": "light"
     },
     "output_type": "display_data"
    },
    {
     "data": {
      "image/png": "[encoded data removed]",
      "text/plain": [
       "<Figure size 576x432 with 1 Axes>"
      ]
     },
     "metadata": {
      "needs_background": "light"
     },
     "output_type": "display_data"
    },
    {
     "name": "stdout",
     "output_type": "stream",
     "text": [
      "Описание признака price:\n",
      "count    354369.000000\n",
      "mean       4416.656776\n",
      "std        4514.158514\n",
      "min           0.000000\n",
      "25%        1050.000000\n",
      "50%        2700.000000\n",
      "75%        6400.000000\n",
      "max       20000.000000\n",
      "Name: price, dtype: float64\n",
      "\n"
     ]
    },
    {
     "data": {
      "image/png": "[encoded data removed]",
      "text/plain": [
       "<Figure size 576x432 with 1 Axes>"
      ]
     },
     "metadata": {
      "needs_background": "light"
     },
     "output_type": "display_data"
    },
    {
     "data": {
      "image/png": "[encoded data removed]",
      "text/plain": [
       "<Figure size 576x432 with 1 Axes>"
      ]
     },
     "metadata": {
      "needs_background": "light"
     },
     "output_type": "display_data"
    },
    {
     "name": "stdout",
     "output_type": "stream",
     "text": [
      "Описание признака registration_year:\n",
      "count    354369.000000\n",
      "mean       2004.234448\n",
      "std          90.227958\n",
      "min        1000.000000\n",
      "25%        1999.000000\n",
      "50%        2003.000000\n",
      "75%        2008.000000\n",
      "max        9999.000000\n",
      "Name: registration_year, dtype: float64\n",
      "\n"
     ]
    },
    {
     "data": {
      "image/png": "[encoded data removed]",
      "text/plain": [
       "<Figure size 576x432 with 1 Axes>"
      ]
     },
     "metadata": {
      "needs_background": "light"
     },
     "output_type": "display_data"
    },
    {
     "data": {
      "image/png": "[encoded data removed]",
      "text/plain": [
       "<Figure size 576x432 with 1 Axes>"
      ]
     },
     "metadata": {
      "needs_background": "light"
     },
     "output_type": "display_data"
    },
    {
     "name": "stdout",
     "output_type": "stream",
     "text": [
      "Описание признака power:\n",
      "count    354369.000000\n",
      "mean        110.094337\n",
      "std         189.850405\n",
      "min           0.000000\n",
      "25%          69.000000\n",
      "50%         105.000000\n",
      "75%         143.000000\n",
      "max       20000.000000\n",
      "Name: power, dtype: float64\n",
      "\n"
     ]
    },
    {
     "data": {
      "image/png": "[encoded data removed]",
      "text/plain": [
       "<Figure size 576x432 with 1 Axes>"
      ]
     },
     "metadata": {
      "needs_background": "light"
     },
     "output_type": "display_data"
    },
    {
     "data": {
      "image/png": "[encoded data removed]",
      "text/plain": [
       "<Figure size 576x432 with 1 Axes>"
      ]
     },
     "metadata": {
      "needs_background": "light"
     },
     "output_type": "display_data"
    },
    {
     "name": "stdout",
     "output_type": "stream",
     "text": [
      "Описание признака kilometer:\n",
      "count    354369.000000\n",
      "mean     128211.172535\n",
      "std       37905.341530\n",
      "min        5000.000000\n",
      "25%      125000.000000\n",
      "50%      150000.000000\n",
      "75%      150000.000000\n",
      "max      150000.000000\n",
      "Name: kilometer, dtype: float64\n",
      "\n"
     ]
    },
    {
     "data": {
      "image/png": "[encoded data removed]",
      "text/plain": [
       "<Figure size 576x432 with 1 Axes>"
      ]
     },
     "metadata": {
      "needs_background": "light"
     },
     "output_type": "display_data"
    },
    {
     "name": "stdout",
     "output_type": "stream",
     "text": [
      "Уникальные значения для vehicle_type:\n",
      " ['unknown' 'coupe' 'suv' 'small' 'sedan' 'convertible' 'bus' 'wagon'\n",
      " 'other']\n",
      "\n"
     ]
    },
    {
     "data": {
      "image/png": "[encoded data removed]",
      "text/plain": [
       "<Figure size 576x432 with 1 Axes>"
      ]
     },
     "metadata": {
      "needs_background": "light"
     },
     "output_type": "display_data"
    },
    {
     "name": "stdout",
     "output_type": "stream",
     "text": [
      "Уникальные значения для gearbox:\n",
      " ['manual' 'auto' 'unknown']\n",
      "\n"
     ]
    },
    {
     "data": {
      "image/png": "[encoded data removed]",
      "text/plain": [
       "<Figure size 576x432 with 1 Axes>"
      ]
     },
     "metadata": {
      "needs_background": "light"
     },
     "output_type": "display_data"
    },
    {
     "name": "stdout",
     "output_type": "stream",
     "text": [
      "Уникальные значения для model:\n",
      " ['golf' 'unknown' 'grand' 'fabia' '3er' '2_reihe' 'other' 'c_max'\n",
      " '3_reihe' 'passat' 'navara' 'ka' 'polo' 'twingo' 'a_klasse' 'scirocco'\n",
      " '5er' 'meriva' 'arosa' 'c4' 'civic' 'transporter' 'punto' 'e_klasse'\n",
      " 'clio' 'kadett' 'kangoo' 'corsa' 'one' 'fortwo' '1er' 'b_klasse' 'signum'\n",
      " 'astra' 'a8' 'jetta' 'fiesta' 'c_klasse' 'micra' 'vito' 'sprinter' '156'\n",
      " 'escort' 'forester' 'xc_reihe' 'scenic' 'a4' 'a1' 'insignia' 'combo'\n",
      " 'focus' 'tt' 'a6' 'jazz' 'omega' 'slk' '7er' '80' '147' '100' 'z_reihe'\n",
      " 'sportage' 'sorento' 'v40' 'ibiza' 'mustang' 'eos' 'touran' 'getz' 'a3'\n",
      " 'almera' 'megane' 'lupo' 'r19' 'zafira' 'caddy' 'mondeo' 'cordoba' 'colt'\n",
      " 'impreza' 'vectra' 'berlingo' 'tiguan' 'i_reihe' 'espace' 'sharan'\n",
      " '6_reihe' 'panda' 'up' 'seicento' 'ceed' '5_reihe' 'yeti' 'octavia' 'mii'\n",
      " 'rx_reihe' '6er' 'modus' 'fox' 'matiz' 'beetle' 'c1' 'rio' 'touareg'\n",
      " 'logan' 'spider' 'cuore' 's_max' 'a2' 'galaxy' 'c3' 'viano' 's_klasse'\n",
      " '1_reihe' 'avensis' 'roomster' 'sl' 'kaefer' 'santa' 'cooper' 'leon'\n",
      " '4_reihe' 'a5' '500' 'laguna' 'ptcruiser' 'clk' 'primera' 'x_reihe'\n",
      " 'exeo' '159' 'transit' 'juke' 'qashqai' 'carisma' 'accord' 'corolla'\n",
      " 'lanos' 'phaeton' 'verso' 'swift' 'rav' 'picanto' 'boxster' 'kalos'\n",
      " 'superb' 'stilo' 'alhambra' 'mx_reihe' 'roadster' 'ypsilon' 'cayenne'\n",
      " 'galant' 'justy' '90' 'sirion' 'crossfire' 'agila' 'duster' 'cr_reihe'\n",
      " 'v50' 'c_reihe' 'v_klasse' 'm_klasse' 'yaris' 'c5' 'aygo' 'cc' 'carnival'\n",
      " 'fusion' '911' 'bora' 'forfour' 'm_reihe' 'cl' 'tigra' '300c' 'spark'\n",
      " 'v70' 'kuga' 'x_type' 'ducato' 's_type' 'x_trail' 'toledo' 'altea'\n",
      " 'voyager' 'calibra' 'bravo' 'antara' 'tucson' 'citigo' 'jimny' 'wrangler'\n",
      " 'lybra' 'q7' 'lancer' 'captiva' 'c2' 'discovery' 'freelander' 'sandero'\n",
      " 'note' '900' 'cherokee' 'clubman' 'samara' 'defender' '601' 'cx_reihe'\n",
      " 'legacy' 'pajero' 'auris' 'niva' 's60' 'nubira' 'vivaro' 'g_klasse'\n",
      " 'lodgy' '850' 'range_rover' 'q3' 'serie_2' 'glk' 'charade' 'croma'\n",
      " 'outlander' 'doblo' 'musa' 'move' '9000' 'v60' '145' 'aveo' '200' 'b_max'\n",
      " 'range_rover_sport' 'terios' 'q5' 'range_rover_evoque' 'materia' 'delta'\n",
      " 'gl' 'kalina' 'amarok' 'elefantino' 'i3' 'kappa' 'serie_3' 'serie_1']\n",
      "\n"
     ]
    },
    {
     "data": {
      "image/png": "[encoded data removed]",
      "text/plain": [
       "<Figure size 576x432 with 1 Axes>"
      ]
     },
     "metadata": {
      "needs_background": "light"
     },
     "output_type": "display_data"
    },
    {
     "name": "stdout",
     "output_type": "stream",
     "text": [
      "Уникальные значения для fuel_type:\n",
      " ['petrol' 'unknown' 'lpg' 'other' 'hybrid' 'cng' 'electric']\n",
      "\n"
     ]
    },
    {
     "data": {
      "image/png": "[encoded data removed]",
      "text/plain": [
       "<Figure size 576x432 with 1 Axes>"
      ]
     },
     "metadata": {
      "needs_background": "light"
     },
     "output_type": "display_data"
    },
    {
     "name": "stdout",
     "output_type": "stream",
     "text": [
      "Уникальные значения для brand:\n",
      " ['volkswagen' 'audi' 'jeep' 'skoda' 'bmw' 'peugeot' 'ford' 'mazda'\n",
      " 'nissan' 'renault' 'mercedes_benz' 'opel' 'seat' 'citroen' 'honda' 'fiat'\n",
      " 'mini' 'smart' 'hyundai' 'sonstige_autos' 'alfa_romeo' 'subaru' 'volvo'\n",
      " 'mitsubishi' 'kia' 'suzuki' 'lancia' 'toyota' 'chevrolet' 'dacia'\n",
      " 'daihatsu' 'trabant' 'saab' 'chrysler' 'jaguar' 'daewoo' 'porsche'\n",
      " 'rover' 'land_rover' 'lada']\n",
      "\n"
     ]
    },
    {
     "data": {
      "image/png": "[encoded data removed]",
      "text/plain": [
       "<Figure size 576x432 with 1 Axes>"
      ]
     },
     "metadata": {
      "needs_background": "light"
     },
     "output_type": "display_data"
    },
    {
     "name": "stdout",
     "output_type": "stream",
     "text": [
      "Уникальные значения для repaired:\n",
      " ['unknown' 'yes' 'no']\n",
      "\n"
     ]
    }
   ],
   "source": [
    "# Разделяем числовые и категориальные столбцы\n",
    "numeric_cols = df.select_dtypes(include=np.number).columns\n",
    "categorical_cols = df.select_dtypes(include=object).columns\n",
    "\n",
    "\n",
    "for col in numeric_cols:\n",
    "    plt.figure(figsize=(8, 6))\n",
    "    sns.histplot(df[col], kde=True)\n",
    "    plt.title(f\"Распределение признака {col}\")\n",
    "    plt.show()\n",
    "\n",
    "    plt.figure(figsize=(8, 6))\n",
    "    sns.boxplot(y=df[col])\n",
    "    plt.title(f\"Boxplot признака {col}\")\n",
    "    plt.show()\n",
    "\n",
    "    print(f\"Описание признака {col}:\\n{df[col].describe()}\\n\")\n",
    "\n",
    "\n",
    "for col in categorical_cols:\n",
    "    plt.figure(figsize=(8, 6))\n",
    "    if col == 'model':  \n",
    "        top_n = 20\n",
    "        df[col].value_counts().nlargest(top_n).plot(kind='bar')\n",
    "        plt.title(f\"Топ-{top_n} значений признака {col}\")\n",
    "    else:  \n",
    "        df[col].value_counts().plot(kind='bar')\n",
    "        plt.title(f\"Распределение признака {col}\")\n",
    "    plt.xticks(rotation=45, ha=\"right\")\n",
    "    plt.show()\n",
    "    print(f\"Уникальные значения для {col}:\\n {df[col].unique()}\\n\")"
   ]
  },
  {
   "cell_type": "code",
   "execution_count": 17,
   "metadata": {
    "scrolled": false
   },
   "outputs": [
    {
     "name": "stdout",
     "output_type": "stream",
     "text": [
      "329\n",
      "40225\n"
     ]
    }
   ],
   "source": [
    "print((df['power'] > 900).sum())\n",
    "print((df['power'] == 0).sum())"
   ]
  },
  {
   "cell_type": "markdown",
   "metadata": {},
   "source": [
    "Промежуточный итог:\n",
    "Поля в котрых есть явные некорректные данные.\n",
    "1. power - максимальное значение 20000. Путем пребора вариантов на auto.ru, было выяснено, что машины продаются с мощностью до 900 л.с. Возьмем 900 как крайнее значение. Нулевые значения, их много. Можно поробовать их заменить на медианное значение. Но значений много и медианное значение в таком количестве будет искажать данные и модель обучаться неправильно. Поэтому я удалю нулевые значения. Также удалим околонулевые значения, остаим автомобили у которых мощность выше 30 л.с. "
   ]
  },
  {
   "cell_type": "code",
   "execution_count": 18,
   "metadata": {},
   "outputs": [
    {
     "name": "stdout",
     "output_type": "stream",
     "text": [
      "329\n",
      "40225\n",
      "0\n",
      "0\n"
     ]
    }
   ],
   "source": [
    "print((df['power'] > 900).sum())\n",
    "print((df['power'] == 0).sum())\n",
    "\n",
    "df = df[df['power'] <= 900]\n",
    "df = df[df['power'] >= 30]\n",
    "\n",
    "print((df['power'] > 900).sum())\n",
    "print((df['power'] < 30).sum())"
   ]
  },
  {
   "cell_type": "markdown",
   "metadata": {},
   "source": [
    "2. registration_year - максимлаьное значение 9999, чего быть не может. Возьмем за верхнюю отметку год загрузки данных 2016, отсутствие данных по машинам страше 2016 года не должны повлиять на обучение моделей. 2016 год - верхнее значение. Нижнее значение оставим 1930, предрположим что у нас есть ретро автомобили."
   ]
  },
  {
   "cell_type": "code",
   "execution_count": 19,
   "metadata": {},
   "outputs": [
    {
     "data": {
      "text/plain": [
       "10761"
      ]
     },
     "execution_count": 19,
     "metadata": {},
     "output_type": "execute_result"
    }
   ],
   "source": [
    "(df['registration_year'] > 2016).sum()"
   ]
  },
  {
   "cell_type": "code",
   "execution_count": 20,
   "metadata": {},
   "outputs": [
    {
     "data": {
      "text/plain": [
       "17"
      ]
     },
     "execution_count": 20,
     "metadata": {},
     "output_type": "execute_result"
    }
   ],
   "source": [
    "(df['registration_year'] < 1930).sum()"
   ]
  },
  {
   "cell_type": "code",
   "execution_count": 21,
   "metadata": {},
   "outputs": [
    {
     "name": "stdout",
     "output_type": "stream",
     "text": [
      "0\n",
      "0\n"
     ]
    }
   ],
   "source": [
    "df = df[df['registration_year'] <= 2016]\n",
    "df = df[df['registration_year'] >= 1930]\n",
    "print((df['registration_year'] > 2016).sum())\n",
    "print((df['registration_year'] < 1930).sum())"
   ]
  },
  {
   "cell_type": "markdown",
   "metadata": {},
   "source": [
    "3. price - целевой признак. Очень много значений со стоимостью 0. Удаляем эти значения. Удалить неадекватно низкие значения цен: в пределах цен до 500-1000 евро вряд ли можно купить полноценный автомобиль"
   ]
  },
  {
   "cell_type": "code",
   "execution_count": 22,
   "metadata": {},
   "outputs": [
    {
     "data": {
      "text/plain": [
       "23371"
      ]
     },
     "execution_count": 22,
     "metadata": {},
     "output_type": "execute_result"
    }
   ],
   "source": [
    "(df['price'] < 500).sum()"
   ]
  },
  {
   "cell_type": "code",
   "execution_count": 23,
   "metadata": {},
   "outputs": [
    {
     "data": {
      "text/plain": [
       "0"
      ]
     },
     "execution_count": 23,
     "metadata": {},
     "output_type": "execute_result"
    }
   ],
   "source": [
    "df = df[df['price'] >= 500]\n",
    "(df['price'] == 0).sum()"
   ]
  },
  {
   "cell_type": "markdown",
   "metadata": {},
   "source": [
    "Теперь снова проверим на нашу выборку на дубликаты"
   ]
  },
  {
   "cell_type": "code",
   "execution_count": 24,
   "metadata": {},
   "outputs": [
    {
     "data": {
      "text/plain": [
       "38287"
      ]
     },
     "execution_count": 24,
     "metadata": {},
     "output_type": "execute_result"
    }
   ],
   "source": [
    "df.duplicated().sum()"
   ]
  },
  {
   "cell_type": "code",
   "execution_count": 25,
   "metadata": {},
   "outputs": [
    {
     "name": "stdout",
     "output_type": "stream",
     "text": [
      "<class 'pandas.core.frame.DataFrame'>\n",
      "Int64Index: 278758 entries, 1 to 354368\n",
      "Data columns (total 10 columns):\n",
      " #   Column             Non-Null Count   Dtype \n",
      "---  ------             --------------   ----- \n",
      " 0   price              278758 non-null  int64 \n",
      " 1   vehicle_type       278758 non-null  object\n",
      " 2   registration_year  278758 non-null  int64 \n",
      " 3   gearbox            278758 non-null  object\n",
      " 4   power              278758 non-null  int64 \n",
      " 5   model              278758 non-null  object\n",
      " 6   kilometer          278758 non-null  int64 \n",
      " 7   fuel_type          278758 non-null  object\n",
      " 8   brand              278758 non-null  object\n",
      " 9   repaired           278758 non-null  object\n",
      "dtypes: int64(4), object(6)\n",
      "memory usage: 23.4+ MB\n"
     ]
    }
   ],
   "source": [
    "df.drop_duplicates()\n",
    "df.info()"
   ]
  },
  {
   "cell_type": "markdown",
   "metadata": {},
   "source": [
    "## Обучение моделей"
   ]
  },
  {
   "cell_type": "code",
   "execution_count": 26,
   "metadata": {},
   "outputs": [
    {
     "name": "stdout",
     "output_type": "stream",
     "text": [
      "<class 'pandas.core.frame.DataFrame'>\n",
      "Int64Index: 278758 entries, 1 to 354368\n",
      "Data columns (total 10 columns):\n",
      " #   Column             Non-Null Count   Dtype \n",
      "---  ------             --------------   ----- \n",
      " 0   price              278758 non-null  int64 \n",
      " 1   vehicle_type       278758 non-null  object\n",
      " 2   registration_year  278758 non-null  int64 \n",
      " 3   gearbox            278758 non-null  object\n",
      " 4   power              278758 non-null  int64 \n",
      " 5   model              278758 non-null  object\n",
      " 6   kilometer          278758 non-null  int64 \n",
      " 7   fuel_type          278758 non-null  object\n",
      " 8   brand              278758 non-null  object\n",
      " 9   repaired           278758 non-null  object\n",
      "dtypes: int64(4), object(6)\n",
      "memory usage: 23.4+ MB\n"
     ]
    }
   ],
   "source": [
    "df.info()"
   ]
  },
  {
   "cell_type": "code",
   "execution_count": 27,
   "metadata": {},
   "outputs": [],
   "source": [
    "X = df.drop('price', axis=1)\n",
    "y = df['price']\n",
    "X_train, X_test, y_train, y_test = train_test_split(X, y, test_size=0.25, random_state=42)"
   ]
  },
  {
   "cell_type": "code",
   "execution_count": 28,
   "metadata": {},
   "outputs": [],
   "source": [
    "def create_pipeline(model):\n",
    "    # Определяем название категориальных и числовых признаков\n",
    "    numerical_features = ['registration_year', 'power', 'kilometer']\n",
    "    categorical_features = ['vehicle_type', 'gearbox', 'model', 'fuel_type', 'brand', 'repaired']\n",
    "\n",
    "    #Создаем пайплайн для предварительной обработке признаков\n",
    "    numerical_transformer = Pipeline(steps=[\n",
    "        ('scaler', StandardScaler())\n",
    "    ])\n",
    "    categorical_transformer = Pipeline(steps=[\n",
    "        (('ordinal', OrdinalEncoder(handle_unknown='use_encoded_value', unknown_value=-1)))\n",
    "    ])\n",
    "\n",
    "    # Масштабирование количественных признаков \n",
    "    # (вобще масштабирование не обязаттельно для градиентного бустинга, тк.к это дерево решений и оно не чувствительно к масштабу)\n",
    "    preprocessor = ColumnTransformer(\n",
    "        transformers=[\n",
    "            ('num', numerical_transformer, numerical_features),\n",
    "            ('cat', categorical_transformer, categorical_features)\n",
    "        ])\n",
    "    \n",
    "    #Создаем пайплайн подготовки и обучение модели\n",
    "    pipeline = Pipeline(steps=[\n",
    "        ('preprocessor', preprocessor),\n",
    "        ('model', model)\n",
    "    ])\n",
    "    return pipeline"
   ]
  },
  {
   "cell_type": "code",
   "execution_count": 32,
   "metadata": {
    "scrolled": true
   },
   "outputs": [
    {
     "name": "stdout",
     "output_type": "stream",
     "text": [
      "          model  rmse_cv_train  training_time  prediction_time_train  \\\n",
      "0      CatBoost    1809.307027       0.072953               0.011017   \n",
      "1      LightGBM    1632.674862       0.101682               0.040090   \n",
      "2  RandomForest    2231.285883       0.309310               0.022314   \n",
      "\n",
      "                                         best_params  \n",
      "0  {'model__depth': 6, 'model__iterations': 100, ...  \n",
      "1  {'model__learning_rate': 0.1, 'model__n_estima...  \n",
      "2  {'model__max_depth': 6, 'model__n_estimators':...  \n",
      "CPU times: user 2min 23s, sys: 341 ms, total: 2min 23s\n",
      "Wall time: 2min 31s\n"
     ]
    }
   ],
   "source": [
    "%%time\n",
    "models = {\n",
    "    'CatBoost': CatBoostRegressor(loss_function='RMSE', random_seed=42, verbose=0),\n",
    "    'LightGBM': lgb.LGBMRegressor(objective='regression', random_state=42, metric='rmse', verbose=-1),\n",
    "    'RandomForest': RandomForestRegressor(random_state=42)\n",
    "}\n",
    "\n",
    "\n",
    "param_grids = {\n",
    "    'CatBoost': {'model__iterations': [50, 100], 'model__learning_rate': [0.1, 0.01], 'model__depth': [6]}, \n",
    "    'LightGBM': {'model__num_leaves': [64], 'model__learning_rate': [0.1], 'model__n_estimators': [100]}, \n",
    "    'RandomForest': {'model__n_estimators': [100], 'model__max_depth': [6]}\n",
    "}\n",
    "\n",
    "\n",
    "results = []\n",
    "for model_name, model in models.items():\n",
    "    pipeline = create_pipeline(model)\n",
    "    # параметры grid search\n",
    "    grid_search = GridSearchCV(pipeline, \n",
    "                               param_grids[model_name], \n",
    "                               scoring='neg_mean_squared_error', \n",
    "                               cv=3, \n",
    "                               n_jobs=-1)\n",
    "\n",
    "    # Находим лучшие гиперпараметры для модели из цикла\n",
    "    grid_search.fit(X_train, y_train)\n",
    "\n",
    "    # лучшая модель для алгоритма из цикла\n",
    "    best_model = grid_search.best_estimator_\n",
    "    # метрика промежуточной оценки модели — это метрика RMSE с кросс-валидации\n",
    "    # т.к. внутри grid search была проведена кросс-валидация\n",
    "    rmse_cv_train = math.sqrt(-grid_search.best_score_)\n",
    "\n",
    "    # теперь обучаем модель с лучшими парметрами на train и замеряем время\n",
    "    start_time_training = time()\n",
    "    best_model.fit(X_train, y_train)\n",
    "    end_time_training = time()\n",
    "    training_time = (end_time_training - start_time_training) / 60\n",
    "\n",
    "    # предсказание на train и замеряем время\n",
    "    start_time_prediction = time()\n",
    "    y_pred_train = best_model.predict(X_train)\n",
    "    end_time_prediction = time()\n",
    "    prediction_time_train = (end_time_prediction - start_time_prediction) / 60\n",
    "    \n",
    "    results.append({\n",
    "        'model': model_name,\n",
    "        'rmse_cv_train': rmse_cv_train,\n",
    "        'training_time': training_time,\n",
    "        'prediction_time_train': prediction_time_train,\n",
    "        'best_params': grid_search.best_params_\n",
    "    })\n",
    "\n",
    "results_df = pd.DataFrame(results)\n",
    "print(results_df)"
   ]
  },
  {
   "cell_type": "markdown",
   "metadata": {},
   "source": [
    "## Анализ моделей"
   ]
  },
  {
   "cell_type": "code",
   "execution_count": 33,
   "metadata": {},
   "outputs": [
    {
     "name": "stdout",
     "output_type": "stream",
     "text": [
      "\n",
      "Лучшая модель по RMSE из кросс-валидации: LightGBM\n",
      "\n",
      "RMSE лучшей модели на тестовом наборе: 1631.42866355217\n"
     ]
    }
   ],
   "source": [
    "# Выбор лучшей модели на основе RMSE из кросс-валидации\n",
    "best_model_name = results_df.loc[results_df['rmse_cv_train'].idxmin(), 'model'] #выбираем лучшую модель\n",
    "print(f\"\\nЛучшая модель по RMSE из кросс-валидации: {best_model_name}\")\n",
    "\n",
    "\n",
    "best_pipeline = create_pipeline(models[best_model_name])\n",
    "best_pipeline.set_params(**results_df[results_df['model'] == best_model_name]['best_params'].iloc[0])\n",
    "\n",
    "# Оценка лучшей модели на тестовой выборке\n",
    "best_pipeline = create_pipeline(models[best_model_name])\n",
    "best_pipeline.set_params(**results_df[results_df['model'] == best_model_name]['best_params'].iloc[0])\n",
    "best_pipeline.fit(X_train, y_train)\n",
    "y_pred_test = best_pipeline.predict(X_test)\n",
    "test_rmse = math.sqrt(mean_squared_error(y_test, y_pred_test))\n",
    "print(f\"\\nRMSE лучшей модели на тестовом наборе: {test_rmse}\")"
   ]
  },
  {
   "cell_type": "markdown",
   "metadata": {},
   "source": [
    "**Вывод:**\n",
    "\n",
    "Учитывая критерии заказчика (качество прогнозирования, время обучения и время прогнозирования), LightGBM обеспечивает наилучшее соотношение качества и скорости. Качество модели (RMSE) лучше чем у остальных моделей как и время обучение. Время предсказания уступает CatBoostRegressor, но у LightGBM значительно лучше качество что делает модель LightGBM наиболее подходящей.\n",
    "\n",
    "Разница оценки качества на тренировочной выборке и на тестовой небольшое, что говорит о том что модель обучилась хорошо.\n"
   ]
  },
  {
   "cell_type": "markdown",
   "metadata": {},
   "source": [
    " ### Проверка адекватнсти модели сравнением с константной моделью"
   ]
  },
  {
   "cell_type": "markdown",
   "metadata": {},
   "source": [
    "Очень важно также проверить лучшую модель на адекватность, сравнив качество её предсказаний с качеством модели, которая предсказывала бы константу - вдруг окажется, что не было бы большого смысла заниматься созданием новых признаков, тюнингом и кросс-валидацией моделей, если можно было бы просто предсказывать среднее значение тренировочной выборки?\n",
    "\n",
    "В качестве константной модели можно использовать DummyRegressor  - эта модель как раз создана для генерирования константных предсказаний.\n",
    "\n",
    "Важно, чтобы результат тестирования нашей модели на тествой выборке был лучше, чем результат константной модели - в противном случае наша модель является бесполезной, так как все наши усилия над проектом не принесли результата, а можель, просто предсказывющая среднее на train, делает нашу работу лучше."
   ]
  },
  {
   "cell_type": "code",
   "execution_count": 34,
   "metadata": {},
   "outputs": [
    {
     "name": "stdout",
     "output_type": "stream",
     "text": [
      "RMSE DummyRegressor на тестовом наборе: 4612.775175440534\n",
      "Выбранная модель работает лучше, чем константная.\n"
     ]
    }
   ],
   "source": [
    "# Регрессор, который делает прогнозы, используя простые правила.\n",
    "# Этот регрессор полезен в качестве простого базового варианта для сравнения с другими (реальными) регрессорами. \n",
    "# Не используется для решения реальных задач.\n",
    "\n",
    "dummy_model = DummyRegressor(strategy=\"mean\")\n",
    "dummy_model.fit(X_train, y_train)\n",
    "y_pred_dummy = dummy_model.predict(X_test)\n",
    "dummy_rmse = math.sqrt(mean_squared_error(y_test, y_pred_dummy))\n",
    "print(f\"RMSE DummyRegressor на тестовом наборе: {dummy_rmse}\")\n",
    "\n",
    "# Сравнение результатов\n",
    "if test_rmse < dummy_rmse:\n",
    "    print(\"Выбранная модель работает лучше, чем константная.\")\n",
    "else:\n",
    "    print(\"Вывод: Константная модель работает лучше чем выбранная. Необходим пересмотр выбранной модели.\")"
   ]
  }
 ],
 "metadata": {
  "ExecuteTimeLog": [
   {
    "duration": 41564,
    "start_time": "2024-12-07T16:19:36.191Z"
   },
   {
    "duration": 148,
    "start_time": "2024-12-07T16:20:41.426Z"
   },
   {
    "duration": 0,
    "start_time": "2024-12-07T16:20:41.576Z"
   },
   {
    "duration": 0,
    "start_time": "2024-12-07T16:20:41.577Z"
   },
   {
    "duration": 2896,
    "start_time": "2024-12-07T16:20:54.360Z"
   },
   {
    "duration": 148,
    "start_time": "2024-12-07T16:21:07.318Z"
   },
   {
    "duration": 25,
    "start_time": "2024-12-07T16:21:16.215Z"
   },
   {
    "duration": 14,
    "start_time": "2024-12-07T18:03:57.250Z"
   },
   {
    "duration": 15,
    "start_time": "2024-12-07T18:04:12.748Z"
   },
   {
    "duration": 29,
    "start_time": "2024-12-07T18:04:30.058Z"
   },
   {
    "duration": 254,
    "start_time": "2024-12-07T18:05:24.330Z"
   },
   {
    "duration": 14108,
    "start_time": "2024-12-07T18:06:11.360Z"
   },
   {
    "duration": 927,
    "start_time": "2024-12-07T18:06:25.471Z"
   },
   {
    "duration": 154,
    "start_time": "2024-12-07T18:06:26.400Z"
   },
   {
    "duration": 16,
    "start_time": "2024-12-07T18:06:26.556Z"
   },
   {
    "duration": 355,
    "start_time": "2024-12-07T18:06:26.575Z"
   },
   {
    "duration": 152,
    "start_time": "2024-12-07T18:21:21.771Z"
   },
   {
    "duration": 205,
    "start_time": "2024-12-07T18:21:28.888Z"
   },
   {
    "duration": 202,
    "start_time": "2024-12-07T18:21:51.908Z"
   },
   {
    "duration": 6,
    "start_time": "2024-12-07T18:24:32.199Z"
   },
   {
    "duration": 932,
    "start_time": "2024-12-07T18:24:47.152Z"
   },
   {
    "duration": 18,
    "start_time": "2024-12-07T18:29:46.921Z"
   },
   {
    "duration": 7,
    "start_time": "2024-12-07T18:30:17.330Z"
   },
   {
    "duration": 101,
    "start_time": "2024-12-07T18:30:21.872Z"
   },
   {
    "duration": 8,
    "start_time": "2024-12-07T18:33:27.899Z"
   },
   {
    "duration": 788,
    "start_time": "2024-12-07T18:33:32.139Z"
   },
   {
    "duration": 7,
    "start_time": "2024-12-07T18:33:37.582Z"
   },
   {
    "duration": 320,
    "start_time": "2024-12-07T18:48:49.182Z"
   },
   {
    "duration": 820,
    "start_time": "2024-12-07T18:49:01.781Z"
   },
   {
    "duration": 1228,
    "start_time": "2024-12-07T18:50:42.062Z"
   },
   {
    "duration": 1133,
    "start_time": "2024-12-07T18:50:48.059Z"
   },
   {
    "duration": 861,
    "start_time": "2024-12-07T19:07:40.994Z"
   },
   {
    "duration": 143,
    "start_time": "2024-12-07T19:07:41.857Z"
   },
   {
    "duration": 145,
    "start_time": "2024-12-07T19:07:42.001Z"
   },
   {
    "duration": 13,
    "start_time": "2024-12-07T19:07:53.315Z"
   },
   {
    "duration": 3,
    "start_time": "2024-12-07T19:08:39.962Z"
   },
   {
    "duration": 211,
    "start_time": "2024-12-07T19:08:52.928Z"
   },
   {
    "duration": 7,
    "start_time": "2024-12-07T19:08:59.029Z"
   },
   {
    "duration": 619,
    "start_time": "2024-12-07T19:09:21.082Z"
   },
   {
    "duration": 8,
    "start_time": "2024-12-07T19:09:31.979Z"
   },
   {
    "duration": 99,
    "start_time": "2024-12-07T19:09:39.103Z"
   },
   {
    "duration": 744,
    "start_time": "2024-12-07T19:09:56.592Z"
   },
   {
    "duration": 18,
    "start_time": "2024-12-07T19:13:18.430Z"
   },
   {
    "duration": 126,
    "start_time": "2024-12-07T19:13:32.016Z"
   },
   {
    "duration": 112,
    "start_time": "2024-12-07T19:13:43.940Z"
   },
   {
    "duration": 237,
    "start_time": "2024-12-07T19:14:31.716Z"
   },
   {
    "duration": 7,
    "start_time": "2024-12-07T19:14:42.642Z"
   },
   {
    "duration": 87,
    "start_time": "2024-12-07T19:17:34.118Z"
   },
   {
    "duration": 713,
    "start_time": "2024-12-07T19:17:39.088Z"
   },
   {
    "duration": 85,
    "start_time": "2024-12-07T19:46:18.997Z"
   },
   {
    "duration": 495,
    "start_time": "2024-12-07T19:46:36.876Z"
   },
   {
    "duration": 21,
    "start_time": "2024-12-07T20:43:09.597Z"
   },
   {
    "duration": 27,
    "start_time": "2024-12-07T20:48:22.524Z"
   },
   {
    "duration": 69,
    "start_time": "2024-12-07T20:48:44.104Z"
   },
   {
    "duration": 34438,
    "start_time": "2024-12-07T20:49:00.056Z"
   },
   {
    "duration": 34705,
    "start_time": "2024-12-07T20:58:16.913Z"
   },
   {
    "duration": 58,
    "start_time": "2024-12-07T21:02:43.642Z"
   },
   {
    "duration": 31937,
    "start_time": "2024-12-07T21:08:13.934Z"
   },
   {
    "duration": 655567,
    "start_time": "2024-12-07T21:08:59.442Z"
   },
   {
    "duration": 149477,
    "start_time": "2024-12-07T21:19:57.288Z"
   },
   {
    "duration": 147574,
    "start_time": "2024-12-07T21:24:07.303Z"
   },
   {
    "duration": 140190,
    "start_time": "2024-12-07T21:30:21.349Z"
   },
   {
    "duration": 411,
    "start_time": "2024-12-07T21:34:33.388Z"
   },
   {
    "duration": 6027,
    "start_time": "2024-12-07T21:36:25.409Z"
   },
   {
    "duration": 5979,
    "start_time": "2024-12-07T21:38:49.421Z"
   },
   {
    "duration": 225,
    "start_time": "2024-12-07T21:46:07.847Z"
   },
   {
    "duration": 125704,
    "start_time": "2024-12-07T21:47:56.164Z"
   },
   {
    "duration": 8308,
    "start_time": "2024-12-07T21:51:58.069Z"
   },
   {
    "duration": 7556,
    "start_time": "2024-12-07T21:54:59.206Z"
   },
   {
    "duration": 12439,
    "start_time": "2024-12-07T21:55:30.518Z"
   },
   {
    "duration": 318983,
    "start_time": "2024-12-07T21:56:58.417Z"
   },
   {
    "duration": 710,
    "start_time": "2024-12-07T22:08:13.049Z"
   },
   {
    "duration": 15462,
    "start_time": "2024-12-07T22:08:47.883Z"
   },
   {
    "duration": 926,
    "start_time": "2024-12-07T22:09:03.349Z"
   },
   {
    "duration": 141,
    "start_time": "2024-12-07T22:09:04.276Z"
   },
   {
    "duration": 164,
    "start_time": "2024-12-07T22:09:04.418Z"
   },
   {
    "duration": 19,
    "start_time": "2024-12-07T22:09:04.584Z"
   },
   {
    "duration": 19,
    "start_time": "2024-12-07T22:09:04.604Z"
   },
   {
    "duration": 192,
    "start_time": "2024-12-07T22:09:04.625Z"
   },
   {
    "duration": 10,
    "start_time": "2024-12-07T22:09:04.818Z"
   },
   {
    "duration": 642,
    "start_time": "2024-12-07T22:09:04.830Z"
   },
   {
    "duration": 119,
    "start_time": "2024-12-07T22:09:05.474Z"
   },
   {
    "duration": 224,
    "start_time": "2024-12-07T22:09:05.594Z"
   },
   {
    "duration": 8,
    "start_time": "2024-12-07T22:09:05.819Z"
   },
   {
    "duration": 116,
    "start_time": "2024-12-07T22:09:05.829Z"
   },
   {
    "duration": 695,
    "start_time": "2024-12-07T22:09:05.949Z"
   },
   {
    "duration": 62,
    "start_time": "2024-12-07T22:09:06.646Z"
   },
   {
    "duration": 6142,
    "start_time": "2024-12-07T22:09:06.711Z"
   },
   {
    "duration": 7596,
    "start_time": "2024-12-07T22:09:12.855Z"
   },
   {
    "duration": 330193,
    "start_time": "2024-12-07T22:09:20.453Z"
   },
   {
    "duration": 39925,
    "start_time": "2024-12-08T21:14:41.573Z"
   },
   {
    "duration": 1248,
    "start_time": "2024-12-08T21:15:21.500Z"
   },
   {
    "duration": 145,
    "start_time": "2024-12-08T21:15:22.750Z"
   },
   {
    "duration": 135,
    "start_time": "2024-12-08T21:15:22.897Z"
   },
   {
    "duration": 17,
    "start_time": "2024-12-08T21:15:23.034Z"
   },
   {
    "duration": 3,
    "start_time": "2024-12-08T21:15:23.062Z"
   },
   {
    "duration": 192,
    "start_time": "2024-12-08T21:15:23.066Z"
   },
   {
    "duration": 7,
    "start_time": "2024-12-08T21:15:23.263Z"
   },
   {
    "duration": 641,
    "start_time": "2024-12-08T21:15:23.271Z"
   },
   {
    "duration": 121,
    "start_time": "2024-12-08T21:15:23.914Z"
   },
   {
    "duration": 228,
    "start_time": "2024-12-08T21:15:24.037Z"
   },
   {
    "duration": 8,
    "start_time": "2024-12-08T21:15:24.267Z"
   },
   {
    "duration": 101,
    "start_time": "2024-12-08T21:15:24.276Z"
   },
   {
    "duration": 868,
    "start_time": "2024-12-08T21:15:24.380Z"
   },
   {
    "duration": 64,
    "start_time": "2024-12-08T21:15:25.250Z"
   },
   {
    "duration": 6122,
    "start_time": "2024-12-08T21:15:25.315Z"
   },
   {
    "duration": 468868,
    "start_time": "2024-12-08T21:15:31.439Z"
   },
   {
    "duration": 3281,
    "start_time": "2024-12-08T21:23:20.362Z"
   },
   {
    "duration": 2051,
    "start_time": "2024-12-08T21:28:16.877Z"
   },
   {
    "duration": 15740,
    "start_time": "2024-12-08T21:28:39.474Z"
   },
   {
    "duration": 1247,
    "start_time": "2024-12-08T21:28:55.216Z"
   },
   {
    "duration": 143,
    "start_time": "2024-12-08T21:28:56.464Z"
   },
   {
    "duration": 139,
    "start_time": "2024-12-08T21:28:56.609Z"
   },
   {
    "duration": 24,
    "start_time": "2024-12-08T21:28:56.751Z"
   },
   {
    "duration": 3,
    "start_time": "2024-12-08T21:28:56.776Z"
   },
   {
    "duration": 201,
    "start_time": "2024-12-08T21:28:56.780Z"
   },
   {
    "duration": 6,
    "start_time": "2024-12-08T21:28:56.983Z"
   },
   {
    "duration": 635,
    "start_time": "2024-12-08T21:28:56.991Z"
   },
   {
    "duration": 120,
    "start_time": "2024-12-08T21:28:57.628Z"
   },
   {
    "duration": 216,
    "start_time": "2024-12-08T21:28:57.750Z"
   },
   {
    "duration": 6,
    "start_time": "2024-12-08T21:28:57.968Z"
   },
   {
    "duration": 103,
    "start_time": "2024-12-08T21:28:57.976Z"
   },
   {
    "duration": 715,
    "start_time": "2024-12-08T21:28:58.081Z"
   },
   {
    "duration": 90,
    "start_time": "2024-12-08T21:28:58.798Z"
   },
   {
    "duration": 6254,
    "start_time": "2024-12-08T21:28:58.889Z"
   },
   {
    "duration": 323041,
    "start_time": "2024-12-08T21:29:05.145Z"
   },
   {
    "duration": 297785,
    "start_time": "2024-12-08T21:34:28.187Z"
   },
   {
    "duration": 337,
    "start_time": "2024-12-08T21:57:52.432Z"
   },
   {
    "duration": 763294,
    "start_time": "2024-12-08T21:59:26.683Z"
   },
   {
    "duration": 162818,
    "start_time": "2024-12-08T22:12:09.979Z"
   },
   {
    "duration": 292976,
    "start_time": "2024-12-08T22:18:55.737Z"
   },
   {
    "duration": 122,
    "start_time": "2024-12-11T08:36:47.102Z"
   },
   {
    "duration": 39670,
    "start_time": "2024-12-11T09:10:18.753Z"
   },
   {
    "duration": 2890,
    "start_time": "2024-12-11T09:10:58.426Z"
   },
   {
    "duration": 130,
    "start_time": "2024-12-11T09:11:01.317Z"
   },
   {
    "duration": 188,
    "start_time": "2024-12-11T09:11:01.449Z"
   },
   {
    "duration": 141,
    "start_time": "2024-12-11T09:14:04.116Z"
   },
   {
    "duration": 819,
    "start_time": "2024-12-11T09:14:22.909Z"
   },
   {
    "duration": 144,
    "start_time": "2024-12-11T09:14:26.575Z"
   },
   {
    "duration": 123,
    "start_time": "2024-12-11T09:14:32.994Z"
   },
   {
    "duration": 18,
    "start_time": "2024-12-11T09:14:42.190Z"
   },
   {
    "duration": 85,
    "start_time": "2024-12-11T09:14:58.748Z"
   },
   {
    "duration": 199,
    "start_time": "2024-12-11T09:42:09.319Z"
   },
   {
    "duration": 98,
    "start_time": "2024-12-11T09:45:26.609Z"
   },
   {
    "duration": 79,
    "start_time": "2024-12-11T09:45:29.029Z"
   },
   {
    "duration": 7,
    "start_time": "2024-12-11T09:46:02.537Z"
   },
   {
    "duration": 783,
    "start_time": "2024-12-11T09:46:06.743Z"
   },
   {
    "duration": 137,
    "start_time": "2024-12-11T09:46:17.296Z"
   },
   {
    "duration": 8,
    "start_time": "2024-12-11T09:52:08.336Z"
   },
   {
    "duration": 6,
    "start_time": "2024-12-11T09:56:40.478Z"
   },
   {
    "duration": 172,
    "start_time": "2024-12-11T09:56:45.870Z"
   },
   {
    "duration": 9,
    "start_time": "2024-12-11T09:56:58.049Z"
   },
   {
    "duration": 125,
    "start_time": "2024-12-11T09:57:00.236Z"
   },
   {
    "duration": 6,
    "start_time": "2024-12-11T09:57:08.751Z"
   },
   {
    "duration": 129,
    "start_time": "2024-12-11T09:57:10.994Z"
   },
   {
    "duration": 6,
    "start_time": "2024-12-11T09:57:18.281Z"
   },
   {
    "duration": 123,
    "start_time": "2024-12-11T09:57:19.651Z"
   },
   {
    "duration": 6,
    "start_time": "2024-12-11T09:57:35.396Z"
   },
   {
    "duration": 144,
    "start_time": "2024-12-11T09:57:44.876Z"
   },
   {
    "duration": 13,
    "start_time": "2024-12-11T11:44:07.570Z"
   },
   {
    "duration": 12,
    "start_time": "2024-12-11T11:44:34.772Z"
   },
   {
    "duration": 10,
    "start_time": "2024-12-11T11:44:55.653Z"
   },
   {
    "duration": 785,
    "start_time": "2024-12-11T11:45:32.744Z"
   },
   {
    "duration": 137,
    "start_time": "2024-12-11T11:45:33.531Z"
   },
   {
    "duration": 133,
    "start_time": "2024-12-11T11:45:33.669Z"
   },
   {
    "duration": 20,
    "start_time": "2024-12-11T11:45:33.804Z"
   },
   {
    "duration": 120,
    "start_time": "2024-12-11T11:45:33.826Z"
   },
   {
    "duration": 219,
    "start_time": "2024-12-11T11:45:33.947Z"
   },
   {
    "duration": 10,
    "start_time": "2024-12-11T11:45:41.778Z"
   },
   {
    "duration": 788,
    "start_time": "2024-12-11T11:45:41.791Z"
   },
   {
    "duration": 172,
    "start_time": "2024-12-11T11:45:42.580Z"
   },
   {
    "duration": 7,
    "start_time": "2024-12-11T11:45:42.754Z"
   },
   {
    "duration": 188,
    "start_time": "2024-12-11T11:45:42.764Z"
   },
   {
    "duration": 12,
    "start_time": "2024-12-11T11:45:42.954Z"
   },
   {
    "duration": 32,
    "start_time": "2024-12-11T11:46:41.852Z"
   },
   {
    "duration": 432,
    "start_time": "2024-12-11T11:47:57.377Z"
   },
   {
    "duration": 191,
    "start_time": "2024-12-11T11:48:12.965Z"
   },
   {
    "duration": 11,
    "start_time": "2024-12-11T11:48:22.376Z"
   },
   {
    "duration": 18,
    "start_time": "2024-12-11T11:49:05.276Z"
   },
   {
    "duration": 93,
    "start_time": "2024-12-11T11:55:51.677Z"
   },
   {
    "duration": 4146,
    "start_time": "2024-12-11T12:01:27.403Z"
   },
   {
    "duration": 66725,
    "start_time": "2024-12-11T12:03:21.419Z"
   },
   {
    "duration": 13,
    "start_time": "2024-12-11T13:17:54.862Z"
   },
   {
    "duration": 297,
    "start_time": "2024-12-11T13:18:36.371Z"
   },
   {
    "duration": 10,
    "start_time": "2024-12-11T13:19:26.264Z"
   },
   {
    "duration": 4,
    "start_time": "2024-12-11T13:20:11.043Z"
   },
   {
    "duration": 5,
    "start_time": "2024-12-11T13:20:28.822Z"
   },
   {
    "duration": 5,
    "start_time": "2024-12-11T13:21:15.876Z"
   },
   {
    "duration": 40,
    "start_time": "2024-12-11T13:25:47.787Z"
   },
   {
    "duration": 104,
    "start_time": "2024-12-11T13:26:09.927Z"
   },
   {
    "duration": 827,
    "start_time": "2024-12-11T13:26:44.227Z"
   },
   {
    "duration": 130,
    "start_time": "2024-12-11T13:26:45.056Z"
   },
   {
    "duration": 143,
    "start_time": "2024-12-11T13:26:45.187Z"
   },
   {
    "duration": 11,
    "start_time": "2024-12-11T13:26:45.332Z"
   },
   {
    "duration": 138,
    "start_time": "2024-12-11T13:26:45.345Z"
   },
   {
    "duration": 264,
    "start_time": "2024-12-11T13:26:45.485Z"
   },
   {
    "duration": 6,
    "start_time": "2024-12-11T13:26:45.751Z"
   },
   {
    "duration": 816,
    "start_time": "2024-12-11T13:26:45.759Z"
   },
   {
    "duration": 174,
    "start_time": "2024-12-11T13:26:46.578Z"
   },
   {
    "duration": 7,
    "start_time": "2024-12-11T13:26:46.753Z"
   },
   {
    "duration": 193,
    "start_time": "2024-12-11T13:26:46.761Z"
   },
   {
    "duration": 247,
    "start_time": "2024-12-11T13:26:46.955Z"
   },
   {
    "duration": 90,
    "start_time": "2024-12-11T13:26:47.204Z"
   },
   {
    "duration": 67719,
    "start_time": "2024-12-11T13:26:47.296Z"
   },
   {
    "duration": 7,
    "start_time": "2024-12-11T13:27:55.018Z"
   },
   {
    "duration": 142,
    "start_time": "2024-12-11T13:27:55.027Z"
   },
   {
    "duration": 5,
    "start_time": "2024-12-11T13:30:51.177Z"
   },
   {
    "duration": 5,
    "start_time": "2024-12-11T13:30:59.836Z"
   },
   {
    "duration": 7,
    "start_time": "2024-12-11T13:31:05.013Z"
   },
   {
    "duration": 6,
    "start_time": "2024-12-11T13:31:10.767Z"
   },
   {
    "duration": 6,
    "start_time": "2024-12-11T13:31:21.118Z"
   },
   {
    "duration": 5,
    "start_time": "2024-12-11T13:31:26.502Z"
   },
   {
    "duration": 6,
    "start_time": "2024-12-11T13:31:30.912Z"
   },
   {
    "duration": 7,
    "start_time": "2024-12-11T13:31:35.352Z"
   },
   {
    "duration": 35,
    "start_time": "2024-12-11T13:36:44.913Z"
   },
   {
    "duration": 5,
    "start_time": "2024-12-11T13:40:22.325Z"
   },
   {
    "duration": 6,
    "start_time": "2024-12-11T13:51:09.192Z"
   },
   {
    "duration": 5,
    "start_time": "2024-12-11T13:51:13.641Z"
   },
   {
    "duration": 7,
    "start_time": "2024-12-11T13:51:20.941Z"
   },
   {
    "duration": 5,
    "start_time": "2024-12-11T13:51:27.067Z"
   },
   {
    "duration": 7,
    "start_time": "2024-12-11T13:51:35.050Z"
   },
   {
    "duration": 6,
    "start_time": "2024-12-11T13:51:39.188Z"
   },
   {
    "duration": 63,
    "start_time": "2024-12-11T13:53:21.412Z"
   },
   {
    "duration": 73,
    "start_time": "2024-12-11T13:53:50.084Z"
   },
   {
    "duration": 12,
    "start_time": "2024-12-11T14:25:58.094Z"
   },
   {
    "duration": 13,
    "start_time": "2024-12-11T14:26:10.456Z"
   },
   {
    "duration": 14,
    "start_time": "2024-12-11T14:28:03.714Z"
   },
   {
    "duration": 89,
    "start_time": "2024-12-11T14:28:12.941Z"
   },
   {
    "duration": 88,
    "start_time": "2024-12-11T14:28:47.778Z"
   },
   {
    "duration": 14102,
    "start_time": "2024-12-11T14:39:50.576Z"
   },
   {
    "duration": 935,
    "start_time": "2024-12-11T14:40:04.681Z"
   },
   {
    "duration": 157,
    "start_time": "2024-12-11T14:40:05.620Z"
   },
   {
    "duration": 154,
    "start_time": "2024-12-11T14:40:05.779Z"
   },
   {
    "duration": 16,
    "start_time": "2024-12-11T14:40:05.935Z"
   },
   {
    "duration": 134,
    "start_time": "2024-12-11T14:40:05.952Z"
   },
   {
    "duration": 250,
    "start_time": "2024-12-11T14:40:06.088Z"
   },
   {
    "duration": 7,
    "start_time": "2024-12-11T14:40:06.340Z"
   },
   {
    "duration": 903,
    "start_time": "2024-12-11T14:40:06.348Z"
   },
   {
    "duration": 155,
    "start_time": "2024-12-11T14:40:07.253Z"
   },
   {
    "duration": 10,
    "start_time": "2024-12-11T14:40:07.410Z"
   },
   {
    "duration": 183,
    "start_time": "2024-12-11T14:40:07.422Z"
   },
   {
    "duration": 262,
    "start_time": "2024-12-11T14:40:07.606Z"
   },
   {
    "duration": 107,
    "start_time": "2024-12-11T14:40:07.871Z"
   },
   {
    "duration": 73770,
    "start_time": "2024-12-11T14:40:07.979Z"
   },
   {
    "duration": 7,
    "start_time": "2024-12-11T14:41:21.751Z"
   },
   {
    "duration": 53,
    "start_time": "2024-12-11T14:45:39.862Z"
   },
   {
    "duration": 6,
    "start_time": "2024-12-11T14:47:12.677Z"
   },
   {
    "duration": 26,
    "start_time": "2024-12-11T14:47:12.685Z"
   },
   {
    "duration": 47,
    "start_time": "2024-12-11T14:47:12.713Z"
   },
   {
    "duration": 6,
    "start_time": "2024-12-11T14:47:12.762Z"
   },
   {
    "duration": 33,
    "start_time": "2024-12-11T14:47:12.770Z"
   },
   {
    "duration": 123,
    "start_time": "2024-12-11T14:49:54.691Z"
   },
   {
    "duration": 219,
    "start_time": "2024-12-11T14:50:30.214Z"
   },
   {
    "duration": 78,
    "start_time": "2024-12-11T16:26:55.237Z"
   },
   {
    "duration": 4,
    "start_time": "2024-12-11T16:26:57.752Z"
   },
   {
    "duration": 74,
    "start_time": "2024-12-11T16:26:59.965Z"
   },
   {
    "duration": 9965,
    "start_time": "2024-12-11T16:27:07.851Z"
   },
   {
    "duration": 37,
    "start_time": "2024-12-11T16:27:39.307Z"
   },
   {
    "duration": 180,
    "start_time": "2024-12-11T16:27:59.205Z"
   },
   {
    "duration": 12805,
    "start_time": "2024-12-11T17:07:38.208Z"
   },
   {
    "duration": 798,
    "start_time": "2024-12-11T17:07:51.017Z"
   },
   {
    "duration": 131,
    "start_time": "2024-12-11T17:07:51.817Z"
   },
   {
    "duration": 147,
    "start_time": "2024-12-11T17:07:51.950Z"
   },
   {
    "duration": 17,
    "start_time": "2024-12-11T17:07:52.099Z"
   },
   {
    "duration": 114,
    "start_time": "2024-12-11T17:07:52.117Z"
   },
   {
    "duration": 184,
    "start_time": "2024-12-11T17:07:52.232Z"
   },
   {
    "duration": 7,
    "start_time": "2024-12-11T17:07:52.417Z"
   },
   {
    "duration": 833,
    "start_time": "2024-12-11T17:07:52.426Z"
   },
   {
    "duration": 149,
    "start_time": "2024-12-11T17:07:53.260Z"
   },
   {
    "duration": 8,
    "start_time": "2024-12-11T17:07:53.410Z"
   },
   {
    "duration": 196,
    "start_time": "2024-12-11T17:07:53.420Z"
   },
   {
    "duration": 237,
    "start_time": "2024-12-11T17:07:53.618Z"
   },
   {
    "duration": 92,
    "start_time": "2024-12-11T17:07:53.858Z"
   },
   {
    "duration": 66240,
    "start_time": "2024-12-11T17:07:53.952Z"
   },
   {
    "duration": 6,
    "start_time": "2024-12-11T17:09:00.193Z"
   },
   {
    "duration": 112,
    "start_time": "2024-12-11T17:09:00.215Z"
   },
   {
    "duration": 5,
    "start_time": "2024-12-11T17:09:00.329Z"
   },
   {
    "duration": 107,
    "start_time": "2024-12-11T17:09:00.335Z"
   },
   {
    "duration": 120,
    "start_time": "2024-12-11T17:09:00.444Z"
   },
   {
    "duration": 6,
    "start_time": "2024-12-11T17:09:00.565Z"
   },
   {
    "duration": 113,
    "start_time": "2024-12-11T17:09:00.572Z"
   },
   {
    "duration": 136,
    "start_time": "2024-12-11T17:09:00.687Z"
   },
   {
    "duration": 207,
    "start_time": "2024-12-11T17:09:00.825Z"
   },
   {
    "duration": 83,
    "start_time": "2024-12-11T17:09:01.034Z"
   },
   {
    "duration": 1158622,
    "start_time": "2024-12-11T17:09:01.119Z"
   },
   {
    "duration": 748454,
    "start_time": "2024-12-11T17:28:48.385Z"
   },
   {
    "duration": 4024,
    "start_time": "2024-12-11T17:42:41.022Z"
   },
   {
    "duration": 766185,
    "start_time": "2024-12-11T17:42:48.146Z"
   },
   {
    "duration": 14140,
    "start_time": "2024-12-11T18:23:53.065Z"
   },
   {
    "duration": 3,
    "start_time": "2024-12-11T18:24:21.133Z"
   },
   {
    "duration": 944443,
    "start_time": "2024-12-11T18:24:24.196Z"
   },
   {
    "duration": 536914,
    "start_time": "2024-12-11T19:04:02.459Z"
   },
   {
    "duration": 583101,
    "start_time": "2024-12-11T19:19:42.366Z"
   },
   {
    "duration": 665077,
    "start_time": "2024-12-11T19:39:30.854Z"
   },
   {
    "duration": 41908,
    "start_time": "2024-12-12T08:48:58.090Z"
   },
   {
    "duration": 1032,
    "start_time": "2024-12-12T08:49:40.000Z"
   },
   {
    "duration": 112,
    "start_time": "2024-12-12T08:49:41.034Z"
   },
   {
    "duration": 160,
    "start_time": "2024-12-12T08:49:41.148Z"
   },
   {
    "duration": 16,
    "start_time": "2024-12-12T08:49:41.310Z"
   },
   {
    "duration": 78,
    "start_time": "2024-12-12T08:49:41.327Z"
   },
   {
    "duration": 184,
    "start_time": "2024-12-12T08:49:41.407Z"
   },
   {
    "duration": 6,
    "start_time": "2024-12-12T08:49:41.593Z"
   },
   {
    "duration": 815,
    "start_time": "2024-12-12T08:49:41.601Z"
   },
   {
    "duration": 158,
    "start_time": "2024-12-12T08:49:42.418Z"
   },
   {
    "duration": 6,
    "start_time": "2024-12-12T08:49:42.578Z"
   },
   {
    "duration": 186,
    "start_time": "2024-12-12T08:49:42.586Z"
   },
   {
    "duration": 244,
    "start_time": "2024-12-12T08:49:42.774Z"
   },
   {
    "duration": 81,
    "start_time": "2024-12-12T08:49:43.022Z"
   },
   {
    "duration": 58514,
    "start_time": "2024-12-12T08:49:43.105Z"
   },
   {
    "duration": 6,
    "start_time": "2024-12-12T08:50:41.621Z"
   },
   {
    "duration": 75,
    "start_time": "2024-12-12T08:50:41.629Z"
   },
   {
    "duration": 6,
    "start_time": "2024-12-12T08:50:41.706Z"
   },
   {
    "duration": 8,
    "start_time": "2024-12-12T08:50:41.714Z"
   },
   {
    "duration": 77,
    "start_time": "2024-12-12T08:50:41.724Z"
   },
   {
    "duration": 4,
    "start_time": "2024-12-12T08:50:41.803Z"
   },
   {
    "duration": 57,
    "start_time": "2024-12-12T08:50:41.809Z"
   },
   {
    "duration": 142,
    "start_time": "2024-12-12T08:50:41.868Z"
   },
   {
    "duration": 226,
    "start_time": "2024-12-12T08:50:42.012Z"
   },
   {
    "duration": 76,
    "start_time": "2024-12-12T08:50:42.240Z"
   },
   {
    "duration": 3,
    "start_time": "2024-12-12T08:50:42.317Z"
   },
   {
    "duration": 367,
    "start_time": "2024-12-12T08:50:42.322Z"
   },
   {
    "duration": 175,
    "start_time": "2024-12-12T08:52:51.708Z"
   },
   {
    "duration": 20151,
    "start_time": "2024-12-12T08:56:10.200Z"
   },
   {
    "duration": 21750,
    "start_time": "2024-12-12T09:07:59.479Z"
   },
   {
    "duration": 20300,
    "start_time": "2024-12-12T09:12:19.346Z"
   },
   {
    "duration": 283533,
    "start_time": "2024-12-12T09:46:09.067Z"
   },
   {
    "duration": 964624,
    "start_time": "2024-12-12T09:50:54.794Z"
   },
   {
    "duration": 7510,
    "start_time": "2024-12-12T10:08:05.975Z"
   },
   {
    "duration": 1207849,
    "start_time": "2024-12-12T10:08:31.919Z"
   },
   {
    "duration": 48,
    "start_time": "2024-12-12T12:42:41.177Z"
   },
   {
    "duration": 16051,
    "start_time": "2024-12-12T13:14:44.288Z"
   },
   {
    "duration": 789,
    "start_time": "2024-12-12T13:15:00.341Z"
   },
   {
    "duration": 135,
    "start_time": "2024-12-12T13:15:01.131Z"
   },
   {
    "duration": 130,
    "start_time": "2024-12-12T13:15:01.269Z"
   },
   {
    "duration": 16,
    "start_time": "2024-12-12T13:15:01.400Z"
   },
   {
    "duration": 109,
    "start_time": "2024-12-12T13:15:01.417Z"
   },
   {
    "duration": 221,
    "start_time": "2024-12-12T13:15:01.527Z"
   },
   {
    "duration": 8,
    "start_time": "2024-12-12T13:15:01.749Z"
   },
   {
    "duration": 789,
    "start_time": "2024-12-12T13:15:01.770Z"
   },
   {
    "duration": 168,
    "start_time": "2024-12-12T13:15:02.562Z"
   },
   {
    "duration": 7,
    "start_time": "2024-12-12T13:15:02.731Z"
   },
   {
    "duration": 256,
    "start_time": "2024-12-12T13:15:02.739Z"
   },
   {
    "duration": 213,
    "start_time": "2024-12-12T13:15:02.997Z"
   },
   {
    "duration": 81,
    "start_time": "2024-12-12T13:15:03.212Z"
   },
   {
    "duration": 59443,
    "start_time": "2024-12-12T13:15:03.295Z"
   },
   {
    "duration": 17,
    "start_time": "2024-12-12T13:16:02.739Z"
   },
   {
    "duration": 81,
    "start_time": "2024-12-12T13:16:02.758Z"
   },
   {
    "duration": 5,
    "start_time": "2024-12-12T13:16:02.840Z"
   },
   {
    "duration": 40,
    "start_time": "2024-12-12T13:16:02.846Z"
   },
   {
    "duration": 75,
    "start_time": "2024-12-12T13:16:02.888Z"
   },
   {
    "duration": 5,
    "start_time": "2024-12-12T13:16:02.965Z"
   },
   {
    "duration": 62,
    "start_time": "2024-12-12T13:16:02.972Z"
   },
   {
    "duration": 136,
    "start_time": "2024-12-12T13:16:03.036Z"
   },
   {
    "duration": 227,
    "start_time": "2024-12-12T13:16:03.174Z"
   },
   {
    "duration": 75,
    "start_time": "2024-12-12T13:16:03.402Z"
   },
   {
    "duration": 63,
    "start_time": "2024-12-12T13:16:03.478Z"
   },
   {
    "duration": 592,
    "start_time": "2024-12-12T13:16:03.542Z"
   },
   {
    "duration": 3,
    "start_time": "2024-12-12T13:16:04.138Z"
   },
   {
    "duration": 14,
    "start_time": "2024-12-12T13:16:04.143Z"
   },
   {
    "duration": 61,
    "start_time": "2024-12-12T13:16:04.159Z"
   },
   {
    "duration": 0,
    "start_time": "2024-12-12T13:16:04.222Z"
   },
   {
    "duration": 0,
    "start_time": "2024-12-12T13:16:04.223Z"
   },
   {
    "duration": 161,
    "start_time": "2024-12-12T13:18:20.862Z"
   },
   {
    "duration": 13984,
    "start_time": "2024-12-12T13:18:29.308Z"
   },
   {
    "duration": 224800,
    "start_time": "2024-12-12T13:18:43.295Z"
   },
   {
    "duration": 15391,
    "start_time": "2024-12-12T13:25:14.512Z"
   },
   {
    "duration": 742,
    "start_time": "2024-12-12T13:25:29.904Z"
   },
   {
    "duration": 118,
    "start_time": "2024-12-12T13:25:30.647Z"
   },
   {
    "duration": 120,
    "start_time": "2024-12-12T13:25:30.766Z"
   },
   {
    "duration": 16,
    "start_time": "2024-12-12T13:25:30.888Z"
   },
   {
    "duration": 83,
    "start_time": "2024-12-12T13:25:30.906Z"
   },
   {
    "duration": 197,
    "start_time": "2024-12-12T13:25:30.991Z"
   },
   {
    "duration": 6,
    "start_time": "2024-12-12T13:25:31.189Z"
   },
   {
    "duration": 772,
    "start_time": "2024-12-12T13:25:31.197Z"
   },
   {
    "duration": 161,
    "start_time": "2024-12-12T13:25:31.971Z"
   },
   {
    "duration": 7,
    "start_time": "2024-12-12T13:25:32.134Z"
   },
   {
    "duration": 185,
    "start_time": "2024-12-12T13:25:32.142Z"
   },
   {
    "duration": 218,
    "start_time": "2024-12-12T13:25:32.329Z"
   },
   {
    "duration": 71,
    "start_time": "2024-12-12T13:25:32.551Z"
   },
   {
    "duration": 56758,
    "start_time": "2024-12-12T13:25:32.624Z"
   },
   {
    "duration": 6,
    "start_time": "2024-12-12T13:26:29.383Z"
   },
   {
    "duration": 73,
    "start_time": "2024-12-12T13:26:29.390Z"
   },
   {
    "duration": 4,
    "start_time": "2024-12-12T13:26:29.465Z"
   },
   {
    "duration": 15,
    "start_time": "2024-12-12T13:26:29.470Z"
   },
   {
    "duration": 59,
    "start_time": "2024-12-12T13:26:29.486Z"
   },
   {
    "duration": 6,
    "start_time": "2024-12-12T13:26:29.547Z"
   },
   {
    "duration": 30,
    "start_time": "2024-12-12T13:26:29.554Z"
   },
   {
    "duration": 138,
    "start_time": "2024-12-12T13:26:29.585Z"
   },
   {
    "duration": 210,
    "start_time": "2024-12-12T13:26:29.724Z"
   },
   {
    "duration": 66,
    "start_time": "2024-12-12T13:26:29.935Z"
   },
   {
    "duration": 46,
    "start_time": "2024-12-12T13:26:30.003Z"
   },
   {
    "duration": 236703,
    "start_time": "2024-12-12T13:26:30.051Z"
   },
   {
    "duration": 2,
    "start_time": "2024-12-12T13:30:26.755Z"
   },
   {
    "duration": 4,
    "start_time": "2024-12-12T13:30:26.759Z"
   },
   {
    "duration": 7,
    "start_time": "2024-12-12T13:30:26.765Z"
   },
   {
    "duration": 0,
    "start_time": "2024-12-12T13:30:26.774Z"
   },
   {
    "duration": 0,
    "start_time": "2024-12-12T13:30:26.775Z"
   },
   {
    "duration": 2,
    "start_time": "2024-12-12T13:35:51.465Z"
   },
   {
    "duration": 2,
    "start_time": "2024-12-12T13:35:57.771Z"
   },
   {
    "duration": 11,
    "start_time": "2024-12-12T13:35:57.775Z"
   },
   {
    "duration": 55,
    "start_time": "2024-12-12T13:40:18.110Z"
   },
   {
    "duration": 336538,
    "start_time": "2024-12-12T13:46:11.582Z"
   },
   {
    "duration": 27785,
    "start_time": "2024-12-13T18:05:17.002Z"
   },
   {
    "duration": 26899,
    "start_time": "2024-12-13T18:06:57.446Z"
   },
   {
    "duration": 8727,
    "start_time": "2024-12-13T18:29:04.231Z"
   },
   {
    "duration": 8647,
    "start_time": "2024-12-13T18:30:46.672Z"
   },
   {
    "duration": 14512,
    "start_time": "2024-12-13T18:35:58.669Z"
   },
   {
    "duration": 5085,
    "start_time": "2024-12-13T18:44:14.414Z"
   },
   {
    "duration": 2327,
    "start_time": "2024-12-13T18:44:39.094Z"
   },
   {
    "duration": 12237,
    "start_time": "2024-12-13T18:44:53.141Z"
   },
   {
    "duration": 1323,
    "start_time": "2024-12-13T18:47:28.848Z"
   },
   {
    "duration": 2003,
    "start_time": "2024-12-13T18:47:39.928Z"
   },
   {
    "duration": 10506,
    "start_time": "2024-12-13T18:47:53.140Z"
   },
   {
    "duration": 3,
    "start_time": "2024-12-13T18:49:24.212Z"
   },
   {
    "duration": 10674,
    "start_time": "2024-12-13T18:49:28.130Z"
   },
   {
    "duration": 10664,
    "start_time": "2024-12-13T18:54:08.027Z"
   },
   {
    "duration": 1021,
    "start_time": "2024-12-13T19:00:49.422Z"
   },
   {
    "duration": 101,
    "start_time": "2024-12-13T19:00:53.767Z"
   },
   {
    "duration": 111,
    "start_time": "2024-12-13T19:00:58.069Z"
   },
   {
    "duration": 18,
    "start_time": "2024-12-13T19:01:02.366Z"
   },
   {
    "duration": 69,
    "start_time": "2024-12-13T19:01:09.191Z"
   },
   {
    "duration": 169,
    "start_time": "2024-12-13T19:01:11.032Z"
   },
   {
    "duration": 8,
    "start_time": "2024-12-13T19:01:14.934Z"
   },
   {
    "duration": 735,
    "start_time": "2024-12-13T19:01:18.768Z"
   },
   {
    "duration": 154,
    "start_time": "2024-12-13T19:01:24.911Z"
   },
   {
    "duration": 6,
    "start_time": "2024-12-13T19:01:36.096Z"
   },
   {
    "duration": 162,
    "start_time": "2024-12-13T19:01:42.288Z"
   },
   {
    "duration": 216,
    "start_time": "2024-12-13T19:01:56.072Z"
   },
   {
    "duration": 69,
    "start_time": "2024-12-13T19:01:56.290Z"
   },
   {
    "duration": 48,
    "start_time": "2024-12-13T19:03:06.946Z"
   },
   {
    "duration": 787,
    "start_time": "2024-12-13T19:03:12.575Z"
   },
   {
    "duration": 6,
    "start_time": "2024-12-13T19:04:26.397Z"
   },
   {
    "duration": 10652,
    "start_time": "2024-12-13T19:05:47.312Z"
   },
   {
    "duration": 735,
    "start_time": "2024-12-13T19:06:27.081Z"
   },
   {
    "duration": 102,
    "start_time": "2024-12-13T19:06:31.189Z"
   },
   {
    "duration": 53,
    "start_time": "2024-12-13T19:08:59.793Z"
   },
   {
    "duration": 11873,
    "start_time": "2024-12-13T19:13:47.089Z"
   },
   {
    "duration": 749,
    "start_time": "2024-12-13T19:14:24.849Z"
   },
   {
    "duration": 110,
    "start_time": "2024-12-13T19:14:28.191Z"
   },
   {
    "duration": 118,
    "start_time": "2024-12-13T19:14:32.023Z"
   },
   {
    "duration": 16,
    "start_time": "2024-12-13T19:14:42.928Z"
   },
   {
    "duration": 68,
    "start_time": "2024-12-13T19:14:46.687Z"
   },
   {
    "duration": 195,
    "start_time": "2024-12-13T19:14:49.344Z"
   },
   {
    "duration": 7,
    "start_time": "2024-12-13T19:15:07.370Z"
   },
   {
    "duration": 684,
    "start_time": "2024-12-13T19:15:12.903Z"
   },
   {
    "duration": 148,
    "start_time": "2024-12-13T19:15:17.810Z"
   },
   {
    "duration": 7,
    "start_time": "2024-12-13T19:15:24.593Z"
   },
   {
    "duration": 152,
    "start_time": "2024-12-13T19:15:28.074Z"
   },
   {
    "duration": 197,
    "start_time": "2024-12-13T19:15:33.447Z"
   },
   {
    "duration": 68,
    "start_time": "2024-12-13T19:15:35.857Z"
   },
   {
    "duration": 56238,
    "start_time": "2024-12-13T19:17:12.723Z"
   },
   {
    "duration": 54525,
    "start_time": "2024-12-13T19:27:12.032Z"
   },
   {
    "duration": 55477,
    "start_time": "2024-12-13T19:32:03.580Z"
   },
   {
    "duration": 6,
    "start_time": "2024-12-13T19:34:09.725Z"
   },
   {
    "duration": 51,
    "start_time": "2024-12-13T19:38:20.104Z"
   },
   {
    "duration": 6,
    "start_time": "2024-12-13T19:51:39.732Z"
   },
   {
    "duration": 5,
    "start_time": "2024-12-13T19:51:42.181Z"
   },
   {
    "duration": 45,
    "start_time": "2024-12-13T19:51:45.791Z"
   },
   {
    "duration": 659,
    "start_time": "2024-12-13T19:56:43.441Z"
   },
   {
    "duration": 104,
    "start_time": "2024-12-13T19:56:47.082Z"
   },
   {
    "duration": 436,
    "start_time": "2024-12-13T19:56:50.556Z"
   },
   {
    "duration": 485,
    "start_time": "2024-12-13T19:57:07.932Z"
   },
   {
    "duration": 481,
    "start_time": "2024-12-13T20:00:04.494Z"
   },
   {
    "duration": 480,
    "start_time": "2024-12-13T20:00:23.559Z"
   },
   {
    "duration": 463,
    "start_time": "2024-12-13T20:01:32.328Z"
   },
   {
    "duration": 6,
    "start_time": "2024-12-13T20:20:43.493Z"
   },
   {
    "duration": 691,
    "start_time": "2024-12-13T20:23:55.705Z"
   },
   {
    "duration": 98,
    "start_time": "2024-12-13T20:23:59.305Z"
   },
   {
    "duration": 6,
    "start_time": "2024-12-13T20:24:02.552Z"
   },
   {
    "duration": 487,
    "start_time": "2024-12-13T20:24:05.090Z"
   },
   {
    "duration": 278,
    "start_time": "2024-12-13T20:24:25.239Z"
   },
   {
    "duration": 95,
    "start_time": "2024-12-13T20:25:24.686Z"
   },
   {
    "duration": 694,
    "start_time": "2024-12-13T20:32:20.843Z"
   },
   {
    "duration": 101,
    "start_time": "2024-12-13T20:32:27.459Z"
   },
   {
    "duration": 488,
    "start_time": "2024-12-13T20:32:31.083Z"
   },
   {
    "duration": 89,
    "start_time": "2024-12-13T20:32:39.820Z"
   },
   {
    "duration": 11,
    "start_time": "2024-12-13T20:32:48.123Z"
   },
   {
    "duration": 68,
    "start_time": "2024-12-13T20:32:52.275Z"
   },
   {
    "duration": 138,
    "start_time": "2024-12-13T20:33:04.363Z"
   },
   {
    "duration": 8,
    "start_time": "2024-12-13T20:33:08.381Z"
   },
   {
    "duration": 661,
    "start_time": "2024-12-13T20:33:13.390Z"
   },
   {
    "duration": 12691,
    "start_time": "2024-12-13T20:34:39.526Z"
   },
   {
    "duration": 809,
    "start_time": "2024-12-13T20:34:52.219Z"
   },
   {
    "duration": 124,
    "start_time": "2024-12-13T20:34:53.030Z"
   },
   {
    "duration": 561,
    "start_time": "2024-12-13T20:34:53.156Z"
   },
   {
    "duration": 123,
    "start_time": "2024-12-13T20:34:53.719Z"
   },
   {
    "duration": 13,
    "start_time": "2024-12-13T20:34:53.844Z"
   },
   {
    "duration": 90,
    "start_time": "2024-12-13T20:34:53.859Z"
   },
   {
    "duration": 188,
    "start_time": "2024-12-13T20:34:53.950Z"
   },
   {
    "duration": 6,
    "start_time": "2024-12-13T20:34:54.140Z"
   },
   {
    "duration": 730,
    "start_time": "2024-12-13T20:34:54.148Z"
   },
   {
    "duration": 161,
    "start_time": "2024-12-13T20:34:54.880Z"
   },
   {
    "duration": 6,
    "start_time": "2024-12-13T20:34:55.043Z"
   },
   {
    "duration": 194,
    "start_time": "2024-12-13T20:34:55.051Z"
   },
   {
    "duration": 205,
    "start_time": "2024-12-13T20:34:55.246Z"
   },
   {
    "duration": 73,
    "start_time": "2024-12-13T20:34:55.452Z"
   },
   {
    "duration": 58142,
    "start_time": "2024-12-13T20:34:55.527Z"
   },
   {
    "duration": 5,
    "start_time": "2024-12-13T20:35:53.671Z"
   },
   {
    "duration": 52,
    "start_time": "2024-12-13T20:37:52.880Z"
   },
   {
    "duration": 5,
    "start_time": "2024-12-13T20:38:31.928Z"
   },
   {
    "duration": 7,
    "start_time": "2024-12-13T20:38:31.935Z"
   },
   {
    "duration": 56,
    "start_time": "2024-12-13T20:38:31.943Z"
   },
   {
    "duration": 10529,
    "start_time": "2024-12-13T20:50:28.199Z"
   },
   {
    "duration": 712,
    "start_time": "2024-12-13T20:50:38.730Z"
   },
   {
    "duration": 128,
    "start_time": "2024-12-13T20:50:39.444Z"
   },
   {
    "duration": 467,
    "start_time": "2024-12-13T20:50:39.575Z"
   },
   {
    "duration": 111,
    "start_time": "2024-12-13T20:50:40.044Z"
   },
   {
    "duration": 12,
    "start_time": "2024-12-13T20:50:40.157Z"
   },
   {
    "duration": 81,
    "start_time": "2024-12-13T20:50:40.170Z"
   },
   {
    "duration": 147,
    "start_time": "2024-12-13T20:50:40.252Z"
   },
   {
    "duration": 7,
    "start_time": "2024-12-13T20:50:40.400Z"
   },
   {
    "duration": 629,
    "start_time": "2024-12-13T20:50:40.409Z"
   },
   {
    "duration": 147,
    "start_time": "2024-12-13T20:50:41.040Z"
   },
   {
    "duration": 7,
    "start_time": "2024-12-13T20:50:41.189Z"
   },
   {
    "duration": 162,
    "start_time": "2024-12-13T20:50:41.197Z"
   },
   {
    "duration": 180,
    "start_time": "2024-12-13T20:50:41.361Z"
   },
   {
    "duration": 66,
    "start_time": "2024-12-13T20:50:41.543Z"
   },
   {
    "duration": 55919,
    "start_time": "2024-12-13T20:50:41.610Z"
   },
   {
    "duration": 5,
    "start_time": "2024-12-13T20:51:37.531Z"
   },
   {
    "duration": 69,
    "start_time": "2024-12-13T20:51:37.537Z"
   },
   {
    "duration": 11227,
    "start_time": "2024-12-13T21:00:15.107Z"
   },
   {
    "duration": 771,
    "start_time": "2024-12-13T21:00:26.336Z"
   },
   {
    "duration": 118,
    "start_time": "2024-12-13T21:00:27.108Z"
   },
   {
    "duration": 523,
    "start_time": "2024-12-13T21:00:27.229Z"
   },
   {
    "duration": 110,
    "start_time": "2024-12-13T21:00:27.753Z"
   },
   {
    "duration": 13,
    "start_time": "2024-12-13T21:00:27.864Z"
   },
   {
    "duration": 74,
    "start_time": "2024-12-13T21:00:27.886Z"
   },
   {
    "duration": 170,
    "start_time": "2024-12-13T21:00:27.961Z"
   },
   {
    "duration": 6,
    "start_time": "2024-12-13T21:00:28.133Z"
   },
   {
    "duration": 676,
    "start_time": "2024-12-13T21:00:28.142Z"
   },
   {
    "duration": 153,
    "start_time": "2024-12-13T21:00:28.820Z"
   },
   {
    "duration": 20,
    "start_time": "2024-12-13T21:00:28.974Z"
   },
   {
    "duration": 164,
    "start_time": "2024-12-13T21:00:28.999Z"
   },
   {
    "duration": 192,
    "start_time": "2024-12-13T21:00:29.164Z"
   },
   {
    "duration": 82,
    "start_time": "2024-12-13T21:00:29.358Z"
   },
   {
    "duration": 57414,
    "start_time": "2024-12-13T21:00:29.442Z"
   },
   {
    "duration": 5,
    "start_time": "2024-12-13T21:01:26.858Z"
   },
   {
    "duration": 67,
    "start_time": "2024-12-13T21:01:26.865Z"
   },
   {
    "duration": 6,
    "start_time": "2024-12-13T21:01:26.933Z"
   },
   {
    "duration": 8,
    "start_time": "2024-12-13T21:01:26.940Z"
   },
   {
    "duration": 68,
    "start_time": "2024-12-13T21:01:26.949Z"
   },
   {
    "duration": 4,
    "start_time": "2024-12-13T21:01:27.019Z"
   },
   {
    "duration": 29,
    "start_time": "2024-12-13T21:01:27.024Z"
   },
   {
    "duration": 135,
    "start_time": "2024-12-13T21:01:27.054Z"
   },
   {
    "duration": 188,
    "start_time": "2024-12-13T21:01:27.194Z"
   },
   {
    "duration": 61,
    "start_time": "2024-12-13T21:01:27.386Z"
   },
   {
    "duration": 54,
    "start_time": "2024-12-13T21:05:17.553Z"
   },
   {
    "duration": 5,
    "start_time": "2024-12-13T21:05:20.545Z"
   },
   {
    "duration": 449,
    "start_time": "2024-12-13T21:05:25.512Z"
   },
   {
    "duration": 5,
    "start_time": "2024-12-13T21:05:44.763Z"
   },
   {
    "duration": 17703,
    "start_time": "2024-12-13T21:05:48.186Z"
   },
   {
    "duration": 797311,
    "start_time": "2024-12-13T21:06:23.834Z"
   },
   {
    "duration": 48,
    "start_time": "2024-12-13T21:19:45.710Z"
   },
   {
    "duration": 11069,
    "start_time": "2024-12-13T21:20:43.682Z"
   },
   {
    "duration": 5,
    "start_time": "2024-12-13T21:21:50.942Z"
   },
   {
    "duration": 283811,
    "start_time": "2024-12-13T21:21:56.931Z"
   },
   {
    "duration": 95,
    "start_time": "2024-12-13T21:49:25.447Z"
   },
   {
    "duration": 98,
    "start_time": "2024-12-13T21:53:37.068Z"
   },
   {
    "duration": 4,
    "start_time": "2024-12-13T21:53:40.694Z"
   },
   {
    "duration": 22,
    "start_time": "2024-12-13T22:10:54.759Z"
   },
   {
    "duration": 23,
    "start_time": "2024-12-13T22:13:27.813Z"
   },
   {
    "duration": 31,
    "start_time": "2024-12-13T22:15:10.582Z"
   },
   {
    "duration": 14549,
    "start_time": "2024-12-13T22:15:45.364Z"
   },
   {
    "duration": 15,
    "start_time": "2024-12-13T22:16:48.161Z"
   },
   {
    "duration": 1263673,
    "start_time": "2024-12-13T22:17:24.751Z"
   },
   {
    "duration": 2780079,
    "start_time": "2024-12-13T22:38:52.694Z"
   },
   {
    "duration": 11837,
    "start_time": "2024-12-13T23:31:57.525Z"
   },
   {
    "duration": 774,
    "start_time": "2024-12-13T23:32:09.364Z"
   },
   {
    "duration": 123,
    "start_time": "2024-12-13T23:32:10.140Z"
   },
   {
    "duration": 489,
    "start_time": "2024-12-13T23:32:10.264Z"
   },
   {
    "duration": 117,
    "start_time": "2024-12-13T23:32:10.754Z"
   },
   {
    "duration": 21,
    "start_time": "2024-12-13T23:32:10.873Z"
   },
   {
    "duration": 66,
    "start_time": "2024-12-13T23:32:10.896Z"
   },
   {
    "duration": 179,
    "start_time": "2024-12-13T23:32:10.964Z"
   },
   {
    "duration": 7,
    "start_time": "2024-12-13T23:32:11.145Z"
   },
   {
    "duration": 681,
    "start_time": "2024-12-13T23:32:11.155Z"
   },
   {
    "duration": 149,
    "start_time": "2024-12-13T23:32:11.838Z"
   },
   {
    "duration": 6,
    "start_time": "2024-12-13T23:32:11.989Z"
   },
   {
    "duration": 163,
    "start_time": "2024-12-13T23:32:11.996Z"
   },
   {
    "duration": 204,
    "start_time": "2024-12-13T23:32:12.160Z"
   },
   {
    "duration": 65,
    "start_time": "2024-12-13T23:32:12.365Z"
   },
   {
    "duration": 53880,
    "start_time": "2024-12-13T23:32:12.432Z"
   },
   {
    "duration": 6,
    "start_time": "2024-12-13T23:33:06.314Z"
   },
   {
    "duration": 78,
    "start_time": "2024-12-13T23:33:06.321Z"
   },
   {
    "duration": 5,
    "start_time": "2024-12-13T23:33:06.401Z"
   },
   {
    "duration": 42,
    "start_time": "2024-12-13T23:33:06.407Z"
   },
   {
    "duration": 49,
    "start_time": "2024-12-13T23:33:06.450Z"
   },
   {
    "duration": 5,
    "start_time": "2024-12-13T23:33:06.501Z"
   },
   {
    "duration": 40,
    "start_time": "2024-12-13T23:33:06.508Z"
   },
   {
    "duration": 114,
    "start_time": "2024-12-13T23:33:06.550Z"
   },
   {
    "duration": 182,
    "start_time": "2024-12-13T23:33:06.666Z"
   },
   {
    "duration": 59,
    "start_time": "2024-12-13T23:33:06.849Z"
   },
   {
    "duration": 120,
    "start_time": "2024-12-13T23:33:06.910Z"
   },
   {
    "duration": 4,
    "start_time": "2024-12-13T23:33:07.034Z"
   },
   {
    "duration": 232249,
    "start_time": "2024-12-13T23:33:07.040Z"
   },
   {
    "duration": 37792,
    "start_time": "2024-12-14T10:59:35.114Z"
   },
   {
    "duration": 1081,
    "start_time": "2024-12-14T11:00:12.907Z"
   },
   {
    "duration": 132,
    "start_time": "2024-12-14T11:00:13.990Z"
   },
   {
    "duration": 542,
    "start_time": "2024-12-14T11:00:14.124Z"
   },
   {
    "duration": 122,
    "start_time": "2024-12-14T11:00:14.667Z"
   },
   {
    "duration": 13,
    "start_time": "2024-12-14T11:00:14.791Z"
   },
   {
    "duration": 142,
    "start_time": "2024-12-14T11:00:14.805Z"
   },
   {
    "duration": 178,
    "start_time": "2024-12-14T11:00:14.948Z"
   },
   {
    "duration": 6,
    "start_time": "2024-12-14T11:00:15.127Z"
   },
   {
    "duration": 764,
    "start_time": "2024-12-14T11:00:15.135Z"
   },
   {
    "duration": 147,
    "start_time": "2024-12-14T11:00:15.901Z"
   },
   {
    "duration": 8,
    "start_time": "2024-12-14T11:00:16.052Z"
   },
   {
    "duration": 176,
    "start_time": "2024-12-14T11:00:16.061Z"
   },
   {
    "duration": 226,
    "start_time": "2024-12-14T11:00:16.239Z"
   },
   {
    "duration": 76,
    "start_time": "2024-12-14T11:00:16.467Z"
   },
   {
    "duration": 54864,
    "start_time": "2024-12-14T11:00:16.552Z"
   },
   {
    "duration": 6,
    "start_time": "2024-12-14T11:01:11.417Z"
   },
   {
    "duration": 75,
    "start_time": "2024-12-14T11:01:11.424Z"
   },
   {
    "duration": 6,
    "start_time": "2024-12-14T11:01:11.501Z"
   },
   {
    "duration": 5,
    "start_time": "2024-12-14T11:01:11.508Z"
   },
   {
    "duration": 56,
    "start_time": "2024-12-14T11:01:11.515Z"
   },
   {
    "duration": 5,
    "start_time": "2024-12-14T11:01:11.572Z"
   },
   {
    "duration": 40,
    "start_time": "2024-12-14T11:01:11.578Z"
   },
   {
    "duration": 122,
    "start_time": "2024-12-14T11:01:11.619Z"
   },
   {
    "duration": 188,
    "start_time": "2024-12-14T11:01:11.743Z"
   },
   {
    "duration": 66,
    "start_time": "2024-12-14T11:01:11.933Z"
   },
   {
    "duration": 99,
    "start_time": "2024-12-14T11:01:12.001Z"
   },
   {
    "duration": 4,
    "start_time": "2024-12-14T11:01:12.102Z"
   },
   {
    "duration": 582948,
    "start_time": "2024-12-14T11:01:12.108Z"
   },
   {
    "duration": 16302,
    "start_time": "2024-12-14T14:46:39.973Z"
   },
   {
    "duration": 799,
    "start_time": "2024-12-14T14:46:56.277Z"
   },
   {
    "duration": 118,
    "start_time": "2024-12-14T14:46:57.078Z"
   },
   {
    "duration": 527,
    "start_time": "2024-12-14T14:46:57.198Z"
   },
   {
    "duration": 126,
    "start_time": "2024-12-14T14:46:57.727Z"
   },
   {
    "duration": 14,
    "start_time": "2024-12-14T14:46:57.855Z"
   },
   {
    "duration": 87,
    "start_time": "2024-12-14T14:46:57.871Z"
   },
   {
    "duration": 195,
    "start_time": "2024-12-14T14:46:57.960Z"
   },
   {
    "duration": 6,
    "start_time": "2024-12-14T14:46:58.157Z"
   },
   {
    "duration": 758,
    "start_time": "2024-12-14T14:46:58.165Z"
   },
   {
    "duration": 157,
    "start_time": "2024-12-14T14:46:58.924Z"
   },
   {
    "duration": 6,
    "start_time": "2024-12-14T14:46:59.083Z"
   },
   {
    "duration": 210,
    "start_time": "2024-12-14T14:46:59.090Z"
   },
   {
    "duration": 219,
    "start_time": "2024-12-14T14:46:59.303Z"
   },
   {
    "duration": 79,
    "start_time": "2024-12-14T14:46:59.524Z"
   },
   {
    "duration": 56417,
    "start_time": "2024-12-14T14:46:59.605Z"
   },
   {
    "duration": 5,
    "start_time": "2024-12-14T14:47:56.023Z"
   },
   {
    "duration": 67,
    "start_time": "2024-12-14T14:47:56.029Z"
   },
   {
    "duration": 4,
    "start_time": "2024-12-14T14:47:56.098Z"
   },
   {
    "duration": 35,
    "start_time": "2024-12-14T14:47:56.104Z"
   },
   {
    "duration": 61,
    "start_time": "2024-12-14T14:47:56.140Z"
   },
   {
    "duration": 10,
    "start_time": "2024-12-14T14:47:56.202Z"
   },
   {
    "duration": 37,
    "start_time": "2024-12-14T14:47:56.213Z"
   },
   {
    "duration": 120,
    "start_time": "2024-12-14T14:47:56.252Z"
   },
   {
    "duration": 192,
    "start_time": "2024-12-14T14:47:56.374Z"
   },
   {
    "duration": 61,
    "start_time": "2024-12-14T14:47:56.568Z"
   },
   {
    "duration": 102,
    "start_time": "2024-12-14T14:47:56.630Z"
   },
   {
    "duration": 4,
    "start_time": "2024-12-14T14:47:56.734Z"
   },
   {
    "duration": 35334,
    "start_time": "2024-12-14T14:47:56.740Z"
   },
   {
    "duration": 36781,
    "start_time": "2024-12-14T16:21:14.552Z"
   },
   {
    "duration": 2815,
    "start_time": "2024-12-14T16:21:51.335Z"
   },
   {
    "duration": 131,
    "start_time": "2024-12-14T16:21:54.151Z"
   },
   {
    "duration": 597,
    "start_time": "2024-12-14T16:21:54.283Z"
   },
   {
    "duration": 119,
    "start_time": "2024-12-14T16:21:54.882Z"
   },
   {
    "duration": 24,
    "start_time": "2024-12-14T16:21:55.002Z"
   },
   {
    "duration": 84,
    "start_time": "2024-12-14T16:21:55.028Z"
   },
   {
    "duration": 201,
    "start_time": "2024-12-14T16:21:55.122Z"
   },
   {
    "duration": 6,
    "start_time": "2024-12-14T16:21:55.325Z"
   },
   {
    "duration": 771,
    "start_time": "2024-12-14T16:21:55.334Z"
   },
   {
    "duration": 146,
    "start_time": "2024-12-14T16:21:56.106Z"
   },
   {
    "duration": 6,
    "start_time": "2024-12-14T16:21:56.254Z"
   },
   {
    "duration": 162,
    "start_time": "2024-12-14T16:21:56.262Z"
   },
   {
    "duration": 237,
    "start_time": "2024-12-14T16:21:56.426Z"
   },
   {
    "duration": 98,
    "start_time": "2024-12-14T16:21:56.664Z"
   },
   {
    "duration": 64544,
    "start_time": "2024-12-14T16:21:56.764Z"
   },
   {
    "duration": 14,
    "start_time": "2024-12-14T16:23:01.309Z"
   },
   {
    "duration": 61,
    "start_time": "2024-12-14T16:23:01.324Z"
   },
   {
    "duration": 5,
    "start_time": "2024-12-14T16:23:01.387Z"
   },
   {
    "duration": 56,
    "start_time": "2024-12-14T16:23:01.393Z"
   },
   {
    "duration": 67,
    "start_time": "2024-12-14T16:23:01.450Z"
   },
   {
    "duration": 5,
    "start_time": "2024-12-14T16:23:01.519Z"
   },
   {
    "duration": 48,
    "start_time": "2024-12-14T16:23:01.525Z"
   },
   {
    "duration": 121,
    "start_time": "2024-12-14T16:23:01.575Z"
   },
   {
    "duration": 197,
    "start_time": "2024-12-14T16:23:01.698Z"
   },
   {
    "duration": 79,
    "start_time": "2024-12-14T16:23:01.897Z"
   },
   {
    "duration": 119,
    "start_time": "2024-12-14T16:23:01.977Z"
   },
   {
    "duration": 5,
    "start_time": "2024-12-14T16:23:02.099Z"
   },
   {
    "duration": 35954,
    "start_time": "2024-12-14T16:23:02.105Z"
   },
   {
    "duration": 10,
    "start_time": "2024-12-14T16:23:38.061Z"
   },
   {
    "duration": 228001,
    "start_time": "2024-12-14T16:27:42.910Z"
   },
   {
    "duration": 10,
    "start_time": "2024-12-14T16:47:03.920Z"
   },
   {
    "duration": 1302,
    "start_time": "2024-12-14T16:50:10.230Z"
   },
   {
    "duration": 1836,
    "start_time": "2024-12-14T16:51:19.986Z"
   },
   {
    "duration": 232795,
    "start_time": "2024-12-14T16:51:25.222Z"
   },
   {
    "duration": 34335,
    "start_time": "2024-12-14T17:38:51.589Z"
   },
   {
    "duration": 82,
    "start_time": "2024-12-14T17:45:29.445Z"
   },
   {
    "duration": 12,
    "start_time": "2024-12-14T18:11:39.467Z"
   },
   {
    "duration": 12778,
    "start_time": "2024-12-14T18:11:54.363Z"
   },
   {
    "duration": 10,
    "start_time": "2024-12-14T18:12:12.177Z"
   },
   {
    "duration": 7,
    "start_time": "2024-12-14T18:12:28.993Z"
   },
   {
    "duration": 8,
    "start_time": "2024-12-14T18:12:50.306Z"
   },
   {
    "duration": 53,
    "start_time": "2024-12-15T14:59:05.139Z"
   },
   {
    "duration": 5,
    "start_time": "2024-12-15T14:59:36.597Z"
   },
   {
    "duration": 40095,
    "start_time": "2024-12-15T15:04:10.085Z"
   },
   {
    "duration": 1061,
    "start_time": "2024-12-15T15:04:50.182Z"
   },
   {
    "duration": 123,
    "start_time": "2024-12-15T15:04:51.245Z"
   },
   {
    "duration": 521,
    "start_time": "2024-12-15T15:04:51.370Z"
   },
   {
    "duration": 121,
    "start_time": "2024-12-15T15:04:51.893Z"
   },
   {
    "duration": 13,
    "start_time": "2024-12-15T15:04:52.016Z"
   },
   {
    "duration": 89,
    "start_time": "2024-12-15T15:04:52.031Z"
   },
   {
    "duration": 201,
    "start_time": "2024-12-15T15:04:52.122Z"
   },
   {
    "duration": 7,
    "start_time": "2024-12-15T15:04:52.325Z"
   },
   {
    "duration": 824,
    "start_time": "2024-12-15T15:04:52.335Z"
   },
   {
    "duration": 156,
    "start_time": "2024-12-15T15:04:53.161Z"
   },
   {
    "duration": 6,
    "start_time": "2024-12-15T15:04:53.319Z"
   },
   {
    "duration": 177,
    "start_time": "2024-12-15T15:04:53.327Z"
   },
   {
    "duration": 222,
    "start_time": "2024-12-15T15:04:53.505Z"
   },
   {
    "duration": 82,
    "start_time": "2024-12-15T15:04:53.729Z"
   },
   {
    "duration": 57900,
    "start_time": "2024-12-15T15:04:53.813Z"
   },
   {
    "duration": 6,
    "start_time": "2024-12-15T15:05:51.714Z"
   },
   {
    "duration": 87,
    "start_time": "2024-12-15T15:05:51.721Z"
   },
   {
    "duration": 4,
    "start_time": "2024-12-15T15:05:51.810Z"
   },
   {
    "duration": 19,
    "start_time": "2024-12-15T15:05:51.816Z"
   },
   {
    "duration": 116,
    "start_time": "2024-12-15T15:05:51.836Z"
   },
   {
    "duration": 5,
    "start_time": "2024-12-15T15:05:51.953Z"
   },
   {
    "duration": 27,
    "start_time": "2024-12-15T15:05:51.959Z"
   },
   {
    "duration": 134,
    "start_time": "2024-12-15T15:05:51.987Z"
   },
   {
    "duration": 202,
    "start_time": "2024-12-15T15:05:52.122Z"
   },
   {
    "duration": 66,
    "start_time": "2024-12-15T15:05:52.326Z"
   },
   {
    "duration": 113,
    "start_time": "2024-12-15T15:05:52.394Z"
   },
   {
    "duration": 4,
    "start_time": "2024-12-15T15:05:52.510Z"
   },
   {
    "duration": 196,
    "start_time": "2024-12-15T15:05:52.516Z"
   },
   {
    "duration": 12,
    "start_time": "2024-12-15T15:05:52.714Z"
   },
   {
    "duration": 0,
    "start_time": "2024-12-15T15:05:52.728Z"
   },
   {
    "duration": 14971,
    "start_time": "2024-12-15T15:06:47.532Z"
   },
   {
    "duration": 151703,
    "start_time": "2024-12-15T15:07:02.506Z"
   },
   {
    "duration": 6812,
    "start_time": "2024-12-15T15:11:45.252Z"
   },
   {
    "duration": 6,
    "start_time": "2024-12-15T15:11:58.075Z"
   }
  ],
  "kernelspec": {
   "display_name": "Python 3 (ipykernel)",
   "language": "python",
   "name": "python3"
  },
  "language_info": {
   "codemirror_mode": {
    "name": "ipython",
    "version": 3
   },
   "file_extension": ".py",
   "mimetype": "text/x-python",
   "name": "python",
   "nbconvert_exporter": "python",
   "pygments_lexer": "ipython3",
   "version": "3.9.5"
  },
  "toc": {
   "base_numbering": 1,
   "nav_menu": {},
   "number_sections": true,
   "sideBar": true,
   "skip_h1_title": true,
   "title_cell": "Table of Contents",
   "title_sidebar": "Contents",
   "toc_cell": false,
   "toc_position": {
    "height": "calc(100% - 180px)",
    "left": "10px",
    "top": "150px",
    "width": "403.108px"
   },
   "toc_section_display": true,
   "toc_window_display": true
  }
 },
 "nbformat": 4,
 "nbformat_minor": 2
}
